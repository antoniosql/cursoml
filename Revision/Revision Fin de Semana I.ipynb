{
    "metadata": {
        "kernelspec": {
            "name": "python3",
            "display_name": "Python 3"
        },
        "language_info": {
            "name": "python",
            "version": "3.6.6",
            "mimetype": "text/x-python",
            "codemirror_mode": {
                "name": "ipython",
                "version": 3
            },
            "pygments_lexer": "ipython3",
            "nbconvert_exporter": "python",
            "file_extension": ".py"
        }
    },
    "nbformat_minor": 2,
    "nbformat": 4,
    "cells": [
        {
            "cell_type": "markdown",
            "source": [
                "![SolidQ](https://www.solidq.com/wp-content/uploads/2015/06/Logo-SolidQ-Web.gif)\n",
                "# Revisión Fin de Semana I\n",
                "\n"
            ],
            "metadata": {
                "id": "y2h3h-iIIlRz",
                "colab_type": "text",
                "azdata_cell_guid": "648b5b6b-97e8-4f83-885f-980329d0ea92"
            }
        },
        {
            "cell_type": "markdown",
            "source": [
                "### Cargando el conjunto de datos y obteniendo información básica:\n",
                "El objetivo de esta sección es que nos familiarizemos con Pandas y seamos capaces de manipular el dataset a nuestro interés.\n",
                "\n",
                "utilizaremos para este caso el fichero titanic_data.csv"
            ],
            "metadata": {
                "id": "BI9hpKBoIlR2",
                "colab_type": "text",
                "azdata_cell_guid": "20eb0362-992c-4eeb-9bf2-08b785ca7d84"
            }
        },
        {
            "cell_type": "code",
            "source": [
                "import pandas\n",
                "import numpy as np\n",
                "\n",
                "\n",
                "input_file = 'titanic_data.csv'\n",
                "separador = \",\"\n",
                "dataset = pandas.read_csv(filepath_or_buffer=input_file, sep=separador)"
            ],
            "metadata": {
                "id": "G8Ly3MHvIlR4",
                "colab_type": "code",
                "colab": {},
                "azdata_cell_guid": "e3ca9c24-d14c-4b41-a005-312b70db4245"
            },
            "outputs": [],
            "execution_count": 0
        },
        {
            "cell_type": "markdown",
            "source": [
                "# Creando el Modelo\n",
                "\n",
                "En esta seción vamos a trabajar en la creación de un modelo que sirva para determinar si un pasajero va a sobrevivir o no. Lo primero que haremos será crear nuestro propio modelo en función de las conclusiones que hemos sacado, y después lo compararemos con un árbol de decision que entrenaremos con el dataset.\n",
                "\n"
            ],
            "metadata": {
                "id": "7NBqkrG3k_Dy",
                "colab_type": "text",
                "azdata_cell_guid": "8f567cda-799d-4c1e-921f-863d609d877a"
            }
        },
        {
            "cell_type": "code",
            "source": [
                "from sklearn.compose import ColumnTransformer\n",
                "from sklearn.pipeline import Pipeline\n",
                "from sklearn.impute import SimpleImputer\n",
                "from sklearn.preprocessing import StandardScaler, OneHotEncoder\n",
                "from sklearn.neighbors import KNeighborsClassifier\n",
                "from sklearn.model_selection import train_test_split"
            ],
            "metadata": {
                "id": "ERB0IvaFjNrh",
                "colab_type": "code",
                "colab": {},
                "azdata_cell_guid": "b331915f-a870-4f88-9739-24cd9c8a95b6"
            },
            "outputs": [],
            "execution_count": 0
        },
        {
            "cell_type": "code",
            "source": [
                "# 'Survived' será nuestra etiqueta y el valor que queremos predecir:\n",
                "y = dataset['Survived']\n",
                "X = dataset.drop(['Survived','Name','Ticket','Cabin','PassengerId','SibSp','Parch'], axis = 1)"
            ],
            "metadata": {
                "id": "hmxq0BLdj0VG",
                "colab_type": "code",
                "colab": {},
                "azdata_cell_guid": "40f2b03f-f1ae-4310-a045-9755e3238921"
            },
            "outputs": [],
            "execution_count": 0
        },
        {
            "cell_type": "code",
            "source": [
                "X_train,X_test,y_train,y_test = train_test_split(X, y, test_size = 0.3, random_state = 0,stratify=y)"
            ],
            "metadata": {
                "id": "R1jr4XKKo5NI",
                "colab_type": "code",
                "colab": {},
                "azdata_cell_guid": "02131489-a218-4be6-8fe6-390827e15f03"
            },
            "outputs": [],
            "execution_count": 0
        },
        {
            "cell_type": "code",
            "source": [
                "#Vamos a definir un Pipeline que nos permita realizar las tareas de limpieza y transformación sobre varias columnas\n",
                "\n",
                "#Seleccionamos las columnas numéricas\n",
                "numeric_features = ['Age', 'Fare']\n",
                "#Definimos las transformaciones que les vamos a aplicar --> Imputar nulos y escalar\n",
                "numeric_transformer = Pipeline(steps=[\n",
                "    ('imputer', SimpleImputer(strategy='median')),\n",
                "    ('scaler', StandardScaler())])\n",
                "\n",
                "#Definimos las variables categóricas y las trnasformaciones --> Imputar con 'missing' y aplicar una Codificación OneHot\n",
                "\n",
                "categorical_features = ['Embarked', 'Sex', 'Pclass']\n",
                "categorical_transformer = Pipeline(steps=[\n",
                "    ('imputer', SimpleImputer(strategy='constant', fill_value='missing')),\n",
                "    ('onehot', OneHotEncoder(handle_unknown='ignore'))])\n",
                "\n",
                "#Utilizamos el método ColumnTransformer para asociar los pipelines a las columnas\n",
                "\n",
                "preprocessor = ColumnTransformer(\n",
                "    transformers=[\n",
                "        ('num', numeric_transformer, numeric_features),\n",
                "        ('cat', categorical_transformer, categorical_features)])\n",
                "\n",
                "# Agregamos un clasificador de Regresión Logística\n",
                "# Ahora tenemos el Pipeline completo\n",
                "\n",
                "clf = Pipeline(steps=[('preprocessor', preprocessor),\n",
                "                      ('classifier', KNeighborsClassifier())])\n",
                "\n",
                "\n",
                "\n",
                "\n",
                "clf.fit(X_train, y_train)\n",
                "\n",
                "#OJO, aquí no estamos cambiando nuestro dataset original. Simplemente lanzamos este pipeline que realiza las transformaciones \"al vuelo\""
            ],
            "metadata": {
                "id": "0VVHdXSLi_jo",
                "colab_type": "code",
                "colab": {
                    "base_uri": "https://localhost:8080/",
                    "height": 153
                },
                "outputId": "38177a6e-0d9f-404d-a013-7a06b3fa45bc",
                "executionInfo": {
                    "status": "ok",
                    "timestamp": 1562337326065,
                    "user_tz": -120,
                    "elapsed": 703,
                    "user": {
                        "displayName": "Machine Learning",
                        "photoUrl": "",
                        "userId": "05609927355646341864"
                    }
                },
                "azdata_cell_guid": "2ad7c995-1a8e-4284-af7f-89b03760c976"
            },
            "outputs": [
                {
                    "output_type": "execute_result",
                    "execution_count": 5,
                    "data": {
                        "text/plain": "Pipeline(memory=None,\n     steps=[('preprocessor', ColumnTransformer(n_jobs=None, remainder='drop', sparse_threshold=0.3,\n         transformer_weights=None,\n         transformers=[('num', Pipeline(memory=None,\n     steps=[('imputer', SimpleImputer(copy=True, fill_value=None, missing_values=nan,\n       strategy='median', verbo...ki',\n           metric_params=None, n_jobs=None, n_neighbors=5, p=2,\n           weights='uniform'))])"
                    },
                    "metadata": {
                        "tags": []
                    }
                }
            ],
            "execution_count": 5
        },
        {
            "cell_type": "code",
            "source": [
                "\n",
                "\n",
                "# Crear predicciones\n",
                "predictions = clf.predict(X_test)\n",
                "\n",
                "predictions"
            ],
            "metadata": {
                "id": "ICyVlcygHm9N",
                "colab_type": "code",
                "colab": {
                    "base_uri": "https://localhost:8080/",
                    "height": 272
                },
                "outputId": "41cd058d-8ca6-455e-80a8-6a4de42d35ca",
                "executionInfo": {
                    "status": "ok",
                    "timestamp": 1562337357235,
                    "user_tz": -120,
                    "elapsed": 742,
                    "user": {
                        "displayName": "Machine Learning",
                        "photoUrl": "",
                        "userId": "05609927355646341864"
                    }
                },
                "azdata_cell_guid": "824f01aa-7f40-43a3-92cd-c87f0531e40b"
            },
            "outputs": [
                {
                    "output_type": "execute_result",
                    "execution_count": 6,
                    "data": {
                        "text/plain": "array([1, 0, 0, 0, 0, 0, 0, 0, 0, 0, 0, 0, 0, 1, 0, 1, 1, 1, 0, 0, 0, 1,\n       1, 1, 0, 0, 1, 0, 0, 1, 0, 1, 0, 1, 1, 0, 1, 1, 1, 1, 0, 0, 1, 0,\n       0, 0, 1, 1, 0, 1, 1, 1, 1, 0, 0, 1, 0, 1, 1, 1, 1, 0, 1, 1, 0, 0,\n       0, 0, 0, 1, 0, 0, 1, 0, 0, 1, 0, 1, 0, 0, 0, 0, 0, 0, 0, 0, 0, 0,\n       0, 0, 1, 1, 1, 0, 0, 0, 1, 0, 1, 1, 0, 0, 1, 0, 1, 0, 1, 0, 0, 0,\n       1, 0, 0, 0, 0, 0, 0, 0, 0, 1, 0, 1, 0, 0, 0, 0, 0, 0, 0, 0, 0, 1,\n       1, 0, 0, 1, 1, 1, 1, 0, 0, 1, 1, 1, 1, 0, 1, 1, 0, 0, 1, 0, 0, 1,\n       0, 1, 1, 1, 1, 0, 0, 0, 1, 1, 1, 0, 0, 0, 0, 1, 1, 1, 1, 0, 0, 0,\n       1, 1, 1, 0, 1, 0, 0, 0, 0, 0, 1, 0, 0, 0, 0, 0, 0, 0, 0, 0, 1, 0,\n       1, 0, 0, 0, 0, 1, 0, 0, 1, 0, 0, 0, 0, 0, 0, 0, 0, 0, 0, 1, 0, 0,\n       0, 1, 0, 0, 0, 0, 0, 0, 0, 1, 1, 0, 1, 1, 1, 0, 1, 0, 1, 0, 0, 0,\n       0, 0, 1, 1, 0, 0, 0, 0, 0, 1, 1, 1, 0, 0, 0, 1, 0, 0, 0, 1, 0, 0,\n       1, 1, 0, 1, 0, 1, 0, 1, 0, 0, 0, 0, 0, 1, 0, 0, 0, 0, 1, 1, 0, 1,\n       1, 0, 0, 0, 0, 1, 0, 0, 1, 0, 0, 1, 0, 0, 0, 0, 0, 0, 1, 1, 0, 1,\n       0, 0, 1, 0, 1, 1])"
                    },
                    "metadata": {
                        "tags": []
                    }
                }
            ],
            "execution_count": 6
        },
        {
            "cell_type": "code",
            "source": [
                "from sklearn.metrics import classification_report\n",
                "from sklearn.metrics import confusion_matrix\n",
                "\n",
                "print(confusion_matrix(y_test, predictions))\n",
                "print(classification_report(y_test, predictions))"
            ],
            "metadata": {
                "id": "Iq1MUftOtSQN",
                "colab_type": "code",
                "colab": {
                    "base_uri": "https://localhost:8080/",
                    "height": 204
                },
                "outputId": "972534d8-41c1-4c9e-9248-d216001cf054",
                "executionInfo": {
                    "status": "ok",
                    "timestamp": 1562337369748,
                    "user_tz": -120,
                    "elapsed": 610,
                    "user": {
                        "displayName": "Machine Learning",
                        "photoUrl": "",
                        "userId": "05609927355646341864"
                    }
                },
                "azdata_cell_guid": "891eec5a-a4f9-488b-a964-0e8ef7393703"
            },
            "outputs": [
                {
                    "output_type": "stream",
                    "name": "stdout",
                    "text": "[[173  16]\n [ 25 100]]\n              precision    recall  f1-score   support\n\n           0       0.87      0.92      0.89       189\n           1       0.86      0.80      0.83       125\n\n   micro avg       0.87      0.87      0.87       314\n   macro avg       0.87      0.86      0.86       314\nweighted avg       0.87      0.87      0.87       314\n\n"
                }
            ],
            "execution_count": 7
        },
        {
            "cell_type": "code",
            "source": [
                "#Podemos obtener información no solamente sobre la predicción, sino sobre la probabilidad da cada una de esas predicciones.\n",
                "#Nos permite poner criterios de negocio, de \"a partir de un determinado umbral\"\n",
                "proba=clf.predict_proba(X_test)"
            ],
            "metadata": {
                "id": "qBWHRKwwwiZo",
                "colab_type": "code",
                "colab": {},
                "azdata_cell_guid": "e79fcb41-74de-43fb-ac2d-b2a7a130a0eb"
            },
            "outputs": [],
            "execution_count": 0
        },
        {
            "cell_type": "code",
            "source": [
                "proba"
            ],
            "metadata": {
                "id": "hGiFo30eHDxA",
                "colab_type": "code",
                "colab": {
                    "base_uri": "https://localhost:8080/",
                    "height": 1000
                },
                "outputId": "5a16208b-403f-4059-b2f5-f495f081f949",
                "executionInfo": {
                    "status": "ok",
                    "timestamp": 1562337464523,
                    "user_tz": -120,
                    "elapsed": 568,
                    "user": {
                        "displayName": "Machine Learning",
                        "photoUrl": "",
                        "userId": "05609927355646341864"
                    }
                },
                "azdata_cell_guid": "9d4c4098-3b67-4908-99d3-82a1157cc59d"
            },
            "outputs": [
                {
                    "output_type": "execute_result",
                    "execution_count": 9,
                    "data": {
                        "text/plain": "array([[0.2, 0.8],\n       [0.8, 0.2],\n       [1. , 0. ],\n       [0.8, 0.2],\n       [1. , 0. ],\n       [0.8, 0.2],\n       [1. , 0. ],\n       [1. , 0. ],\n       [1. , 0. ],\n       [0.8, 0.2],\n       [0.8, 0.2],\n       [1. , 0. ],\n       [1. , 0. ],\n       [0. , 1. ],\n       [0.8, 0.2],\n       [0. , 1. ],\n       [0. , 1. ],\n       [0. , 1. ],\n       [0.8, 0.2],\n       [0.8, 0.2],\n       [1. , 0. ],\n       [0.2, 0.8],\n       [0.4, 0.6],\n       [0.4, 0.6],\n       [1. , 0. ],\n       [1. , 0. ],\n       [0.4, 0.6],\n       [1. , 0. ],\n       [1. , 0. ],\n       [0.4, 0.6],\n       [0.8, 0.2],\n       [0.2, 0.8],\n       [1. , 0. ],\n       [0. , 1. ],\n       [0.2, 0.8],\n       [1. , 0. ],\n       [0.2, 0.8],\n       [0. , 1. ],\n       [0. , 1. ],\n       [0.2, 0.8],\n       [0.6, 0.4],\n       [1. , 0. ],\n       [0.2, 0.8],\n       [1. , 0. ],\n       [1. , 0. ],\n       [0.8, 0.2],\n       [0.4, 0.6],\n       [0.4, 0.6],\n       [1. , 0. ],\n       [0.4, 0.6],\n       [0.2, 0.8],\n       [0. , 1. ],\n       [0.2, 0.8],\n       [1. , 0. ],\n       [0.8, 0.2],\n       [0.4, 0.6],\n       [0.6, 0.4],\n       [0. , 1. ],\n       [0. , 1. ],\n       [0. , 1. ],\n       [0.2, 0.8],\n       [1. , 0. ],\n       [0. , 1. ],\n       [0. , 1. ],\n       [0.8, 0.2],\n       [1. , 0. ],\n       [1. , 0. ],\n       [1. , 0. ],\n       [0.8, 0.2],\n       [0.2, 0.8],\n       [0.8, 0.2],\n       [1. , 0. ],\n       [0.4, 0.6],\n       [1. , 0. ],\n       [0.8, 0.2],\n       [0. , 1. ],\n       [1. , 0. ],\n       [0. , 1. ],\n       [0.8, 0.2],\n       [0.8, 0.2],\n       [1. , 0. ],\n       [0.8, 0.2],\n       [0.6, 0.4],\n       [0.8, 0.2],\n       [1. , 0. ],\n       [1. , 0. ],\n       [1. , 0. ],\n       [1. , 0. ],\n       [1. , 0. ],\n       [1. , 0. ],\n       [0.4, 0.6],\n       [0. , 1. ],\n       [0.4, 0.6],\n       [0.8, 0.2],\n       [0.8, 0.2],\n       [1. , 0. ],\n       [0.4, 0.6],\n       [0.8, 0.2],\n       [0. , 1. ],\n       [0.2, 0.8],\n       [1. , 0. ],\n       [0.8, 0.2],\n       [0.4, 0.6],\n       [0.6, 0.4],\n       [0. , 1. ],\n       [1. , 0. ],\n       [0. , 1. ],\n       [0.8, 0.2],\n       [1. , 0. ],\n       [1. , 0. ],\n       [0.4, 0.6],\n       [1. , 0. ],\n       [1. , 0. ],\n       [0.8, 0.2],\n       [1. , 0. ],\n       [0.8, 0.2],\n       [0.6, 0.4],\n       [1. , 0. ],\n       [0.8, 0.2],\n       [0. , 1. ],\n       [1. , 0. ],\n       [0. , 1. ],\n       [0.8, 0.2],\n       [1. , 0. ],\n       [0.8, 0.2],\n       [0.8, 0.2],\n       [1. , 0. ],\n       [0.8, 0.2],\n       [0.6, 0.4],\n       [1. , 0. ],\n       [0.8, 0.2],\n       [0.4, 0.6],\n       [0. , 1. ],\n       [0.8, 0.2],\n       [0.8, 0.2],\n       [0.4, 0.6],\n       [0.2, 0.8],\n       [0. , 1. ],\n       [0.4, 0.6],\n       [0.8, 0.2],\n       [1. , 0. ],\n       [0.2, 0.8],\n       [0. , 1. ],\n       [0.2, 0.8],\n       [0.2, 0.8],\n       [1. , 0. ],\n       [0. , 1. ],\n       [0. , 1. ],\n       [0.8, 0.2],\n       [1. , 0. ],\n       [0. , 1. ],\n       [0.6, 0.4],\n       [0.8, 0.2],\n       [0.2, 0.8],\n       [1. , 0. ],\n       [0. , 1. ],\n       [0. , 1. ],\n       [0.2, 0.8],\n       [0.2, 0.8],\n       [0.8, 0.2],\n       [1. , 0. ],\n       [1. , 0. ],\n       [0.2, 0.8],\n       [0. , 1. ],\n       [0. , 1. ],\n       [1. , 0. ],\n       [0.6, 0.4],\n       [0.6, 0.4],\n       [1. , 0. ],\n       [0. , 1. ],\n       [0.4, 0.6],\n       [0. , 1. ],\n       [0. , 1. ],\n       [1. , 0. ],\n       [1. , 0. ],\n       [0.8, 0.2],\n       [0.2, 0.8],\n       [0.2, 0.8],\n       [0.4, 0.6],\n       [1. , 0. ],\n       [0.2, 0.8],\n       [1. , 0. ],\n       [0.8, 0.2],\n       [1. , 0. ],\n       [0.6, 0.4],\n       [0.8, 0.2],\n       [0. , 1. ],\n       [1. , 0. ],\n       [0.8, 0.2],\n       [1. , 0. ],\n       [1. , 0. ],\n       [0.8, 0.2],\n       [1. , 0. ],\n       [1. , 0. ],\n       [1. , 0. ],\n       [1. , 0. ],\n       [0. , 1. ],\n       [0.6, 0.4],\n       [0. , 1. ],\n       [0.6, 0.4],\n       [1. , 0. ],\n       [1. , 0. ],\n       [0.6, 0.4],\n       [0. , 1. ],\n       [0.8, 0.2],\n       [0.6, 0.4],\n       [0.2, 0.8],\n       [1. , 0. ],\n       [1. , 0. ],\n       [1. , 0. ],\n       [0.8, 0.2],\n       [0.6, 0.4],\n       [0.8, 0.2],\n       [1. , 0. ],\n       [1. , 0. ],\n       [0.8, 0.2],\n       [0.8, 0.2],\n       [0.4, 0.6],\n       [0.8, 0.2],\n       [1. , 0. ],\n       [1. , 0. ],\n       [0.2, 0.8],\n       [0.8, 0.2],\n       [1. , 0. ],\n       [0.6, 0.4],\n       [1. , 0. ],\n       [0.8, 0.2],\n       [0.6, 0.4],\n       [1. , 0. ],\n       [0.4, 0.6],\n       [0. , 1. ],\n       [0.8, 0.2],\n       [0. , 1. ],\n       [0. , 1. ],\n       [0. , 1. ],\n       [0.8, 0.2],\n       [0.4, 0.6],\n       [0.6, 0.4],\n       [0.2, 0.8],\n       [1. , 0. ],\n       [0.8, 0.2],\n       [0.8, 0.2],\n       [0.8, 0.2],\n       [1. , 0. ],\n       [0. , 1. ],\n       [0. , 1. ],\n       [0.6, 0.4],\n       [0.8, 0.2],\n       [0.6, 0.4],\n       [0.8, 0.2],\n       [1. , 0. ],\n       [0.2, 0.8],\n       [0.4, 0.6],\n       [0.4, 0.6],\n       [1. , 0. ],\n       [0.8, 0.2],\n       [1. , 0. ],\n       [0.2, 0.8],\n       [0.8, 0.2],\n       [1. , 0. ],\n       [0.8, 0.2],\n       [0. , 1. ],\n       [1. , 0. ],\n       [0.8, 0.2],\n       [0.4, 0.6],\n       [0. , 1. ],\n       [0.8, 0.2],\n       [0. , 1. ],\n       [0.8, 0.2],\n       [0. , 1. ],\n       [0.8, 0.2],\n       [0. , 1. ],\n       [1. , 0. ],\n       [1. , 0. ],\n       [0.8, 0.2],\n       [0.8, 0.2],\n       [0.8, 0.2],\n       [0.4, 0.6],\n       [1. , 0. ],\n       [0.8, 0.2],\n       [0.8, 0.2],\n       [1. , 0. ],\n       [0. , 1. ],\n       [0.2, 0.8],\n       [1. , 0. ],\n       [0.2, 0.8],\n       [0. , 1. ],\n       [0.6, 0.4],\n       [1. , 0. ],\n       [0.8, 0.2],\n       [0.8, 0.2],\n       [0. , 1. ],\n       [1. , 0. ],\n       [1. , 0. ],\n       [0. , 1. ],\n       [1. , 0. ],\n       [1. , 0. ],\n       [0. , 1. ],\n       [0.8, 0.2],\n       [1. , 0. ],\n       [0.8, 0.2],\n       [1. , 0. ],\n       [0.8, 0.2],\n       [0.8, 0.2],\n       [0.4, 0.6],\n       [0.4, 0.6],\n       [0.8, 0.2],\n       [0. , 1. ],\n       [0.8, 0.2],\n       [0.6, 0.4],\n       [0. , 1. ],\n       [0.8, 0.2],\n       [0. , 1. ],\n       [0. , 1. ]])"
                    },
                    "metadata": {
                        "tags": []
                    }
                }
            ],
            "execution_count": 9
        },
        {
            "cell_type": "code",
            "source": [
                "pd.DataFrame(y_test).sort_index()"
            ],
            "metadata": {
                "id": "tLilJW0s0H-i",
                "colab_type": "code",
                "colab": {},
                "azdata_cell_guid": "1197da5d-b5d6-4e1d-9583-0a5b139757b1"
            },
            "outputs": [],
            "execution_count": 0
        },
        {
            "cell_type": "code",
            "source": [
                "pd.DataFrame(X_test).reset_index()"
            ],
            "metadata": {
                "id": "V6txE1Md2KSk",
                "colab_type": "code",
                "colab": {},
                "azdata_cell_guid": "92a93754-afeb-4045-8b95-d143090d4253"
            },
            "outputs": [],
            "execution_count": 0
        }
    ]
}