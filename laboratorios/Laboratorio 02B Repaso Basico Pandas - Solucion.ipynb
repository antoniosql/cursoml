{
    "metadata": {
        "kernelspec": {
            "name": "python3",
            "display_name": "Python 3"
        },
        "language_info": {
            "name": "python",
            "version": "3.6.6",
            "mimetype": "text/x-python",
            "codemirror_mode": {
                "name": "ipython",
                "version": 3
            },
            "pygments_lexer": "ipython3",
            "nbconvert_exporter": "python",
            "file_extension": ".py"
        }
    },
    "nbformat_minor": 2,
    "nbformat": 4,
    "cells": [
        {
            "cell_type": "markdown",
            "source": [
                "# Repaso básico de Pandas"
            ],
            "metadata": {
                "id": "UCyJpqhBXbgo",
                "colab_type": "text",
                "azdata_cell_guid": "f96f9222-8134-4c86-b836-f4014b654e20"
            }
        },
        {
            "cell_type": "markdown",
            "source": [
                "El objetivo de estos ejercicios es repasar los conceptos básicos de Pandas"
            ],
            "metadata": {
                "id": "9t6WnhaBXkcR",
                "colab_type": "text",
                "azdata_cell_guid": "31e02aaa-1d97-4a6c-86a3-ce97bcc0dce6"
            }
        },
        {
            "cell_type": "code",
            "source": [
                "#Importamos el paquete de pandas\n",
                "import pandas as pd\n",
                "\n",
                "#El Dataframe es el objeto básico de manejo de datos en Pandas. \n",
                "#Los Dataframes están compuesto por una lista de Series que podemos especificar como diccionarios para generar el DataFrame\n",
                "\n",
                "city_names = pd.Series(['San Francisco', 'San Jose', 'Sacramento'])\n",
                "population = pd.Series([852469, 1015785, 485199])\n",
                "\n",
                "pd.DataFrame({ 'City name': city_names, 'Population': population })"
            ],
            "metadata": {
                "id": "oitHonrOXZ9R",
                "colab_type": "code",
                "outputId": "3cbd6b90-43c1-4211-8fa9-02795d485433",
                "executionInfo": {
                    "status": "ok",
                    "timestamp": 1550304951844,
                    "user_tz": -60,
                    "elapsed": 689,
                    "user": {
                        "displayName": "Machine Learning",
                        "photoUrl": "",
                        "userId": "05609927355646341864"
                    }
                },
                "colab": {
                    "base_uri": "https://localhost:8080/",
                    "height": 141
                },
                "azdata_cell_guid": "a446856a-7cf1-4d47-aafb-b31d4628ca9a"
            },
            "outputs": [
                {
                    "output_type": "execute_result",
                    "execution_count": 1,
                    "data": {
                        "text/html": "<div>\n<style scoped>\n    .dataframe tbody tr th:only-of-type {\n        vertical-align: middle;\n    }\n\n    .dataframe tbody tr th {\n        vertical-align: top;\n    }\n\n    .dataframe thead th {\n        text-align: right;\n    }\n</style>\n<table border=\"1\" class=\"dataframe\">\n  <thead>\n    <tr style=\"text-align: right;\">\n      <th></th>\n      <th>City name</th>\n      <th>Population</th>\n    </tr>\n  </thead>\n  <tbody>\n    <tr>\n      <th>0</th>\n      <td>San Francisco</td>\n      <td>852469</td>\n    </tr>\n    <tr>\n      <th>1</th>\n      <td>San Jose</td>\n      <td>1015785</td>\n    </tr>\n    <tr>\n      <th>2</th>\n      <td>Sacramento</td>\n      <td>485199</td>\n    </tr>\n  </tbody>\n</table>\n</div>",
                        "text/plain": "       City name  Population\n0  San Francisco      852469\n1       San Jose     1015785\n2     Sacramento      485199"
                    },
                    "metadata": {
                        "tags": []
                    }
                }
            ],
            "execution_count": 0
        },
        {
            "cell_type": "code",
            "source": [
                "#Lo habitual es generar los Dataframe a partir de lecturas de dato de origen\n",
                "\n",
                "california_housing_dataframe = pd.read_csv(\"https://download.mlcc.google.com/mledu-datasets/california_housing_train.csv\", sep=\",\")\n",
                "california_housing_dataframe.describe()"
            ],
            "metadata": {
                "id": "702yVndBXy-4",
                "colab_type": "code",
                "outputId": "7d65740c-2d2a-414a-c4a2-b3264f8d607b",
                "executionInfo": {
                    "status": "ok",
                    "timestamp": 1550304956097,
                    "user_tz": -60,
                    "elapsed": 578,
                    "user": {
                        "displayName": "Machine Learning",
                        "photoUrl": "",
                        "userId": "05609927355646341864"
                    }
                },
                "colab": {
                    "base_uri": "https://localhost:8080/",
                    "height": 294
                },
                "azdata_cell_guid": "1d1ad8e1-e5c0-4125-8244-648a8812d1db"
            },
            "outputs": [
                {
                    "output_type": "execute_result",
                    "execution_count": 2,
                    "data": {
                        "text/html": "<div>\n<style scoped>\n    .dataframe tbody tr th:only-of-type {\n        vertical-align: middle;\n    }\n\n    .dataframe tbody tr th {\n        vertical-align: top;\n    }\n\n    .dataframe thead th {\n        text-align: right;\n    }\n</style>\n<table border=\"1\" class=\"dataframe\">\n  <thead>\n    <tr style=\"text-align: right;\">\n      <th></th>\n      <th>longitude</th>\n      <th>latitude</th>\n      <th>housing_median_age</th>\n      <th>total_rooms</th>\n      <th>total_bedrooms</th>\n      <th>population</th>\n      <th>households</th>\n      <th>median_income</th>\n      <th>median_house_value</th>\n    </tr>\n  </thead>\n  <tbody>\n    <tr>\n      <th>count</th>\n      <td>17000.000000</td>\n      <td>17000.000000</td>\n      <td>17000.000000</td>\n      <td>17000.000000</td>\n      <td>17000.000000</td>\n      <td>17000.000000</td>\n      <td>17000.000000</td>\n      <td>17000.000000</td>\n      <td>17000.000000</td>\n    </tr>\n    <tr>\n      <th>mean</th>\n      <td>-119.562108</td>\n      <td>35.625225</td>\n      <td>28.589353</td>\n      <td>2643.664412</td>\n      <td>539.410824</td>\n      <td>1429.573941</td>\n      <td>501.221941</td>\n      <td>3.883578</td>\n      <td>207300.912353</td>\n    </tr>\n    <tr>\n      <th>std</th>\n      <td>2.005166</td>\n      <td>2.137340</td>\n      <td>12.586937</td>\n      <td>2179.947071</td>\n      <td>421.499452</td>\n      <td>1147.852959</td>\n      <td>384.520841</td>\n      <td>1.908157</td>\n      <td>115983.764387</td>\n    </tr>\n    <tr>\n      <th>min</th>\n      <td>-124.350000</td>\n      <td>32.540000</td>\n      <td>1.000000</td>\n      <td>2.000000</td>\n      <td>1.000000</td>\n      <td>3.000000</td>\n      <td>1.000000</td>\n      <td>0.499900</td>\n      <td>14999.000000</td>\n    </tr>\n    <tr>\n      <th>25%</th>\n      <td>-121.790000</td>\n      <td>33.930000</td>\n      <td>18.000000</td>\n      <td>1462.000000</td>\n      <td>297.000000</td>\n      <td>790.000000</td>\n      <td>282.000000</td>\n      <td>2.566375</td>\n      <td>119400.000000</td>\n    </tr>\n    <tr>\n      <th>50%</th>\n      <td>-118.490000</td>\n      <td>34.250000</td>\n      <td>29.000000</td>\n      <td>2127.000000</td>\n      <td>434.000000</td>\n      <td>1167.000000</td>\n      <td>409.000000</td>\n      <td>3.544600</td>\n      <td>180400.000000</td>\n    </tr>\n    <tr>\n      <th>75%</th>\n      <td>-118.000000</td>\n      <td>37.720000</td>\n      <td>37.000000</td>\n      <td>3151.250000</td>\n      <td>648.250000</td>\n      <td>1721.000000</td>\n      <td>605.250000</td>\n      <td>4.767000</td>\n      <td>265000.000000</td>\n    </tr>\n    <tr>\n      <th>max</th>\n      <td>-114.310000</td>\n      <td>41.950000</td>\n      <td>52.000000</td>\n      <td>37937.000000</td>\n      <td>6445.000000</td>\n      <td>35682.000000</td>\n      <td>6082.000000</td>\n      <td>15.000100</td>\n      <td>500001.000000</td>\n    </tr>\n  </tbody>\n</table>\n</div>",
                        "text/plain": "          longitude      latitude  housing_median_age   total_rooms  \\\ncount  17000.000000  17000.000000        17000.000000  17000.000000   \nmean    -119.562108     35.625225           28.589353   2643.664412   \nstd        2.005166      2.137340           12.586937   2179.947071   \nmin     -124.350000     32.540000            1.000000      2.000000   \n25%     -121.790000     33.930000           18.000000   1462.000000   \n50%     -118.490000     34.250000           29.000000   2127.000000   \n75%     -118.000000     37.720000           37.000000   3151.250000   \nmax     -114.310000     41.950000           52.000000  37937.000000   \n\n       total_bedrooms    population    households  median_income  \\\ncount    17000.000000  17000.000000  17000.000000   17000.000000   \nmean       539.410824   1429.573941    501.221941       3.883578   \nstd        421.499452   1147.852959    384.520841       1.908157   \nmin          1.000000      3.000000      1.000000       0.499900   \n25%        297.000000    790.000000    282.000000       2.566375   \n50%        434.000000   1167.000000    409.000000       3.544600   \n75%        648.250000   1721.000000    605.250000       4.767000   \nmax       6445.000000  35682.000000   6082.000000      15.000100   \n\n       median_house_value  \ncount        17000.000000  \nmean        207300.912353  \nstd         115983.764387  \nmin          14999.000000  \n25%         119400.000000  \n50%         180400.000000  \n75%         265000.000000  \nmax         500001.000000  "
                    },
                    "metadata": {
                        "tags": []
                    }
                }
            ],
            "execution_count": 0
        },
        {
            "cell_type": "code",
            "source": [
                "#Para el acceso a los datos de los Dataframes podemos utilizar operaciones de lista o diccionario de Python\n",
                "\n",
                "cities = pd.DataFrame({ 'City name': city_names, 'Population': population })\n",
                "print(type(cities['City name']))\n",
                "cities['City name']"
            ],
            "metadata": {
                "id": "1IvmJwTNX-4T",
                "colab_type": "code",
                "outputId": "3dd9bb69-25b9-4d25-b963-f5450cd09326",
                "executionInfo": {
                    "status": "ok",
                    "timestamp": 1550304961610,
                    "user_tz": -60,
                    "elapsed": 621,
                    "user": {
                        "displayName": "Machine Learning",
                        "photoUrl": "",
                        "userId": "05609927355646341864"
                    }
                },
                "colab": {
                    "base_uri": "https://localhost:8080/",
                    "height": 104
                },
                "azdata_cell_guid": "63920c49-15c9-40f7-8d38-743e5283963e"
            },
            "outputs": [
                {
                    "output_type": "stream",
                    "name": "stdout",
                    "text": "<class 'pandas.core.series.Series'>\n"
                },
                {
                    "output_type": "execute_result",
                    "execution_count": 3,
                    "data": {
                        "text/plain": "0    San Francisco\n1         San Jose\n2       Sacramento\nName: City name, dtype: object"
                    },
                    "metadata": {
                        "tags": []
                    }
                }
            ],
            "execution_count": 0
        },
        {
            "cell_type": "code",
            "source": [
                "#Accedemos a la primera ocurrencia (fila) del Dataframe\n",
                "\n",
                "print(type(cities['City name'][1]))\n",
                "cities['City name'][1]"
            ],
            "metadata": {
                "id": "398-9KdvYBZv",
                "colab_type": "code",
                "outputId": "9bb6c3fd-a688-472e-b4ee-eb170da9ef60",
                "executionInfo": {
                    "status": "ok",
                    "timestamp": 1550304967635,
                    "user_tz": -60,
                    "elapsed": 569,
                    "user": {
                        "displayName": "Machine Learning",
                        "photoUrl": "",
                        "userId": "05609927355646341864"
                    }
                },
                "colab": {
                    "base_uri": "https://localhost:8080/",
                    "height": 52
                },
                "azdata_cell_guid": "adf2e6fc-a236-49f7-bc5f-f523a3c1a9f6"
            },
            "outputs": [
                {
                    "output_type": "stream",
                    "name": "stdout",
                    "text": "<class 'str'>\n"
                },
                {
                    "output_type": "execute_result",
                    "execution_count": 4,
                    "data": {
                        "text/plain": "'San Jose'"
                    },
                    "metadata": {
                        "tags": []
                    }
                }
            ],
            "execution_count": 0
        },
        {
            "cell_type": "code",
            "source": [
                "#Obtenemos un Dataframe con las dos primeras filas\n",
                "print(type(cities[0:2]))\n",
                "cities[0:2]"
            ],
            "metadata": {
                "id": "Qjuv9rcpYENl",
                "colab_type": "code",
                "outputId": "3a806458-2ade-4419-e159-3bef2372f868",
                "executionInfo": {
                    "status": "ok",
                    "timestamp": 1550304970700,
                    "user_tz": -60,
                    "elapsed": 577,
                    "user": {
                        "displayName": "Machine Learning",
                        "photoUrl": "",
                        "userId": "05609927355646341864"
                    }
                },
                "colab": {
                    "base_uri": "https://localhost:8080/",
                    "height": 127
                },
                "azdata_cell_guid": "3a4d2381-7790-4e7d-834a-7ca7254a93b1"
            },
            "outputs": [
                {
                    "output_type": "stream",
                    "name": "stdout",
                    "text": "<class 'pandas.core.frame.DataFrame'>\n"
                },
                {
                    "output_type": "execute_result",
                    "execution_count": 5,
                    "data": {
                        "text/html": "<div>\n<style scoped>\n    .dataframe tbody tr th:only-of-type {\n        vertical-align: middle;\n    }\n\n    .dataframe tbody tr th {\n        vertical-align: top;\n    }\n\n    .dataframe thead th {\n        text-align: right;\n    }\n</style>\n<table border=\"1\" class=\"dataframe\">\n  <thead>\n    <tr style=\"text-align: right;\">\n      <th></th>\n      <th>City name</th>\n      <th>Population</th>\n    </tr>\n  </thead>\n  <tbody>\n    <tr>\n      <th>0</th>\n      <td>San Francisco</td>\n      <td>852469</td>\n    </tr>\n    <tr>\n      <th>1</th>\n      <td>San Jose</td>\n      <td>1015785</td>\n    </tr>\n  </tbody>\n</table>\n</div>",
                        "text/plain": "       City name  Population\n0  San Francisco      852469\n1       San Jose     1015785"
                    },
                    "metadata": {
                        "tags": []
                    }
                }
            ],
            "execution_count": 0
        },
        {
            "cell_type": "code",
            "source": [
                "#Modificar un Dataframe también es muy sencillo, por ejemplo el siguiente código añade dos Series al Dataframe existente\n",
                "\n",
                "cities['Area square miles'] = pd.Series([46.87, 176.53, 97.92])\n",
                "cities['Population density'] = cities['Population'] / cities['Area square miles']\n",
                "cities"
            ],
            "metadata": {
                "id": "dJatH3DCYLcE",
                "colab_type": "code",
                "outputId": "8898a45b-b1f1-4624-f0b0-b18894a93d02",
                "executionInfo": {
                    "status": "ok",
                    "timestamp": 1550304974230,
                    "user_tz": -60,
                    "elapsed": 738,
                    "user": {
                        "displayName": "Machine Learning",
                        "photoUrl": "",
                        "userId": "05609927355646341864"
                    }
                },
                "colab": {
                    "base_uri": "https://localhost:8080/",
                    "height": 141
                },
                "azdata_cell_guid": "86a92a40-0f29-4abf-a587-15f0a4f0edc8"
            },
            "outputs": [
                {
                    "output_type": "execute_result",
                    "execution_count": 6,
                    "data": {
                        "text/html": "<div>\n<style scoped>\n    .dataframe tbody tr th:only-of-type {\n        vertical-align: middle;\n    }\n\n    .dataframe tbody tr th {\n        vertical-align: top;\n    }\n\n    .dataframe thead th {\n        text-align: right;\n    }\n</style>\n<table border=\"1\" class=\"dataframe\">\n  <thead>\n    <tr style=\"text-align: right;\">\n      <th></th>\n      <th>City name</th>\n      <th>Population</th>\n      <th>Area square miles</th>\n      <th>Population density</th>\n    </tr>\n  </thead>\n  <tbody>\n    <tr>\n      <th>0</th>\n      <td>San Francisco</td>\n      <td>852469</td>\n      <td>46.87</td>\n      <td>18187.945381</td>\n    </tr>\n    <tr>\n      <th>1</th>\n      <td>San Jose</td>\n      <td>1015785</td>\n      <td>176.53</td>\n      <td>5754.177760</td>\n    </tr>\n    <tr>\n      <th>2</th>\n      <td>Sacramento</td>\n      <td>485199</td>\n      <td>97.92</td>\n      <td>4955.055147</td>\n    </tr>\n  </tbody>\n</table>\n</div>",
                        "text/plain": "       City name  Population  Area square miles  Population density\n0  San Francisco      852469              46.87        18187.945381\n1       San Jose     1015785             176.53         5754.177760\n2     Sacramento      485199              97.92         4955.055147"
                    },
                    "metadata": {
                        "tags": []
                    }
                }
            ],
            "execution_count": 0
        },
        {
            "cell_type": "markdown",
            "source": [
                "# Ejercicio #1\n",
                "Modifica la tabla de ciudades añadiendo una nueva columna boolean que será True si y solo si las siguientes dos condiciones son verdaderas:\n",
                "\n",
                "La ciudad se nombra después de un San\n",
                "La ciudad tiene un área mayor de 50 millas cuadradas\n",
                "\n",
                "Nota: Las Series Boolean se combina utilizando bitwise en lugar de los operadores booleanos tradicionales. Por ejemplo, cuando queremos realizar un and lógico, utilizamos & en lugar de and"
            ],
            "metadata": {
                "id": "LZgBxbkGYQOd",
                "colab_type": "text",
                "azdata_cell_guid": "fb8a9bd8-1430-4cf2-94e1-0efb651970b0"
            }
        },
        {
            "cell_type": "code",
            "source": [
                "#Tu solución\n",
                "cities['Is wide and has saint name'] = (cities['Area square miles'] > 50) & cities['City name'].apply(lambda name: name.startswith('San'))\n",
                "cities"
            ],
            "metadata": {
                "id": "XxylGfpYYUzf",
                "colab_type": "code",
                "colab": {},
                "azdata_cell_guid": "2c8fd8c3-7bea-4970-80a0-d841e91382e6"
            },
            "outputs": [],
            "execution_count": 0
        },
        {
            "cell_type": "markdown",
            "source": [
                "# Indexes\n",
                "Tanto las Series como los Dataframe definen la propiedad index que asigna un identificador a cada fila \n",
                "Por defecto, en su construcción, pandas asigna valores de índice que reflejan la ordenación de los datos de origen. Una vez creados, los valores del índice son estable, es decir, no cambian cuando los datos se reordenan"
            ],
            "metadata": {
                "id": "HzLNeqbVYaxn",
                "colab_type": "text",
                "azdata_cell_guid": "43397030-b02a-4431-b34a-0bf807f1e839"
            }
        },
        {
            "cell_type": "code",
            "source": [
                "city_names.index"
            ],
            "metadata": {
                "id": "nJ-IjBBoYieN",
                "colab_type": "code",
                "colab": {},
                "azdata_cell_guid": "e7fcc9dc-da32-4bd4-82db-08d032585de1"
            },
            "outputs": [],
            "execution_count": 0
        },
        {
            "cell_type": "code",
            "source": [
                "cities.index"
            ],
            "metadata": {
                "id": "mEutwTNQYkIT",
                "colab_type": "code",
                "colab": {},
                "azdata_cell_guid": "86f6de6a-d9f9-4b6d-85f1-9c8d8002a771"
            },
            "outputs": [],
            "execution_count": 0
        },
        {
            "cell_type": "code",
            "source": [
                "#Podemos llamar a reindex para ordernar manualmente las filas. Por ejemplo, el siguiente código tendría el mismo efecto que ordenar por nombre de ciudad\n",
                "cities.reindex([2, 0, 1])"
            ],
            "metadata": {
                "id": "aZJxlAUIYmAf",
                "colab_type": "code",
                "colab": {},
                "azdata_cell_guid": "c567f8ff-9a34-4f93-972f-3a7a2dd48c61"
            },
            "outputs": [],
            "execution_count": 0
        },
        {
            "cell_type": "code",
            "source": [
                "#Reindexar es un buen modo de barajar(aleatoriamente) un Dataframe. En el siguiente ejemplo le pasamos el índice a a la función `random.permutation`que baraja sus valores en línea. \n",
                "#Llamar a reindex de este modo reordena aleatoriomente las filas\n",
                "\n",
                "import numpy as np\n",
                "cities.reindex(np.random.permutation(cities.index))"
            ],
            "metadata": {
                "id": "W3exagj-Yn8o",
                "colab_type": "code",
                "colab": {},
                "azdata_cell_guid": "9466ff63-8fd1-4450-aa46-fedd1f7c74ba"
            },
            "outputs": [],
            "execution_count": 0
        },
        {
            "cell_type": "markdown",
            "source": [
                "# Ejercicio #2\n",
                "El método reindex permite indexar valores que no están en los valores originales del índice del Dataframe. Pruébalo y mira lo que ocurre si utilizamos esos valores. Porque crees que se permite hacer esto?"
            ],
            "metadata": {
                "id": "5ajfgyyHYq0H",
                "colab_type": "text",
                "azdata_cell_guid": "14f16b48-fe31-447d-8003-6a701ef76a96"
            }
        },
        {
            "cell_type": "code",
            "source": [
                "#Tu codigo\n",
                "cities.reindex([0, 4, 5, 2])"
            ],
            "metadata": {
                "id": "MBAG09G2Y5qi",
                "colab_type": "code",
                "outputId": "f834e55c-ea62-4038-ef3d-1accdaf943df",
                "executionInfo": {
                    "status": "ok",
                    "timestamp": 1550305813871,
                    "user_tz": -60,
                    "elapsed": 591,
                    "user": {
                        "displayName": "Machine Learning",
                        "photoUrl": "",
                        "userId": "05609927355646341864"
                    }
                },
                "colab": {
                    "base_uri": "https://localhost:8080/",
                    "height": 171
                },
                "azdata_cell_guid": "8df55de1-071f-427d-abc4-4e2d19fffb74"
            },
            "outputs": [
                {
                    "output_type": "execute_result",
                    "execution_count": 7,
                    "data": {
                        "text/html": "<div>\n<style scoped>\n    .dataframe tbody tr th:only-of-type {\n        vertical-align: middle;\n    }\n\n    .dataframe tbody tr th {\n        vertical-align: top;\n    }\n\n    .dataframe thead th {\n        text-align: right;\n    }\n</style>\n<table border=\"1\" class=\"dataframe\">\n  <thead>\n    <tr style=\"text-align: right;\">\n      <th></th>\n      <th>City name</th>\n      <th>Population</th>\n      <th>Area square miles</th>\n      <th>Population density</th>\n    </tr>\n  </thead>\n  <tbody>\n    <tr>\n      <th>0</th>\n      <td>San Francisco</td>\n      <td>852469.0</td>\n      <td>46.87</td>\n      <td>18187.945381</td>\n    </tr>\n    <tr>\n      <th>4</th>\n      <td>NaN</td>\n      <td>NaN</td>\n      <td>NaN</td>\n      <td>NaN</td>\n    </tr>\n    <tr>\n      <th>5</th>\n      <td>NaN</td>\n      <td>NaN</td>\n      <td>NaN</td>\n      <td>NaN</td>\n    </tr>\n    <tr>\n      <th>2</th>\n      <td>Sacramento</td>\n      <td>485199.0</td>\n      <td>97.92</td>\n      <td>4955.055147</td>\n    </tr>\n  </tbody>\n</table>\n</div>",
                        "text/plain": "       City name  Population  Area square miles  Population density\n0  San Francisco    852469.0              46.87        18187.945381\n4            NaN         NaN                NaN                 NaN\n5            NaN         NaN                NaN                 NaN\n2     Sacramento    485199.0              97.92         4955.055147"
                    },
                    "metadata": {
                        "tags": []
                    }
                }
            ],
            "execution_count": 0
        }
    ]
}