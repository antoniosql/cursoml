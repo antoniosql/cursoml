{
    "metadata": {
        "kernelspec": {
            "name": "SQL",
            "display_name": "SQL",
            "language": "sql"
        },
        "language_info": {
            "name": "sql",
            "version": ""
        }
    },
    "nbformat_minor": 2,
    "nbformat": 4,
    "cells": [
        {
            "cell_type": "code",
            "source": [
                "import pandas as pd\n",
                "import numpy as np\n",
                "from sklearn.cluster import KMeans\n",
                "from sklearn.preprocessing import LabelEncoder\n",
                "from sklearn.preprocessing import MinMaxScaler\n",
                "import seaborn as sns\n",
                "import matplotlib.pyplot as plt\n",
                "\n",
                "\n",
                "\n",
                "input_file = 'titanic_data.csv'\n",
                "separador = \",\"\n",
                "dataset = pd.read_csv(filepath_or_buffer=input_file, sep=separador)"
            ],
            "metadata": {
                "id": "09I4wFzyh6od",
                "colab_type": "code",
                "colab": {},
                "azdata_cell_guid": "3946224d-1402-4d97-95c1-c72d50561475"
            },
            "outputs": [],
            "execution_count": 0
        },
        {
            "cell_type": "markdown",
            "source": [
                "# Uso de K means"
            ],
            "metadata": {
                "id": "CtNBanAi_4DT",
                "colab_type": "text",
                "azdata_cell_guid": "cf80eadd-e197-4e8a-b5ca-ed65c7c92fcb"
            }
        },
        {
            "cell_type": "markdown",
            "source": [
                "**Ejercicio 1**\n",
                "Las característica de Age tiene muchos nulos, así que como primer paso, intenta inferar utilizando fillna() valores para esas columnas usando la media. Esto dbes de hacerlo tanto para el juego de entrenamiento como para el de test"
            ],
            "metadata": {
                "id": "YLpSrsCm_67y",
                "colab_type": "text",
                "azdata_cell_guid": "474140f2-314e-4791-bba2-3fa5b9701ef4"
            }
        },
        {
            "cell_type": "code",
            "source": [
                "dataset.fillna(dataset.mean(), inplace=True)\n"
            ],
            "metadata": {
                "id": "dR6gBkBTASuO",
                "colab_type": "code",
                "colab": {},
                "azdata_cell_guid": "8029e764-90de-4d52-9a40-f42338a3afe4"
            },
            "outputs": [],
            "execution_count": 0
        },
        {
            "cell_type": "code",
            "source": [
                "dataset.head()"
            ],
            "metadata": {
                "id": "tAWdkR6HJX4j",
                "colab_type": "code",
                "colab": {},
                "azdata_cell_guid": "769369c5-4673-4cef-be5a-376af0c1d4e7"
            },
            "outputs": [],
            "execution_count": 0
        },
        {
            "cell_type": "markdown",
            "source": [
                "**Ejercicio 2**\n",
                "Elimina las características que crees que no son necesarias y asegurate de que Sex es un valor numérico "
            ],
            "metadata": {
                "id": "7gfhyX-3ATfU",
                "colab_type": "text",
                "azdata_cell_guid": "577b5081-6e6b-4b2c-b177-166901ee9652"
            }
        },
        {
            "cell_type": "code",
            "source": [
                "X = dataset.drop(['Survived','Name','Ticket','Cabin','Embarked','PassengerId'], axis = 1)\n",
                "\n",
                "\n",
                "y=dataset.drop(['Name','Ticket','Cabin','Embarked','PassengerId','Pclass','Sex','Age','SibSp','Parch','Fare'],axis=1)"
            ],
            "metadata": {
                "id": "azBGwwNAAyCi",
                "colab_type": "code",
                "colab": {},
                "azdata_cell_guid": "fdd903cc-1872-4d2e-b246-999f700cafe8"
            },
            "outputs": [],
            "execution_count": 0
        },
        {
            "cell_type": "code",
            "source": [
                "labelEncoder = LabelEncoder()\n",
                "\n",
                "labelEncoder.fit(X['Sex'])\n",
                "\n",
                "X['Sex'] = labelEncoder.transform(X['Sex'])"
            ],
            "metadata": {
                "id": "3zHQuDQaLI7U",
                "colab_type": "code",
                "colab": {},
                "azdata_cell_guid": "2553559e-ca75-4997-8793-583799280994"
            },
            "outputs": [],
            "execution_count": 0
        },
        {
            "cell_type": "markdown",
            "source": [
                "**Ejercicio 3**\n",
                "\n",
                "Construye el modelo K-Means"
            ],
            "metadata": {
                "id": "n0PH3qNIAydM",
                "colab_type": "text",
                "azdata_cell_guid": "b12df9f4-50d4-4762-9caf-2dff6eb94997"
            }
        },
        {
            "cell_type": "code",
            "source": [
                "from sklearn.model_selection import train_test_split\n",
                "\n",
                "X_train,X_test,y_train,y_test = train_test_split(X, y, test_size = 0.1, random_state = 0,stratify=y)\n",
                "\n",
                "\n",
                "kmeans = KMeans(n_clusters=2) # Queremos agrupar los pasajeros en dos grupos: Supervivientes o No Supervivientes\n",
                "modelo = kmeans.fit(X_train)\n"
            ],
            "metadata": {
                "id": "hYNdLmlbiH8e",
                "colab_type": "code",
                "colab": {},
                "azdata_cell_guid": "b9718b44-e5e2-48a6-a169-6a6f15cec906"
            },
            "outputs": [],
            "execution_count": 0
        },
        {
            "cell_type": "code",
            "source": [
                "modelo.labels_"
            ],
            "metadata": {
                "id": "Kam8NU8Ai2ks",
                "colab_type": "code",
                "colab": {},
                "azdata_cell_guid": "ae07d6fa-cd63-4c58-8636-75bf05d8fc93"
            },
            "outputs": [],
            "execution_count": 0
        },
        {
            "cell_type": "code",
            "source": [
                "X_train['Superviviente'] = modelo.labels_"
            ],
            "metadata": {
                "id": "8kvkEJkcM7tC",
                "colab_type": "code",
                "colab": {},
                "azdata_cell_guid": "9ccd9e2f-a65c-4ef8-b8a5-06aa4e93d607"
            },
            "outputs": [],
            "execution_count": 0
        },
        {
            "cell_type": "code",
            "source": [
                "import sklearn.metrics as sm\n",
                "sm.accuracy_score(y_train, modelo.labels_)"
            ],
            "metadata": {
                "id": "DNHEyBgDkd_p",
                "colab_type": "code",
                "colab": {
                    "base_uri": "https://localhost:8080/",
                    "height": 34
                },
                "outputId": "3973f6ee-7024-4820-c4fc-dde4b7a85fef",
                "executionInfo": {
                    "status": "ok",
                    "timestamp": 1560536888358,
                    "user_tz": -120,
                    "elapsed": 666,
                    "user": {
                        "displayName": "Machine Learning",
                        "photoUrl": "",
                        "userId": "05609927355646341864"
                    }
                },
                "azdata_cell_guid": "c3e61f54-dc4e-4e5f-8c63-a2779c371594"
            },
            "outputs": [
                {
                    "output_type": "execute_result",
                    "execution_count": 63,
                    "data": {
                        "text/plain": "0.625531914893617"
                    },
                    "metadata": {
                        "tags": []
                    }
                }
            ],
            "execution_count": 63
        },
        {
            "cell_type": "code",
            "source": [
                "\n",
                "from sklearn.metrics import accuracy_score, confusion_matrix, recall_score\n",
                "\n",
                "from imblearn.over_sampling import SMOTE"
            ],
            "metadata": {
                "id": "pifHOjLukaWI",
                "colab_type": "code",
                "colab": {},
                "azdata_cell_guid": "5e50466e-7e01-462c-8338-d02d99ed2424"
            },
            "outputs": [],
            "execution_count": 0
        },
        {
            "cell_type": "code",
            "source": [
                "#SMOTE-----------------------------------------------------------------------------------\n",
                "\n",
                "\n",
                "X_train, X_test, y_train, y_test = train_test_split(X, y, random_state = 1, stratify=y)\n",
                "\n",
                "\n",
                "\n",
                "smt = SMOTE()\n",
                "\n",
                "X_train, y_train = smt.fit_sample(X_train, y_train)"
            ],
            "metadata": {
                "id": "cRZ7qfW0kfSL",
                "colab_type": "code",
                "colab": {
                    "base_uri": "https://localhost:8080/",
                    "height": 71
                },
                "outputId": "d98580fa-8844-40ab-e2ef-b9bc70576bc2",
                "executionInfo": {
                    "status": "ok",
                    "timestamp": 1560536661061,
                    "user_tz": -120,
                    "elapsed": 478,
                    "user": {
                        "displayName": "Machine Learning",
                        "photoUrl": "",
                        "userId": "05609927355646341864"
                    }
                },
                "azdata_cell_guid": "c8ace036-04ab-426b-b122-65a9e455eda8"
            },
            "outputs": [
                {
                    "output_type": "stream",
                    "name": "stderr",
                    "text": "/usr/local/lib/python2.7/dist-packages/sklearn/utils/validation.py:761: DataConversionWarning: A column-vector y was passed when a 1d array was expected. Please change the shape of y to (n_samples, ), for example using ravel().\n  y = column_or_1d(y, warn=True)\n"
                }
            ],
            "execution_count": 56
        },
        {
            "cell_type": "code",
            "source": [
                "#from sklearn.model_selection import train_test_split\n",
                "\n",
                "#X_train,X_test,y_train,y_test = train_test_split(X, y, test_size = 0.1, random_state = 0,stratify=y)\n",
                "\n",
                "\n",
                "kmeans = KMeans(n_clusters=2) \n",
                "modelo = kmeans.fit(X_train)\n"
            ],
            "metadata": {
                "id": "qhpSvQG7kxdR",
                "colab_type": "code",
                "colab": {},
                "azdata_cell_guid": "28943e90-9eb2-42d3-af3b-9f966c9e1f9c"
            },
            "outputs": [],
            "execution_count": 0
        },
        {
            "cell_type": "code",
            "source": [
                "modelo.labels_"
            ],
            "metadata": {
                "id": "MIA5yKsmkzBs",
                "colab_type": "code",
                "colab": {},
                "azdata_cell_guid": "ea1b7545-ad7f-420f-b787-5fc24b8ac845"
            },
            "outputs": [],
            "execution_count": 0
        },
        {
            "cell_type": "code",
            "source": [
                "import sklearn.metrics as sm\n",
                "sm.accuracy_score(y_train, modelo.labels_)"
            ],
            "metadata": {
                "id": "iItdNXs0k4Yt",
                "colab_type": "code",
                "colab": {
                    "base_uri": "https://localhost:8080/",
                    "height": 34
                },
                "outputId": "028e4458-4b86-48d2-d715-880fdee3eba8",
                "executionInfo": {
                    "status": "ok",
                    "timestamp": 1560536694974,
                    "user_tz": -120,
                    "elapsed": 701,
                    "user": {
                        "displayName": "Machine Learning",
                        "photoUrl": "",
                        "userId": "05609927355646341864"
                    }
                },
                "azdata_cell_guid": "347d5c72-4c73-4502-9ec9-2a12b8d32b24"
            },
            "outputs": [
                {
                    "output_type": "execute_result",
                    "execution_count": 58,
                    "data": {
                        "text/plain": "0.5339702760084926"
                    },
                    "metadata": {
                        "tags": []
                    }
                }
            ],
            "execution_count": 58
        },
        {
            "cell_type": "code",
            "source": [
                "predict = kmeans.predict(X_test)"
            ],
            "metadata": {
                "id": "rxX6bKGnlbvn",
                "colab_type": "code",
                "colab": {},
                "azdata_cell_guid": "d73cb10b-5049-42e7-ae8d-77ae64cd342a"
            },
            "outputs": [],
            "execution_count": 0
        },
        {
            "cell_type": "code",
            "source": [
                "confusion_matrix(y_test,predict)"
            ],
            "metadata": {
                "id": "g4z8eiZ-lFdr",
                "colab_type": "code",
                "colab": {
                    "base_uri": "https://localhost:8080/",
                    "height": 51
                },
                "outputId": "906f069f-42b1-448a-df0f-e1b755027c6e",
                "executionInfo": {
                    "status": "ok",
                    "timestamp": 1560536924807,
                    "user_tz": -120,
                    "elapsed": 603,
                    "user": {
                        "displayName": "Machine Learning",
                        "photoUrl": "",
                        "userId": "05609927355646341864"
                    }
                },
                "azdata_cell_guid": "8153cfd8-fd48-45f5-8cd8-43772a1c1769"
            },
            "outputs": [
                {
                    "output_type": "execute_result",
                    "execution_count": 66,
                    "data": {
                        "text/plain": "array([[62,  1],\n       [37,  5]])"
                    },
                    "metadata": {
                        "tags": []
                    }
                }
            ],
            "execution_count": 66
        },
        {
            "cell_type": "code",
            "source": [
                "recall_score(y_test, predict)"
            ],
            "metadata": {
                "id": "tn2IidhxpBUp",
                "colab_type": "code",
                "colab": {},
                "azdata_cell_guid": "7cfa5a81-6824-4572-a721-c693d3ece3a8"
            },
            "outputs": [],
            "execution_count": 0
        },
        {
            "cell_type": "code",
            "source": [
                "# Function para generar los rangos de edad:\n",
                "def age_ranges(x):\n",
                "    return '[{0}-{1})'.format(10*int(x/10), 10 +10*int(x/10))\n",
                "\n",
                "# Crear nueva columna:\n",
                "dataset['Age_ranges'] = np.nan\n",
                "\n",
                "# Asignar los valores rangos de edad correspondientes:\n",
                "dataset['Age_ranges'] = dataset.Age.apply(lambda x: age_ranges(x))\n",
                "\n",
                "\n",
                "labelEncoder.fit(dataset['Age_ranges'])\n",
                "\n",
                "dataset['Age_ranges'] = labelEncoder.transform(dataset['Age_ranges'])\n",
                "\n",
                "X = dataset.drop(['Survived','Name','Ticket','Cabin','Embarked','PassengerId','Age'], axis = 1)\n",
                "\n",
                "\n",
                "y=dataset.drop(['Name','Ticket','Cabin','Embarked','PassengerId','Pclass','Sex','Age','Age_ranges','SibSp','Parch','Fare'],axis=1)\n",
                "\n",
                "\n"
            ],
            "metadata": {
                "id": "IAvCk4yFnxU0",
                "colab_type": "code",
                "colab": {},
                "azdata_cell_guid": "6b497336-107c-42fc-9331-11aa9a730654"
            },
            "outputs": [],
            "execution_count": 0
        },
        {
            "cell_type": "code",
            "source": [
                "from sklearn.model_selection import train_test_split\n",
                "\n",
                "X_train,X_test,y_train,y_test = train_test_split(X, y, test_size = 0.3, random_state = 0,stratify=y)\n",
                "\n",
                "\n",
                "kmeans = KMeans(n_clusters=2) \n",
                "modelo = kmeans.fit(X_train)"
            ],
            "metadata": {
                "id": "_vIga9XFn8e2",
                "colab_type": "code",
                "colab": {},
                "azdata_cell_guid": "3eb77559-2643-4d85-9904-f9caa1a6e5c1"
            },
            "outputs": [],
            "execution_count": 0
        },
        {
            "cell_type": "code",
            "source": [
                "modelo.labels_"
            ],
            "metadata": {
                "id": "GANsycyXofLc",
                "colab_type": "code",
                "colab": {},
                "azdata_cell_guid": "9f551566-2bda-481b-91b7-919e01f109dc"
            },
            "outputs": [],
            "execution_count": 0
        },
        {
            "cell_type": "code",
            "source": [
                "import sklearn.metrics as sm\n",
                "sm.accuracy_score(y_train, modelo.labels_)"
            ],
            "metadata": {
                "id": "sFgCUNhOok2u",
                "colab_type": "code",
                "colab": {},
                "azdata_cell_guid": "655b4854-2a25-41f8-92aa-dbfb05a60c0c"
            },
            "outputs": [],
            "execution_count": 0
        },
        {
            "cell_type": "code",
            "source": [
                "predict = kmeans.predict(X_test)"
            ],
            "metadata": {
                "id": "INtWm7p7oyn-",
                "colab_type": "code",
                "colab": {},
                "azdata_cell_guid": "83507fa6-f23b-4f1f-a783-361f8e78bfde"
            },
            "outputs": [],
            "execution_count": 0
        },
        {
            "cell_type": "code",
            "source": [
                "confusion_matrix(y_test,predict)"
            ],
            "metadata": {
                "id": "rPuCatHIo2kD",
                "colab_type": "code",
                "colab": {},
                "azdata_cell_guid": "a7e28f1f-ea79-437c-a3bc-5f3bf66f330e"
            },
            "outputs": [],
            "execution_count": 0
        },
        {
            "cell_type": "code",
            "source": [
                "recall_score(y_test, predict)"
            ],
            "metadata": {
                "id": "i6oh7fOWo8sD",
                "colab_type": "code",
                "colab": {},
                "azdata_cell_guid": "ee974986-a57e-40cd-9a01-3f3afa4bd487"
            },
            "outputs": [],
            "execution_count": 0
        }
    ]
}