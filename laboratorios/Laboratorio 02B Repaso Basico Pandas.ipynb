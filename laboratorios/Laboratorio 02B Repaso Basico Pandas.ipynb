{
    "metadata": {
        "kernelspec": {
            "name": "python3",
            "display_name": "Python 3"
        },
        "language_info": {
            "name": "python",
            "version": "3.6.6",
            "mimetype": "text/x-python",
            "codemirror_mode": {
                "name": "ipython",
                "version": 3
            },
            "pygments_lexer": "ipython3",
            "nbconvert_exporter": "python",
            "file_extension": ".py"
        }
    },
    "nbformat_minor": 2,
    "nbformat": 4,
    "cells": [
        {
            "cell_type": "markdown",
            "source": [
                "![SolidQ](https://www.solidq.com/wp-content/uploads/2015/06/Logo-SolidQ-Web.gif)"
            ],
            "metadata": {
                "azdata_cell_guid": "8e3dc3df-9ab9-417b-9b9d-2588d7f69071"
            }
        },
        {
            "cell_type": "markdown",
            "source": [
                "# Repaso básico de Pandas"
            ],
            "metadata": {
                "id": "UCyJpqhBXbgo",
                "colab_type": "text",
                "azdata_cell_guid": "4605bff6-5958-4cc5-9994-5e2e7a05dc11"
            }
        },
        {
            "cell_type": "markdown",
            "source": [
                "El objetivo de estos ejercicios es repasar los conceptos básicos de Pandas"
            ],
            "metadata": {
                "id": "9t6WnhaBXkcR",
                "colab_type": "text",
                "azdata_cell_guid": "b396994d-5296-44d1-b4b0-da9ee73c65a4"
            }
        },
        {
            "cell_type": "code",
            "source": [
                "#Importamos el paquete de pandas\n",
                "import pandas as pd\n",
                "\n",
                "#El Dataframe es el objeto básico de manejo de datos en Pandas. \n",
                "#Los Dataframes están compuesto por una lista de Series que podemos especificar como diccionarios para generar el DataFrame\n",
                "\n",
                "city_names = pd.Series(['San Francisco', 'San Jose', 'Sacramento'])\n",
                "population = pd.Series([852469, 1015785, 485199])\n",
                "\n",
                "pd.DataFrame({ 'City name': city_names, 'Population': population })"
            ],
            "metadata": {
                "id": "oitHonrOXZ9R",
                "colab_type": "code",
                "colab": {},
                "azdata_cell_guid": "7a345ada-e212-4d81-88cd-edab76dea238"
            },
            "outputs": [],
            "execution_count": 0
        },
        {
            "cell_type": "code",
            "source": [
                "#Lo habitual es generar los Dataframe a partir de lecturas de dato de origen\n",
                "\n",
                "california_housing_dataframe = pd.read_csv(\"https://download.mlcc.google.com/mledu-datasets/california_housing_train.csv\", sep=\",\")\n",
                "california_housing_dataframe.describe()"
            ],
            "metadata": {
                "id": "702yVndBXy-4",
                "colab_type": "code",
                "colab": {},
                "azdata_cell_guid": "f978d19c-8b26-4996-ae48-0dff11fa30d8"
            },
            "outputs": [],
            "execution_count": 0
        },
        {
            "cell_type": "code",
            "source": [
                "#Para el acceso a los datos de los Dataframes podemos utilizar operaciones de lista o diccionario de Python\n",
                "\n",
                "cities = pd.DataFrame({ 'City name': city_names, 'Population': population })\n",
                "print(type(cities['City name']))\n",
                "cities['City name']"
            ],
            "metadata": {
                "id": "1IvmJwTNX-4T",
                "colab_type": "code",
                "colab": {},
                "azdata_cell_guid": "9a8ed861-cb61-4d24-bdbc-e906cc228990"
            },
            "outputs": [],
            "execution_count": 0
        },
        {
            "cell_type": "code",
            "source": [
                "#Accedemos a la primera ocurrencia (fila) del Dataframe\n",
                "\n",
                "print(type(cities['City name'][1]))\n",
                "cities['City name'][1]"
            ],
            "metadata": {
                "id": "398-9KdvYBZv",
                "colab_type": "code",
                "colab": {},
                "azdata_cell_guid": "4ba07d7b-af6b-4f78-beb6-b8bc5feab62c"
            },
            "outputs": [],
            "execution_count": 0
        },
        {
            "cell_type": "code",
            "source": [
                "#Obtenemos un Dataframe con las dos primeras filas\n",
                "print(type(cities[0:2]))\n",
                "cities[0:2]"
            ],
            "metadata": {
                "id": "Qjuv9rcpYENl",
                "colab_type": "code",
                "colab": {},
                "azdata_cell_guid": "c34d7e5a-eae8-4b40-ad3c-7e66cb17c029"
            },
            "outputs": [],
            "execution_count": 0
        },
        {
            "cell_type": "code",
            "source": [
                "#Modificar un Dataframe también es muy sencillo, por ejemplo el siguiente código añade dos Series al Dataframe existente\n",
                "\n",
                "cities['Area square miles'] = pd.Series([46.87, 176.53, 97.92])\n",
                "cities['Population density'] = cities['Population'] / cities['Area square miles']\n",
                "cities"
            ],
            "metadata": {
                "id": "dJatH3DCYLcE",
                "colab_type": "code",
                "colab": {},
                "azdata_cell_guid": "4f4a8635-a145-4c5e-abc4-4795080d0aa0"
            },
            "outputs": [],
            "execution_count": 0
        },
        {
            "cell_type": "markdown",
            "source": [
                "# Ejercicio #1\n",
                "Modifica la tabla de ciudades añadiendo una nueva columna boolean que será True si y solo sí las siguientes dos condiciones son verdaderas:\n",
                "\n",
                "La ciudad se nombra después de un San\n",
                "La ciudad tiene un área mayor de 50 millas cuadradas\n",
                "\n",
                "Nota: Las Series Boolean se combina utilizando bitwise en lugar de los operadores booleanos tradicionales. Por ejemplo, cuando queremos realizar un and lógico, utilizamos & en lugar de and"
            ],
            "metadata": {
                "id": "LZgBxbkGYQOd",
                "colab_type": "text",
                "azdata_cell_guid": "b12f44ab-e530-4925-b55d-d16307547f8d"
            }
        },
        {
            "cell_type": "code",
            "source": [
                "#Tu solución"
            ],
            "metadata": {
                "id": "XxylGfpYYUzf",
                "colab_type": "code",
                "colab": {},
                "azdata_cell_guid": "e97aa5cd-73d0-431b-b1bd-883ce3b52933"
            },
            "outputs": [],
            "execution_count": 0
        },
        {
            "cell_type": "markdown",
            "source": [
                "# Indexes\n",
                "Tanto las Series como los Dataframe definen la propiedad index que asigna un identificador a cada fila \n",
                "Por defecto, en su construcción, pandas asigna valores de índice que reflejan la ordenación de los datos de origen. Una vez creados, los valores del índice son estable, es decir, no cambian cuando los datos se reordenan"
            ],
            "metadata": {
                "id": "HzLNeqbVYaxn",
                "colab_type": "text",
                "azdata_cell_guid": "79cd8430-d267-4e0b-abe4-cd4b3d95ef7e"
            }
        },
        {
            "cell_type": "code",
            "source": [
                "city_names.index"
            ],
            "metadata": {
                "id": "nJ-IjBBoYieN",
                "colab_type": "code",
                "colab": {},
                "azdata_cell_guid": "859dbf00-7d32-41a6-8fef-7550ca13c81b"
            },
            "outputs": [],
            "execution_count": 0
        },
        {
            "cell_type": "code",
            "source": [
                "cities.index"
            ],
            "metadata": {
                "id": "mEutwTNQYkIT",
                "colab_type": "code",
                "colab": {},
                "azdata_cell_guid": "d668dda7-c47e-4149-8d44-084e88d949f6"
            },
            "outputs": [],
            "execution_count": 0
        },
        {
            "cell_type": "code",
            "source": [
                "#Podemos llamar a reindex para ordernar manualmente las filas. Por ejemplo, el siguiente código tendría el mismo efecto que ordenar por nombre de ciudad\n",
                "cities.reindex([2, 0, 1])"
            ],
            "metadata": {
                "id": "aZJxlAUIYmAf",
                "colab_type": "code",
                "colab": {},
                "azdata_cell_guid": "ae540d4a-6657-4421-a7bb-120966019afc"
            },
            "outputs": [],
            "execution_count": 0
        },
        {
            "cell_type": "code",
            "source": [
                "#Reindexar es un buen modo de barajar(aleatoriamente) un Dataframe. En el siguiente ejemplo le pasamos el índice a a la función `random.permutation`que baraja sus valores en línea. \n",
                "#Llamar a reindex de este modo reordena aleatoriomente las filas\n",
                "\n",
                "import numpy as np\n",
                "cities.reindex(np.random.permutation(cities.index))"
            ],
            "metadata": {
                "id": "W3exagj-Yn8o",
                "colab_type": "code",
                "colab": {},
                "azdata_cell_guid": "0b9d2a9e-b8d4-4469-9da2-e90ae3b0b625"
            },
            "outputs": [],
            "execution_count": 0
        },
        {
            "cell_type": "markdown",
            "source": [
                "# Ejercicio #2\n",
                "El método reindex permite indexar valores que no están en los valores originales del índice del Dataframe. Pruébalo y mira lo que ocurre si utilizamos esos valores. Porque crees que se permite hacer esto?"
            ],
            "metadata": {
                "id": "5ajfgyyHYq0H",
                "colab_type": "text",
                "azdata_cell_guid": "1f7e5cfb-826e-401e-be5c-056e8acdc11a"
            }
        },
        {
            "cell_type": "code",
            "source": [
                "#Tu codigo"
            ],
            "metadata": {
                "id": "MBAG09G2Y5qi",
                "colab_type": "code",
                "colab": {},
                "azdata_cell_guid": "4f3da823-79db-45c5-b4ae-6d7f7747445c"
            },
            "outputs": [],
            "execution_count": 0
        }
    ]
}