{
  "nbformat": 4,
  "nbformat_minor": 0,
  "metadata": {
    "colab": {
      "name": "SQL Azure solidqdemo.ipynb",
      "provenance": [],
      "collapsed_sections": [],
      "include_colab_link": true
    },
    "kernelspec": {
      "name": "python3",
      "display_name": "Python 3"
    }
  },
  "cells": [
    {
      "cell_type": "markdown",
      "metadata": {
        "id": "view-in-github",
        "colab_type": "text"
      },
      "source": [
        "<a href=\"https://colab.research.google.com/github/antoniosql/cursoml/blob/master/SQL_Azure_solidqdemo.ipynb\" target=\"_parent\"><img src=\"https://colab.research.google.com/assets/colab-badge.svg\" alt=\"Open In Colab\"/></a>"
      ]
    },
    {
      "cell_type": "code",
      "metadata": {
        "id": "VHqhZeZpZNmN",
        "colab_type": "code",
        "colab": {
          "base_uri": "https://localhost:8080/",
          "height": 319
        },
        "outputId": "bf7c47d6-5d86-4cb6-bdcf-7afc711d72c2"
      },
      "source": [
        "!apt-get install unixodbc-dev"
      ],
      "execution_count": 2,
      "outputs": [
        {
          "output_type": "stream",
          "text": [
            "Reading package lists... Done\n",
            "Building dependency tree       \n",
            "Reading state information... Done\n",
            "The following package was automatically installed and is no longer required:\n",
            "  libnvidia-common-440\n",
            "Use 'apt autoremove' to remove it.\n",
            "The following NEW packages will be installed:\n",
            "  unixodbc-dev\n",
            "0 upgraded, 1 newly installed, 0 to remove and 35 not upgraded.\n",
            "Need to get 217 kB of archives.\n",
            "After this operation, 1,779 kB of additional disk space will be used.\n",
            "Get:1 http://archive.ubuntu.com/ubuntu bionic/main amd64 unixodbc-dev amd64 2.3.4-1.1ubuntu3 [217 kB]\n",
            "Fetched 217 kB in 1s (399 kB/s)\n",
            "Selecting previously unselected package unixodbc-dev:amd64.\n",
            "(Reading database ... 144465 files and directories currently installed.)\n",
            "Preparing to unpack .../unixodbc-dev_2.3.4-1.1ubuntu3_amd64.deb ...\n",
            "Unpacking unixodbc-dev:amd64 (2.3.4-1.1ubuntu3) ...\n",
            "Setting up unixodbc-dev:amd64 (2.3.4-1.1ubuntu3) ...\n"
          ],
          "name": "stdout"
        }
      ]
    },
    {
      "cell_type": "code",
      "metadata": {
        "id": "ekZY70s4z93w",
        "colab_type": "code",
        "colab": {
          "base_uri": "https://localhost:8080/",
          "height": 185
        },
        "outputId": "083de21e-1efe-42c2-f809-4a5b20a76ce0"
      },
      "source": [
        "!pip install pyodbc"
      ],
      "execution_count": 3,
      "outputs": [
        {
          "output_type": "stream",
          "text": [
            "Collecting pyodbc\n",
            "\u001b[?25l  Downloading https://files.pythonhosted.org/packages/81/0d/bb08bb16c97765244791c73e49de9fd4c24bb3ef00313aed82e5640dee5d/pyodbc-4.0.30.tar.gz (266kB)\n",
            "\r\u001b[K     |█▎                              | 10kB 16.1MB/s eta 0:00:01\r\u001b[K     |██▌                             | 20kB 1.6MB/s eta 0:00:01\r\u001b[K     |███▊                            | 30kB 2.3MB/s eta 0:00:01\r\u001b[K     |█████                           | 40kB 2.5MB/s eta 0:00:01\r\u001b[K     |██████▏                         | 51kB 1.9MB/s eta 0:00:01\r\u001b[K     |███████▍                        | 61kB 2.2MB/s eta 0:00:01\r\u001b[K     |████████▋                       | 71kB 2.4MB/s eta 0:00:01\r\u001b[K     |█████████▉                      | 81kB 2.7MB/s eta 0:00:01\r\u001b[K     |███████████                     | 92kB 2.9MB/s eta 0:00:01\r\u001b[K     |████████████▎                   | 102kB 2.7MB/s eta 0:00:01\r\u001b[K     |█████████████▌                  | 112kB 2.7MB/s eta 0:00:01\r\u001b[K     |██████████████▊                 | 122kB 2.7MB/s eta 0:00:01\r\u001b[K     |████████████████                | 133kB 2.7MB/s eta 0:00:01\r\u001b[K     |█████████████████▎              | 143kB 2.7MB/s eta 0:00:01\r\u001b[K     |██████████████████▌             | 153kB 2.7MB/s eta 0:00:01\r\u001b[K     |███████████████████▊            | 163kB 2.7MB/s eta 0:00:01\r\u001b[K     |█████████████████████           | 174kB 2.7MB/s eta 0:00:01\r\u001b[K     |██████████████████████▏         | 184kB 2.7MB/s eta 0:00:01\r\u001b[K     |███████████████████████▍        | 194kB 2.7MB/s eta 0:00:01\r\u001b[K     |████████████████████████▋       | 204kB 2.7MB/s eta 0:00:01\r\u001b[K     |█████████████████████████▉      | 215kB 2.7MB/s eta 0:00:01\r\u001b[K     |███████████████████████████     | 225kB 2.7MB/s eta 0:00:01\r\u001b[K     |████████████████████████████▎   | 235kB 2.7MB/s eta 0:00:01\r\u001b[K     |█████████████████████████████▌  | 245kB 2.7MB/s eta 0:00:01\r\u001b[K     |██████████████████████████████▊ | 256kB 2.7MB/s eta 0:00:01\r\u001b[K     |████████████████████████████████| 266kB 2.7MB/s eta 0:00:01\r\u001b[K     |████████████████████████████████| 276kB 2.7MB/s \n",
            "\u001b[?25hBuilding wheels for collected packages: pyodbc\n",
            "  Building wheel for pyodbc (setup.py) ... \u001b[?25l\u001b[?25hdone\n",
            "  Created wheel for pyodbc: filename=pyodbc-4.0.30-cp36-cp36m-linux_x86_64.whl size=272708 sha256=24374cabe13fb9c5d8ad697088114e5038e2915dadb0c8edfd8bf7699d2cea50\n",
            "  Stored in directory: /root/.cache/pip/wheels/4a/02/ba/6b495fec7cb127583a769a74f3ba91eb700d73e25fbb5ba09b\n",
            "Successfully built pyodbc\n",
            "Installing collected packages: pyodbc\n",
            "Successfully installed pyodbc-4.0.30\n"
          ],
          "name": "stdout"
        }
      ]
    },
    {
      "cell_type": "code",
      "metadata": {
        "id": "zNZCz_uWZeVg",
        "colab_type": "code",
        "colab": {}
      },
      "source": [
        "%%sh\n",
        "sudo su\n",
        "curl https://packages.microsoft.com/keys/microsoft.asc | apt-key add -\n",
        "\n",
        "#Download appropriate package for the OS version\n",
        "#Choose only ONE of the following, corresponding to your OS version\n",
        "\n",
        "#Ubuntu 16.04\n",
        "#curl https://packages.microsoft.com/config/ubuntu/16.04/prod.list > /etc/apt/sources.list.d/mssql-release.list\n",
        "#Ubuntu 18.04\n",
        "#curl https://packages.microsoft.com/config/ubuntu/18.04/prod.list > /etc/apt/sources.list.d/mssql-release.list\n",
        "#Ubuntu 19.10\n",
        "curl https://packages.microsoft.com/config/ubuntu/19.10/prod.list > /etc/apt/sources.list.d/mssql-release.list\n",
        "\n",
        "sudo apt-get update\n",
        "sudo ACCEPT_EULA=Y apt-get install msodbcsql17\n",
        "# optional: for bcp and sqlcmd\n",
        "sudo ACCEPT_EULA=Y apt-get install mssql-tools\n",
        "echo 'export PATH=\"$PATH:/opt/mssql-tools/bin\"' >> ~/.bash_profile\n",
        "echo 'export PATH=\"$PATH:/opt/mssql-tools/bin\"' >> ~/.bashrc\n",
        "source ~/.bashrc\n"
      ],
      "execution_count": null,
      "outputs": []
    },
    {
      "cell_type": "code",
      "metadata": {
        "id": "E1WtlZQNKB1u",
        "colab_type": "code",
        "colab": {
          "base_uri": "https://localhost:8080/",
          "height": 34
        },
        "outputId": "75673c58-6f1a-4749-e478-a1c59c723dd8"
      },
      "source": [
        "import pyodbc\n",
        "pyodbc.drivers()"
      ],
      "execution_count": 10,
      "outputs": [
        {
          "output_type": "execute_result",
          "data": {
            "text/plain": [
              "['ODBC Driver 17 for SQL Server']"
            ]
          },
          "metadata": {
            "tags": []
          },
          "execution_count": 10
        }
      ]
    },
    {
      "cell_type": "code",
      "metadata": {
        "id": "z9T1kNW0zBRA",
        "colab_type": "code",
        "colab": {}
      },
      "source": [
        "import pyodbc\n",
        "\n",
        "cnxn = pyodbc.connect('DRIVER={ODBC Driver 17 for SQL Server};SERVER=tcp:solidqdemo.database.windows.net;DATABASE=AdventureWorksLT;UID=adminsql;PWD=Puk02020#!')\n",
        "cursor = cnxn.cursor()\n"
      ],
      "execution_count": 17,
      "outputs": []
    },
    {
      "cell_type": "code",
      "metadata": {
        "id": "uIVwEuTcz5yo",
        "colab_type": "code",
        "colab": {}
      },
      "source": [
        "cursor.execute(\"SELECT @@version;\") \n",
        "row = cursor.fetchone() \n",
        "while row: \n",
        "    print(row[0])\n",
        "    row = cursor.fetchone()"
      ],
      "execution_count": null,
      "outputs": []
    },
    {
      "cell_type": "code",
      "metadata": {
        "id": "4F-95SJhNrtm",
        "colab_type": "code",
        "colab": {
          "base_uri": "https://localhost:8080/",
          "height": 195
        },
        "outputId": "77c80795-544d-47dc-88db-10e5b9763f28"
      },
      "source": [
        "import pyodbc\n",
        "import pandas as pd\n",
        "\n",
        "servidor= \"tcp:solidqdemo.database.windows.net\"\n",
        "bbdd='AdventureWorksLT'\n",
        "usuario = 'usuarioml'\n",
        "contraseña=''\n",
        "\n",
        "consulta = \"SELECT * FROM SalesLT.SalesOrderDetail\"\n",
        "\n",
        "conexion = pyodbc.connect('DRIVER={ODBC Driver 17 for SQL Server};SERVER=' + servidor + ';DATABASE=' + bbdd + ';UID=' + usuario +';PWD=' + contraseña )\n",
        "\n",
        "DetalleVentas = pd.read_sql(consulta, cnxn)\n",
        "DetalleVentas.head()"
      ],
      "execution_count": 22,
      "outputs": [
        {
          "output_type": "execute_result",
          "data": {
            "text/html": [
              "<div>\n",
              "<style scoped>\n",
              "    .dataframe tbody tr th:only-of-type {\n",
              "        vertical-align: middle;\n",
              "    }\n",
              "\n",
              "    .dataframe tbody tr th {\n",
              "        vertical-align: top;\n",
              "    }\n",
              "\n",
              "    .dataframe thead th {\n",
              "        text-align: right;\n",
              "    }\n",
              "</style>\n",
              "<table border=\"1\" class=\"dataframe\">\n",
              "  <thead>\n",
              "    <tr style=\"text-align: right;\">\n",
              "      <th></th>\n",
              "      <th>SalesOrderID</th>\n",
              "      <th>SalesOrderDetailID</th>\n",
              "      <th>OrderQty</th>\n",
              "      <th>ProductID</th>\n",
              "      <th>UnitPrice</th>\n",
              "      <th>UnitPriceDiscount</th>\n",
              "      <th>LineTotal</th>\n",
              "      <th>rowguid</th>\n",
              "      <th>ModifiedDate</th>\n",
              "    </tr>\n",
              "  </thead>\n",
              "  <tbody>\n",
              "    <tr>\n",
              "      <th>0</th>\n",
              "      <td>71774</td>\n",
              "      <td>110562</td>\n",
              "      <td>1</td>\n",
              "      <td>836</td>\n",
              "      <td>356.898</td>\n",
              "      <td>0.0</td>\n",
              "      <td>356.898</td>\n",
              "      <td>E3A1994C-7A68-4CE8-96A3-77FDD3BBD730</td>\n",
              "      <td>2008-06-01</td>\n",
              "    </tr>\n",
              "    <tr>\n",
              "      <th>1</th>\n",
              "      <td>71774</td>\n",
              "      <td>110563</td>\n",
              "      <td>1</td>\n",
              "      <td>822</td>\n",
              "      <td>356.898</td>\n",
              "      <td>0.0</td>\n",
              "      <td>356.898</td>\n",
              "      <td>5C77F557-FDB6-43BA-90B9-9A7AEC55CA32</td>\n",
              "      <td>2008-06-01</td>\n",
              "    </tr>\n",
              "    <tr>\n",
              "      <th>2</th>\n",
              "      <td>71776</td>\n",
              "      <td>110567</td>\n",
              "      <td>1</td>\n",
              "      <td>907</td>\n",
              "      <td>63.900</td>\n",
              "      <td>0.0</td>\n",
              "      <td>63.900</td>\n",
              "      <td>6DBFE398-D15D-425E-AA58-88178FE360E5</td>\n",
              "      <td>2008-06-01</td>\n",
              "    </tr>\n",
              "    <tr>\n",
              "      <th>3</th>\n",
              "      <td>71780</td>\n",
              "      <td>110616</td>\n",
              "      <td>4</td>\n",
              "      <td>905</td>\n",
              "      <td>218.454</td>\n",
              "      <td>0.0</td>\n",
              "      <td>873.816</td>\n",
              "      <td>377246C9-4483-48ED-A5B9-E56F005364E0</td>\n",
              "      <td>2008-06-01</td>\n",
              "    </tr>\n",
              "    <tr>\n",
              "      <th>4</th>\n",
              "      <td>71780</td>\n",
              "      <td>110617</td>\n",
              "      <td>2</td>\n",
              "      <td>983</td>\n",
              "      <td>461.694</td>\n",
              "      <td>0.0</td>\n",
              "      <td>923.388</td>\n",
              "      <td>43A54BCD-536D-4A1B-8E69-24D083507A14</td>\n",
              "      <td>2008-06-01</td>\n",
              "    </tr>\n",
              "  </tbody>\n",
              "</table>\n",
              "</div>"
            ],
            "text/plain": [
              "   SalesOrderID  ...  ModifiedDate\n",
              "0         71774  ...    2008-06-01\n",
              "1         71774  ...    2008-06-01\n",
              "2         71776  ...    2008-06-01\n",
              "3         71780  ...    2008-06-01\n",
              "4         71780  ...    2008-06-01\n",
              "\n",
              "[5 rows x 9 columns]"
            ]
          },
          "metadata": {
            "tags": []
          },
          "execution_count": 22
        }
      ]
    }
  ]
}
