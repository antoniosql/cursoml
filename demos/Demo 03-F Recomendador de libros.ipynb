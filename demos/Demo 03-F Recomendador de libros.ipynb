{
    "metadata": {
        "kernelspec": {
            "name": "python3",
            "display_name": "Python 3"
        },
        "language_info": {
            "name": "python",
            "version": "3.6.6",
            "mimetype": "text/x-python",
            "codemirror_mode": {
                "name": "ipython",
                "version": 3
            },
            "pygments_lexer": "ipython3",
            "nbconvert_exporter": "python",
            "file_extension": ".py"
        }
    },
    "nbformat_minor": 2,
    "nbformat": 4,
    "cells": [
        {
            "cell_type": "markdown",
            "source": [
                "![SolidQ](https://www.solidq.com/wp-content/uploads/2015/06/Logo-SolidQ-Web.gif)"
            ],
            "metadata": {
                "azdata_cell_guid": "23e778e2-ec08-4fe7-b85d-84851acb8318"
            }
        },
        {
            "cell_type": "markdown",
            "source": [
                "# Collaborative-Filtering utilizando K-NN"
            ],
            "metadata": {
                "id": "B5gQjzP891Dn",
                "colab_type": "text",
                "azdata_cell_guid": "decc12e8-5423-46a2-8bc7-4665d42fa4d6"
            }
        },
        {
            "cell_type": "code",
            "source": [
                "\n",
                "import pandas as pd\n",
                "import numpy as np\n",
                "from scipy.sparse import csr_matrix\n",
                "import sklearn\n",
                "from sklearn.decomposition import TruncatedSVD\n",
                "\n",
                "book = pd.read_csv('BX-Books.csv', sep=';', error_bad_lines=False, encoding=\"latin-1\")\n",
                "\n",
                "book.columns = ['ISBN', 'bookTitle', 'bookAuthor', 'yearOfPublication', 'publisher', 'imageUrlS', 'imageUrlM', 'imageUrlL','Nousada1','Nousada2','Nousada3']\n",
                "user = pd.read_csv('BX-Users.csv', sep=';', error_bad_lines=False, encoding=\"latin-1\")\n",
                "\n",
                "user.columns = ['userID', 'Location', 'Age']\n",
                "rating = pd.read_csv('BX-Book-Ratings.csv', sep=';', error_bad_lines=False, encoding=\"latin-1\")\n",
                "\n",
                "rating.columns = ['userID', 'ISBN', 'bookRating']"
            ],
            "metadata": {
                "id": "z5fbTpRnbKp_",
                "colab_type": "code",
                "outputId": "e0446bb0-921b-41d0-8b0b-d7a262ec8a3d",
                "executionInfo": {
                    "status": "ok",
                    "timestamp": 1562348141298,
                    "user_tz": -120,
                    "elapsed": 4550,
                    "user": {
                        "displayName": "Machine Learning",
                        "photoUrl": "",
                        "userId": "05609927355646341864"
                    }
                },
                "colab": {
                    "base_uri": "https://localhost:8080/",
                    "height": 71
                },
                "azdata_cell_guid": "2854c6b1-e306-436f-b397-e2a7364750ca"
            },
            "outputs": [
                {
                    "output_type": "stream",
                    "name": "stderr",
                    "text": "/usr/local/lib/python3.6/dist-packages/IPython/core/interactiveshell.py:2718: DtypeWarning: Columns (3,8,9,10) have mixed types. Specify dtype option on import or set low_memory=False.\n  interactivity=interactivity, compiler=compiler, result=result)\n"
                }
            ],
            "execution_count": 25
        },
        {
            "cell_type": "code",
            "source": [
                "rating.head()"
            ],
            "metadata": {
                "id": "dkDEwaKxbKqH",
                "colab_type": "code",
                "colab": {
                    "base_uri": "https://localhost:8080/",
                    "height": 204
                },
                "outputId": "c1ee497c-8f4c-45f9-fba3-bd81cf3cf291",
                "executionInfo": {
                    "status": "ok",
                    "timestamp": 1562348152289,
                    "user_tz": -120,
                    "elapsed": 557,
                    "user": {
                        "displayName": "Machine Learning",
                        "photoUrl": "",
                        "userId": "05609927355646341864"
                    }
                },
                "azdata_cell_guid": "1613efd2-c675-475c-a2da-0bf552b68b22"
            },
            "outputs": [
                {
                    "output_type": "execute_result",
                    "execution_count": 26,
                    "data": {
                        "text/html": "<div>\n<style scoped>\n    .dataframe tbody tr th:only-of-type {\n        vertical-align: middle;\n    }\n\n    .dataframe tbody tr th {\n        vertical-align: top;\n    }\n\n    .dataframe thead th {\n        text-align: right;\n    }\n</style>\n<table border=\"1\" class=\"dataframe\">\n  <thead>\n    <tr style=\"text-align: right;\">\n      <th></th>\n      <th>userID</th>\n      <th>ISBN</th>\n      <th>bookRating</th>\n    </tr>\n  </thead>\n  <tbody>\n    <tr>\n      <th>0</th>\n      <td>276725</td>\n      <td>034545104X</td>\n      <td>0</td>\n    </tr>\n    <tr>\n      <th>1</th>\n      <td>276726</td>\n      <td>0155061224</td>\n      <td>5</td>\n    </tr>\n    <tr>\n      <th>2</th>\n      <td>276727</td>\n      <td>0446520802</td>\n      <td>0</td>\n    </tr>\n    <tr>\n      <th>3</th>\n      <td>276729</td>\n      <td>052165615X</td>\n      <td>3</td>\n    </tr>\n    <tr>\n      <th>4</th>\n      <td>276729</td>\n      <td>0521795028</td>\n      <td>6</td>\n    </tr>\n  </tbody>\n</table>\n</div>",
                        "text/plain": "   userID        ISBN  bookRating\n0  276725  034545104X           0\n1  276726  0155061224           5\n2  276727  0446520802           0\n3  276729  052165615X           3\n4  276729  0521795028           6"
                    },
                    "metadata": {
                        "tags": []
                    }
                }
            ],
            "execution_count": 26
        },
        {
            "cell_type": "code",
            "source": [
                "user.head()"
            ],
            "metadata": {
                "id": "HD_1bRssbKqM",
                "colab_type": "code",
                "colab": {},
                "azdata_cell_guid": "027be148-dd6a-4614-892d-9a8dcfd7920b"
            },
            "outputs": [],
            "execution_count": 0
        },
        {
            "cell_type": "code",
            "source": [
                "book.head()"
            ],
            "metadata": {
                "id": "wUddP_NVbKqR",
                "colab_type": "code",
                "colab": {},
                "azdata_cell_guid": "891f65b5-70c9-43d7-b3c0-a115922f75c5"
            },
            "outputs": [],
            "execution_count": 0
        },
        {
            "cell_type": "code",
            "source": [
                "combine_book_rating = pd.merge(rating, book, on='ISBN')\n",
                "columns = ['yearOfPublication', 'publisher', 'bookAuthor', 'imageUrlS', 'imageUrlM', 'imageUrlL']\n",
                "combine_book_rating = combine_book_rating.drop(columns, axis=1)\n",
                "combine_book_rating.head()"
            ],
            "metadata": {
                "id": "5RB7BVPybKqV",
                "colab_type": "code",
                "outputId": "8f2a697f-f872-49cc-d345-fb019fc51717",
                "executionInfo": {
                    "status": "ok",
                    "timestamp": 1562348175065,
                    "user_tz": -120,
                    "elapsed": 1612,
                    "user": {
                        "displayName": "Machine Learning",
                        "photoUrl": "",
                        "userId": "05609927355646341864"
                    }
                },
                "colab": {
                    "base_uri": "https://localhost:8080/",
                    "height": 204
                },
                "azdata_cell_guid": "b8fbcec2-cfe3-4db8-87fa-bfcb8e81e460"
            },
            "outputs": [
                {
                    "output_type": "execute_result",
                    "execution_count": 27,
                    "data": {
                        "text/html": "<div>\n<style scoped>\n    .dataframe tbody tr th:only-of-type {\n        vertical-align: middle;\n    }\n\n    .dataframe tbody tr th {\n        vertical-align: top;\n    }\n\n    .dataframe thead th {\n        text-align: right;\n    }\n</style>\n<table border=\"1\" class=\"dataframe\">\n  <thead>\n    <tr style=\"text-align: right;\">\n      <th></th>\n      <th>userID</th>\n      <th>ISBN</th>\n      <th>bookRating</th>\n      <th>bookTitle</th>\n      <th>Nousada1</th>\n      <th>Nousada2</th>\n      <th>Nousada3</th>\n    </tr>\n  </thead>\n  <tbody>\n    <tr>\n      <th>0</th>\n      <td>276725</td>\n      <td>034545104X</td>\n      <td>0</td>\n      <td>Flesh Tones: A Novel</td>\n      <td>NaN</td>\n      <td>NaN</td>\n      <td>NaN</td>\n    </tr>\n    <tr>\n      <th>1</th>\n      <td>2313</td>\n      <td>034545104X</td>\n      <td>5</td>\n      <td>Flesh Tones: A Novel</td>\n      <td>NaN</td>\n      <td>NaN</td>\n      <td>NaN</td>\n    </tr>\n    <tr>\n      <th>2</th>\n      <td>6543</td>\n      <td>034545104X</td>\n      <td>0</td>\n      <td>Flesh Tones: A Novel</td>\n      <td>NaN</td>\n      <td>NaN</td>\n      <td>NaN</td>\n    </tr>\n    <tr>\n      <th>3</th>\n      <td>8680</td>\n      <td>034545104X</td>\n      <td>5</td>\n      <td>Flesh Tones: A Novel</td>\n      <td>NaN</td>\n      <td>NaN</td>\n      <td>NaN</td>\n    </tr>\n    <tr>\n      <th>4</th>\n      <td>10314</td>\n      <td>034545104X</td>\n      <td>9</td>\n      <td>Flesh Tones: A Novel</td>\n      <td>NaN</td>\n      <td>NaN</td>\n      <td>NaN</td>\n    </tr>\n  </tbody>\n</table>\n</div>",
                        "text/plain": "   userID        ISBN  bookRating  ... Nousada1 Nousada2 Nousada3\n0  276725  034545104X           0  ...      NaN      NaN      NaN\n1    2313  034545104X           5  ...      NaN      NaN      NaN\n2    6543  034545104X           0  ...      NaN      NaN      NaN\n3    8680  034545104X           5  ...      NaN      NaN      NaN\n4   10314  034545104X           9  ...      NaN      NaN      NaN\n\n[5 rows x 7 columns]"
                    },
                    "metadata": {
                        "tags": []
                    }
                }
            ],
            "execution_count": 27
        },
        {
            "cell_type": "markdown",
            "source": [
                "### Filtrar solo los libros populares\n",
                "\n",
                "Quitar filas donde no hay título"
            ],
            "metadata": {
                "id": "8_LLajEGbKqb",
                "colab_type": "text",
                "azdata_cell_guid": "10f4abc8-d6d5-48c7-940f-09bde3ea1e3e"
            }
        },
        {
            "cell_type": "code",
            "source": [
                "combine_book_rating = combine_book_rating.dropna(axis = 0, subset = ['bookTitle'])"
            ],
            "metadata": {
                "id": "Jlu9JpdybKqc",
                "colab_type": "code",
                "colab": {},
                "azdata_cell_guid": "e1c48929-efd4-4df2-be65-3021fcf0b870"
            },
            "outputs": [],
            "execution_count": 0
        },
        {
            "cell_type": "code",
            "source": [
                "book_ratingCount = (combine_book_rating.\n",
                "     groupby(by = ['bookTitle'])['bookRating'].\n",
                "     count().\n",
                "     reset_index().\n",
                "     rename(columns = {'bookRating': 'totalRatingCount'})\n",
                "     [['bookTitle', 'totalRatingCount']]\n",
                "    )\n",
                "book_ratingCount.head()"
            ],
            "metadata": {
                "id": "SsZ5pPcNbKqg",
                "colab_type": "code",
                "outputId": "3d1b68cb-ad8f-458e-a5dc-e53397895487",
                "executionInfo": {
                    "status": "ok",
                    "timestamp": 1562347067544,
                    "user_tz": -120,
                    "elapsed": 547,
                    "user": {
                        "displayName": "Machine Learning",
                        "photoUrl": "",
                        "userId": "05609927355646341864"
                    }
                },
                "colab": {
                    "base_uri": "https://localhost:8080/",
                    "height": 204
                },
                "azdata_cell_guid": "46f29106-26d7-46e3-8760-b873d8fd2ca9"
            },
            "outputs": [
                {
                    "output_type": "execute_result",
                    "execution_count": 7,
                    "data": {
                        "text/html": "<div>\n<style scoped>\n    .dataframe tbody tr th:only-of-type {\n        vertical-align: middle;\n    }\n\n    .dataframe tbody tr th {\n        vertical-align: top;\n    }\n\n    .dataframe thead th {\n        text-align: right;\n    }\n</style>\n<table border=\"1\" class=\"dataframe\">\n  <thead>\n    <tr style=\"text-align: right;\">\n      <th></th>\n      <th>bookTitle</th>\n      <th>totalRatingCount</th>\n    </tr>\n  </thead>\n  <tbody>\n    <tr>\n      <th>0</th>\n      <td>Earth Prayers From around the World: 365 Pray...</td>\n      <td>10</td>\n    </tr>\n    <tr>\n      <th>1</th>\n      <td>Final Fantasy Anthology: Official Strategy Gu...</td>\n      <td>4</td>\n    </tr>\n    <tr>\n      <th>2</th>\n      <td>Flight of Fancy: American Heiresses (Zebra Ba...</td>\n      <td>2</td>\n    </tr>\n    <tr>\n      <th>3</th>\n      <td>Little Comic Shop of Horrors (Give Yourself G...</td>\n      <td>4</td>\n    </tr>\n    <tr>\n      <th>4</th>\n      <td>Mystery Mile</td>\n      <td>2</td>\n    </tr>\n  </tbody>\n</table>\n</div>",
                        "text/plain": "                                           bookTitle  totalRatingCount\n0   Earth Prayers From around the World: 365 Pray...                10\n1   Final Fantasy Anthology: Official Strategy Gu...                 4\n2   Flight of Fancy: American Heiresses (Zebra Ba...                 2\n3   Little Comic Shop of Horrors (Give Yourself G...                 4\n4                                       Mystery Mile                 2"
                    },
                    "metadata": {
                        "tags": []
                    }
                }
            ],
            "execution_count": 0
        },
        {
            "cell_type": "markdown",
            "source": [
                "#### Ahora podemos hacer un join de la cuenta de total rating en los datos de rating, lo que nos permitirá filtrar fácilmente los menos conocidos"
            ],
            "metadata": {
                "id": "B5HgUrEtbKql",
                "colab_type": "text",
                "azdata_cell_guid": "138de73b-1a29-4d79-ac78-a9c6fb19876c"
            }
        },
        {
            "cell_type": "code",
            "source": [
                "rating_with_totalRatingCount = combine_book_rating.merge(book_ratingCount, left_on = 'bookTitle', right_on = 'bookTitle', how = 'left')\n",
                "rating_with_totalRatingCount.head()"
            ],
            "metadata": {
                "id": "doNDOem_bKqm",
                "colab_type": "code",
                "outputId": "97896822-cdf6-473d-bc09-f1c715f889a2",
                "executionInfo": {
                    "status": "ok",
                    "timestamp": 1562347085385,
                    "user_tz": -120,
                    "elapsed": 557,
                    "user": {
                        "displayName": "Machine Learning",
                        "photoUrl": "",
                        "userId": "05609927355646341864"
                    }
                },
                "colab": {
                    "base_uri": "https://localhost:8080/",
                    "height": 204
                },
                "azdata_cell_guid": "24b6b4b6-e4f8-49f8-9375-951361ad6ba0"
            },
            "outputs": [
                {
                    "output_type": "execute_result",
                    "execution_count": 8,
                    "data": {
                        "text/html": "<div>\n<style scoped>\n    .dataframe tbody tr th:only-of-type {\n        vertical-align: middle;\n    }\n\n    .dataframe tbody tr th {\n        vertical-align: top;\n    }\n\n    .dataframe thead th {\n        text-align: right;\n    }\n</style>\n<table border=\"1\" class=\"dataframe\">\n  <thead>\n    <tr style=\"text-align: right;\">\n      <th></th>\n      <th>userID</th>\n      <th>ISBN</th>\n      <th>bookRating</th>\n      <th>bookTitle</th>\n      <th>Nousada1</th>\n      <th>Nousada2</th>\n      <th>Nousada3</th>\n      <th>totalRatingCount</th>\n    </tr>\n  </thead>\n  <tbody>\n    <tr>\n      <th>0</th>\n      <td>276725</td>\n      <td>034545104X</td>\n      <td>0</td>\n      <td>Flesh Tones: A Novel</td>\n      <td>NaN</td>\n      <td>NaN</td>\n      <td>NaN</td>\n      <td>60</td>\n    </tr>\n    <tr>\n      <th>1</th>\n      <td>2313</td>\n      <td>034545104X</td>\n      <td>5</td>\n      <td>Flesh Tones: A Novel</td>\n      <td>NaN</td>\n      <td>NaN</td>\n      <td>NaN</td>\n      <td>60</td>\n    </tr>\n    <tr>\n      <th>2</th>\n      <td>6543</td>\n      <td>034545104X</td>\n      <td>0</td>\n      <td>Flesh Tones: A Novel</td>\n      <td>NaN</td>\n      <td>NaN</td>\n      <td>NaN</td>\n      <td>60</td>\n    </tr>\n    <tr>\n      <th>3</th>\n      <td>8680</td>\n      <td>034545104X</td>\n      <td>5</td>\n      <td>Flesh Tones: A Novel</td>\n      <td>NaN</td>\n      <td>NaN</td>\n      <td>NaN</td>\n      <td>60</td>\n    </tr>\n    <tr>\n      <th>4</th>\n      <td>10314</td>\n      <td>034545104X</td>\n      <td>9</td>\n      <td>Flesh Tones: A Novel</td>\n      <td>NaN</td>\n      <td>NaN</td>\n      <td>NaN</td>\n      <td>60</td>\n    </tr>\n  </tbody>\n</table>\n</div>",
                        "text/plain": "   userID        ISBN  bookRating  ... Nousada2 Nousada3 totalRatingCount\n0  276725  034545104X           0  ...      NaN      NaN               60\n1    2313  034545104X           5  ...      NaN      NaN               60\n2    6543  034545104X           0  ...      NaN      NaN               60\n3    8680  034545104X           5  ...      NaN      NaN               60\n4   10314  034545104X           9  ...      NaN      NaN               60\n\n[5 rows x 8 columns]"
                    },
                    "metadata": {
                        "tags": []
                    }
                }
            ],
            "execution_count": 0
        },
        {
            "cell_type": "code",
            "source": [
                "pd.set_option('display.float_format', lambda x: '%.3f' % x)\n",
                "print(book_ratingCount['totalRatingCount'].describe())"
            ],
            "metadata": {
                "id": "JcXx9hyMbKqr",
                "colab_type": "code",
                "outputId": "9d503d2a-23df-4cd0-bacb-51ca297625c8",
                "executionInfo": {
                    "status": "ok",
                    "timestamp": 1562347108564,
                    "user_tz": -120,
                    "elapsed": 537,
                    "user": {
                        "displayName": "Machine Learning",
                        "photoUrl": "",
                        "userId": "05609927355646341864"
                    }
                },
                "colab": {
                    "base_uri": "https://localhost:8080/",
                    "height": 170
                },
                "azdata_cell_guid": "9deee541-28e2-44da-ba9d-c4230e21200c"
            },
            "outputs": [
                {
                    "output_type": "stream",
                    "name": "stdout",
                    "text": "count   68765.000\nmean        2.863\nstd         9.681\nmin         1.000\n25%         1.000\n50%         1.000\n75%         2.000\nmax       833.000\nName: totalRatingCount, dtype: float64\n"
                }
            ],
            "execution_count": 0
        },
        {
            "cell_type": "markdown",
            "source": [
                "#### El libro medio ha sido valorado solo una vez. Veamos la distribución"
            ],
            "metadata": {
                "id": "GTRuPzTtbKqw",
                "colab_type": "text",
                "azdata_cell_guid": "674822fd-0631-4d1a-84a8-4fd0e55ef6b8"
            }
        },
        {
            "cell_type": "code",
            "source": [
                "print(book_ratingCount['totalRatingCount'].quantile(np.arange(.9, 1, .01)))"
            ],
            "metadata": {
                "id": "vhgNGFPnbKqx",
                "colab_type": "code",
                "outputId": "63b50656-8068-456b-b889-683fcef9a1a9",
                "executionInfo": {
                    "status": "ok",
                    "timestamp": 1562347166762,
                    "user_tz": -120,
                    "elapsed": 558,
                    "user": {
                        "displayName": "Machine Learning",
                        "photoUrl": "",
                        "userId": "05609927355646341864"
                    }
                },
                "colab": {
                    "base_uri": "https://localhost:8080/",
                    "height": 204
                },
                "azdata_cell_guid": "2aac3b3d-5072-43f3-b1c2-a8bde63215a9"
            },
            "outputs": [
                {
                    "output_type": "stream",
                    "name": "stdout",
                    "text": "0.900    5.000\n0.910    5.000\n0.920    6.000\n0.930    6.000\n0.940    7.000\n0.950    8.000\n0.960   10.000\n0.970   12.000\n0.980   16.000\n0.990   26.000\nName: totalRatingCount, dtype: float64\n"
                }
            ],
            "execution_count": 0
        },
        {
            "cell_type": "markdown",
            "source": [
                "#### Parece que casi un 1% de los libros tienen 28 ratings, 2% tiene 17 ratings. Como tenemos un montón de libros en nuestros datos, nos vamos a limitar a ese 1%  "
            ],
            "metadata": {
                "id": "OV26OLtvbKq2",
                "colab_type": "text",
                "azdata_cell_guid": "72f87ff6-9c6c-407b-bac5-0b85d8cda7d8"
            }
        },
        {
            "cell_type": "code",
            "source": [
                "popularity_threshold = 25\n",
                "rating_popular_book = rating_with_totalRatingCount.query('totalRatingCount >= @popularity_threshold')\n",
                "rating_popular_book.head()"
            ],
            "metadata": {
                "id": "nvE18IfObKq7",
                "colab_type": "code",
                "outputId": "5a2e6e75-d0f0-44c6-f438-f71715b6bcae",
                "executionInfo": {
                    "status": "ok",
                    "timestamp": 1562347178529,
                    "user_tz": -120,
                    "elapsed": 658,
                    "user": {
                        "displayName": "Machine Learning",
                        "photoUrl": "",
                        "userId": "05609927355646341864"
                    }
                },
                "colab": {
                    "base_uri": "https://localhost:8080/",
                    "height": 204
                },
                "azdata_cell_guid": "d331867c-eaef-4f61-8042-1a84db570ed1"
            },
            "outputs": [
                {
                    "output_type": "execute_result",
                    "execution_count": 11,
                    "data": {
                        "text/html": "<div>\n<style scoped>\n    .dataframe tbody tr th:only-of-type {\n        vertical-align: middle;\n    }\n\n    .dataframe tbody tr th {\n        vertical-align: top;\n    }\n\n    .dataframe thead th {\n        text-align: right;\n    }\n</style>\n<table border=\"1\" class=\"dataframe\">\n  <thead>\n    <tr style=\"text-align: right;\">\n      <th></th>\n      <th>userID</th>\n      <th>ISBN</th>\n      <th>bookRating</th>\n      <th>bookTitle</th>\n      <th>Nousada1</th>\n      <th>Nousada2</th>\n      <th>Nousada3</th>\n      <th>totalRatingCount</th>\n    </tr>\n  </thead>\n  <tbody>\n    <tr>\n      <th>0</th>\n      <td>276725</td>\n      <td>034545104X</td>\n      <td>0</td>\n      <td>Flesh Tones: A Novel</td>\n      <td>NaN</td>\n      <td>NaN</td>\n      <td>NaN</td>\n      <td>60</td>\n    </tr>\n    <tr>\n      <th>1</th>\n      <td>2313</td>\n      <td>034545104X</td>\n      <td>5</td>\n      <td>Flesh Tones: A Novel</td>\n      <td>NaN</td>\n      <td>NaN</td>\n      <td>NaN</td>\n      <td>60</td>\n    </tr>\n    <tr>\n      <th>2</th>\n      <td>6543</td>\n      <td>034545104X</td>\n      <td>0</td>\n      <td>Flesh Tones: A Novel</td>\n      <td>NaN</td>\n      <td>NaN</td>\n      <td>NaN</td>\n      <td>60</td>\n    </tr>\n    <tr>\n      <th>3</th>\n      <td>8680</td>\n      <td>034545104X</td>\n      <td>5</td>\n      <td>Flesh Tones: A Novel</td>\n      <td>NaN</td>\n      <td>NaN</td>\n      <td>NaN</td>\n      <td>60</td>\n    </tr>\n    <tr>\n      <th>4</th>\n      <td>10314</td>\n      <td>034545104X</td>\n      <td>9</td>\n      <td>Flesh Tones: A Novel</td>\n      <td>NaN</td>\n      <td>NaN</td>\n      <td>NaN</td>\n      <td>60</td>\n    </tr>\n  </tbody>\n</table>\n</div>",
                        "text/plain": "   userID        ISBN  bookRating  ... Nousada2 Nousada3 totalRatingCount\n0  276725  034545104X           0  ...      NaN      NaN               60\n1    2313  034545104X           5  ...      NaN      NaN               60\n2    6543  034545104X           0  ...      NaN      NaN               60\n3    8680  034545104X           5  ...      NaN      NaN               60\n4   10314  034545104X           9  ...      NaN      NaN               60\n\n[5 rows x 8 columns]"
                    },
                    "metadata": {
                        "tags": []
                    }
                }
            ],
            "execution_count": 0
        },
        {
            "cell_type": "markdown",
            "source": [
                "#### Vamos a filtrar usuarios solo de USA y Canada"
            ],
            "metadata": {
                "id": "4mDKFPvqbKrC",
                "colab_type": "text",
                "azdata_cell_guid": "aee3de4c-aedd-4fc0-9624-52bc9f1c3aeb"
            }
        },
        {
            "cell_type": "code",
            "source": [
                "combined = rating_popular_book.merge(user, left_on = 'userID', right_on = 'userID', how = 'left')\n",
                "\n",
                "us_canada_user_rating = combined[combined['Location'].str.contains(\"usa|canada\")]\n",
                "us_canada_user_rating=us_canada_user_rating.drop('Age', axis=1)\n",
                "us_canada_user_rating.head()"
            ],
            "metadata": {
                "id": "YwsDNe81bKrD",
                "colab_type": "code",
                "outputId": "1e502e03-1f9f-4ee0-feb2-03cf6425b1a1",
                "executionInfo": {
                    "status": "ok",
                    "timestamp": 1562347187740,
                    "user_tz": -120,
                    "elapsed": 539,
                    "user": {
                        "displayName": "Machine Learning",
                        "photoUrl": "",
                        "userId": "05609927355646341864"
                    }
                },
                "colab": {
                    "base_uri": "https://localhost:8080/",
                    "height": 289
                },
                "azdata_cell_guid": "7d429ab8-57cb-46d7-8cbc-80c8aa7f1e4d"
            },
            "outputs": [
                {
                    "output_type": "execute_result",
                    "execution_count": 12,
                    "data": {
                        "text/html": "<div>\n<style scoped>\n    .dataframe tbody tr th:only-of-type {\n        vertical-align: middle;\n    }\n\n    .dataframe tbody tr th {\n        vertical-align: top;\n    }\n\n    .dataframe thead th {\n        text-align: right;\n    }\n</style>\n<table border=\"1\" class=\"dataframe\">\n  <thead>\n    <tr style=\"text-align: right;\">\n      <th></th>\n      <th>userID</th>\n      <th>ISBN</th>\n      <th>bookRating</th>\n      <th>bookTitle</th>\n      <th>Nousada1</th>\n      <th>Nousada2</th>\n      <th>Nousada3</th>\n      <th>totalRatingCount</th>\n      <th>Location</th>\n    </tr>\n  </thead>\n  <tbody>\n    <tr>\n      <th>0</th>\n      <td>276725</td>\n      <td>034545104X</td>\n      <td>0</td>\n      <td>Flesh Tones: A Novel</td>\n      <td>NaN</td>\n      <td>NaN</td>\n      <td>NaN</td>\n      <td>60</td>\n      <td>tyler, texas, usa</td>\n    </tr>\n    <tr>\n      <th>1</th>\n      <td>2313</td>\n      <td>034545104X</td>\n      <td>5</td>\n      <td>Flesh Tones: A Novel</td>\n      <td>NaN</td>\n      <td>NaN</td>\n      <td>NaN</td>\n      <td>60</td>\n      <td>cincinnati, ohio, usa</td>\n    </tr>\n    <tr>\n      <th>2</th>\n      <td>6543</td>\n      <td>034545104X</td>\n      <td>0</td>\n      <td>Flesh Tones: A Novel</td>\n      <td>NaN</td>\n      <td>NaN</td>\n      <td>NaN</td>\n      <td>60</td>\n      <td>strafford, missouri, usa</td>\n    </tr>\n    <tr>\n      <th>3</th>\n      <td>8680</td>\n      <td>034545104X</td>\n      <td>5</td>\n      <td>Flesh Tones: A Novel</td>\n      <td>NaN</td>\n      <td>NaN</td>\n      <td>NaN</td>\n      <td>60</td>\n      <td>st. charles county, missouri, usa</td>\n    </tr>\n    <tr>\n      <th>4</th>\n      <td>10314</td>\n      <td>034545104X</td>\n      <td>9</td>\n      <td>Flesh Tones: A Novel</td>\n      <td>NaN</td>\n      <td>NaN</td>\n      <td>NaN</td>\n      <td>60</td>\n      <td>beaverton, oregon, usa</td>\n    </tr>\n  </tbody>\n</table>\n</div>",
                        "text/plain": "   userID        ISBN  ...  totalRatingCount                           Location\n0  276725  034545104X  ...                60                  tyler, texas, usa\n1    2313  034545104X  ...                60              cincinnati, ohio, usa\n2    6543  034545104X  ...                60           strafford, missouri, usa\n3    8680  034545104X  ...                60  st. charles county, missouri, usa\n4   10314  034545104X  ...                60             beaverton, oregon, usa\n\n[5 rows x 9 columns]"
                    },
                    "metadata": {
                        "tags": []
                    }
                }
            ],
            "execution_count": 0
        },
        {
            "cell_type": "code",
            "source": [
                "if not us_canada_user_rating[us_canada_user_rating.duplicated(['userID', 'bookTitle'])].empty:\n",
                "    initial_rows = us_canada_user_rating.shape[0]\n",
                "\n",
                "    print('Initial dataframe shape {0}'.format(us_canada_user_rating.shape))\n",
                "    us_canada_user_rating = us_canada_user_rating.drop_duplicates(['userID', 'bookTitle'])\n",
                "    current_rows = us_canada_user_rating.shape[0]\n",
                "    print('New dataframe shape {0}'.format(us_canada_user_rating.shape))\n",
                "    print('Removed {0} rows'.format(initial_rows - current_rows))"
            ],
            "metadata": {
                "id": "ScdZAswybKrK",
                "colab_type": "code",
                "outputId": "30c47844-66ac-4dc3-a84c-4b4ed08bfe3e",
                "executionInfo": {
                    "status": "ok",
                    "timestamp": 1562347193237,
                    "user_tz": -120,
                    "elapsed": 563,
                    "user": {
                        "displayName": "Machine Learning",
                        "photoUrl": "",
                        "userId": "05609927355646341864"
                    }
                },
                "colab": {
                    "base_uri": "https://localhost:8080/",
                    "height": 68
                },
                "azdata_cell_guid": "78cbea9a-9c45-4fa7-91c1-2949d3bdaf54"
            },
            "outputs": [
                {
                    "output_type": "stream",
                    "name": "stdout",
                    "text": "Initial dataframe shape (37247, 9)\nNew dataframe shape (37162, 9)\nRemoved 85 rows\n"
                }
            ],
            "execution_count": 0
        },
        {
            "cell_type": "code",
            "source": [
                "us_canada_user_rating_pivot = us_canada_user_rating.pivot(index = 'bookTitle', columns = 'userID', values = 'bookRating').fillna(0)\n",
                "us_canada_user_rating_matrix = csr_matrix(us_canada_user_rating_pivot.values)"
            ],
            "metadata": {
                "id": "5IrwChTibKrQ",
                "colab_type": "code",
                "colab": {},
                "azdata_cell_guid": "4fc21168-24da-488d-8014-33983d475981"
            },
            "outputs": [],
            "execution_count": 0
        },
        {
            "cell_type": "code",
            "source": [
                "us_canada_user_rating_pivot.head()"
            ],
            "metadata": {
                "id": "9hx9kD7rJnM3",
                "colab_type": "code",
                "outputId": "1eeecad9-7206-4def-f226-01ad483e632c",
                "executionInfo": {
                    "status": "ok",
                    "timestamp": 1562347235081,
                    "user_tz": -120,
                    "elapsed": 528,
                    "user": {
                        "displayName": "Machine Learning",
                        "photoUrl": "",
                        "userId": "05609927355646341864"
                    }
                },
                "colab": {
                    "base_uri": "https://localhost:8080/",
                    "height": 369
                },
                "azdata_cell_guid": "52c7d832-1236-418c-ac87-37c99f9a52b2"
            },
            "outputs": [
                {
                    "output_type": "execute_result",
                    "execution_count": 17,
                    "data": {
                        "text/html": "<div>\n<style scoped>\n    .dataframe tbody tr th:only-of-type {\n        vertical-align: middle;\n    }\n\n    .dataframe tbody tr th {\n        vertical-align: top;\n    }\n\n    .dataframe thead th {\n        text-align: right;\n    }\n</style>\n<table border=\"1\" class=\"dataframe\">\n  <thead>\n    <tr style=\"text-align: right;\">\n      <th>userID</th>\n      <th>8</th>\n      <th>44</th>\n      <th>67</th>\n      <th>69</th>\n      <th>75</th>\n      <th>99</th>\n      <th>207</th>\n      <th>228</th>\n      <th>243</th>\n      <th>244</th>\n      <th>254</th>\n      <th>256</th>\n      <th>383</th>\n      <th>387</th>\n      <th>388</th>\n      <th>408</th>\n      <th>424</th>\n      <th>446</th>\n      <th>487</th>\n      <th>496</th>\n      <th>503</th>\n      <th>505</th>\n      <th>507</th>\n      <th>619</th>\n      <th>638</th>\n      <th>657</th>\n      <th>660</th>\n      <th>709</th>\n      <th>728</th>\n      <th>735</th>\n      <th>741</th>\n      <th>744</th>\n      <th>757</th>\n      <th>765</th>\n      <th>774</th>\n      <th>778</th>\n      <th>805</th>\n      <th>843</th>\n      <th>882</th>\n      <th>902</th>\n      <th>...</th>\n      <th>278002</th>\n      <th>278007</th>\n      <th>278014</th>\n      <th>278026</th>\n      <th>278075</th>\n      <th>278111</th>\n      <th>278119</th>\n      <th>278137</th>\n      <th>278144</th>\n      <th>278160</th>\n      <th>278162</th>\n      <th>278188</th>\n      <th>278194</th>\n      <th>278202</th>\n      <th>278216</th>\n      <th>278238</th>\n      <th>278251</th>\n      <th>278255</th>\n      <th>278257</th>\n      <th>278274</th>\n      <th>278314</th>\n      <th>278346</th>\n      <th>278356</th>\n      <th>278390</th>\n      <th>278411</th>\n      <th>278418</th>\n      <th>278503</th>\n      <th>278506</th>\n      <th>278534</th>\n      <th>278535</th>\n      <th>278541</th>\n      <th>278582</th>\n      <th>278633</th>\n      <th>278641</th>\n      <th>278663</th>\n      <th>278694</th>\n      <th>278832</th>\n      <th>278843</th>\n      <th>278851</th>\n      <th>278854</th>\n    </tr>\n    <tr>\n      <th>bookTitle</th>\n      <th></th>\n      <th></th>\n      <th></th>\n      <th></th>\n      <th></th>\n      <th></th>\n      <th></th>\n      <th></th>\n      <th></th>\n      <th></th>\n      <th></th>\n      <th></th>\n      <th></th>\n      <th></th>\n      <th></th>\n      <th></th>\n      <th></th>\n      <th></th>\n      <th></th>\n      <th></th>\n      <th></th>\n      <th></th>\n      <th></th>\n      <th></th>\n      <th></th>\n      <th></th>\n      <th></th>\n      <th></th>\n      <th></th>\n      <th></th>\n      <th></th>\n      <th></th>\n      <th></th>\n      <th></th>\n      <th></th>\n      <th></th>\n      <th></th>\n      <th></th>\n      <th></th>\n      <th></th>\n      <th></th>\n      <th></th>\n      <th></th>\n      <th></th>\n      <th></th>\n      <th></th>\n      <th></th>\n      <th></th>\n      <th></th>\n      <th></th>\n      <th></th>\n      <th></th>\n      <th></th>\n      <th></th>\n      <th></th>\n      <th></th>\n      <th></th>\n      <th></th>\n      <th></th>\n      <th></th>\n      <th></th>\n      <th></th>\n      <th></th>\n      <th></th>\n      <th></th>\n      <th></th>\n      <th></th>\n      <th></th>\n      <th></th>\n      <th></th>\n      <th></th>\n      <th></th>\n      <th></th>\n      <th></th>\n      <th></th>\n      <th></th>\n      <th></th>\n      <th></th>\n      <th></th>\n      <th></th>\n      <th></th>\n    </tr>\n  </thead>\n  <tbody>\n    <tr>\n      <th>09-nov</th>\n      <td>0.000</td>\n      <td>0.000</td>\n      <td>0.000</td>\n      <td>0.000</td>\n      <td>0.000</td>\n      <td>0.000</td>\n      <td>0.000</td>\n      <td>0.000</td>\n      <td>0.000</td>\n      <td>0.000</td>\n      <td>0.000</td>\n      <td>0.000</td>\n      <td>0.000</td>\n      <td>0.000</td>\n      <td>0.000</td>\n      <td>0.000</td>\n      <td>0.000</td>\n      <td>0.000</td>\n      <td>0.000</td>\n      <td>0.000</td>\n      <td>0.000</td>\n      <td>0.000</td>\n      <td>0.000</td>\n      <td>0.000</td>\n      <td>0.000</td>\n      <td>0.000</td>\n      <td>0.000</td>\n      <td>0.000</td>\n      <td>0.000</td>\n      <td>0.000</td>\n      <td>0.000</td>\n      <td>0.000</td>\n      <td>0.000</td>\n      <td>0.000</td>\n      <td>0.000</td>\n      <td>0.000</td>\n      <td>0.000</td>\n      <td>0.000</td>\n      <td>0.000</td>\n      <td>0.000</td>\n      <td>...</td>\n      <td>0.000</td>\n      <td>0.000</td>\n      <td>0.000</td>\n      <td>0.000</td>\n      <td>0.000</td>\n      <td>0.000</td>\n      <td>0.000</td>\n      <td>0.000</td>\n      <td>0.000</td>\n      <td>0.000</td>\n      <td>0.000</td>\n      <td>0.000</td>\n      <td>0.000</td>\n      <td>0.000</td>\n      <td>0.000</td>\n      <td>0.000</td>\n      <td>0.000</td>\n      <td>0.000</td>\n      <td>0.000</td>\n      <td>0.000</td>\n      <td>0.000</td>\n      <td>0.000</td>\n      <td>0.000</td>\n      <td>0.000</td>\n      <td>0.000</td>\n      <td>0.000</td>\n      <td>0.000</td>\n      <td>0.000</td>\n      <td>0.000</td>\n      <td>0.000</td>\n      <td>0.000</td>\n      <td>0.000</td>\n      <td>0.000</td>\n      <td>0.000</td>\n      <td>0.000</td>\n      <td>0.000</td>\n      <td>0.000</td>\n      <td>0.000</td>\n      <td>0.000</td>\n      <td>0.000</td>\n    </tr>\n    <tr>\n      <th>16 Lighthouse Road</th>\n      <td>0.000</td>\n      <td>0.000</td>\n      <td>0.000</td>\n      <td>0.000</td>\n      <td>0.000</td>\n      <td>0.000</td>\n      <td>0.000</td>\n      <td>0.000</td>\n      <td>0.000</td>\n      <td>0.000</td>\n      <td>0.000</td>\n      <td>0.000</td>\n      <td>0.000</td>\n      <td>0.000</td>\n      <td>0.000</td>\n      <td>0.000</td>\n      <td>0.000</td>\n      <td>0.000</td>\n      <td>0.000</td>\n      <td>0.000</td>\n      <td>0.000</td>\n      <td>0.000</td>\n      <td>0.000</td>\n      <td>0.000</td>\n      <td>0.000</td>\n      <td>0.000</td>\n      <td>0.000</td>\n      <td>0.000</td>\n      <td>0.000</td>\n      <td>0.000</td>\n      <td>0.000</td>\n      <td>0.000</td>\n      <td>0.000</td>\n      <td>0.000</td>\n      <td>0.000</td>\n      <td>0.000</td>\n      <td>0.000</td>\n      <td>0.000</td>\n      <td>0.000</td>\n      <td>0.000</td>\n      <td>...</td>\n      <td>0.000</td>\n      <td>0.000</td>\n      <td>0.000</td>\n      <td>0.000</td>\n      <td>0.000</td>\n      <td>0.000</td>\n      <td>0.000</td>\n      <td>0.000</td>\n      <td>0.000</td>\n      <td>0.000</td>\n      <td>0.000</td>\n      <td>0.000</td>\n      <td>0.000</td>\n      <td>0.000</td>\n      <td>0.000</td>\n      <td>0.000</td>\n      <td>0.000</td>\n      <td>0.000</td>\n      <td>0.000</td>\n      <td>0.000</td>\n      <td>0.000</td>\n      <td>0.000</td>\n      <td>0.000</td>\n      <td>0.000</td>\n      <td>0.000</td>\n      <td>0.000</td>\n      <td>0.000</td>\n      <td>0.000</td>\n      <td>0.000</td>\n      <td>0.000</td>\n      <td>0.000</td>\n      <td>0.000</td>\n      <td>0.000</td>\n      <td>0.000</td>\n      <td>0.000</td>\n      <td>0.000</td>\n      <td>0.000</td>\n      <td>0.000</td>\n      <td>0.000</td>\n      <td>0.000</td>\n    </tr>\n    <tr>\n      <th>1984</th>\n      <td>0.000</td>\n      <td>0.000</td>\n      <td>0.000</td>\n      <td>0.000</td>\n      <td>0.000</td>\n      <td>0.000</td>\n      <td>0.000</td>\n      <td>0.000</td>\n      <td>0.000</td>\n      <td>0.000</td>\n      <td>0.000</td>\n      <td>0.000</td>\n      <td>0.000</td>\n      <td>0.000</td>\n      <td>0.000</td>\n      <td>0.000</td>\n      <td>0.000</td>\n      <td>0.000</td>\n      <td>0.000</td>\n      <td>0.000</td>\n      <td>0.000</td>\n      <td>0.000</td>\n      <td>0.000</td>\n      <td>0.000</td>\n      <td>0.000</td>\n      <td>0.000</td>\n      <td>0.000</td>\n      <td>0.000</td>\n      <td>0.000</td>\n      <td>0.000</td>\n      <td>0.000</td>\n      <td>0.000</td>\n      <td>0.000</td>\n      <td>0.000</td>\n      <td>0.000</td>\n      <td>0.000</td>\n      <td>0.000</td>\n      <td>0.000</td>\n      <td>0.000</td>\n      <td>0.000</td>\n      <td>...</td>\n      <td>0.000</td>\n      <td>0.000</td>\n      <td>0.000</td>\n      <td>0.000</td>\n      <td>0.000</td>\n      <td>0.000</td>\n      <td>0.000</td>\n      <td>0.000</td>\n      <td>0.000</td>\n      <td>0.000</td>\n      <td>0.000</td>\n      <td>0.000</td>\n      <td>0.000</td>\n      <td>0.000</td>\n      <td>0.000</td>\n      <td>0.000</td>\n      <td>0.000</td>\n      <td>0.000</td>\n      <td>0.000</td>\n      <td>0.000</td>\n      <td>0.000</td>\n      <td>0.000</td>\n      <td>0.000</td>\n      <td>0.000</td>\n      <td>0.000</td>\n      <td>0.000</td>\n      <td>0.000</td>\n      <td>0.000</td>\n      <td>0.000</td>\n      <td>0.000</td>\n      <td>0.000</td>\n      <td>0.000</td>\n      <td>0.000</td>\n      <td>0.000</td>\n      <td>0.000</td>\n      <td>0.000</td>\n      <td>0.000</td>\n      <td>0.000</td>\n      <td>0.000</td>\n      <td>0.000</td>\n    </tr>\n    <tr>\n      <th>204 Rosewood Lane</th>\n      <td>0.000</td>\n      <td>0.000</td>\n      <td>0.000</td>\n      <td>0.000</td>\n      <td>0.000</td>\n      <td>0.000</td>\n      <td>0.000</td>\n      <td>0.000</td>\n      <td>0.000</td>\n      <td>0.000</td>\n      <td>0.000</td>\n      <td>0.000</td>\n      <td>0.000</td>\n      <td>0.000</td>\n      <td>0.000</td>\n      <td>0.000</td>\n      <td>0.000</td>\n      <td>0.000</td>\n      <td>0.000</td>\n      <td>0.000</td>\n      <td>0.000</td>\n      <td>0.000</td>\n      <td>0.000</td>\n      <td>0.000</td>\n      <td>0.000</td>\n      <td>0.000</td>\n      <td>0.000</td>\n      <td>0.000</td>\n      <td>0.000</td>\n      <td>0.000</td>\n      <td>0.000</td>\n      <td>0.000</td>\n      <td>0.000</td>\n      <td>0.000</td>\n      <td>0.000</td>\n      <td>0.000</td>\n      <td>0.000</td>\n      <td>0.000</td>\n      <td>0.000</td>\n      <td>0.000</td>\n      <td>...</td>\n      <td>0.000</td>\n      <td>0.000</td>\n      <td>0.000</td>\n      <td>0.000</td>\n      <td>0.000</td>\n      <td>0.000</td>\n      <td>0.000</td>\n      <td>0.000</td>\n      <td>0.000</td>\n      <td>0.000</td>\n      <td>0.000</td>\n      <td>0.000</td>\n      <td>0.000</td>\n      <td>0.000</td>\n      <td>0.000</td>\n      <td>0.000</td>\n      <td>0.000</td>\n      <td>0.000</td>\n      <td>0.000</td>\n      <td>0.000</td>\n      <td>0.000</td>\n      <td>0.000</td>\n      <td>0.000</td>\n      <td>0.000</td>\n      <td>0.000</td>\n      <td>0.000</td>\n      <td>0.000</td>\n      <td>0.000</td>\n      <td>0.000</td>\n      <td>0.000</td>\n      <td>0.000</td>\n      <td>0.000</td>\n      <td>0.000</td>\n      <td>0.000</td>\n      <td>0.000</td>\n      <td>0.000</td>\n      <td>0.000</td>\n      <td>0.000</td>\n      <td>0.000</td>\n      <td>0.000</td>\n    </tr>\n    <tr>\n      <th>311 Pelican Court</th>\n      <td>0.000</td>\n      <td>0.000</td>\n      <td>0.000</td>\n      <td>0.000</td>\n      <td>0.000</td>\n      <td>0.000</td>\n      <td>0.000</td>\n      <td>0.000</td>\n      <td>0.000</td>\n      <td>0.000</td>\n      <td>0.000</td>\n      <td>0.000</td>\n      <td>0.000</td>\n      <td>0.000</td>\n      <td>0.000</td>\n      <td>0.000</td>\n      <td>0.000</td>\n      <td>0.000</td>\n      <td>0.000</td>\n      <td>0.000</td>\n      <td>0.000</td>\n      <td>0.000</td>\n      <td>0.000</td>\n      <td>0.000</td>\n      <td>0.000</td>\n      <td>0.000</td>\n      <td>0.000</td>\n      <td>0.000</td>\n      <td>0.000</td>\n      <td>0.000</td>\n      <td>0.000</td>\n      <td>0.000</td>\n      <td>0.000</td>\n      <td>0.000</td>\n      <td>0.000</td>\n      <td>0.000</td>\n      <td>0.000</td>\n      <td>0.000</td>\n      <td>0.000</td>\n      <td>0.000</td>\n      <td>...</td>\n      <td>0.000</td>\n      <td>0.000</td>\n      <td>0.000</td>\n      <td>0.000</td>\n      <td>0.000</td>\n      <td>0.000</td>\n      <td>0.000</td>\n      <td>0.000</td>\n      <td>0.000</td>\n      <td>0.000</td>\n      <td>0.000</td>\n      <td>0.000</td>\n      <td>0.000</td>\n      <td>0.000</td>\n      <td>0.000</td>\n      <td>0.000</td>\n      <td>0.000</td>\n      <td>0.000</td>\n      <td>0.000</td>\n      <td>0.000</td>\n      <td>0.000</td>\n      <td>0.000</td>\n      <td>0.000</td>\n      <td>0.000</td>\n      <td>0.000</td>\n      <td>0.000</td>\n      <td>0.000</td>\n      <td>0.000</td>\n      <td>0.000</td>\n      <td>0.000</td>\n      <td>0.000</td>\n      <td>0.000</td>\n      <td>0.000</td>\n      <td>0.000</td>\n      <td>0.000</td>\n      <td>0.000</td>\n      <td>0.000</td>\n      <td>0.000</td>\n      <td>0.000</td>\n      <td>0.000</td>\n    </tr>\n  </tbody>\n</table>\n<p>5 rows × 12299 columns</p>\n</div>",
                        "text/plain": "userID              8       44      67      ...  278843  278851  278854\nbookTitle                                   ...                        \n09-nov               0.000   0.000   0.000  ...   0.000   0.000   0.000\n16 Lighthouse Road   0.000   0.000   0.000  ...   0.000   0.000   0.000\n1984                 0.000   0.000   0.000  ...   0.000   0.000   0.000\n204 Rosewood Lane    0.000   0.000   0.000  ...   0.000   0.000   0.000\n311 Pelican Court    0.000   0.000   0.000  ...   0.000   0.000   0.000\n\n[5 rows x 12299 columns]"
                    },
                    "metadata": {
                        "tags": []
                    }
                }
            ],
            "execution_count": 0
        },
        {
            "cell_type": "markdown",
            "source": [
                "## Entrenando el Algoritmo"
            ],
            "metadata": {
                "id": "mgdi4bo_-DE1",
                "colab_type": "text",
                "azdata_cell_guid": "409e762f-afb4-40ae-935c-ec1926b022ff"
            }
        },
        {
            "cell_type": "code",
            "source": [
                "from sklearn.neighbors import NearestNeighbors\n",
                "\n",
                "model_knn = NearestNeighbors(metric = 'cosine', algorithm = 'brute')\n",
                "model_knn.fit(us_canada_user_rating_matrix)"
            ],
            "metadata": {
                "id": "TETKEYQWbKrU",
                "colab_type": "code",
                "outputId": "3dc901b0-4636-4f6d-d1c2-08c7e77aba85",
                "executionInfo": {
                    "status": "ok",
                    "timestamp": 1562347394034,
                    "user_tz": -120,
                    "elapsed": 560,
                    "user": {
                        "displayName": "Machine Learning",
                        "photoUrl": "",
                        "userId": "05609927355646341864"
                    }
                },
                "colab": {
                    "base_uri": "https://localhost:8080/",
                    "height": 68
                },
                "azdata_cell_guid": "22266bfd-7ee3-45d2-b199-3ff41d75c5ac"
            },
            "outputs": [
                {
                    "output_type": "execute_result",
                    "execution_count": 18,
                    "data": {
                        "text/plain": "NearestNeighbors(algorithm='brute', leaf_size=30, metric='cosine',\n                 metric_params=None, n_jobs=None, n_neighbors=5, p=2,\n                 radius=1.0)"
                    },
                    "metadata": {
                        "tags": []
                    }
                }
            ],
            "execution_count": 0
        },
        {
            "cell_type": "code",
            "source": [
                "#obtengo los vecinos\n",
                "model_knn.kneighbors()"
            ],
            "metadata": {
                "id": "K1TfP6aemHJ0",
                "colab_type": "code",
                "outputId": "aa6c7037-57db-4806-8e57-0ff38ab4a6a9",
                "executionInfo": {
                    "status": "ok",
                    "timestamp": 1562347423801,
                    "user_tz": -120,
                    "elapsed": 533,
                    "user": {
                        "displayName": "Machine Learning",
                        "photoUrl": "",
                        "userId": "05609927355646341864"
                    }
                },
                "colab": {
                    "base_uri": "https://localhost:8080/",
                    "height": 255
                },
                "azdata_cell_guid": "89dbeb92-f8e4-4671-b70d-d711a31b2b1a"
            },
            "outputs": [
                {
                    "output_type": "execute_result",
                    "execution_count": 19,
                    "data": {
                        "text/plain": "(array([[0.90094639, 0.901988  , 0.91350922, 0.91699029, 0.91963305],\n        [0.64891821, 0.69722747, 0.72788091, 0.75358856, 0.76788035],\n        [0.42653766, 0.44184369, 0.75086356, 0.81091644, 0.88873616],\n        ...,\n        [0.88380377, 0.88798013, 0.90284758, 0.91281313, 0.9128517 ],\n        [0.83473218, 0.85326896, 0.87730241, 0.89663126, 0.89738687],\n        [0.89123168, 0.91484634, 0.91737242, 0.92092217, 0.92320683]]),\n array([[ 76, 410, 278, 333, 396],\n        [132,   4, 277,   3, 249],\n        [313, 307, 120, 119, 596],\n        ...,\n        [240, 662, 567, 458,  65],\n        [ 37, 398, 568,  46, 632],\n        [406, 527, 198, 299, 687]]))"
                    },
                    "metadata": {
                        "tags": []
                    }
                }
            ],
            "execution_count": 0
        },
        {
            "cell_type": "code",
            "source": [
                "model_knn.effective_metric_"
            ],
            "metadata": {
                "id": "ugL7jgySbzad",
                "colab_type": "code",
                "outputId": "f3321329-1b1d-4f16-b109-977eda646b88",
                "executionInfo": {
                    "status": "ok",
                    "timestamp": 1562347489701,
                    "user_tz": -120,
                    "elapsed": 555,
                    "user": {
                        "displayName": "Machine Learning",
                        "photoUrl": "",
                        "userId": "05609927355646341864"
                    }
                },
                "colab": {
                    "base_uri": "https://localhost:8080/",
                    "height": 34
                },
                "azdata_cell_guid": "1909e040-e4b7-4017-9568-846cbb20d9f2"
            },
            "outputs": [
                {
                    "output_type": "execute_result",
                    "execution_count": 20,
                    "data": {
                        "text/plain": "'cosine'"
                    },
                    "metadata": {
                        "tags": []
                    }
                }
            ],
            "execution_count": 0
        },
        {
            "cell_type": "code",
            "source": [
                "#Obtengo una observación al azar\n",
                "query_index = np.random.choice(us_canada_user_rating_pivot.shape[0])\n"
            ],
            "metadata": {
                "id": "foIvuQKjQgeX",
                "colab_type": "code",
                "colab": {},
                "azdata_cell_guid": "41e552ad-7b56-4d58-8608-70edf1a24ff8"
            },
            "outputs": [],
            "execution_count": 0
        },
        {
            "cell_type": "code",
            "source": [
                "query_index"
            ],
            "metadata": {
                "id": "CzBhgEXlko46",
                "colab_type": "code",
                "outputId": "adde3286-f269-4e11-ea45-46cfa673e12a",
                "executionInfo": {
                    "status": "ok",
                    "timestamp": 1562347497933,
                    "user_tz": -120,
                    "elapsed": 537,
                    "user": {
                        "displayName": "Machine Learning",
                        "photoUrl": "",
                        "userId": "05609927355646341864"
                    }
                },
                "colab": {
                    "base_uri": "https://localhost:8080/",
                    "height": 34
                },
                "azdata_cell_guid": "cb282609-1d8a-4675-8d14-e9b84e5c4e00"
            },
            "outputs": [
                {
                    "output_type": "execute_result",
                    "execution_count": 22,
                    "data": {
                        "text/plain": "289"
                    },
                    "metadata": {
                        "tags": []
                    }
                }
            ],
            "execution_count": 0
        },
        {
            "cell_type": "code",
            "source": [
                "us_canada_user_rating_pivot.iloc[query_index, :]\n",
                "distances, indices = model_knn.kneighbors(us_canada_user_rating_pivot.iloc[query_index, :].values.reshape(1,-1), n_neighbors = 6) "
            ],
            "metadata": {
                "id": "rYH9yHvRQrr3",
                "colab_type": "code",
                "colab": {},
                "azdata_cell_guid": "723e7269-e91f-4651-962d-782b139186e0"
            },
            "outputs": [],
            "execution_count": 0
        },
        {
            "cell_type": "markdown",
            "source": [
                "## Obteniendo recomendaciones"
            ],
            "metadata": {
                "id": "onhgwJ78-KUW",
                "colab_type": "text",
                "azdata_cell_guid": "d59ba7de-1a7a-48b5-86c6-69e2f8444d27"
            }
        },
        {
            "cell_type": "code",
            "source": [
                "for i in range(0, len(distances.flatten())):\n",
                "    if i == 0:\n",
                "        print('Recommendations for {0}:\\n'.format(us_canada_user_rating_pivot.index[query_index]))\n",
                "    else:\n",
                "        print('{0}: {1}, with distance of {2}:'.format(i, us_canada_user_rating_pivot.index[indices.flatten()[i]], distances.flatten()[i]))"
            ],
            "metadata": {
                "id": "7OsCSKPKbKrd",
                "colab_type": "code",
                "outputId": "bce5f6aa-6f5b-4d14-b335-542b21900194",
                "executionInfo": {
                    "status": "ok",
                    "timestamp": 1562347541926,
                    "user_tz": -120,
                    "elapsed": 662,
                    "user": {
                        "displayName": "Machine Learning",
                        "photoUrl": "",
                        "userId": "05609927355646341864"
                    }
                },
                "colab": {
                    "base_uri": "https://localhost:8080/",
                    "height": 136
                },
                "azdata_cell_guid": "5d343670-8f5d-4de2-ab28-c11a88fc1071"
            },
            "outputs": [
                {
                    "output_type": "stream",
                    "name": "stdout",
                    "text": "Recommendations for In the Fall (Vintage Contemporaries (Paperback)):\n\n1: Anger: Wisdom for Cooling the Flames, with distance of 0.8623912930687566:\n2: Anna Karenina (Wordsworth Classics), with distance of 0.8701082935203155:\n3: Angela's Ashes: A Memoir, with distance of 0.9108255382247769:\n4: Forbidden Fruit, with distance of 0.9121921459063264:\n5: Dead Run, with distance of 0.9198215245185651:\n"
                }
            ],
            "execution_count": 0
        },
        {
            "cell_type": "markdown",
            "source": [
                "#Otro ejemplo de música"
            ],
            "metadata": {
                "id": "zjSt7zwL-gnq",
                "colab_type": "text",
                "azdata_cell_guid": "a78649af-23aa-4fbb-9f9c-7bb217070aa3"
            }
        },
        {
            "cell_type": "markdown",
            "source": [
                "https://beckernick.github.io/music_recommender/ "
            ],
            "metadata": {
                "id": "2I-TAixs-jKO",
                "colab_type": "text",
                "azdata_cell_guid": "916022ca-7db8-44f1-9520-4fcd31dad8fb"
            }
        }
    ]
}