{
  "nbformat": 4,
  "nbformat_minor": 0,
  "metadata": {
    "colab": {
      "name": "Conexion a SQL.ipynb",
      "provenance": [],
      "collapsed_sections": [],
      "include_colab_link": true
    },
    "kernelspec": {
      "name": "python3",
      "display_name": "Python 3"
    }
  },
  "cells": [
    {
      "cell_type": "markdown",
      "metadata": {
        "id": "view-in-github",
        "colab_type": "text"
      },
      "source": [
        "<a href=\"https://colab.research.google.com/github/antoniosql/cursoml/blob/master/demos/Conexion_a_SQL.ipynb\" target=\"_parent\"><img src=\"https://colab.research.google.com/assets/colab-badge.svg\" alt=\"Open In Colab\"/></a>"
      ]
    },
    {
      "cell_type": "code",
      "metadata": {
        "id": "g0bBnky4zHcE",
        "colab_type": "code",
        "colab": {}
      },
      "source": [
        "#Instalar el entorno ODBC\n",
        "!sudo apt-get install unixodbc-dev"
      ],
      "execution_count": 0,
      "outputs": []
    },
    {
      "cell_type": "code",
      "metadata": {
        "id": "CSuwfdUJzMdh",
        "colab_type": "code",
        "colab": {}
      },
      "source": [
        "#Isntalar la librería pyodbc\n",
        "!pip install pyodbc"
      ],
      "execution_count": 0,
      "outputs": []
    },
    {
      "cell_type": "code",
      "metadata": {
        "id": "9u8kfpVx2UCh",
        "colab_type": "code",
        "colab": {}
      },
      "source": [
        "#Descarga claves de Microsoft\n",
        "!curl https://packages.microsoft.com/keys/microsoft.asc | apt-key add -"
      ],
      "execution_count": 0,
      "outputs": []
    },
    {
      "cell_type": "code",
      "metadata": {
        "id": "Xk_jN4E92l2j",
        "colab_type": "code",
        "colab": {}
      },
      "source": [
        "#Descarga del driver ODBC para SQL 2017\n",
        "!curl https://packages.microsoft.com/config/ubuntu/19.04/prod.list > /etc/apt/sources.list.d/mssql-release.list"
      ],
      "execution_count": 0,
      "outputs": []
    },
    {
      "cell_type": "code",
      "metadata": {
        "id": "tyf6T2te0xgl",
        "colab_type": "code",
        "colab": {}
      },
      "source": [
        "#Actualizar repositorio de paquetes\n",
        "!sudo apt-get update"
      ],
      "execution_count": 0,
      "outputs": []
    },
    {
      "cell_type": "code",
      "metadata": {
        "id": "_V-G3ct50XtC",
        "colab_type": "code",
        "colab": {}
      },
      "source": [
        "#Instalar el driver\n",
        "!sudo ACCEPT_EULA=Y apt-get install msodbcsql17"
      ],
      "execution_count": 0,
      "outputs": []
    },
    {
      "cell_type": "code",
      "metadata": {
        "id": "Ap86JSWu28iv",
        "colab_type": "code",
        "colab": {}
      },
      "source": [
        "import pyodbc\n",
        "import pandas as pd"
      ],
      "execution_count": 0,
      "outputs": []
    },
    {
      "cell_type": "code",
      "metadata": {
        "id": "GrSq0_iJ25Ou",
        "colab_type": "code",
        "colab": {}
      },
      "source": [
        "server = 'tcp:solidqdemo.database.windows.net' \n",
        "database = 'AdventureWorksDW2017' \n",
        "username = 'adminsql' \n",
        "password = 'Puk02020#!' \n",
        "vTargetMail = \"SELECT * FROM vTargetMail\"\n",
        "#Abrimos la conexion\n",
        "cnxn = pyodbc.connect('DRIVER={ODBC Driver 17 for SQL Server};SERVER='+server+';DATABASE='+database+';UID='+username+';PWD='+ password)"
      ],
      "execution_count": 0,
      "outputs": []
    },
    {
      "cell_type": "code",
      "metadata": {
        "id": "Q5mvIllw3AuP",
        "colab_type": "code",
        "colab": {}
      },
      "source": [
        "df = pd.read_sql(vTargetMail,cnxn)\n",
        "\n",
        "df.info()\n",
        "df.shape\n",
        "df.describe()\n",
        "df.count()"
      ],
      "execution_count": 0,
      "outputs": []
    }
  ]
}