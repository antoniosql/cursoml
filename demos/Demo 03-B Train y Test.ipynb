{
    "metadata": {
        "kernelspec": {
            "name": "python_defaultSpec_1596607500423",
            "display_name": "Python 3.8.5 64-bit"
        },
        "language_info": {
            "name": "python",
            "version": "3.6.6",
            "mimetype": "text/x-python",
            "codemirror_mode": {
                "name": "ipython",
                "version": 3
            },
            "pygments_lexer": "ipython3",
            "nbconvert_exporter": "python",
            "file_extension": ".py"
        }
    },
    "nbformat_minor": 2,
    "nbformat": 4,
    "cells": [
        {
            "cell_type": "markdown",
            "source": [
                "![SolidQ](https://www.solidq.com/wp-content/uploads/2015/06/Logo-SolidQ-Web.gif)"
            ],
            "metadata": {
                "azdata_cell_guid": "43994f00-ea37-4152-be96-0b470ebe397a"
            }
        },
        {
            "cell_type": "code",
            "source": [
                "import pandas as pd\n",
                "import numpy as np\n",
                "df_wine = pd.read_csv('https://archive.ics.uci.edu/ml/machine-learning-databases/wine/wine.data',header=None)"
            ],
            "metadata": {
                "id": "JoHf1DL1wBMB",
                "colab_type": "code",
                "colab": {},
                "azdata_cell_guid": "12c21c88-1fbb-455c-a75c-95e51244c739"
            },
            "outputs": [],
            "execution_count": 1
        },
        {
            "cell_type": "code",
            "source": [
                "df_wine.columns = ['Class label', 'Alcohol',\n",
                "  'Malic acid', 'Ash',\n",
                "  'Alcalinity of ash', 'Magnesium',\n",
                "  'Total phenols', 'Flavanoids',\n",
                "  'Nonflavanoid phenols',\n",
                "  'Proanthocyanins',\n",
                "  'Color intensity', 'Hue',\n",
                "  'OD280/OD315 of diluted wines',\n",
                "  'Proline']\n",
                "print('Class labels', np.unique(df_wine['Class label']))"
            ],
            "metadata": {
                "id": "QbiN03j-wNWl",
                "colab_type": "code",
                "outputId": "c83deb88-980f-45ca-fea2-05c2539fb14d",
                "executionInfo": {
                    "status": "ok",
                    "timestamp": 1573419033527,
                    "user_tz": -60,
                    "elapsed": 1188,
                    "user": {
                        "displayName": "Machine Learning",
                        "photoUrl": "",
                        "userId": "05609927355646341864"
                    }
                },
                "colab": {
                    "base_uri": "https://localhost:8080/",
                    "height": 34
                },
                "azdata_cell_guid": "df942f21-ed24-465f-b081-c076762ac5c1",
                "tags": []
            },
            "outputs": [
                {
                    "output_type": "stream",
                    "name": "stdout",
                    "text": "Class labels [1 2 3]\n"
                }
            ],
            "execution_count": 3
        },
        {
            "cell_type": "code",
            "source": [
                "df_wine.head()"
            ],
            "metadata": {
                "id": "W3Vl4ZUSwkWj",
                "colab_type": "code",
                "colab": {
                    "base_uri": "https://localhost:8080/",
                    "height": 204
                },
                "outputId": "e3adf65d-6cde-4397-f439-f12154ca7241",
                "executionInfo": {
                    "status": "ok",
                    "timestamp": 1573419035695,
                    "user_tz": -60,
                    "elapsed": 850,
                    "user": {
                        "displayName": "Machine Learning",
                        "photoUrl": "",
                        "userId": "05609927355646341864"
                    }
                },
                "azdata_cell_guid": "c2716e07-69c8-4a2f-8bdd-e341ef029bab"
            },
            "outputs": [
                {
                    "output_type": "execute_result",
                    "data": {
                        "text/plain": "   Class label  Alcohol  Malic acid   Ash  Alcalinity of ash  Magnesium  \\\n0            1    14.23        1.71  2.43               15.6        127   \n1            1    13.20        1.78  2.14               11.2        100   \n2            1    13.16        2.36  2.67               18.6        101   \n3            1    14.37        1.95  2.50               16.8        113   \n4            1    13.24        2.59  2.87               21.0        118   \n\n   Total phenols  Flavanoids  Nonflavanoid phenols  Proanthocyanins  \\\n0           2.80        3.06                  0.28             2.29   \n1           2.65        2.76                  0.26             1.28   \n2           2.80        3.24                  0.30             2.81   \n3           3.85        3.49                  0.24             2.18   \n4           2.80        2.69                  0.39             1.82   \n\n   Color intensity   Hue  OD280/OD315 of diluted wines  Proline  \n0             5.64  1.04                          3.92     1065  \n1             4.38  1.05                          3.40     1050  \n2             5.68  1.03                          3.17     1185  \n3             7.80  0.86                          3.45     1480  \n4             4.32  1.04                          2.93      735  ",
                        "text/html": "<div>\n<style scoped>\n    .dataframe tbody tr th:only-of-type {\n        vertical-align: middle;\n    }\n\n    .dataframe tbody tr th {\n        vertical-align: top;\n    }\n\n    .dataframe thead th {\n        text-align: right;\n    }\n</style>\n<table border=\"1\" class=\"dataframe\">\n  <thead>\n    <tr style=\"text-align: right;\">\n      <th></th>\n      <th>Class label</th>\n      <th>Alcohol</th>\n      <th>Malic acid</th>\n      <th>Ash</th>\n      <th>Alcalinity of ash</th>\n      <th>Magnesium</th>\n      <th>Total phenols</th>\n      <th>Flavanoids</th>\n      <th>Nonflavanoid phenols</th>\n      <th>Proanthocyanins</th>\n      <th>Color intensity</th>\n      <th>Hue</th>\n      <th>OD280/OD315 of diluted wines</th>\n      <th>Proline</th>\n    </tr>\n  </thead>\n  <tbody>\n    <tr>\n      <th>0</th>\n      <td>1</td>\n      <td>14.23</td>\n      <td>1.71</td>\n      <td>2.43</td>\n      <td>15.6</td>\n      <td>127</td>\n      <td>2.80</td>\n      <td>3.06</td>\n      <td>0.28</td>\n      <td>2.29</td>\n      <td>5.64</td>\n      <td>1.04</td>\n      <td>3.92</td>\n      <td>1065</td>\n    </tr>\n    <tr>\n      <th>1</th>\n      <td>1</td>\n      <td>13.20</td>\n      <td>1.78</td>\n      <td>2.14</td>\n      <td>11.2</td>\n      <td>100</td>\n      <td>2.65</td>\n      <td>2.76</td>\n      <td>0.26</td>\n      <td>1.28</td>\n      <td>4.38</td>\n      <td>1.05</td>\n      <td>3.40</td>\n      <td>1050</td>\n    </tr>\n    <tr>\n      <th>2</th>\n      <td>1</td>\n      <td>13.16</td>\n      <td>2.36</td>\n      <td>2.67</td>\n      <td>18.6</td>\n      <td>101</td>\n      <td>2.80</td>\n      <td>3.24</td>\n      <td>0.30</td>\n      <td>2.81</td>\n      <td>5.68</td>\n      <td>1.03</td>\n      <td>3.17</td>\n      <td>1185</td>\n    </tr>\n    <tr>\n      <th>3</th>\n      <td>1</td>\n      <td>14.37</td>\n      <td>1.95</td>\n      <td>2.50</td>\n      <td>16.8</td>\n      <td>113</td>\n      <td>3.85</td>\n      <td>3.49</td>\n      <td>0.24</td>\n      <td>2.18</td>\n      <td>7.80</td>\n      <td>0.86</td>\n      <td>3.45</td>\n      <td>1480</td>\n    </tr>\n    <tr>\n      <th>4</th>\n      <td>1</td>\n      <td>13.24</td>\n      <td>2.59</td>\n      <td>2.87</td>\n      <td>21.0</td>\n      <td>118</td>\n      <td>2.80</td>\n      <td>2.69</td>\n      <td>0.39</td>\n      <td>1.82</td>\n      <td>4.32</td>\n      <td>1.04</td>\n      <td>2.93</td>\n      <td>735</td>\n    </tr>\n  </tbody>\n</table>\n</div>"
                    },
                    "metadata": {},
                    "execution_count": 4
                }
            ],
            "execution_count": 4
        },
        {
            "cell_type": "markdown",
            "source": [
                "En este caso tenemos uvas de tres clases diferentes 1, 2 y 3 "
            ],
            "metadata": {
                "id": "8fJ7uQRiwqPL",
                "colab_type": "text",
                "azdata_cell_guid": "1262fb79-3add-4886-8e58-1c9c768869a6"
            }
        },
        {
            "cell_type": "code",
            "source": [
                "from sklearn.model_selection import train_test_split\n",
                "X, y = df_wine.iloc[:, 1:].values, df_wine.iloc[:, 0].values\n"
            ],
            "metadata": {
                "id": "MNpwWMokwrK8",
                "colab_type": "code",
                "colab": {},
                "azdata_cell_guid": "8d2a1d7d-6698-4298-95c9-e15571bb0929"
            },
            "outputs": [],
            "execution_count": 5
        },
        {
            "cell_type": "code",
            "source": [
                "X_train, X_test, y_train, y_test =\\\n",
                "  train_test_split(X, y,\n",
                "  test_size=0.3,\n",
                "  random_state=0,\n",
                "  stratify=y)"
            ],
            "metadata": {
                "id": "XZuviqrSJf23",
                "colab_type": "code",
                "colab": {},
                "azdata_cell_guid": "b1444caa-5199-43a7-83fa-82dfa2f156fc"
            },
            "outputs": [],
            "execution_count": 6
        },
        {
            "cell_type": "markdown",
            "source": [
                "Primero, asignamos la representación en array NumPy de las columnas de características a la variable X. Asignamos las clases de la primera columna a la variable y. Después, utilizamos la función train_test_split para separar en conjuntos de datos de entrenamiento y prueba de forma aleatoria. En este caso estamos asignando el 30% a test y el 70% al conjunto de entrenamiento. El objetivo de pasar también el array de la etiqueta (y) como argumento nos asegura que ambos conjuntos de datos tienen las mismas proporcionas de valores de esa clase que el dataset original"
            ],
            "metadata": {
                "id": "0uUYizTkw7Ny",
                "colab_type": "text",
                "azdata_cell_guid": "b24fea38-95a3-48a4-8e3b-3b9112a3e8c4"
            }
        },
        {
            "cell_type": "markdown",
            "source": [
                "Si dividimos un conjunto de datos en datos de entrenamiento y pruebas debemos de ser conscientes de que estamos dejando de pasarle al algoritmo información que puede ser valiosa, por lo que no debemos de asignar un porcentaje demasiado elevado a ese conjunto de datos. Sin embargo, cuando más pequeño sea el conjunto de entrenamiento, más imprecisa es la estimación del error de generalización. Dividir un conjunto de datos en entrenamiento y prueba se trata de balancear estos dos escenarios. Lo más común es 60:40, 70·30 o 80:20. Sin embargo para conjuntos de datos muy grandes no es rato ver ratios como 90:10 o incluso 99:1\n"
            ],
            "metadata": {
                "id": "RyE0pE9Qw8O6",
                "colab_type": "text",
                "azdata_cell_guid": "9670f293-8641-4a4e-a065-8af0a00dd054"
            }
        },
        {
            "cell_type": "code",
            "execution_count": 7,
            "metadata": {},
            "outputs": [
                {
                    "output_type": "execute_result",
                    "data": {
                        "text/plain": "array([[1.362e+01, 4.950e+00, 2.350e+00, ..., 9.100e-01, 2.050e+00,\n        5.500e+02],\n       [1.376e+01, 1.530e+00, 2.700e+00, ..., 1.250e+00, 3.000e+00,\n        1.235e+03],\n       [1.373e+01, 1.500e+00, 2.700e+00, ..., 1.190e+00, 2.710e+00,\n        1.285e+03],\n       ...,\n       [1.388e+01, 5.040e+00, 2.230e+00, ..., 5.800e-01, 1.330e+00,\n        4.150e+02],\n       [1.196e+01, 1.090e+00, 2.300e+00, ..., 9.900e-01, 3.130e+00,\n        8.860e+02],\n       [1.270e+01, 3.870e+00, 2.400e+00, ..., 1.190e+00, 3.130e+00,\n        4.630e+02]])"
                    },
                    "metadata": {},
                    "execution_count": 7
                }
            ],
            "source": [
                "X_train"
            ]
        },
        {
            "cell_type": "code",
            "execution_count": 8,
            "metadata": {},
            "outputs": [
                {
                    "output_type": "execute_result",
                    "data": {
                        "text/plain": "array([3, 1, 1, 1, 3, 2, 2, 3, 2, 2, 2, 1, 2, 3, 1, 3, 2, 1, 3, 3, 2, 1,\n       2, 2, 2, 2, 3, 1, 2, 2, 1, 1, 3, 1, 2, 1, 1, 2, 3, 3, 1, 3, 3, 3,\n       1, 2, 3, 3, 2, 3, 2, 2, 2, 1, 2, 2, 3, 3, 2, 1, 1, 2, 3, 3, 2, 1,\n       2, 2, 2, 1, 1, 1, 1, 1, 3, 1, 2, 3, 2, 2, 3, 1, 2, 1, 2, 2, 3, 2,\n       1, 1, 1, 3, 2, 1, 1, 2, 2, 3, 3, 2, 1, 1, 2, 2, 3, 1, 3, 1, 2, 2,\n       2, 2, 1, 3, 1, 1, 1, 1, 2, 2, 3, 3, 2, 2], dtype=int64)"
                    },
                    "metadata": {},
                    "execution_count": 8
                }
            ],
            "source": [
                "y_train"
            ]
        }
    ]
}