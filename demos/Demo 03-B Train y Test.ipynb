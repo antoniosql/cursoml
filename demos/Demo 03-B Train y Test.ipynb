{
    "metadata": {
        "kernelspec": {
            "name": "python_defaultSpec_1600711017773",
            "display_name": "Python 3.8.5 64-bit"
        },
        "language_info": {
            "name": "python",
            "version": "3.8.5-final",
            "mimetype": "text/x-python",
            "codemirror_mode": {
                "name": "ipython",
                "version": 3
            },
            "pygments_lexer": "ipython3",
            "nbconvert_exporter": "python",
            "file_extension": ".py"
        }
    },
    "nbformat_minor": 2,
    "nbformat": 4,
    "cells": [
        {
            "cell_type": "markdown",
            "source": [
                "![SolidQ](https://antoniosql.github.io/images/SolidQ_Verne.png) "
            ],
            "metadata": {
                "azdata_cell_guid": "43994f00-ea37-4152-be96-0b470ebe397a"
            }
        },
        {
            "cell_type": "code",
            "source": [
                "import pandas as pd\n",
                "import numpy as np\n",
                "import sqlite3"
            ],
            "metadata": {
                "id": "JoHf1DL1wBMB",
                "colab_type": "code",
                "colab": {},
                "azdata_cell_guid": "12c21c88-1fbb-455c-a75c-95e51244c739"
            },
            "outputs": [],
            "execution_count": 21
        },
        {
            "cell_type": "code",
            "execution_count": 22,
            "metadata": {},
            "outputs": [
                {
                    "output_type": "execute_result",
                    "data": {
                        "text/plain": "  CodCliente FechaNacimiento EstadoCivil Sexo  IngresosAnuales NivelAcademico  \\\n0     000020      1976-04-08           M    M          90000.0   Licenciatura   \n1     000026      1975-05-14           S    M          60000.0   Licenciatura   \n2     000026      1975-05-14           S    M          60000.0   Licenciatura   \n3     000026      1975-05-14           S    M          60000.0   Licenciatura   \n4     000026      1975-05-14           S    M          60000.0   Licenciatura   \n\n                   Ocupacion  EsCliente  \n0  Profesional especializado          1  \n1  Profesional especializado          1  \n2  Profesional especializado          1  \n3  Profesional especializado          1  \n4  Profesional especializado          1  ",
                        "text/html": "<div>\n<style scoped>\n    .dataframe tbody tr th:only-of-type {\n        vertical-align: middle;\n    }\n\n    .dataframe tbody tr th {\n        vertical-align: top;\n    }\n\n    .dataframe thead th {\n        text-align: right;\n    }\n</style>\n<table border=\"1\" class=\"dataframe\">\n  <thead>\n    <tr style=\"text-align: right;\">\n      <th></th>\n      <th>CodCliente</th>\n      <th>FechaNacimiento</th>\n      <th>EstadoCivil</th>\n      <th>Sexo</th>\n      <th>IngresosAnuales</th>\n      <th>NivelAcademico</th>\n      <th>Ocupacion</th>\n      <th>EsCliente</th>\n    </tr>\n  </thead>\n  <tbody>\n    <tr>\n      <th>0</th>\n      <td>000020</td>\n      <td>1976-04-08</td>\n      <td>M</td>\n      <td>M</td>\n      <td>90000.0</td>\n      <td>Licenciatura</td>\n      <td>Profesional especializado</td>\n      <td>1</td>\n    </tr>\n    <tr>\n      <th>1</th>\n      <td>000026</td>\n      <td>1975-05-14</td>\n      <td>S</td>\n      <td>M</td>\n      <td>60000.0</td>\n      <td>Licenciatura</td>\n      <td>Profesional especializado</td>\n      <td>1</td>\n    </tr>\n    <tr>\n      <th>2</th>\n      <td>000026</td>\n      <td>1975-05-14</td>\n      <td>S</td>\n      <td>M</td>\n      <td>60000.0</td>\n      <td>Licenciatura</td>\n      <td>Profesional especializado</td>\n      <td>1</td>\n    </tr>\n    <tr>\n      <th>3</th>\n      <td>000026</td>\n      <td>1975-05-14</td>\n      <td>S</td>\n      <td>M</td>\n      <td>60000.0</td>\n      <td>Licenciatura</td>\n      <td>Profesional especializado</td>\n      <td>1</td>\n    </tr>\n    <tr>\n      <th>4</th>\n      <td>000026</td>\n      <td>1975-05-14</td>\n      <td>S</td>\n      <td>M</td>\n      <td>60000.0</td>\n      <td>Licenciatura</td>\n      <td>Profesional especializado</td>\n      <td>1</td>\n    </tr>\n  </tbody>\n</table>\n</div>"
                    },
                    "metadata": {},
                    "execution_count": 22
                }
            ],
            "source": [
                "conn = sqlite3.connect('Tiendas24H.sqlite')\n",
                "consulta=\"select c.CodCliente, FechaNacimiento, EstadoCivil, Sexo, IngresosAnuales, N.NivelAcademico, O.Ocupacion, case     when v.CodCliente is null then 0   else 1  end as 'EsCliente' from clientes c inner join NivelAcademico N    on c.NivelAcademico = N.Codigo     inner join Ocupacion O on c.Ocupacion = o.Codigo     left outer join VentasCAB v          on v.codcliente = C.codcliente where c.Codcliente <>'CONTADO'\"\n",
                "\n",
                "df = pd.read_sql_query(consulta,conn)\n",
                "\n",
                "df.head()"
            ]
        },
        {
            "cell_type": "code",
            "execution_count": 23,
            "metadata": {},
            "outputs": [],
            "source": [
                "df.dropna(axis=0,inplace=True)"
            ]
        },
        {
            "cell_type": "code",
            "execution_count": 24,
            "metadata": {},
            "outputs": [],
            "source": [
                "caracteristicas = [\"EstadoCivil\", \"Sexo\", \"IngresosAnuales\",\"NivelAcademico\", \"Ocupacion\"]\n",
                "etiqueta=\"EsCliente\""
            ]
        },
        {
            "cell_type": "code",
            "execution_count": 25,
            "metadata": {},
            "outputs": [],
            "source": [
                "from sklearn.preprocessing import  OneHotEncoder,LabelEncoder\n",
                "\n",
                "le=LabelEncoder()\n",
                "df['EstadoCivil'] = le.fit_transform(df['EstadoCivil'])\n",
                "df['Sexo'] = le.fit_transform(df['Sexo'])"
            ]
        },
        {
            "cell_type": "code",
            "execution_count": 26,
            "metadata": {},
            "outputs": [],
            "source": [
                "dum_df = pd.get_dummies(df[caracteristicas], columns=[\"NivelAcademico\",\"Ocupacion\"] )"
            ]
        },
        {
            "cell_type": "code",
            "source": [
                "from sklearn.model_selection import train_test_split\n",
                "X, y = dum_df, df[etiqueta]\n"
            ],
            "metadata": {
                "id": "MNpwWMokwrK8",
                "colab_type": "code",
                "colab": {},
                "azdata_cell_guid": "8d2a1d7d-6698-4298-95c9-e15571bb0929"
            },
            "outputs": [],
            "execution_count": 33
        },
        {
            "cell_type": "code",
            "source": [
                "X_train, X_test, y_train, y_test =\\\n",
                "  train_test_split(X, y,\n",
                "  test_size=0.3,\n",
                "  random_state=0,\n",
                "  stratify=y)"
            ],
            "metadata": {
                "id": "XZuviqrSJf23",
                "colab_type": "code",
                "colab": {},
                "azdata_cell_guid": "b1444caa-5199-43a7-83fa-82dfa2f156fc"
            },
            "outputs": [],
            "execution_count": 34
        },
        {
            "cell_type": "markdown",
            "source": [
                "Primero, asignamos la representación en array NumPy de las columnas de características a la variable X. Asignamos las clases de la primera columna a la variable y. Después, utilizamos la función train_test_split para separar en conjuntos de datos de entrenamiento y prueba de forma aleatoria. En este caso estamos asignando el 30% a test y el 70% al conjunto de entrenamiento. El objetivo de pasar también el array de la etiqueta (y) como argumento nos asegura que ambos conjuntos de datos tienen las mismas proporcionas de valores de esa clase que el dataset original"
            ],
            "metadata": {
                "id": "0uUYizTkw7Ny",
                "colab_type": "text",
                "azdata_cell_guid": "b24fea38-95a3-48a4-8e3b-3b9112a3e8c4"
            }
        },
        {
            "cell_type": "markdown",
            "source": [
                "Si dividimos un conjunto de datos en datos de entrenamiento y pruebas debemos de ser conscientes de que estamos dejando de pasarle al algoritmo información que puede ser valiosa, por lo que no debemos de asignar un porcentaje demasiado elevado a ese conjunto de datos. Sin embargo, cuando más pequeño sea el conjunto de entrenamiento, más imprecisa es la estimación del error de generalización. Dividir un conjunto de datos en entrenamiento y prueba se trata de balancear estos dos escenarios. Lo más común es 60:40, 70·30 o 80:20. Sin embargo para conjuntos de datos muy grandes no es rato ver ratios como 90:10 o incluso 99:1\n"
            ],
            "metadata": {
                "id": "RyE0pE9Qw8O6",
                "colab_type": "text",
                "azdata_cell_guid": "9670f293-8641-4a4e-a065-8af0a00dd054"
            }
        },
        {
            "cell_type": "code",
            "execution_count": 35,
            "metadata": {},
            "outputs": [
                {
                    "output_type": "execute_result",
                    "data": {
                        "text/plain": "      EstadoCivil  Sexo  IngresosAnuales  NivelAcademico_Educación Secundaria  \\\n3743            1     1          80000.0                                    0   \n2560            1     1          80000.0                                    0   \n4081            1     1          80000.0                                    0   \n320             1     0          80000.0                                    0   \n8234            0     0          20000.0                                    0   \n...           ...   ...              ...                                  ...   \n4142            1     1          80000.0                                    0   \n7881            0     0         100000.0                                    0   \n7927            0     1          80000.0                                    0   \n4798            1     1          80000.0                                    0   \n2816            1     1          80000.0                                    0   \n\n      NivelAcademico_Educación Secundaria (en curso)  \\\n3743                                               0   \n2560                                               0   \n4081                                               0   \n320                                                0   \n8234                                               0   \n...                                              ...   \n4142                                               0   \n7881                                               0   \n7927                                               1   \n4798                                               0   \n2816                                               0   \n\n      NivelAcademico_Estudios de postgrado  \\\n3743                                     0   \n2560                                     0   \n4081                                     0   \n320                                      0   \n8234                                     0   \n...                                    ...   \n4142                                     0   \n7881                                     0   \n7927                                     0   \n4798                                     0   \n2816                                     0   \n\n      NivelAcademico_Estudios universitarios (en curso)  \\\n3743                                                  0   \n2560                                                  0   \n4081                                                  0   \n320                                                   1   \n8234                                                  1   \n...                                                 ...   \n4142                                                  0   \n7881                                                  1   \n7927                                                  0   \n4798                                                  0   \n2816                                                  0   \n\n      NivelAcademico_Licenciatura  Ocupacion_Empleado por cuenta ajena  \\\n3743                            1                                    0   \n2560                            1                                    0   \n4081                            1                                    0   \n320                             0                                    0   \n8234                            0                                    1   \n...                           ...                                  ...   \n4142                            1                                    0   \n7881                            0                                    0   \n7927                            0                                    0   \n4798                            1                                    0   \n2816                            1                                    0   \n\n      Ocupacion_Empleados/as de hogar  Ocupacion_Mando intermedio  \\\n3743                                0                           1   \n2560                                0                           1   \n4081                                0                           1   \n320                                 0                           0   \n8234                                0                           0   \n...                               ...                         ...   \n4142                                0                           1   \n7881                                0                           0   \n7927                                0                           0   \n4798                                0                           1   \n2816                                0                           1   \n\n      Ocupacion_Profesional especializado  Ocupacion_Profesional independiente  \n3743                                    0                                    0  \n2560                                    0                                    0  \n4081                                    0                                    0  \n320                                     0                                    1  \n8234                                    0                                    0  \n...                                   ...                                  ...  \n4142                                    0                                    0  \n7881                                    1                                    0  \n7927                                    0                                    1  \n4798                                    0                                    0  \n2816                                    0                                    0  \n\n[7278 rows x 13 columns]",
                        "text/html": "<div>\n<style scoped>\n    .dataframe tbody tr th:only-of-type {\n        vertical-align: middle;\n    }\n\n    .dataframe tbody tr th {\n        vertical-align: top;\n    }\n\n    .dataframe thead th {\n        text-align: right;\n    }\n</style>\n<table border=\"1\" class=\"dataframe\">\n  <thead>\n    <tr style=\"text-align: right;\">\n      <th></th>\n      <th>EstadoCivil</th>\n      <th>Sexo</th>\n      <th>IngresosAnuales</th>\n      <th>NivelAcademico_Educación Secundaria</th>\n      <th>NivelAcademico_Educación Secundaria (en curso)</th>\n      <th>NivelAcademico_Estudios de postgrado</th>\n      <th>NivelAcademico_Estudios universitarios (en curso)</th>\n      <th>NivelAcademico_Licenciatura</th>\n      <th>Ocupacion_Empleado por cuenta ajena</th>\n      <th>Ocupacion_Empleados/as de hogar</th>\n      <th>Ocupacion_Mando intermedio</th>\n      <th>Ocupacion_Profesional especializado</th>\n      <th>Ocupacion_Profesional independiente</th>\n    </tr>\n  </thead>\n  <tbody>\n    <tr>\n      <th>3743</th>\n      <td>1</td>\n      <td>1</td>\n      <td>80000.0</td>\n      <td>0</td>\n      <td>0</td>\n      <td>0</td>\n      <td>0</td>\n      <td>1</td>\n      <td>0</td>\n      <td>0</td>\n      <td>1</td>\n      <td>0</td>\n      <td>0</td>\n    </tr>\n    <tr>\n      <th>2560</th>\n      <td>1</td>\n      <td>1</td>\n      <td>80000.0</td>\n      <td>0</td>\n      <td>0</td>\n      <td>0</td>\n      <td>0</td>\n      <td>1</td>\n      <td>0</td>\n      <td>0</td>\n      <td>1</td>\n      <td>0</td>\n      <td>0</td>\n    </tr>\n    <tr>\n      <th>4081</th>\n      <td>1</td>\n      <td>1</td>\n      <td>80000.0</td>\n      <td>0</td>\n      <td>0</td>\n      <td>0</td>\n      <td>0</td>\n      <td>1</td>\n      <td>0</td>\n      <td>0</td>\n      <td>1</td>\n      <td>0</td>\n      <td>0</td>\n    </tr>\n    <tr>\n      <th>320</th>\n      <td>1</td>\n      <td>0</td>\n      <td>80000.0</td>\n      <td>0</td>\n      <td>0</td>\n      <td>0</td>\n      <td>1</td>\n      <td>0</td>\n      <td>0</td>\n      <td>0</td>\n      <td>0</td>\n      <td>0</td>\n      <td>1</td>\n    </tr>\n    <tr>\n      <th>8234</th>\n      <td>0</td>\n      <td>0</td>\n      <td>20000.0</td>\n      <td>0</td>\n      <td>0</td>\n      <td>0</td>\n      <td>1</td>\n      <td>0</td>\n      <td>1</td>\n      <td>0</td>\n      <td>0</td>\n      <td>0</td>\n      <td>0</td>\n    </tr>\n    <tr>\n      <th>...</th>\n      <td>...</td>\n      <td>...</td>\n      <td>...</td>\n      <td>...</td>\n      <td>...</td>\n      <td>...</td>\n      <td>...</td>\n      <td>...</td>\n      <td>...</td>\n      <td>...</td>\n      <td>...</td>\n      <td>...</td>\n      <td>...</td>\n    </tr>\n    <tr>\n      <th>4142</th>\n      <td>1</td>\n      <td>1</td>\n      <td>80000.0</td>\n      <td>0</td>\n      <td>0</td>\n      <td>0</td>\n      <td>0</td>\n      <td>1</td>\n      <td>0</td>\n      <td>0</td>\n      <td>1</td>\n      <td>0</td>\n      <td>0</td>\n    </tr>\n    <tr>\n      <th>7881</th>\n      <td>0</td>\n      <td>0</td>\n      <td>100000.0</td>\n      <td>0</td>\n      <td>0</td>\n      <td>0</td>\n      <td>1</td>\n      <td>0</td>\n      <td>0</td>\n      <td>0</td>\n      <td>0</td>\n      <td>1</td>\n      <td>0</td>\n    </tr>\n    <tr>\n      <th>7927</th>\n      <td>0</td>\n      <td>1</td>\n      <td>80000.0</td>\n      <td>0</td>\n      <td>1</td>\n      <td>0</td>\n      <td>0</td>\n      <td>0</td>\n      <td>0</td>\n      <td>0</td>\n      <td>0</td>\n      <td>0</td>\n      <td>1</td>\n    </tr>\n    <tr>\n      <th>4798</th>\n      <td>1</td>\n      <td>1</td>\n      <td>80000.0</td>\n      <td>0</td>\n      <td>0</td>\n      <td>0</td>\n      <td>0</td>\n      <td>1</td>\n      <td>0</td>\n      <td>0</td>\n      <td>1</td>\n      <td>0</td>\n      <td>0</td>\n    </tr>\n    <tr>\n      <th>2816</th>\n      <td>1</td>\n      <td>1</td>\n      <td>80000.0</td>\n      <td>0</td>\n      <td>0</td>\n      <td>0</td>\n      <td>0</td>\n      <td>1</td>\n      <td>0</td>\n      <td>0</td>\n      <td>1</td>\n      <td>0</td>\n      <td>0</td>\n    </tr>\n  </tbody>\n</table>\n<p>7278 rows × 13 columns</p>\n</div>"
                    },
                    "metadata": {},
                    "execution_count": 35
                }
            ],
            "source": [
                "X_train"
            ]
        },
        {
            "cell_type": "code",
            "execution_count": 36,
            "metadata": {},
            "outputs": [
                {
                    "output_type": "execute_result",
                    "data": {
                        "text/plain": "3743    1\n2560    1\n4081    1\n320     1\n8234    1\n       ..\n4142    1\n7881    1\n7927    1\n4798    1\n2816    1\nName: EsCliente, Length: 7278, dtype: int64"
                    },
                    "metadata": {},
                    "execution_count": 36
                }
            ],
            "source": [
                "y_train"
            ]
        },
        {
            "cell_type": "code",
            "execution_count": null,
            "metadata": {},
            "outputs": [],
            "source": []
        }
    ]
}