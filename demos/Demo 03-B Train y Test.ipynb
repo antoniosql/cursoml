{
    "metadata": {
        "kernelspec": {
            "name": "python3",
            "display_name": "Python 3"
        },
        "language_info": {
            "name": "python",
            "version": "3.6.6",
            "mimetype": "text/x-python",
            "codemirror_mode": {
                "name": "ipython",
                "version": 3
            },
            "pygments_lexer": "ipython3",
            "nbconvert_exporter": "python",
            "file_extension": ".py"
        }
    },
    "nbformat_minor": 2,
    "nbformat": 4,
    "cells": [
        {
            "cell_type": "markdown",
            "source": [
                "![SolidQ](https://www.solidq.com/wp-content/uploads/2015/06/Logo-SolidQ-Web.gif)"
            ],
            "metadata": {
                "azdata_cell_guid": "43994f00-ea37-4152-be96-0b470ebe397a"
            }
        },
        {
            "cell_type": "code",
            "source": [
                "import pandas as pd\n",
                "import numpy as np\n",
                "df_wine = pd.read_csv('https://archive.ics.uci.edu/ml/machine-learning-databases/wine/wine.data',header=None)"
            ],
            "metadata": {
                "id": "JoHf1DL1wBMB",
                "colab_type": "code",
                "colab": {},
                "azdata_cell_guid": "12c21c88-1fbb-455c-a75c-95e51244c739"
            },
            "outputs": [],
            "execution_count": 0
        },
        {
            "cell_type": "code",
            "source": [
                "df_wine.columns = ['Class label', 'Alcohol',\n",
                "  'Malic acid', 'Ash',\n",
                "  'Alcalinity of ash', 'Magnesium',\n",
                "  'Total phenols', 'Flavanoids',\n",
                "  'Nonflavanoid phenols',\n",
                "  'Proanthocyanins',\n",
                "  'Color intensity', 'Hue',\n",
                "  'OD280/OD315 of diluted wines',\n",
                "  'Proline']\n",
                "print('Class labels', np.unique(df_wine['Class label']))"
            ],
            "metadata": {
                "id": "QbiN03j-wNWl",
                "colab_type": "code",
                "outputId": "c83deb88-980f-45ca-fea2-05c2539fb14d",
                "executionInfo": {
                    "status": "ok",
                    "timestamp": 1573419033527,
                    "user_tz": -60,
                    "elapsed": 1188,
                    "user": {
                        "displayName": "Machine Learning",
                        "photoUrl": "",
                        "userId": "05609927355646341864"
                    }
                },
                "colab": {
                    "base_uri": "https://localhost:8080/",
                    "height": 34
                },
                "azdata_cell_guid": "df942f21-ed24-465f-b081-c076762ac5c1"
            },
            "outputs": [
                {
                    "output_type": "stream",
                    "name": "stdout",
                    "text": "Class labels [1 2 3]\n"
                }
            ],
            "execution_count": 2
        },
        {
            "cell_type": "code",
            "source": [
                "df_wine.head()"
            ],
            "metadata": {
                "id": "W3Vl4ZUSwkWj",
                "colab_type": "code",
                "colab": {
                    "base_uri": "https://localhost:8080/",
                    "height": 204
                },
                "outputId": "e3adf65d-6cde-4397-f439-f12154ca7241",
                "executionInfo": {
                    "status": "ok",
                    "timestamp": 1573419035695,
                    "user_tz": -60,
                    "elapsed": 850,
                    "user": {
                        "displayName": "Machine Learning",
                        "photoUrl": "",
                        "userId": "05609927355646341864"
                    }
                },
                "azdata_cell_guid": "c2716e07-69c8-4a2f-8bdd-e341ef029bab"
            },
            "outputs": [
                {
                    "output_type": "execute_result",
                    "execution_count": 3,
                    "data": {
                        "text/html": "<div>\n<style scoped>\n    .dataframe tbody tr th:only-of-type {\n        vertical-align: middle;\n    }\n\n    .dataframe tbody tr th {\n        vertical-align: top;\n    }\n\n    .dataframe thead th {\n        text-align: right;\n    }\n</style>\n<table border=\"1\" class=\"dataframe\">\n  <thead>\n    <tr style=\"text-align: right;\">\n      <th></th>\n      <th>Class label</th>\n      <th>Alcohol</th>\n      <th>Malic acid</th>\n      <th>Ash</th>\n      <th>Alcalinity of ash</th>\n      <th>Magnesium</th>\n      <th>Total phenols</th>\n      <th>Flavanoids</th>\n      <th>Nonflavanoid phenols</th>\n      <th>Proanthocyanins</th>\n      <th>Color intensity</th>\n      <th>Hue</th>\n      <th>OD280/OD315 of diluted wines</th>\n      <th>Proline</th>\n    </tr>\n  </thead>\n  <tbody>\n    <tr>\n      <th>0</th>\n      <td>1</td>\n      <td>14.23</td>\n      <td>1.71</td>\n      <td>2.43</td>\n      <td>15.6</td>\n      <td>127</td>\n      <td>2.80</td>\n      <td>3.06</td>\n      <td>0.28</td>\n      <td>2.29</td>\n      <td>5.64</td>\n      <td>1.04</td>\n      <td>3.92</td>\n      <td>1065</td>\n    </tr>\n    <tr>\n      <th>1</th>\n      <td>1</td>\n      <td>13.20</td>\n      <td>1.78</td>\n      <td>2.14</td>\n      <td>11.2</td>\n      <td>100</td>\n      <td>2.65</td>\n      <td>2.76</td>\n      <td>0.26</td>\n      <td>1.28</td>\n      <td>4.38</td>\n      <td>1.05</td>\n      <td>3.40</td>\n      <td>1050</td>\n    </tr>\n    <tr>\n      <th>2</th>\n      <td>1</td>\n      <td>13.16</td>\n      <td>2.36</td>\n      <td>2.67</td>\n      <td>18.6</td>\n      <td>101</td>\n      <td>2.80</td>\n      <td>3.24</td>\n      <td>0.30</td>\n      <td>2.81</td>\n      <td>5.68</td>\n      <td>1.03</td>\n      <td>3.17</td>\n      <td>1185</td>\n    </tr>\n    <tr>\n      <th>3</th>\n      <td>1</td>\n      <td>14.37</td>\n      <td>1.95</td>\n      <td>2.50</td>\n      <td>16.8</td>\n      <td>113</td>\n      <td>3.85</td>\n      <td>3.49</td>\n      <td>0.24</td>\n      <td>2.18</td>\n      <td>7.80</td>\n      <td>0.86</td>\n      <td>3.45</td>\n      <td>1480</td>\n    </tr>\n    <tr>\n      <th>4</th>\n      <td>1</td>\n      <td>13.24</td>\n      <td>2.59</td>\n      <td>2.87</td>\n      <td>21.0</td>\n      <td>118</td>\n      <td>2.80</td>\n      <td>2.69</td>\n      <td>0.39</td>\n      <td>1.82</td>\n      <td>4.32</td>\n      <td>1.04</td>\n      <td>2.93</td>\n      <td>735</td>\n    </tr>\n  </tbody>\n</table>\n</div>",
                        "text/plain": "   Class label  Alcohol  ...  OD280/OD315 of diluted wines  Proline\n0            1    14.23  ...                          3.92     1065\n1            1    13.20  ...                          3.40     1050\n2            1    13.16  ...                          3.17     1185\n3            1    14.37  ...                          3.45     1480\n4            1    13.24  ...                          2.93      735\n\n[5 rows x 14 columns]"
                    },
                    "metadata": {
                        "tags": []
                    }
                }
            ],
            "execution_count": 3
        },
        {
            "cell_type": "markdown",
            "source": [
                "En esta caso tenemos uvas de tres clases diferentes 1, 2 y 3 "
            ],
            "metadata": {
                "id": "8fJ7uQRiwqPL",
                "colab_type": "text",
                "azdata_cell_guid": "1262fb79-3add-4886-8e58-1c9c768869a6"
            }
        },
        {
            "cell_type": "code",
            "source": [
                "from sklearn.model_selection import train_test_split\n",
                "X, y = df_wine.iloc[:, 1:].values, df_wine.iloc[:, 0].values\n"
            ],
            "metadata": {
                "id": "MNpwWMokwrK8",
                "colab_type": "code",
                "colab": {},
                "azdata_cell_guid": "8d2a1d7d-6698-4298-95c9-e15571bb0929"
            },
            "outputs": [],
            "execution_count": 0
        },
        {
            "cell_type": "code",
            "source": [
                "X_train, X_test, y_train, y_test =\\\n",
                "  train_test_split(X, y,\n",
                "  test_size=0.3,\n",
                "  random_state=0,\n",
                "  stratify=y)"
            ],
            "metadata": {
                "id": "XZuviqrSJf23",
                "colab_type": "code",
                "colab": {},
                "azdata_cell_guid": "b1444caa-5199-43a7-83fa-82dfa2f156fc"
            },
            "outputs": [],
            "execution_count": 0
        },
        {
            "cell_type": "markdown",
            "source": [
                "Primero, asignamos la representación en array NumPy de las columnas de características a la variable X. Asignamos las clases de la primera columna a la variable y. Después, utilizamos la función train_test_split para separar en conjuntos de datos de entrenamiento y prueba de forma aleatoria. En este caso estamos asignando el 30% a test y el 70% al conjunto de entrenamiento. El objetivo de pasar también el array de la etiqueta (y) como argumento nos asegura que ambos conjuntos de datos tienen las mismas proporcionas de valores de esa clase que el dataset original"
            ],
            "metadata": {
                "id": "0uUYizTkw7Ny",
                "colab_type": "text",
                "azdata_cell_guid": "b24fea38-95a3-48a4-8e3b-3b9112a3e8c4"
            }
        },
        {
            "cell_type": "markdown",
            "source": [
                "Si dividimos un conjunto de datos en datos de entrenamiento y pruebas debemos de ser conscientes de que estamos dejando de pasarle al algoritmo información que puede ser valiosa, por lo que no debemos de asignar un porcentaje demasiado elevado a ese conjunto de datos. Sin embargo, cuando más pequeño sea el conjunto de entrenamiento, más imprecisa es la estimación del error de generalización. Dividir un conjunto de datos en entrenamiento y prueba se trata de balancear estos dos escenarios. Lo más común es 60:40, 70·30 o 80:20. Sin embargo para conjuntos de datos muy grandes no es rato ver ratios como 90:10 o incluso 99:1\n"
            ],
            "metadata": {
                "id": "RyE0pE9Qw8O6",
                "colab_type": "text",
                "azdata_cell_guid": "9670f293-8641-4a4e-a065-8af0a00dd054"
            }
        }
    ]
}