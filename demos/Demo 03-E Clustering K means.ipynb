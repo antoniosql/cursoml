{
    "metadata": {
        "kernelspec": {
            "name": "python3",
            "display_name": "Python 3"
        },
        "language_info": {
            "name": "python",
            "version": "3.6.6",
            "mimetype": "text/x-python",
            "codemirror_mode": {
                "name": "ipython",
                "version": 3
            },
            "pygments_lexer": "ipython3",
            "nbconvert_exporter": "python",
            "file_extension": ".py"
        }
    },
    "nbformat_minor": 2,
    "nbformat": 4,
    "cells": [
        {
            "cell_type": "markdown",
            "source": [
                "![SolidQ](https://www.solidq.com/wp-content/uploads/2015/06/Logo-SolidQ-Web.gif)"
            ],
            "metadata": {
                "azdata_cell_guid": "d9c039cc-bd7a-4b08-a005-98bbc0782fd5"
            }
        },
        {
            "cell_type": "markdown",
            "source": [
                "# Agrupando Frutas"
            ],
            "metadata": {
                "id": "FdSxu9HKREIu",
                "colab_type": "text",
                "azdata_cell_guid": "ca134e23-6ce5-4233-840f-dbe451dc027c"
            }
        },
        {
            "cell_type": "code",
            "source": [
                "import pandas as pd\n",
                "fruits = pd.read_csv('fruit_data_with_colors.txt',sep='\\t')"
            ],
            "metadata": {
                "id": "GI5CErqGMr5T",
                "colab_type": "code",
                "colab": {},
                "azdata_cell_guid": "b7382618-6946-4bb1-9ae9-c5d23ada07f2"
            },
            "outputs": [],
            "execution_count": 0
        },
        {
            "cell_type": "code",
            "source": [
                "fruits.corr()"
            ],
            "metadata": {
                "id": "EL6Q_F1iRiZj",
                "colab_type": "code",
                "colab": {},
                "azdata_cell_guid": "b28aff36-57d4-412f-80d5-9652e67596a4"
            },
            "outputs": [],
            "execution_count": 0
        },
        {
            "cell_type": "code",
            "source": [
                "X_fruits = fruits[['mass','width','height','color_score']]\n",
                "y_fruits = fruits[['fruit_label']]-1"
            ],
            "metadata": {
                "id": "2HD6D3leMsc2",
                "colab_type": "code",
                "colab": {},
                "azdata_cell_guid": "55903525-83fe-4209-85a4-d733118b1608"
            },
            "outputs": [],
            "execution_count": 0
        },
        {
            "cell_type": "code",
            "source": [
                "X_fruits = fruits[['mass','color_score']]\n",
                "y_fruits = fruits[['fruit_label']]-1"
            ],
            "metadata": {
                "id": "1T_8gg44Rhwb",
                "colab_type": "code",
                "colab": {},
                "azdata_cell_guid": "eb7892d1-8637-4d3f-89f8-b92e112abbf4"
            },
            "outputs": [],
            "execution_count": 0
        },
        {
            "cell_type": "code",
            "source": [
                "from sklearn.preprocessing import MinMaxScaler\n",
                "X_fruits_normalized = MinMaxScaler().fit(X_fruits).transform(X_fruits)"
            ],
            "metadata": {
                "id": "e_YGchnmMsiw",
                "colab_type": "code",
                "colab": {},
                "azdata_cell_guid": "5b2bdb7b-9b6e-43c8-b5c6-6959f3ca0692"
            },
            "outputs": [],
            "execution_count": 0
        },
        {
            "cell_type": "code",
            "source": [
                "from sklearn.cluster import KMeans\n",
                "kmeans = KMeans(n_clusters = 4, random_state=0)\n",
                "kmeans.fit(X_fruits)"
            ],
            "metadata": {
                "id": "8SPBJCDSMsoJ",
                "colab_type": "code",
                "colab": {},
                "azdata_cell_guid": "fe20ff67-da11-4fea-a069-219e9e7b4bea"
            },
            "outputs": [],
            "execution_count": 0
        },
        {
            "cell_type": "code",
            "source": [
                "kmeans.labels_"
            ],
            "metadata": {
                "id": "_MvGFGnQOspu",
                "colab_type": "code",
                "colab": {},
                "azdata_cell_guid": "a630e74c-a939-4738-bb80-0a9ca3e39c50"
            },
            "outputs": [],
            "execution_count": 0
        },
        {
            "cell_type": "code",
            "source": [
                "import numpy as np\n",
                "predY = np.choose(kmeans.labels_, [2, 3, 1, 0]).astype(np.int64) #intentamos asociar el número de cluster con la etiqueta para poder mostrarlos después del mismo color\n",
                "print (kmeans.labels_)\n",
                "print (predY)\n",
                "print(y_fruits.fruit_label)"
            ],
            "metadata": {
                "id": "BTg7TeLdSUHn",
                "colab_type": "code",
                "colab": {},
                "azdata_cell_guid": "15ec1053-f658-4e92-94d1-849774806a30"
            },
            "outputs": [],
            "execution_count": 0
        },
        {
            "cell_type": "code",
            "source": [
                "import matplotlib.pyplot as plt\n",
                "\n",
                "\n",
                "plt.figure(figsize=(14,7))\n",
                " \n",
                "# Crear colormap\n",
                "colormap = np.array(['red', 'lime', 'black','yellow'])\n",
                " \n",
                "# Plot de las clasificaciones originales\n",
                "plt.subplot(1, 2, 1)\n",
                "plt.scatter(X_fruits.mass, X_fruits.color_score, c=colormap[y_fruits.fruit_label], s=40)\n",
                "plt.title('Real Classification')\n",
                " \n",
                "# Plot de las clasificaciones del modelo\n",
                "plt.subplot(1, 2, 2)\n",
                "plt.scatter(X_fruits.mass, X_fruits.color_score, c=colormap[kmeans.labels_], s=40)\n",
                "plt.title('K Mean Classification')"
            ],
            "metadata": {
                "id": "RdIbm4QvO18v",
                "colab_type": "code",
                "colab": {},
                "azdata_cell_guid": "bd633317-c67e-4c72-8b15-e42f5aba64be"
            },
            "outputs": [],
            "execution_count": 0
        },
        {
            "cell_type": "code",
            "source": [
                "import sklearn.metrics as sm\n",
                "\n",
                "sm.accuracy_score(y_fruits, kmeans.labels_)"
            ],
            "metadata": {
                "id": "g_ixoXt_QmSK",
                "colab_type": "code",
                "colab": {},
                "azdata_cell_guid": "87a60d28-b27d-448e-a941-3327cd0cbaea"
            },
            "outputs": [],
            "execution_count": 0
        },
        {
            "cell_type": "markdown",
            "source": [
                "# Agrupando las flores"
            ],
            "metadata": {
                "id": "tpNmQquqXa4F",
                "colab_type": "text",
                "azdata_cell_guid": "6831382b-378a-410c-bf5c-68b2880abf5d"
            }
        },
        {
            "cell_type": "code",
            "source": [
                "\n",
                "import matplotlib.pyplot as plt\n",
                "from sklearn import datasets\n",
                "from sklearn.cluster import KMeans\n",
                "import sklearn.metrics as sm\n",
                " \n",
                "import pandas as pd\n",
                "import numpy as np\n",
                " \n"
            ],
            "metadata": {
                "id": "w3kKIhwEdFk_",
                "colab_type": "code",
                "colab": {},
                "azdata_cell_guid": "69531994-9c02-49ca-9b4f-6e85ccda9235"
            },
            "outputs": [],
            "execution_count": 0
        },
        {
            "cell_type": "code",
            "source": [
                "iris = datasets.load_iris()"
            ],
            "metadata": {
                "id": "gTLKrhWudKTg",
                "colab_type": "code",
                "colab": {},
                "azdata_cell_guid": "0955e010-6795-4feb-babc-1f1ea7a0d203"
            },
            "outputs": [],
            "execution_count": 0
        },
        {
            "cell_type": "code",
            "source": [
                "x = pd.DataFrame(iris.data)\n",
                "x.columns = ['Sepal_Length','Sepal_Width','Petal_Length','Petal_Width']\n",
                " \n",
                "y = pd.DataFrame(iris.target)\n",
                "y.columns = ['Targets']"
            ],
            "metadata": {
                "id": "wDZcvC45dLGx",
                "colab_type": "code",
                "colab": {},
                "azdata_cell_guid": "26fd0e44-7b9b-47b5-b32e-9ed6ea01bdb0"
            },
            "outputs": [],
            "execution_count": 0
        },
        {
            "cell_type": "code",
            "source": [
                "# Configurar tamaño del plot\n",
                "plt.figure(figsize=(14,7))\n",
                " \n",
                "# Crear un colormap\n",
                "colormap = np.array(['red', 'lime', 'black'])\n",
                " \n",
                "# Plot Sepal\n",
                "plt.subplot(1, 2, 1)\n",
                "plt.scatter(x.Sepal_Length, x.Sepal_Width, c=colormap[y.Targets], s=40)\n",
                "plt.title('Sepal')\n",
                " \n",
                "plt.subplot(1, 2, 2)\n",
                "plt.scatter(x.Petal_Length, x.Petal_Width, c=colormap[y.Targets], s=40)\n",
                "plt.title('Petal')"
            ],
            "metadata": {
                "id": "xysRaKn8dUov",
                "colab_type": "code",
                "colab": {
                    "base_uri": "https://localhost:8080/",
                    "height": 481
                },
                "outputId": "cc929bd6-efa3-455e-a33f-fb7196839e55",
                "executionInfo": {
                    "status": "ok",
                    "timestamp": 1562345330323,
                    "user_tz": -120,
                    "elapsed": 1348,
                    "user": {
                        "displayName": "Machine Learning",
                        "photoUrl": "",
                        "userId": "05609927355646341864"
                    }
                },
                "azdata_cell_guid": "3dc5f214-00e4-408d-ac0b-6d95e1b3676d"
            },
            "outputs": [
                {
                    "output_type": "execute_result",
                    "execution_count": 4,
                    "data": {
                        "text/plain": "Text(0.5, 1.0, 'Petal')"
                    },
                    "metadata": {
                        "tags": []
                    }
                },
                {
                    "output_type": "display_data",
                    "data": {
                        "image/png": "[encoded data removed]",
                        "text/plain": "<Figure size 1008x504 with 2 Axes>"
                    },
                    "metadata": {
                        "tags": []
                    }
                }
            ],
            "execution_count": 4
        },
        {
            "cell_type": "code",
            "source": [
                "model = KMeans(n_clusters=3)\n",
                "model.fit(x)"
            ],
            "metadata": {
                "id": "jqvPlirwdaj7",
                "colab_type": "code",
                "colab": {
                    "base_uri": "https://localhost:8080/",
                    "height": 68
                },
                "outputId": "eafab3c5-43fb-43d4-e95a-b7a91d17cd98",
                "executionInfo": {
                    "status": "ok",
                    "timestamp": 1562345392339,
                    "user_tz": -120,
                    "elapsed": 562,
                    "user": {
                        "displayName": "Machine Learning",
                        "photoUrl": "",
                        "userId": "05609927355646341864"
                    }
                },
                "azdata_cell_guid": "8c179c06-beac-46fa-b610-6e0512e69194"
            },
            "outputs": [
                {
                    "output_type": "execute_result",
                    "execution_count": 5,
                    "data": {
                        "text/plain": "KMeans(algorithm='auto', copy_x=True, init='k-means++', max_iter=300,\n       n_clusters=3, n_init=10, n_jobs=None, precompute_distances='auto',\n       random_state=None, tol=0.0001, verbose=0)"
                    },
                    "metadata": {
                        "tags": []
                    }
                }
            ],
            "execution_count": 5
        },
        {
            "cell_type": "code",
            "source": [
                "\n",
                "# Resultado\n",
                "model.labels_"
            ],
            "metadata": {
                "id": "Gc7lgPOndc3V",
                "colab_type": "code",
                "colab": {
                    "base_uri": "https://localhost:8080/",
                    "height": 136
                },
                "outputId": "859f114b-07b3-4835-c2f9-435947a60b68",
                "executionInfo": {
                    "status": "ok",
                    "timestamp": 1562345399961,
                    "user_tz": -120,
                    "elapsed": 681,
                    "user": {
                        "displayName": "Machine Learning",
                        "photoUrl": "",
                        "userId": "05609927355646341864"
                    }
                },
                "azdata_cell_guid": "8c298b0e-c9c0-4256-9d3c-c7060c1a7fec"
            },
            "outputs": [
                {
                    "output_type": "execute_result",
                    "execution_count": 6,
                    "data": {
                        "text/plain": "array([1, 1, 1, 1, 1, 1, 1, 1, 1, 1, 1, 1, 1, 1, 1, 1, 1, 1, 1, 1, 1, 1,\n       1, 1, 1, 1, 1, 1, 1, 1, 1, 1, 1, 1, 1, 1, 1, 1, 1, 1, 1, 1, 1, 1,\n       1, 1, 1, 1, 1, 1, 0, 0, 2, 0, 0, 0, 0, 0, 0, 0, 0, 0, 0, 0, 0, 0,\n       0, 0, 0, 0, 0, 0, 0, 0, 0, 0, 0, 2, 0, 0, 0, 0, 0, 0, 0, 0, 0, 0,\n       0, 0, 0, 0, 0, 0, 0, 0, 0, 0, 0, 0, 2, 0, 2, 2, 2, 2, 0, 2, 2, 2,\n       2, 2, 2, 0, 0, 2, 2, 2, 2, 0, 2, 0, 2, 0, 2, 2, 0, 0, 2, 2, 2, 2,\n       2, 0, 2, 2, 2, 2, 0, 2, 2, 2, 0, 2, 2, 2, 0, 2, 2, 0], dtype=int32)"
                    },
                    "metadata": {
                        "tags": []
                    }
                }
            ],
            "execution_count": 6
        },
        {
            "cell_type": "code",
            "source": [
                "plt.figure(figsize=(14,7))\n",
                " \n",
                "# Crear colormap\n",
                "colormap = np.array(['red', 'lime', 'black'])\n",
                " \n",
                "# Plot de las clasificaciones originales\n",
                "plt.subplot(1, 2, 1)\n",
                "plt.scatter(x.Petal_Length, x.Petal_Width, c=colormap[y.Targets], s=40)\n",
                "plt.title('Real Classification')\n",
                " \n",
                "# Plot de las clasificaciones del modelo\n",
                "plt.subplot(1, 2, 2)\n",
                "plt.scatter(x.Petal_Length, x.Petal_Width, c=colormap[model.labels_], s=40)\n",
                "plt.title('K Mean Classification')"
            ],
            "metadata": {
                "id": "UiW698FAdhFd",
                "colab_type": "code",
                "colab": {},
                "azdata_cell_guid": "0641b3c4-a292-4b0d-a570-4f5abc4835cc"
            },
            "outputs": [],
            "execution_count": 0
        },
        {
            "cell_type": "code",
            "source": [
                "sm.accuracy_score(y, model.labels_)"
            ],
            "metadata": {
                "id": "hYafHdf0ea7H",
                "colab_type": "code",
                "colab": {
                    "base_uri": "https://localhost:8080/",
                    "height": 34
                },
                "outputId": "527cc7a7-4634-4e6b-a2b8-6254cb753f6a",
                "executionInfo": {
                    "status": "ok",
                    "timestamp": 1562345429647,
                    "user_tz": -120,
                    "elapsed": 552,
                    "user": {
                        "displayName": "Machine Learning",
                        "photoUrl": "",
                        "userId": "05609927355646341864"
                    }
                },
                "azdata_cell_guid": "be3d5c91-c6c0-4b4a-b581-5e5464ec5dd5"
            },
            "outputs": [
                {
                    "output_type": "execute_result",
                    "execution_count": 7,
                    "data": {
                        "text/plain": "0.24"
                    },
                    "metadata": {
                        "tags": []
                    }
                }
            ],
            "execution_count": 7
        },
        {
            "cell_type": "code",
            "source": [
                "model = KMeans(n_clusters=3)\n",
                "model.fit(x)"
            ],
            "metadata": {
                "id": "TsWfG11MefcV",
                "colab_type": "code",
                "colab": {},
                "azdata_cell_guid": "e57ccc14-467b-4565-873c-fdccca58a60b"
            },
            "outputs": [],
            "execution_count": 0
        },
        {
            "cell_type": "code",
            "source": [
                "predY = np.choose(model.labels_, [1, 0, 2]).astype(np.int64)\n",
                "print (model.labels_)\n",
                "print (predY)"
            ],
            "metadata": {
                "id": "1r_S7dyTdv-5",
                "colab_type": "code",
                "colab": {
                    "base_uri": "https://localhost:8080/",
                    "height": 187
                },
                "outputId": "84cf4a01-ddbe-4267-d8d8-8ec0266bb2bf",
                "executionInfo": {
                    "status": "ok",
                    "timestamp": 1562345452288,
                    "user_tz": -120,
                    "elapsed": 574,
                    "user": {
                        "displayName": "Machine Learning",
                        "photoUrl": "",
                        "userId": "05609927355646341864"
                    }
                },
                "azdata_cell_guid": "7ca8bfd0-d02b-4d5d-99a3-9667a8b306a5"
            },
            "outputs": [
                {
                    "output_type": "stream",
                    "name": "stdout",
                    "text": "[1 1 1 1 1 1 1 1 1 1 1 1 1 1 1 1 1 1 1 1 1 1 1 1 1 1 1 1 1 1 1 1 1 1 1 1 1\n 1 1 1 1 1 1 1 1 1 1 1 1 1 0 0 2 0 0 0 0 0 0 0 0 0 0 0 0 0 0 0 0 0 0 0 0 0\n 0 0 0 2 0 0 0 0 0 0 0 0 0 0 0 0 0 0 0 0 0 0 0 0 0 0 2 0 2 2 2 2 0 2 2 2 2\n 2 2 0 0 2 2 2 2 0 2 0 2 0 2 2 0 0 2 2 2 2 2 0 2 2 2 2 0 2 2 2 0 2 2 2 0 2\n 2 0]\n[0 0 0 0 0 0 0 0 0 0 0 0 0 0 0 0 0 0 0 0 0 0 0 0 0 0 0 0 0 0 0 0 0 0 0 0 0\n 0 0 0 0 0 0 0 0 0 0 0 0 0 1 1 2 1 1 1 1 1 1 1 1 1 1 1 1 1 1 1 1 1 1 1 1 1\n 1 1 1 2 1 1 1 1 1 1 1 1 1 1 1 1 1 1 1 1 1 1 1 1 1 1 2 1 2 2 2 2 1 2 2 2 2\n 2 2 1 1 2 2 2 2 1 2 1 2 1 2 2 1 1 2 2 2 2 2 1 2 2 2 2 1 2 2 2 1 2 2 2 1 2\n 2 1]\n"
                }
            ],
            "execution_count": 8
        },
        {
            "cell_type": "code",
            "source": [
                "# Ver los resultados\n",
                "# Configurar el tamaño del plot\n",
                "plt.figure(figsize=(14,7))\n",
                " \n",
                "# Crear un colormap\n",
                "colormap = np.array(['red', 'lime', 'black'])\n",
                " \n",
                "# Plot Orginal\n",
                "plt.subplot(1, 2, 1)\n",
                "plt.scatter(x.Petal_Length, x.Petal_Width, c=colormap[y.Targets], s=40)\n",
                "plt.title('Real Classification')\n",
                " \n",
                "# Plot Predicción con valores corregidos\n",
                "plt.subplot(1, 2, 2)\n",
                "plt.scatter(x.Petal_Length, x.Petal_Width, c=colormap[predY], s=40)\n",
                "plt.title('K Mean Classification')"
            ],
            "metadata": {
                "id": "Zyb4Obvcdyq8",
                "colab_type": "code",
                "colab": {
                    "base_uri": "https://localhost:8080/",
                    "height": 481
                },
                "outputId": "47eb532f-da81-4eb8-e138-adf44bdf7939",
                "executionInfo": {
                    "status": "ok",
                    "timestamp": 1562345470657,
                    "user_tz": -120,
                    "elapsed": 1099,
                    "user": {
                        "displayName": "Machine Learning",
                        "photoUrl": "",
                        "userId": "05609927355646341864"
                    }
                },
                "azdata_cell_guid": "9da1a44d-caf5-49d4-a89d-fd7830163504"
            },
            "outputs": [
                {
                    "output_type": "execute_result",
                    "execution_count": 9,
                    "data": {
                        "text/plain": "Text(0.5, 1.0, 'K Mean Classification')"
                    },
                    "metadata": {
                        "tags": []
                    }
                },
                {
                    "output_type": "display_data",
                    "data": {
                        "image/png": "[encoded data removed]",
                        "text/plain": "<Figure size 1008x504 with 2 Axes>"
                    },
                    "metadata": {
                        "tags": []
                    }
                }
            ],
            "execution_count": 9
        },
        {
            "cell_type": "code",
            "source": [
                "sm.cluster.contingency_matrix(y,model.labels_)"
            ],
            "metadata": {
                "id": "2GEubN9J4boX",
                "colab_type": "code",
                "colab": {
                    "base_uri": "https://localhost:8080/",
                    "height": 68
                },
                "outputId": "1574fbd2-4474-4dd4-f433-0f3f1864dd46",
                "executionInfo": {
                    "status": "ok",
                    "timestamp": 1562345505627,
                    "user_tz": -120,
                    "elapsed": 551,
                    "user": {
                        "displayName": "Machine Learning",
                        "photoUrl": "",
                        "userId": "05609927355646341864"
                    }
                },
                "azdata_cell_guid": "3bc42fc8-74f6-4a50-8733-f612d3ff92f1"
            },
            "outputs": [
                {
                    "output_type": "execute_result",
                    "execution_count": 10,
                    "data": {
                        "text/plain": "array([[ 0, 50,  0],\n       [48,  0,  2],\n       [14,  0, 36]])"
                    },
                    "metadata": {
                        "tags": []
                    }
                }
            ],
            "execution_count": 10
        },
        {
            "cell_type": "code",
            "source": [
                "sm.confusion_matrix(y,model.labels_)"
            ],
            "metadata": {
                "id": "O9qGImyy6Ay-",
                "colab_type": "code",
                "colab": {},
                "azdata_cell_guid": "cf8d02cc-fe67-4503-a67e-24b751194d99"
            },
            "outputs": [],
            "execution_count": 0
        },
        {
            "cell_type": "code",
            "source": [
                ""
            ],
            "metadata": {
                "id": "wBIhdvHbQkqh",
                "colab_type": "code",
                "colab": {},
                "azdata_cell_guid": "3081ed06-54d2-4160-b6ec-e7a1d72275ce"
            },
            "outputs": [],
            "execution_count": 0
        }
    ]
}