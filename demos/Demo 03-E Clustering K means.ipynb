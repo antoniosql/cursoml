{
    "metadata": {
        "kernelspec": {
            "name": "python_defaultSpec_1600717794385",
            "display_name": "Python 3.8.5 64-bit"
        },
        "language_info": {
            "name": "python",
            "version": "3.8.5-final",
            "mimetype": "text/x-python",
            "codemirror_mode": {
                "name": "ipython",
                "version": 3
            },
            "pygments_lexer": "ipython3",
            "nbconvert_exporter": "python",
            "file_extension": ".py"
        }
    },
    "nbformat_minor": 2,
    "nbformat": 4,
    "cells": [
        {
            "cell_type": "markdown",
            "source": [
                "![Verne](https://www.vernegroup.com/wp-content/uploads/2020/07/LOGO-VERNE-TECHNOLOGY-GROUP-3.png)"
            ],
            "metadata": {
                "azdata_cell_guid": "d9c039cc-bd7a-4b08-a005-98bbc0782fd5"
            }
        },
        {
            "cell_type": "markdown",
            "source": [
                "# Agrupando Clientes"
            ],
            "metadata": {
                "id": "FdSxu9HKREIu",
                "colab_type": "text",
                "azdata_cell_guid": "ca134e23-6ce5-4233-840f-dbe451dc027c"
            }
        },
        {
            "cell_type": "code",
            "source": [
                "import pandas as pd\n",
                "import numpy as np\n",
                "import sqlite3\n",
                "import matplotlib.pyplot as plt"
            ],
            "metadata": {
                "id": "GI5CErqGMr5T",
                "colab_type": "code",
                "colab": {},
                "azdata_cell_guid": "b7382618-6946-4bb1-9ae9-c5d23ada07f2"
            },
            "outputs": [],
            "execution_count": 1
        },
        {
            "cell_type": "code",
            "execution_count": 12,
            "metadata": {},
            "outputs": [
                {
                    "output_type": "execute_result",
                    "data": {
                        "text/plain": "  CodCliente FechaNacimiento  Edad EstadoCivil Sexo  IngresosAnuales  \\\n0     000020      1976-04-08  44.0           M    M          90000.0   \n1     000026      1975-05-14  45.0           S    M          60000.0   \n2     000029      1975-08-12  45.0           M    M          60000.0   \n3     000046      1978-02-15  43.0           S    F          70000.0   \n4     000047      1978-08-08  42.0           S    F          80000.0   \n\n   HijosACargo NivelAcademico                  Ocupacion  \n0          0.0   Licenciatura  Profesional especializado  \n1          3.0   Licenciatura  Profesional especializado  \n2          3.0   Licenciatura  Profesional especializado  \n3          0.0   Licenciatura  Profesional especializado  \n4          5.0   Licenciatura  Profesional especializado  ",
                        "text/html": "<div>\n<style scoped>\n    .dataframe tbody tr th:only-of-type {\n        vertical-align: middle;\n    }\n\n    .dataframe tbody tr th {\n        vertical-align: top;\n    }\n\n    .dataframe thead th {\n        text-align: right;\n    }\n</style>\n<table border=\"1\" class=\"dataframe\">\n  <thead>\n    <tr style=\"text-align: right;\">\n      <th></th>\n      <th>CodCliente</th>\n      <th>FechaNacimiento</th>\n      <th>Edad</th>\n      <th>EstadoCivil</th>\n      <th>Sexo</th>\n      <th>IngresosAnuales</th>\n      <th>HijosACargo</th>\n      <th>NivelAcademico</th>\n      <th>Ocupacion</th>\n    </tr>\n  </thead>\n  <tbody>\n    <tr>\n      <th>0</th>\n      <td>000020</td>\n      <td>1976-04-08</td>\n      <td>44.0</td>\n      <td>M</td>\n      <td>M</td>\n      <td>90000.0</td>\n      <td>0.0</td>\n      <td>Licenciatura</td>\n      <td>Profesional especializado</td>\n    </tr>\n    <tr>\n      <th>1</th>\n      <td>000026</td>\n      <td>1975-05-14</td>\n      <td>45.0</td>\n      <td>S</td>\n      <td>M</td>\n      <td>60000.0</td>\n      <td>3.0</td>\n      <td>Licenciatura</td>\n      <td>Profesional especializado</td>\n    </tr>\n    <tr>\n      <th>2</th>\n      <td>000029</td>\n      <td>1975-08-12</td>\n      <td>45.0</td>\n      <td>M</td>\n      <td>M</td>\n      <td>60000.0</td>\n      <td>3.0</td>\n      <td>Licenciatura</td>\n      <td>Profesional especializado</td>\n    </tr>\n    <tr>\n      <th>3</th>\n      <td>000046</td>\n      <td>1978-02-15</td>\n      <td>43.0</td>\n      <td>S</td>\n      <td>F</td>\n      <td>70000.0</td>\n      <td>0.0</td>\n      <td>Licenciatura</td>\n      <td>Profesional especializado</td>\n    </tr>\n    <tr>\n      <th>4</th>\n      <td>000047</td>\n      <td>1978-08-08</td>\n      <td>42.0</td>\n      <td>S</td>\n      <td>F</td>\n      <td>80000.0</td>\n      <td>5.0</td>\n      <td>Licenciatura</td>\n      <td>Profesional especializado</td>\n    </tr>\n  </tbody>\n</table>\n</div>"
                    },
                    "metadata": {},
                    "execution_count": 12
                }
            ],
            "source": [
                "conn = sqlite3.connect('Tiendas24H.sqlite')\n",
                "consulta=\"select c.CodCliente, FechaNacimiento,  round((julianday('now') - julianday(FechaNacimiento))/365) as Edad,EstadoCivil, Sexo,IngresosAnuales, HijosACargo, N.NivelAcademico, O.Ocupacion from clientes c inner join NivelAcademico N    on c.NivelAcademico = N.Codigo     inner join Ocupacion O on c.Ocupacion = o.Codigo\"\n",
                "\n",
                "df = pd.read_sql_query(consulta,conn)\n",
                "\n",
                "df.head()"
            ]
        },
        {
            "cell_type": "code",
            "execution_count": 13,
            "metadata": {},
            "outputs": [],
            "source": [
                "df.dropna(axis=0,inplace=True)"
            ]
        },
        {
            "cell_type": "code",
            "execution_count": 25,
            "metadata": {},
            "outputs": [],
            "source": [
                "#Personalizado\n",
                "etiquetas = [\"Adolescentes\", \"Millenials\" ,\"EGB\",\"Maduros\"]\n",
                "custombins = [16,29,39,54,88]\n",
                "df[\"RangoEdad\"] = pd.cut(df[\"Edad\"],bins=custombins,labels=etiquetas)"
            ]
        },
        {
            "cell_type": "code",
            "execution_count": 26,
            "metadata": {},
            "outputs": [],
            "source": [
                "caracteristicas=[\"EstadoCivil\" , \"Sexo\",\"IngresosAnuales\",\"HijosACargo\",\"NivelAcademico\",\"Ocupacion\",\"RangoEdad\"]"
            ]
        },
        {
            "cell_type": "code",
            "execution_count": 29,
            "metadata": {},
            "outputs": [],
            "source": [
                "from sklearn.preprocessing import  OneHotEncoder,LabelEncoder\n",
                "\n",
                "le=LabelEncoder()\n",
                "df['EstadoCivil'] = le.fit_transform(df['EstadoCivil'])\n",
                "df['Sexo'] = le.fit_transform(df['Sexo'])"
            ]
        },
        {
            "cell_type": "code",
            "execution_count": 33,
            "metadata": {},
            "outputs": [],
            "source": [
                "dum_df = pd.get_dummies(df[caracteristicas], columns=[\"NivelAcademico\",\"Ocupacion\",\"RangoEdad\"] )\n",
                "X=dum_df"
            ]
        },
        {
            "cell_type": "code",
            "source": [
                "from sklearn.preprocessing import MinMaxScaler\n",
                "X_normalized = MinMaxScaler().fit(X).transform(X)"
            ],
            "metadata": {
                "id": "e_YGchnmMsiw",
                "colab_type": "code",
                "colab": {},
                "azdata_cell_guid": "5b2bdb7b-9b6e-43c8-b5c6-6959f3ca0692"
            },
            "outputs": [],
            "execution_count": 34
        },
        {
            "cell_type": "code",
            "source": [
                "from sklearn.cluster import KMeans\n",
                "kmeans = KMeans(n_clusters = 3, random_state=0)\n",
                "kmeans.fit(X_normalized)"
            ],
            "metadata": {
                "id": "8SPBJCDSMsoJ",
                "colab_type": "code",
                "colab": {},
                "azdata_cell_guid": "fe20ff67-da11-4fea-a069-219e9e7b4bea"
            },
            "outputs": [
                {
                    "output_type": "execute_result",
                    "data": {
                        "text/plain": "KMeans(n_clusters=3, random_state=0)"
                    },
                    "metadata": {},
                    "execution_count": 40
                }
            ],
            "execution_count": 40
        },
        {
            "cell_type": "code",
            "source": [
                "kmeans.labels_"
            ],
            "metadata": {
                "id": "_MvGFGnQOspu",
                "colab_type": "code",
                "colab": {},
                "azdata_cell_guid": "a630e74c-a939-4738-bb80-0a9ca3e39c50"
            },
            "outputs": [
                {
                    "output_type": "execute_result",
                    "data": {
                        "text/plain": "array([1, 1, 1, ..., 1, 1, 1])"
                    },
                    "metadata": {},
                    "execution_count": 41
                }
            ],
            "execution_count": 41
        },
        {
            "cell_type": "code",
            "execution_count": 42,
            "metadata": {},
            "outputs": [
                {
                    "output_type": "execute_result",
                    "data": {
                        "text/plain": "array([[ 2.93733681e-01,  5.16971279e-01,  3.57375979e-01,\n         1.97650131e-01,  1.90600522e-01,  5.35248042e-02,\n         1.50130548e-01,  2.91122715e-01,  3.14621410e-01,\n         4.96083551e-02,  1.42297650e-01,  4.22976501e-01,\n         2.53263708e-01,  1.31853786e-01,  0.00000000e+00,\n        -3.05311332e-16,  1.11022302e-16,  1.00000000e+00],\n       [ 4.19098143e-01,  4.97789567e-01,  3.34659593e-01,\n         2.56233422e-01,  9.46065429e-02,  1.85676393e-02,\n         2.51989390e-01,  2.55526083e-01,  3.79310345e-01,\n         1.09637489e-01,  1.45004421e-01,  1.32625995e-01,\n         3.63395225e-01,  2.49336870e-01,  0.00000000e+00,\n        -5.55111512e-17,  1.00000000e+00,  0.00000000e+00],\n       [ 6.51933702e-01,  4.76979742e-01,  2.16390424e-01,\n         1.10497238e-01,  2.50460405e-01,  1.23388582e-01,\n         1.23388582e-01,  3.48066298e-01,  1.54696133e-01,\n         2.22836096e-01,  1.74953959e-01,  4.60405157e-02,\n         1.84162063e-01,  3.72007366e-01,  0.00000000e+00,\n         9.98158379e-01, -4.99600361e-16, -5.55111512e-17]])"
                    },
                    "metadata": {},
                    "execution_count": 42
                }
            ],
            "source": [
                "kmeans.cluster_centers_"
            ]
        },
        {
            "cell_type": "code",
            "execution_count": 43,
            "metadata": {},
            "outputs": [
                {
                    "output_type": "execute_result",
                    "data": {
                        "text/plain": "5099.017778574503"
                    },
                    "metadata": {},
                    "execution_count": 43
                }
            ],
            "source": [
                "kmeans.inertia_"
            ]
        },
        {
            "cell_type": "code",
            "execution_count": null,
            "metadata": {},
            "outputs": [],
            "source": []
        }
    ]
}