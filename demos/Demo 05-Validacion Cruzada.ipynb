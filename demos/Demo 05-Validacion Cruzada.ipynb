{
    "metadata": {
        "kernelspec": {
            "name": "Python 3.8.5 64-bit",
            "display_name": "Python 3.8.5 64-bit",
            "metadata": {
                "interpreter": {
                    "hash": "18f07aa1f218bd815af44c10d679f476605f722da72676851e9ef086401d84b6"
                }
            }
        },
        "language_info": {
            "name": "python",
            "version": "3.8.5-final",
            "mimetype": "text/x-python",
            "codemirror_mode": {
                "name": "ipython",
                "version": 3
            },
            "pygments_lexer": "ipython3",
            "nbconvert_exporter": "python",
            "file_extension": ".py"
        }
    },
    "nbformat_minor": 2,
    "nbformat": 4,
    "cells": [
        {
            "cell_type": "markdown",
            "source": [
                "![SolidQ](https://antoniosql.github.io/images/SolidQ_Verne.png) "
            ],
            "metadata": {
                "azdata_cell_guid": "5795a090-5585-49b8-97ac-a10930bd8908"
            }
        },
        {
            "cell_type": "markdown",
            "source": [
                "# Validación Cruzada"
            ],
            "metadata": {
                "id": "Wz4FbjZ00TGD",
                "colab_type": "text",
                "azdata_cell_guid": "03270248-69b5-43eb-9dd0-52b939742c0f"
            }
        },
        {
            "cell_type": "code",
            "source": [
                "import pandas as pd\n",
                "import numpy as np\n",
                "import sqlite3\n",
                "import matplotlib.pyplot as plt\n"
            ],
            "metadata": {
                "id": "VrmWESHp3wEX",
                "colab_type": "code",
                "colab": {},
                "azdata_cell_guid": "fe6b7fe4-32ef-452b-87e7-87ba1a5d30c9"
            },
            "outputs": [],
            "execution_count": 1
        },
        {
            "cell_type": "code",
            "execution_count": 2,
            "metadata": {},
            "outputs": [
                {
                    "output_type": "execute_result",
                    "data": {
                        "text/plain": "  CodCliente FechaNacimiento EstadoCivil Sexo  IngresosAnuales NivelAcademico  \\\n0     000020      1976-04-08           M    M          90000.0   Licenciatura   \n1     000026      1975-05-14           S    M          60000.0   Licenciatura   \n2     000026      1975-05-14           S    M          60000.0   Licenciatura   \n3     000026      1975-05-14           S    M          60000.0   Licenciatura   \n4     000026      1975-05-14           S    M          60000.0   Licenciatura   \n\n                   Ocupacion  EsCliente  \n0  Profesional especializado          1  \n1  Profesional especializado          1  \n2  Profesional especializado          1  \n3  Profesional especializado          1  \n4  Profesional especializado          1  ",
                        "text/html": "<div>\n<style scoped>\n    .dataframe tbody tr th:only-of-type {\n        vertical-align: middle;\n    }\n\n    .dataframe tbody tr th {\n        vertical-align: top;\n    }\n\n    .dataframe thead th {\n        text-align: right;\n    }\n</style>\n<table border=\"1\" class=\"dataframe\">\n  <thead>\n    <tr style=\"text-align: right;\">\n      <th></th>\n      <th>CodCliente</th>\n      <th>FechaNacimiento</th>\n      <th>EstadoCivil</th>\n      <th>Sexo</th>\n      <th>IngresosAnuales</th>\n      <th>NivelAcademico</th>\n      <th>Ocupacion</th>\n      <th>EsCliente</th>\n    </tr>\n  </thead>\n  <tbody>\n    <tr>\n      <th>0</th>\n      <td>000020</td>\n      <td>1976-04-08</td>\n      <td>M</td>\n      <td>M</td>\n      <td>90000.0</td>\n      <td>Licenciatura</td>\n      <td>Profesional especializado</td>\n      <td>1</td>\n    </tr>\n    <tr>\n      <th>1</th>\n      <td>000026</td>\n      <td>1975-05-14</td>\n      <td>S</td>\n      <td>M</td>\n      <td>60000.0</td>\n      <td>Licenciatura</td>\n      <td>Profesional especializado</td>\n      <td>1</td>\n    </tr>\n    <tr>\n      <th>2</th>\n      <td>000026</td>\n      <td>1975-05-14</td>\n      <td>S</td>\n      <td>M</td>\n      <td>60000.0</td>\n      <td>Licenciatura</td>\n      <td>Profesional especializado</td>\n      <td>1</td>\n    </tr>\n    <tr>\n      <th>3</th>\n      <td>000026</td>\n      <td>1975-05-14</td>\n      <td>S</td>\n      <td>M</td>\n      <td>60000.0</td>\n      <td>Licenciatura</td>\n      <td>Profesional especializado</td>\n      <td>1</td>\n    </tr>\n    <tr>\n      <th>4</th>\n      <td>000026</td>\n      <td>1975-05-14</td>\n      <td>S</td>\n      <td>M</td>\n      <td>60000.0</td>\n      <td>Licenciatura</td>\n      <td>Profesional especializado</td>\n      <td>1</td>\n    </tr>\n  </tbody>\n</table>\n</div>"
                    },
                    "metadata": {},
                    "execution_count": 2
                }
            ],
            "source": [
                "conn = sqlite3.connect('Tiendas24H.sqlite')\n",
                "consulta=\"select c.CodCliente, FechaNacimiento, EstadoCivil, Sexo, IngresosAnuales, N.NivelAcademico, O.Ocupacion, case     when v.CodCliente is null then 0   else 1  end as 'EsCliente' from clientes c inner join NivelAcademico N    on c.NivelAcademico = N.Codigo     inner join Ocupacion O on c.Ocupacion = o.Codigo     left outer join VentasCAB v          on v.codcliente = C.codcliente where c.Codcliente <>'CONTADO'\"\n",
                "\n",
                "df = pd.read_sql_query(consulta,conn)\n",
                "\n",
                "df.head()"
            ]
        },
        {
            "cell_type": "code",
            "execution_count": 3,
            "metadata": {},
            "outputs": [],
            "source": [
                "df.dropna(axis=0,inplace=True)"
            ]
        },
        {
            "cell_type": "code",
            "execution_count": 4,
            "metadata": {},
            "outputs": [],
            "source": [
                "caracteristicas = [\"EstadoCivil\", \"Sexo\", \"IngresosAnuales\",\"NivelAcademico\", \"Ocupacion\"]\n",
                "etiqueta=\"EsCliente\""
            ]
        },
        {
            "cell_type": "code",
            "execution_count": 5,
            "metadata": {},
            "outputs": [],
            "source": [
                "from sklearn.preprocessing import  LabelEncoder\n",
                "\n",
                "le=LabelEncoder()\n",
                "df['EstadoCivil'] = le.fit_transform(df['EstadoCivil'])\n",
                "df['Sexo'] = le.fit_transform(df['Sexo'])"
            ]
        },
        {
            "cell_type": "code",
            "execution_count": 6,
            "metadata": {},
            "outputs": [],
            "source": [
                "dum_df = pd.get_dummies(df[caracteristicas], columns=[\"NivelAcademico\",\"Ocupacion\"] )"
            ]
        },
        {
            "cell_type": "code",
            "execution_count": 12,
            "metadata": {},
            "outputs": [],
            "source": [
                "\n",
                "X, y = dum_df, df[etiqueta]"
            ]
        },
        {
            "cell_type": "code",
            "execution_count": 8,
            "metadata": {},
            "outputs": [],
            "source": []
        },
        {
            "cell_type": "markdown",
            "source": [
                "# Escalado"
            ],
            "metadata": {
                "id": "jDOdWeLr4Ny4",
                "colab_type": "text",
                "azdata_cell_guid": "be15cee3-6598-49a1-ae88-38ac5cf43867"
            }
        },
        {
            "cell_type": "code",
            "source": [
                "\n",
                "from sklearn.preprocessing import MinMaxScaler\n",
                "scaler = MinMaxScaler()\n",
                "X= scaler.fit_transform(X)\n"
            ],
            "metadata": {
                "id": "9PXyZMZd4Q3v",
                "colab_type": "code",
                "colab": {},
                "azdata_cell_guid": "d57a06e2-5638-4934-8713-b012bce42c08"
            },
            "outputs": [],
            "execution_count": 14
        },
        {
            "cell_type": "code",
            "execution_count": 21,
            "metadata": {
                "tags": []
            },
            "outputs": [
                {
                    "output_type": "stream",
                    "name": "stdout",
                    "text": "Distribución Original Counter({1: 10340, 0: 10340})\nDistribución balanceada Counter({1: 10340, 0: 10340})\n"
                }
            ],
            "source": [
                "from imblearn.over_sampling import SMOTE \n",
                "from collections import Counter\n",
                "\n",
                "\n",
                "sm = SMOTE(random_state=42)\n",
                "X, y = sm.fit_resample(X, y)\n"
            ]
        },
        {
            "source": [
                "# Validación Cruzada"
            ],
            "cell_type": "markdown",
            "metadata": {}
        },
        {
            "cell_type": "code",
            "execution_count": 15,
            "metadata": {},
            "outputs": [],
            "source": [
                "from sklearn.model_selection import KFold\n",
                "\n",
                "def run_cv(X,y,clf_class,**kwargs):\n",
                "    # Construir el objeto Kfolds\n",
                "    kf = KFold(5)\n",
                "    y_pred = y.copy()\n",
                "\n",
                "    # Iterar por los Folds\n",
                "    for k, (train, test) in enumerate(kf.split(X, y)):\n",
                "        X_train, X_test = X[train], X[test]\n",
                "        y_train = y[train]\n",
                "        # Inicializar un clasificador con los argumentos clave\n",
                "        clf = clf_class(**kwargs)\n",
                "        clf.fit(X_train,y_train)\n",
                "        y_pred[test] = clf.predict(X_test)\n",
                "    return y_pred"
            ]
        },
        {
            "cell_type": "code",
            "execution_count": 16,
            "metadata": {
                "tags": []
            },
            "outputs": [
                {
                    "output_type": "stream",
                    "name": "stdout",
                    "text": "Support vector machines:\n0.994\nRandom forest:\n0.993\nK-nearest-neighbors:\n0.993\n"
                }
            ],
            "source": [
                "from sklearn.svm import SVC\n",
                "from sklearn.ensemble import RandomForestClassifier as RF\n",
                "from sklearn.neighbors import KNeighborsClassifier as KNN\n",
                "import numpy as np\n",
                "\n",
                "def accuracy(y_true,y_pred):\n",
                "    # NumPy interprets True and False as 1. and 0.\n",
                "    return np.mean(y_true == y_pred)\n",
                "\n",
                "print (\"Support vector machines:\")\n",
                "print (\"%.3f\" % accuracy(y, run_cv(X,y,SVC)))\n",
                "print (\"Random forest:\")\n",
                "print (\"%.3f\" % accuracy(y, run_cv(X,y,RF)))\n",
                "print (\"K-nearest-neighbors:\")\n",
                "print (\"%.3f\" % accuracy(y, run_cv(X,y,KNN)))"
            ]
        },
        {
            "cell_type": "code",
            "execution_count": 17,
            "metadata": {},
            "outputs": [
                {
                    "output_type": "execute_result",
                    "data": {
                        "text/plain": "array([[    0,    58],\n       [    0, 10340]], dtype=int64)"
                    },
                    "metadata": {},
                    "execution_count": 17
                }
            ],
            "source": [
                "from sklearn.metrics import confusion_matrix\n",
                "\n",
                "y = np.array(y)\n",
                "\n",
                "\n",
                "confusion_matrix(y,run_cv(X,y,SVC))"
            ]
        },
        {
            "cell_type": "code",
            "execution_count": 18,
            "metadata": {},
            "outputs": [
                {
                    "output_type": "execute_result",
                    "data": {
                        "text/plain": "array([[    0,    58],\n       [   16, 10324]], dtype=int64)"
                    },
                    "metadata": {},
                    "execution_count": 18
                }
            ],
            "source": [
                "confusion_matrix(y,run_cv(X,y,RF)) \n"
            ]
        },
        {
            "cell_type": "code",
            "execution_count": 19,
            "metadata": {},
            "outputs": [
                {
                    "output_type": "execute_result",
                    "data": {
                        "text/plain": "array([[    0,    58],\n       [   11, 10329]], dtype=int64)"
                    },
                    "metadata": {},
                    "execution_count": 19
                }
            ],
            "source": [
                "confusion_matrix(y,run_cv(X,y,KNN))"
            ]
        }
    ]
}