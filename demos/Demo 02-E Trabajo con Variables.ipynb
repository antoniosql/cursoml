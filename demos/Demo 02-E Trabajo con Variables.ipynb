{
    "metadata": {
        "kernelspec": {
            "name": "python_defaultSpec_1596606873351",
            "display_name": "Python 3.8.5 64-bit"
        },
        "language_info": {
            "name": "python",
            "version": "3.6.6",
            "mimetype": "text/x-python",
            "codemirror_mode": {
                "name": "ipython",
                "version": 3
            },
            "pygments_lexer": "ipython3",
            "nbconvert_exporter": "python",
            "file_extension": ".py"
        }
    },
    "nbformat_minor": 2,
    "nbformat": 4,
    "cells": [
        {
            "cell_type": "markdown",
            "source": [
                "![SolidQ](https://www.solidq.com/wp-content/uploads/2015/06/Logo-SolidQ-Web.gif)"
            ],
            "metadata": {
                "azdata_cell_guid": "c76ed1c0-537a-4c98-8c5a-538ce66f1dfb"
            }
        },
        {
            "cell_type": "markdown",
            "source": [
                "# Estadística Descriptiva para variables continuas"
            ],
            "metadata": {
                "azdata_cell_guid": "63da5d32-178a-463a-8f54-ac4c6ccc949d"
            }
        },
        {
            "cell_type": "code",
            "source": [
                "import pyodbc\r\n",
                "import pandas as pd \r\n",
                "import matplotlib.pyplot as plt "
            ],
            "metadata": {
                "azdata_cell_guid": "ea30c712-3217-4f34-83db-2e3962cdd74f",
                "tags": []
            },
            "outputs": [],
            "execution_count": null
        },
        {
            "cell_type": "code",
            "source": [
                "driver = 'DRIVER={ODBC Driver 17 for SQL Server}'\n",
                "server = 'tcp:solidqdemo.database.windows.net' \r\n",
                "database = 'AdventureWorksDW2017' \r\n",
                "usme =usuarioa\n",
                " \r\n",
                "passwr\"P0lici@2020\"\n",
                "' \r\n",
                "vTargetMail = \"SELECT CustomerKey, Age, YearlyIncome,CommuteDistance,BikeBuyer FROM vTargetMail\"\r\n",
                "#Abrimos la conexion\r\n",
                "cnxn = pyodbc.codriver +'erver};SERVER='+server+';DATABASE='+database+';UID=ername+';PWD='+ password)"
            ],
            "metadata": {
                "azdata_cell_guid": "61d5aa18-876d-4208-98c3-485dbe86e375"
            },
            "outputs": [],
            "execution_count": null
        },
        {
            "cell_type": "code",
            "source": [
                "TM = pd.read_sql(vTargetMail,cnxn)"
            ],
            "metadata": {
                "azdata_cell_guid": "1150de0e-8df4-4b5f-bd94-8a635a9085fc"
            },
            "outputs": [],
            "execution_count": null
        },
        {
            "cell_type": "code",
            "source": [
                "#Estadística desriptiva básica\r\n",
                "TM['Age'].describe()"
            ],
            "metadata": {
                "azdata_cell_guid": "b72f3382-3e97-4580-866b-8d8afa3404bf"
            },
            "outputs": [],
            "execution_count": null
        },
        {
            "cell_type": "code",
            "source": [
                "TM['Age'].mean()\r\n",
                "TM['Age'].median()"
            ],
            "metadata": {
                "azdata_cell_guid": "4d518ca7-6a45-4b9a-ba77-cd7a6cbf1327"
            },
            "outputs": [],
            "execution_count": null
        },
        {
            "cell_type": "code",
            "source": [
                "#Midiendo la dispersión\r\n",
                "#La forma más sencilla, es midiendo el rango\r\n",
                "TM['Age'].max()-TM['Age'].min()"
            ],
            "metadata": {
                "azdata_cell_guid": "89b9a3c7-a578-40ae-9f76-75f30896e2b9"
            },
            "outputs": [],
            "execution_count": null
        },
        {
            "cell_type": "code",
            "source": [
                "#utilizando el IQR(Inter-quartile range)\r\n",
                "TM['Age'].quantile(0.75) - TM['Age'].quantile(0.25)"
            ],
            "metadata": {
                "azdata_cell_guid": "a4d62750-57aa-469f-a506-a97f1216dfb2"
            },
            "outputs": [],
            "execution_count": null
        },
        {
            "cell_type": "code",
            "source": [
                "#Coeficiente de variación\r\n",
                "TM['Age'].std() / TM['Age'].mean()"
            ],
            "metadata": {
                "azdata_cell_guid": "8847aadd-3e2b-4fc7-8f96-07a288daf342"
            },
            "outputs": [],
            "execution_count": null
        },
        {
            "cell_type": "code",
            "source": [
                "#Skweness mide la asimetría en la distribución de probabilidad. Si es positiva la disitribución tiene un \"long tail\" a la derecha de la media\n",
                "TM['Age'].skew()"
            ],
            "metadata": {
                "azdata_cell_guid": "08dbcee1-a101-447d-9040-463390803c93"
            },
            "outputs": [],
            "execution_count": null
        },
        {
            "cell_type": "code",
            "source": [
                "#Si la distribución tiene \"long tails\" en ambas partes - Kurtosis. Si es negativa indica que los tails son cortos\n",
                "TM['Age'].kurt()"
            ],
            "metadata": {
                "azdata_cell_guid": "ef5cf3c2-d57d-44c3-aaec-d5bb3ad7c921"
            },
            "outputs": [],
            "execution_count": null
        },
        {
            "cell_type": "markdown",
            "source": [
                "# Variables discretas"
            ],
            "metadata": {
                "azdata_cell_guid": "db68eb0f-9f5a-4a3f-bea8-56f081027879"
            }
        },
        {
            "cell_type": "code",
            "source": [
                "import pyodbc\r\n",
                "import pandas as pd \r\n",
                "import matplotlib.pyplot as plt "
            ],
            "metadata": {
                "azdata_cell_guid": "f4be5f84-7d59-46b9-8503-c778ea93944a",
                "tags": []
            },
            "outputs": [],
            "execution_count": null
        },
        {
            "cell_type": "code",
            "source": [
                "server = 'tcp:solidqdemo.database.windows.net' \r\n",
                "database = 'AdventureWorksDW2017' \r\n",
                "username = 'adminsql' \r\n",
                "password = 'Vit@e2019' \r\n",
                "vTargetMail = \"SELECT CustomerKey, TotalChildren, NumberChildrenAthome,Gender,HouseOwnerFlag,NumberCarsOwned, MaritalStatus, Age, YearlyIncome, \\\r\n",
                "    SpanishEducation AS Education, SpanishOccupation AS Occupation FROM vTargetMail\"\r\n",
                "#Abrimos la conexion\r\n",
                "cnxn = pyodbc.connect('DRIVER={ODBC Driver 17 for SQL Server};SERVER='+server+';DATABASE='+database+';UID='+username+';PWD='+ password)"
            ],
            "metadata": {
                "azdata_cell_guid": "d8230202-8c7a-4181-9a6a-4177565f8fc3"
            },
            "outputs": [],
            "execution_count": null
        },
        {
            "cell_type": "code",
            "source": [
                "df=pd.read_sql(vTargetMail, cnxn)"
            ],
            "metadata": {
                "azdata_cell_guid": "05fddc7c-6857-4dd0-a79c-c3fb481de88f"
            },
            "outputs": [],
            "execution_count": null
        },
        {
            "cell_type": "code",
            "source": [
                "df['Education'].value_counts()"
            ],
            "metadata": {
                "azdata_cell_guid": "16b02ff1-11cc-4ec2-be47-91ca6b7d73df"
            },
            "outputs": [],
            "execution_count": null
        },
        {
            "cell_type": "code",
            "source": [
                "#Definirlo como ordinal\r\n",
                "df['Education'] = df['Education'].astype('category')\r\n",
                "df['Education'].cat.reorder_categories([\"Educación secundaria (en curso)\",\"Educación secundaria\",\"Estudios universitarios (en curso)\",\"Licenciatura\",\"Estudios de postgrado\"],inplace=True)\r\n",
                "df['EducationInt'] = df['Education'].cat.codes\r\n",
                "df['Education'].value_counts().sort_index()"
            ],
            "metadata": {
                "azdata_cell_guid": "587f963a-7512-4c5f-a097-cd50e0051534"
            },
            "outputs": [],
            "execution_count": null
        },
        {
            "cell_type": "code",
            "source": [
                "edu=df['Education'].value_counts().sort_index()\r\n",
                "ax=edu.plot(kind='bar',color=('b'),fontsize=14, legend=False,use_index=True,rot=1)\r\n",
                "ax.set_xlabel('Education',fontsize=16)\r\n",
                "ax.set_ylabel('Count',fontsize=16)\r\n",
                "plt.show()"
            ],
            "metadata": {
                "azdata_cell_guid": "302fe335-b5a0-4fab-88b6-afd19170ff9f"
            },
            "outputs": [],
            "execution_count": null
        },
        {
            "cell_type": "markdown",
            "source": [
                "# Mostrar asociaciones gráficamente"
            ],
            "metadata": {
                "azdata_cell_guid": "c1013a00-8dae-4898-ac63-07548da5a63e"
            }
        },
        {
            "cell_type": "code",
            "source": [
                "TM1= df.head(200)"
            ],
            "metadata": {
                "azdata_cell_guid": "cbaf0da8-d521-400b-8a1d-6f1d02dae7ef"
            },
            "outputs": [],
            "execution_count": null
        },
        {
            "cell_type": "code",
            "source": [
                "plt.scatter(TM1['Age'],TM1['YearlyIncome'])\r\n",
                "plt.show()"
            ],
            "metadata": {
                "azdata_cell_guid": "122f3b1a-fa84-4626-ba98-591f5c769f72"
            },
            "outputs": [],
            "execution_count": null
        },
        {
            "cell_type": "markdown",
            "source": [
                "# Datos Categóricos"
            ],
            "metadata": {
                "azdata_cell_guid": "5fac0e0c-d1ea-4bfc-9031-15af824c7ae4"
            }
        },
        {
            "cell_type": "code",
            "source": [
                "import pandas as pd\r\n",
                "df = pd.DataFrame([\r\n",
                "  ['verde', 'M', 10.1, 'clase1'],\r\n",
                "  ['rojo', 'L', 13.5, 'clase2'],\r\n",
                "   ['azul', 'XL', 15.3, 'clase1']])\r\n",
                "df.columns = ['color', 'talla', 'precio', 'clase']\r\n",
                "df\r\n",
                "#característica nominal, el color, una ordinal la talla y una numérica, el precio"
            ],
            "metadata": {
                "azdata_cell_guid": "8f0bf266-fe1b-4d91-a32a-9efe595d6dbe"
            },
            "outputs": [],
            "execution_count": null
        },
        {
            "cell_type": "markdown",
            "source": [
                "# Mapear Características ordinales\r\n",
                "Para asegurarnos de que el algoritmo de aprendizaje interpreta las características ordinales correctamente, necesitamos convertir las cadenas de caracteres categóricas en enteros. Desafortunadamente aún no hemos visto una función que nos permita hacerlo automáticamente, derivando el orden correcto de las etiquetas de nuestra caractarística, por lo que vamos a definirlo manualmente. En el siguiente ejemplo, asumimos que sabemos la diferencia numérica entre las características, por ejemplo: XL = L +1 = M + 2:"
            ],
            "metadata": {
                "azdata_cell_guid": "8870cb61-691e-4aaf-98c1-4ec6f1e79cf6"
            }
        },
        {
            "cell_type": "code",
            "source": [
                "size_mapping = {'XL': 3,'L': 2,'M': 1}\r\n",
                "df['talla'] = df['talla'].map(size_mapping)\r\n",
                "df"
            ],
            "metadata": {
                "azdata_cell_guid": "8c03432a-b9ec-4bb5-9207-6d91d87cf03f"
            },
            "outputs": [],
            "execution_count": null
        },
        {
            "cell_type": "markdown",
            "source": [
                "más tarde, podemos simplemente definir un diccionario de mapeo inverso inv_size_mapping = {v: k for k, v in size_mapping.items()} \r\n",
                "que puede utilizarse con el método map en la característica transformada, similar a lo que hemos hecho anteriormente"
            ],
            "metadata": {
                "azdata_cell_guid": "51f83e32-36a9-4296-bdd7-dee74c255d97"
            }
        },
        {
            "cell_type": "code",
            "source": [
                "inv_size_mapping = {v: k for k, v in size_mapping.items()}\r\n",
                "df['talla'].map(inv_size_mapping)"
            ],
            "metadata": {
                "azdata_cell_guid": "13dc5dea-1199-4577-8b7f-7d4a455b6d62"
            },
            "outputs": [],
            "execution_count": null
        },
        {
            "cell_type": "markdown",
            "source": [
                "# Codificando etiquetas de clases\r\n",
                "Muchas librerías de ML requieren que las etiquetas de las clases estén codificadas como valores enteros. Aunque muchos estimadores de clasificación en scikit-learn convierten las etiquetas en enteros internamente, está considerado como una buena práctica, proporcionanrlas directamente como un array de enteros para evitar problemas. Para codificar las etiquetas, podemos utilizar una aproximación similar al mapeo de características ordinales que hemos visto. Tenemos que recordar que las etiquetas de clases no son ordinales, por lo que no importa que valor entero les asignemos. Podemos simplemente enumerarlas comenzando en 0"
            ],
            "metadata": {
                "azdata_cell_guid": "61c977b4-895f-4159-8ed7-b4a05f1a950c"
            }
        },
        {
            "cell_type": "code",
            "source": [
                "import numpy as np\r\n",
                "class_mapping = {label:idx for idx,label in enumerate(np.unique(df['clase']))}\r\n",
                "class_mapping"
            ],
            "metadata": {
                "azdata_cell_guid": "9cd72855-d0f8-4dc1-b4cf-9c24c5711a2d"
            },
            "outputs": [],
            "execution_count": null
        },
        {
            "cell_type": "code",
            "source": [
                "df['clase'] = df['clase'].map(class_mapping)\r\n",
                "df"
            ],
            "metadata": {
                "azdata_cell_guid": "93d98277-4990-4d27-8e19-1ce6e97b489c"
            },
            "outputs": [],
            "execution_count": null
        },
        {
            "cell_type": "code",
            "source": [
                "#Vuelta atrás\r\n",
                "inv_class_mapping = {v: k for k, v in class_mapping.items()}\r\n",
                "df['clase'] = df['clase'].map(inv_class_mapping)\r\n",
                "df"
            ],
            "metadata": {
                "azdata_cell_guid": "6673cdf4-52f4-43ba-8c1c-6bbd4e9e74e6"
            },
            "outputs": [],
            "execution_count": null
        },
        {
            "cell_type": "markdown",
            "source": [
                "Podemos utilizar la clase LabelEncoder del paquete scikit-learn para hacer este trabajo directamente, pero esto lo veremos en detalle en el siguiente tema\r\n",
                "\r\n",
                "from sklearn.preprocessing import LabelEncoder\r\n",
                "class_le = LabelEncoder()\r\n",
                "y = class_le.fit_transform(df['clase'].values)\r\n",
                "y\r\n",
                ""
            ],
            "metadata": {
                "azdata_cell_guid": "0e01bcc1-aee4-4e89-a7f7-0cfcfe4d1317"
            }
        },
        {
            "cell_type": "markdown",
            "source": [
                "# Discretizando variables continuas"
            ],
            "metadata": {
                "azdata_cell_guid": "955abcf7-b8a9-473c-8ff1-195f44a36c3a"
            }
        },
        {
            "cell_type": "code",
            "source": [
                "#Con el mismo ancho. Abiertas por laizquierda\r\n",
                "TM1['Edad'] = pd.cut(TM1['Age'],5)\r\n",
                "TM1['Edad'].value_counts()"
            ],
            "metadata": {
                "azdata_cell_guid": "7b7c5bd6-c06e-4cdd-9f48-10f7be18f960"
            },
            "outputs": [],
            "execution_count": null
        },
        {
            "cell_type": "code",
            "source": [
                "#Si queremos hacerlos de igual alto\r\n",
                "TM1['Edad2'] = pd.qcut(TM1['Age'],5)\r\n",
                "TM1['Edad2'].value_counts(sort=False)"
            ],
            "metadata": {
                "azdata_cell_guid": "123e7b25-f52c-493f-a48f-0e6d9925b500"
            },
            "outputs": [],
            "execution_count": null
        },
        {
            "cell_type": "code",
            "source": [
                "#Personalizado\r\n",
                "custombins = [16,22,29,39,54,88]\r\n",
                "TM1['Edad3']=pd.cut(TM1['Age'],custombins)\r\n",
                "TM1['Edad3'].value_counts(sort=False)"
            ],
            "metadata": {
                "azdata_cell_guid": "1387d2cf-a132-4c7a-ae97-dd1b86891c2e"
            },
            "outputs": [],
            "execution_count": null
        }
    ]
}