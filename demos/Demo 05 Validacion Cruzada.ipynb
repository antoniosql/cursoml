{
  "nbformat": 4,
  "nbformat_minor": 0,
  "metadata": {
    "colab": {
      "name": "Demo 04 Validacion Cruzada.ipynb",
      "provenance": [],
      "collapsed_sections": []
    },
    "kernelspec": {
      "name": "python_defaultSpec_1596630287718",
      "display_name": "Python 3.8.5 64-bit"
    }
  },
  "cells": [
    {
      "cell_type": "markdown",
      "metadata": {
        "id": "JJCHjRcyb9XP",
        "colab_type": "text"
      },
      "source": [
        "![SolidQ](https://www.solidq.com/wp-content/uploads/2015/06/Logo-SolidQ-Web.gif)\n",
        "# Prediciendo el abandono de clientes\n"
      ]
    },
    {
      "cell_type": "markdown",
      "metadata": {
        "id": "RT62LzVUHf-O",
        "colab_type": "text"
      },
      "source": [
        "Tenemos un escenario en el que queremos medir el ratio de abandono (Churn Rate) de nuestros clientes de Telco. Es un concepto especialmente importante en negocios que están basados en suscripciones.\n",
        "\n",
        "en nuestro conjunto de datos de ejemplo, cada ocurrencia representa un cliente de una compañía telefónica. Cada columna contiene atributos de ese cliente, como los cargos incurridos por servicio, tiempo de duración de su cuenta o si el cliente es todavía clinete o no. "
      ]
    },
    {
      "cell_type": "code",
      "metadata": {
        "id": "7o6eZ56Hsu_g",
        "colab_type": "code",
        "colab": {}
      },
      "source": [
        ""
      ],
      "execution_count": 0,
      "outputs": []
    },
    {
      "cell_type": "markdown",
      "metadata": {
        "id": "7F9Pj1vhcQw8",
        "colab_type": "text"
      },
      "source": [
        "## Importamos las clases y módulos necesarios"
      ]
    },
    {
      "cell_type": "code",
      "metadata": {
        "id": "uGun-3pZ-zcu",
        "colab_type": "code",
        "colab": {}
      },
      "source": [
        "import pandas as pd\n",
        "import matplotlib.pyplot as plt\n",
        "import numpy as np\n",
        "\n",
        "from sklearn.compose import ColumnTransformer\n",
        "from sklearn.pipeline import Pipeline\n",
        "from sklearn.impute import SimpleImputer\n",
        "from sklearn.preprocessing import StandardScaler, OneHotEncoder\n",
        "from sklearn.tree import DecisionTreeClassifier\n",
        "from sklearn.model_selection import train_test_split"
      ],
      "execution_count": 2,
      "outputs": []
    },
    {
      "cell_type": "markdown",
      "metadata": {
        "id": "DPeqkn0GcYqD",
        "colab_type": "text"
      },
      "source": [
        "## Explorando los datos"
      ]
    },
    {
      "cell_type": "code",
      "metadata": {
        "id": "OjlZ_xZD-0nw",
        "colab_type": "code",
        "colab": {}
      },
      "source": [
        "fichero = 'https://stgdemodata.blob.core.windows.net/files/AbandonoTelco/TelcoChurn.csv'\n",
        "df_abandonos = pd.read_csv(fichero )"
      ],
      "execution_count": 3,
      "outputs": []
    },
    {
      "cell_type": "code",
      "metadata": {
        "id": "oqP0cuDV_OQZ",
        "colab_type": "code",
        "colab": {}
      },
      "source": [
        "df_abandonos.head()\n",
        "#tenemos 3333 observaciones, de ellas 483 tienen Churn = yes"
      ],
      "execution_count": 4,
      "outputs": [
        {
          "output_type": "execute_result",
          "data": {
            "text/plain": "   Account_Length  Vmail_Message  Day_Mins  Eve_Mins  Night_Mins  Intl_Mins  \\\n0             128             25     265.1     197.4       244.7       10.0   \n1             107             26     161.6     195.5       254.4       13.7   \n2             137              0     243.4     121.2       162.6       12.2   \n3              84              0     299.4      61.9       196.9        6.6   \n4              75              0     166.7     148.3       186.9       10.1   \n\n   CustServ_Calls Churn Intl_Plan Vmail_Plan  ...  Day_Charge  Eve_Calls  \\\n0               1    no        no        yes  ...       45.07         99   \n1               1    no        no        yes  ...       27.47        103   \n2               0    no        no         no  ...       41.38        110   \n3               2    no       yes         no  ...       50.90         88   \n4               3    no       yes         no  ...       28.34        122   \n\n   Eve_Charge  Night_Calls  Night_Charge  Intl_Calls  Intl_Charge  State  \\\n0       16.78           91         11.01           3         2.70     KS   \n1       16.62          103         11.45           3         3.70     OH   \n2       10.30          104          7.32           5         3.29     NJ   \n3        5.26           89          8.86           7         1.78     OH   \n4       12.61          121          8.41           3         2.73     OK   \n\n  Area_Code     Phone  \n0       415  382-4657  \n1       415  371-7191  \n2       415  358-1921  \n3       408  375-9999  \n4       415  330-6626  \n\n[5 rows x 21 columns]",
            "text/html": "<div>\n<style scoped>\n    .dataframe tbody tr th:only-of-type {\n        vertical-align: middle;\n    }\n\n    .dataframe tbody tr th {\n        vertical-align: top;\n    }\n\n    .dataframe thead th {\n        text-align: right;\n    }\n</style>\n<table border=\"1\" class=\"dataframe\">\n  <thead>\n    <tr style=\"text-align: right;\">\n      <th></th>\n      <th>Account_Length</th>\n      <th>Vmail_Message</th>\n      <th>Day_Mins</th>\n      <th>Eve_Mins</th>\n      <th>Night_Mins</th>\n      <th>Intl_Mins</th>\n      <th>CustServ_Calls</th>\n      <th>Churn</th>\n      <th>Intl_Plan</th>\n      <th>Vmail_Plan</th>\n      <th>...</th>\n      <th>Day_Charge</th>\n      <th>Eve_Calls</th>\n      <th>Eve_Charge</th>\n      <th>Night_Calls</th>\n      <th>Night_Charge</th>\n      <th>Intl_Calls</th>\n      <th>Intl_Charge</th>\n      <th>State</th>\n      <th>Area_Code</th>\n      <th>Phone</th>\n    </tr>\n  </thead>\n  <tbody>\n    <tr>\n      <th>0</th>\n      <td>128</td>\n      <td>25</td>\n      <td>265.1</td>\n      <td>197.4</td>\n      <td>244.7</td>\n      <td>10.0</td>\n      <td>1</td>\n      <td>no</td>\n      <td>no</td>\n      <td>yes</td>\n      <td>...</td>\n      <td>45.07</td>\n      <td>99</td>\n      <td>16.78</td>\n      <td>91</td>\n      <td>11.01</td>\n      <td>3</td>\n      <td>2.70</td>\n      <td>KS</td>\n      <td>415</td>\n      <td>382-4657</td>\n    </tr>\n    <tr>\n      <th>1</th>\n      <td>107</td>\n      <td>26</td>\n      <td>161.6</td>\n      <td>195.5</td>\n      <td>254.4</td>\n      <td>13.7</td>\n      <td>1</td>\n      <td>no</td>\n      <td>no</td>\n      <td>yes</td>\n      <td>...</td>\n      <td>27.47</td>\n      <td>103</td>\n      <td>16.62</td>\n      <td>103</td>\n      <td>11.45</td>\n      <td>3</td>\n      <td>3.70</td>\n      <td>OH</td>\n      <td>415</td>\n      <td>371-7191</td>\n    </tr>\n    <tr>\n      <th>2</th>\n      <td>137</td>\n      <td>0</td>\n      <td>243.4</td>\n      <td>121.2</td>\n      <td>162.6</td>\n      <td>12.2</td>\n      <td>0</td>\n      <td>no</td>\n      <td>no</td>\n      <td>no</td>\n      <td>...</td>\n      <td>41.38</td>\n      <td>110</td>\n      <td>10.30</td>\n      <td>104</td>\n      <td>7.32</td>\n      <td>5</td>\n      <td>3.29</td>\n      <td>NJ</td>\n      <td>415</td>\n      <td>358-1921</td>\n    </tr>\n    <tr>\n      <th>3</th>\n      <td>84</td>\n      <td>0</td>\n      <td>299.4</td>\n      <td>61.9</td>\n      <td>196.9</td>\n      <td>6.6</td>\n      <td>2</td>\n      <td>no</td>\n      <td>yes</td>\n      <td>no</td>\n      <td>...</td>\n      <td>50.90</td>\n      <td>88</td>\n      <td>5.26</td>\n      <td>89</td>\n      <td>8.86</td>\n      <td>7</td>\n      <td>1.78</td>\n      <td>OH</td>\n      <td>408</td>\n      <td>375-9999</td>\n    </tr>\n    <tr>\n      <th>4</th>\n      <td>75</td>\n      <td>0</td>\n      <td>166.7</td>\n      <td>148.3</td>\n      <td>186.9</td>\n      <td>10.1</td>\n      <td>3</td>\n      <td>no</td>\n      <td>yes</td>\n      <td>no</td>\n      <td>...</td>\n      <td>28.34</td>\n      <td>122</td>\n      <td>12.61</td>\n      <td>121</td>\n      <td>8.41</td>\n      <td>3</td>\n      <td>2.73</td>\n      <td>OK</td>\n      <td>415</td>\n      <td>330-6626</td>\n    </tr>\n  </tbody>\n</table>\n<p>5 rows × 21 columns</p>\n</div>"
          },
          "metadata": {},
          "execution_count": 4
        }
      ]
    },
    {
      "cell_type": "code",
      "metadata": {
        "id": "8vU0kUcbONMf",
        "colab_type": "code",
        "colab": {}
      },
      "source": [
        "#filtro = df_abandonos[\"Churn\"]==\"yes\"\n",
        "#df_abandonos.where(filtro, inplace = False).count()\n"
      ],
      "execution_count": 0,
      "outputs": []
    },
    {
      "cell_type": "code",
      "metadata": {
        "id": "hB-BzKiQ_oXR",
        "colab_type": "code",
        "colab": {}
      },
      "source": [
        "    correlacion = df_abandonos.corr() \n",
        "    fig, ax = plt.subplots(figsize=(21, 21)) \n",
        "    ax.matshow(correlacion) \n",
        "    plt.xticks(range(len(correlacion.columns)), correlacion.columns); \n",
        "    plt.yticks(range(len(correlacion.columns)), correlacion.columns); "
      ],
      "execution_count": 0,
      "outputs": []
    },
    {
      "cell_type": "markdown",
      "metadata": {
        "id": "pN249dWcAP1m",
        "colab_type": "text"
      },
      "source": [
        "Es evidente que los cargos dependen de los minutos de conversación por lo que los pares de características x_calls x_Charge están muy correlacionadas entre sí"
      ]
    },
    {
      "cell_type": "code",
      "metadata": {
        "id": "SeszUHPCJZAy",
        "colab_type": "code",
        "outputId": "185c48b7-9b54-4fe9-d9ef-8a4df6fc5b26",
        "colab": {
          "base_uri": "https://localhost:8080/",
          "height": 105
        }
      },
      "source": [
        "\n",
        "#Extraemos las etiquetas\n",
        "resultado_abandono = df_abandonos['Churn']\n",
        "y = np.where(resultado_abandono == 'yes',1,0)\n",
        "\n",
        "# No necesitamos estas columnas\n",
        "a_eliminar = ['State','Area_Code','Phone','Churn']\n",
        "churn_feat_space = df_abandonos.drop(a_eliminar,axis=1)\n",
        "\n",
        "yes_no_cols = [\"Intl_Plan\",\"Vmail_Plan\"]\n",
        "churn_feat_space[yes_no_cols] = churn_feat_space[yes_no_cols] == 'yes'\n",
        "\n",
        "\n",
        "# Extrarmos características para su uso posterior\n",
        "\n",
        "caracteristicas = churn_feat_space.columns\n",
        "\n",
        "X = churn_feat_space.as_matrix().astype(np.float)\n",
        "\n",
        "# Escalamos\n",
        "from sklearn.preprocessing import StandardScaler\n",
        "scaler = StandardScaler()\n",
        "X = scaler.fit_transform(X)\n",
        "\n",
        "print (\"Disponemos de %d observaciones y %d características\" % X.shape)\n",
        "print (\"Etiquetas objetivo únicas:\", np.unique(y))\n"
      ],
      "execution_count": 0,
      "outputs": [
        {
          "output_type": "stream",
          "text": [
            "Disponemos de 3333 observaciones y 17 características\n",
            "Etiquetas objetivo únicas: [0 1]\n"
          ],
          "name": "stdout"
        },
        {
          "output_type": "stream",
          "text": [
            "/usr/local/lib/python3.6/dist-packages/ipykernel_launcher.py:16: FutureWarning: Method .as_matrix will be removed in a future version. Use .values instead.\n",
            "  app.launch_new_instance()\n"
          ],
          "name": "stderr"
        }
      ]
    },
    {
      "cell_type": "markdown",
      "metadata": {
        "id": "ZuTQEg8SeLMr",
        "colab_type": "text"
      },
      "source": [
        "## Validación cruzada de Algoritmos"
      ]
    },
    {
      "cell_type": "code",
      "metadata": {
        "id": "inFPkoqfeP_G",
        "colab_type": "code",
        "colab": {}
      },
      "source": [
        "from sklearn.model_selection import KFold\n",
        "\n",
        "def run_cv(X,y,clf_class,**kwargs):\n",
        "    # Construir el objeto Kfolds\n",
        "    kf = KFold(5)\n",
        "    y_pred = y.copy()\n",
        "\n",
        "    # Iterar por los Folds\n",
        "    for k, (train, test) in enumerate(kf.split(X, y)):\n",
        "        X_train, X_test = X[train], X[test]\n",
        "        y_train = y[train]\n",
        "        # Inicializar un clasificador con los argumentos clave\n",
        "        clf = clf_class(**kwargs)\n",
        "        clf.fit(X_train,y_train)\n",
        "        y_pred[test] = clf.predict(X_test)\n",
        "    return y_pred"
      ],
      "execution_count": 0,
      "outputs": []
    },
    {
      "cell_type": "markdown",
      "metadata": {
        "id": "VhX3UWBzemqW",
        "colab_type": "text"
      },
      "source": [
        "### Probamos los tres algoritmos"
      ]
    },
    {
      "cell_type": "code",
      "metadata": {
        "id": "J-Y2XAaSepSl",
        "colab_type": "code",
        "outputId": "efe04d59-a136-4b31-8d9c-3b93bf6131e3",
        "colab": {
          "base_uri": "https://localhost:8080/",
          "height": 479
        }
      },
      "source": [
        "from sklearn.svm import SVC\n",
        "from sklearn.ensemble import RandomForestClassifier as RF\n",
        "from sklearn.neighbors import KNeighborsClassifier as KNN\n",
        "\n",
        "def accuracy(y_true,y_pred):\n",
        "    # NumPy interprets True and False as 1. and 0.\n",
        "    return np.mean(y_true == y_pred)\n",
        "\n",
        "print (\"Support vector machines:\")\n",
        "print (\"%.3f\" % accuracy(y, run_cv(X,y,SVC)))\n",
        "print (\"Random forest:\")\n",
        "print (\"%.3f\" % accuracy(y, run_cv(X,y,RF)))\n",
        "print (\"K-nearest-neighbors:\")\n",
        "print (\"%.3f\" % accuracy(y, run_cv(X,y,KNN)))"
      ],
      "execution_count": 0,
      "outputs": [
        {
          "output_type": "stream",
          "text": [
            "Support vector machines:\n"
          ],
          "name": "stdout"
        },
        {
          "output_type": "stream",
          "text": [
            "/usr/local/lib/python3.6/dist-packages/sklearn/svm/base.py:193: FutureWarning: The default value of gamma will change from 'auto' to 'scale' in version 0.22 to account better for unscaled features. Set gamma explicitly to 'auto' or 'scale' to avoid this warning.\n",
            "  \"avoid this warning.\", FutureWarning)\n",
            "/usr/local/lib/python3.6/dist-packages/sklearn/svm/base.py:193: FutureWarning: The default value of gamma will change from 'auto' to 'scale' in version 0.22 to account better for unscaled features. Set gamma explicitly to 'auto' or 'scale' to avoid this warning.\n",
            "  \"avoid this warning.\", FutureWarning)\n",
            "/usr/local/lib/python3.6/dist-packages/sklearn/svm/base.py:193: FutureWarning: The default value of gamma will change from 'auto' to 'scale' in version 0.22 to account better for unscaled features. Set gamma explicitly to 'auto' or 'scale' to avoid this warning.\n",
            "  \"avoid this warning.\", FutureWarning)\n",
            "/usr/local/lib/python3.6/dist-packages/sklearn/svm/base.py:193: FutureWarning: The default value of gamma will change from 'auto' to 'scale' in version 0.22 to account better for unscaled features. Set gamma explicitly to 'auto' or 'scale' to avoid this warning.\n",
            "  \"avoid this warning.\", FutureWarning)\n",
            "/usr/local/lib/python3.6/dist-packages/sklearn/svm/base.py:193: FutureWarning: The default value of gamma will change from 'auto' to 'scale' in version 0.22 to account better for unscaled features. Set gamma explicitly to 'auto' or 'scale' to avoid this warning.\n",
            "  \"avoid this warning.\", FutureWarning)\n",
            "/usr/local/lib/python3.6/dist-packages/sklearn/ensemble/forest.py:245: FutureWarning: The default value of n_estimators will change from 10 in version 0.20 to 100 in 0.22.\n",
            "  \"10 in version 0.20 to 100 in 0.22.\", FutureWarning)\n"
          ],
          "name": "stderr"
        },
        {
          "output_type": "stream",
          "text": [
            "0.919\n",
            "Random forest:\n"
          ],
          "name": "stdout"
        },
        {
          "output_type": "stream",
          "text": [
            "/usr/local/lib/python3.6/dist-packages/sklearn/ensemble/forest.py:245: FutureWarning: The default value of n_estimators will change from 10 in version 0.20 to 100 in 0.22.\n",
            "  \"10 in version 0.20 to 100 in 0.22.\", FutureWarning)\n",
            "/usr/local/lib/python3.6/dist-packages/sklearn/ensemble/forest.py:245: FutureWarning: The default value of n_estimators will change from 10 in version 0.20 to 100 in 0.22.\n",
            "  \"10 in version 0.20 to 100 in 0.22.\", FutureWarning)\n",
            "/usr/local/lib/python3.6/dist-packages/sklearn/ensemble/forest.py:245: FutureWarning: The default value of n_estimators will change from 10 in version 0.20 to 100 in 0.22.\n",
            "  \"10 in version 0.20 to 100 in 0.22.\", FutureWarning)\n",
            "/usr/local/lib/python3.6/dist-packages/sklearn/ensemble/forest.py:245: FutureWarning: The default value of n_estimators will change from 10 in version 0.20 to 100 in 0.22.\n",
            "  \"10 in version 0.20 to 100 in 0.22.\", FutureWarning)\n"
          ],
          "name": "stderr"
        },
        {
          "output_type": "stream",
          "text": [
            "0.947\n",
            "K-nearest-neighbors:\n",
            "0.893\n"
          ],
          "name": "stdout"
        }
      ]
    },
    {
      "cell_type": "markdown",
      "metadata": {
        "id": "buNKSfSYgrdI",
        "colab_type": "text"
      },
      "source": [
        "### Matriz de Confusión"
      ]
    },
    {
      "cell_type": "code",
      "metadata": {
        "id": "aU-XKL_NgvIP",
        "colab_type": "code",
        "outputId": "0ed58b97-6bcd-4702-9629-94110358d964",
        "colab": {
          "base_uri": "https://localhost:8080/",
          "height": 241
        }
      },
      "source": [
        "from sklearn.metrics import confusion_matrix\n",
        "\n",
        "y = np.array(y)\n",
        "\n",
        "\n",
        "confusion_matrix(y,run_cv(X,y,SVC))\n"
      ],
      "execution_count": 0,
      "outputs": [
        {
          "output_type": "stream",
          "text": [
            "/usr/local/lib/python3.6/dist-packages/sklearn/svm/base.py:193: FutureWarning: The default value of gamma will change from 'auto' to 'scale' in version 0.22 to account better for unscaled features. Set gamma explicitly to 'auto' or 'scale' to avoid this warning.\n",
            "  \"avoid this warning.\", FutureWarning)\n",
            "/usr/local/lib/python3.6/dist-packages/sklearn/svm/base.py:193: FutureWarning: The default value of gamma will change from 'auto' to 'scale' in version 0.22 to account better for unscaled features. Set gamma explicitly to 'auto' or 'scale' to avoid this warning.\n",
            "  \"avoid this warning.\", FutureWarning)\n",
            "/usr/local/lib/python3.6/dist-packages/sklearn/svm/base.py:193: FutureWarning: The default value of gamma will change from 'auto' to 'scale' in version 0.22 to account better for unscaled features. Set gamma explicitly to 'auto' or 'scale' to avoid this warning.\n",
            "  \"avoid this warning.\", FutureWarning)\n",
            "/usr/local/lib/python3.6/dist-packages/sklearn/svm/base.py:193: FutureWarning: The default value of gamma will change from 'auto' to 'scale' in version 0.22 to account better for unscaled features. Set gamma explicitly to 'auto' or 'scale' to avoid this warning.\n",
            "  \"avoid this warning.\", FutureWarning)\n",
            "/usr/local/lib/python3.6/dist-packages/sklearn/svm/base.py:193: FutureWarning: The default value of gamma will change from 'auto' to 'scale' in version 0.22 to account better for unscaled features. Set gamma explicitly to 'auto' or 'scale' to avoid this warning.\n",
            "  \"avoid this warning.\", FutureWarning)\n"
          ],
          "name": "stderr"
        },
        {
          "output_type": "execute_result",
          "data": {
            "text/plain": [
              "array([[2815,   35],\n",
              "       [ 236,  247]])"
            ]
          },
          "metadata": {
            "tags": []
          },
          "execution_count": 35
        }
      ]
    },
    {
      "cell_type": "code",
      "metadata": {
        "id": "t48uueRChpes",
        "colab_type": "code",
        "outputId": "13273b35-30c3-46e3-a456-317ec37e30d7",
        "colab": {
          "base_uri": "https://localhost:8080/",
          "height": 241
        }
      },
      "source": [
        "confusion_matrix(y,run_cv(X,y,RF)) \n"
      ],
      "execution_count": 0,
      "outputs": [
        {
          "output_type": "stream",
          "text": [
            "/usr/local/lib/python3.6/dist-packages/sklearn/ensemble/forest.py:245: FutureWarning: The default value of n_estimators will change from 10 in version 0.20 to 100 in 0.22.\n",
            "  \"10 in version 0.20 to 100 in 0.22.\", FutureWarning)\n",
            "/usr/local/lib/python3.6/dist-packages/sklearn/ensemble/forest.py:245: FutureWarning: The default value of n_estimators will change from 10 in version 0.20 to 100 in 0.22.\n",
            "  \"10 in version 0.20 to 100 in 0.22.\", FutureWarning)\n",
            "/usr/local/lib/python3.6/dist-packages/sklearn/ensemble/forest.py:245: FutureWarning: The default value of n_estimators will change from 10 in version 0.20 to 100 in 0.22.\n",
            "  \"10 in version 0.20 to 100 in 0.22.\", FutureWarning)\n",
            "/usr/local/lib/python3.6/dist-packages/sklearn/ensemble/forest.py:245: FutureWarning: The default value of n_estimators will change from 10 in version 0.20 to 100 in 0.22.\n",
            "  \"10 in version 0.20 to 100 in 0.22.\", FutureWarning)\n",
            "/usr/local/lib/python3.6/dist-packages/sklearn/ensemble/forest.py:245: FutureWarning: The default value of n_estimators will change from 10 in version 0.20 to 100 in 0.22.\n",
            "  \"10 in version 0.20 to 100 in 0.22.\", FutureWarning)\n"
          ],
          "name": "stderr"
        },
        {
          "output_type": "execute_result",
          "data": {
            "text/plain": [
              "array([[2827,   23],\n",
              "       [ 159,  324]])"
            ]
          },
          "metadata": {
            "tags": []
          },
          "execution_count": 36
        }
      ]
    },
    {
      "cell_type": "code",
      "metadata": {
        "id": "3KYLr2-Chpw3",
        "colab_type": "code",
        "outputId": "d290ea53-cd6f-4425-9d62-201c1bdb6234",
        "colab": {
          "base_uri": "https://localhost:8080/",
          "height": 51
        }
      },
      "source": [
        "confusion_matrix(y,run_cv(X,y,KNN))"
      ],
      "execution_count": 0,
      "outputs": [
        {
          "output_type": "execute_result",
          "data": {
            "text/plain": [
              "array([[2805,   45],\n",
              "       [ 312,  171]])"
            ]
          },
          "metadata": {
            "tags": []
          },
          "execution_count": 37
        }
      ]
    },
    {
      "cell_type": "markdown",
      "metadata": {
        "id": "oFbHZ5fwtSfT",
        "colab_type": "text"
      },
      "source": [
        "array([[2815,   35],\n",
        "       [ 236,  247]])\n",
        "       \n",
        "\n",
        "array([[2827,   23],\n",
        "       [ 159,  324]])\n",
        "       \n",
        "\n",
        "array([[2805,   45],\n",
        "       [ 312,  171]])"
      ]
    }
  ]
}