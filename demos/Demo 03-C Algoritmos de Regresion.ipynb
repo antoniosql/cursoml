{
    "metadata": {
        "kernelspec": {
            "name": "python_defaultSpec_1600711933316",
            "display_name": "Python 3.8.5 64-bit"
        },
        "language_info": {
            "name": "python",
            "version": "3.8.5-final",
            "mimetype": "text/x-python",
            "codemirror_mode": {
                "name": "ipython",
                "version": 3
            },
            "pygments_lexer": "ipython3",
            "nbconvert_exporter": "python",
            "file_extension": ".py"
        }
    },
    "nbformat_minor": 2,
    "nbformat": 4,
    "cells": [
        {
            "cell_type": "markdown",
            "source": [
                "![SolidQ](https://antoniosql.github.io/images/SolidQ_Verne.png) "
            ],
            "metadata": {
                "azdata_cell_guid": "8172bf50-d835-4431-8916-7725974afeb4"
            }
        },
        {
            "cell_type": "markdown",
            "source": [
                "# Carga de datos y exploración"
            ],
            "metadata": {
                "id": "1DU_pK-Pw9G1",
                "colab_type": "text",
                "azdata_cell_guid": "30a18b7d-ccea-4c35-baf3-785da81ccc16"
            }
        },
        {
            "cell_type": "code",
            "source": [
                "import pandas as pd\n",
                "import numpy as np\n",
                "import sqlite3"
            ],
            "metadata": {
                "id": "Luzizu3KxCZu",
                "colab_type": "code",
                "colab": {},
                "azdata_cell_guid": "d8a59429-e253-4dcd-9095-d0c42ba4b8f3"
            },
            "outputs": [],
            "execution_count": 33
        },
        {
            "cell_type": "code",
            "source": [
                "conn = sqlite3.connect('Tiendas24H.sqlite')\n",
                "consulta=\"select c.CodCliente,  EstadoCivil, Sexo, IngresosAnuales, N.NivelAcademico, O.Ocupacion, count(Ticket) as NumeroVentas from clientes c inner join NivelAcademico N    on c.NivelAcademico = N.Codigo    inner join Ocupacion O on c.Ocupacion = o.Codigo     left outer join VentasCAB v          on v.codcliente = C.codcliente  where c.Codcliente <>'CONTADO' group by c.CodCliente,  EstadoCivil, Sexo, IngresosAnuales, N.NivelAcademico, O.Ocupacion\"\n",
                "\n",
                "df = pd.read_sql_query(consulta,conn)\n",
                "\n",
                "df.head()"
            ],
            "metadata": {
                "id": "tYPA2JGWxEAA",
                "colab_type": "code",
                "colab": {},
                "azdata_cell_guid": "f961c649-1bc6-4061-a28d-3e5c6e86d329"
            },
            "outputs": [
                {
                    "output_type": "execute_result",
                    "data": {
                        "text/plain": "  CodCliente EstadoCivil Sexo  IngresosAnuales NivelAcademico  \\\n0     000020           M    M          90000.0   Licenciatura   \n1     000026           S    M          60000.0   Licenciatura   \n2     000029           M    M          60000.0   Licenciatura   \n3     000046           S    F          70000.0   Licenciatura   \n4     000047           S    F          80000.0   Licenciatura   \n\n                   Ocupacion  NumeroVentas  \n0  Profesional especializado             1  \n1  Profesional especializado            22  \n2  Profesional especializado             1  \n3  Profesional especializado             0  \n4  Profesional especializado            18  ",
                        "text/html": "<div>\n<style scoped>\n    .dataframe tbody tr th:only-of-type {\n        vertical-align: middle;\n    }\n\n    .dataframe tbody tr th {\n        vertical-align: top;\n    }\n\n    .dataframe thead th {\n        text-align: right;\n    }\n</style>\n<table border=\"1\" class=\"dataframe\">\n  <thead>\n    <tr style=\"text-align: right;\">\n      <th></th>\n      <th>CodCliente</th>\n      <th>EstadoCivil</th>\n      <th>Sexo</th>\n      <th>IngresosAnuales</th>\n      <th>NivelAcademico</th>\n      <th>Ocupacion</th>\n      <th>NumeroVentas</th>\n    </tr>\n  </thead>\n  <tbody>\n    <tr>\n      <th>0</th>\n      <td>000020</td>\n      <td>M</td>\n      <td>M</td>\n      <td>90000.0</td>\n      <td>Licenciatura</td>\n      <td>Profesional especializado</td>\n      <td>1</td>\n    </tr>\n    <tr>\n      <th>1</th>\n      <td>000026</td>\n      <td>S</td>\n      <td>M</td>\n      <td>60000.0</td>\n      <td>Licenciatura</td>\n      <td>Profesional especializado</td>\n      <td>22</td>\n    </tr>\n    <tr>\n      <th>2</th>\n      <td>000029</td>\n      <td>M</td>\n      <td>M</td>\n      <td>60000.0</td>\n      <td>Licenciatura</td>\n      <td>Profesional especializado</td>\n      <td>1</td>\n    </tr>\n    <tr>\n      <th>3</th>\n      <td>000046</td>\n      <td>S</td>\n      <td>F</td>\n      <td>70000.0</td>\n      <td>Licenciatura</td>\n      <td>Profesional especializado</td>\n      <td>0</td>\n    </tr>\n    <tr>\n      <th>4</th>\n      <td>000047</td>\n      <td>S</td>\n      <td>F</td>\n      <td>80000.0</td>\n      <td>Licenciatura</td>\n      <td>Profesional especializado</td>\n      <td>18</td>\n    </tr>\n  </tbody>\n</table>\n</div>"
                    },
                    "metadata": {},
                    "execution_count": 34
                }
            ],
            "execution_count": 34
        },
        {
            "cell_type": "code",
            "execution_count": 35,
            "metadata": {},
            "outputs": [],
            "source": [
                "caracteristicas = [\"EstadoCivil\", \"Sexo\", \"IngresosAnuales\",\"NivelAcademico\", \"Ocupacion\"]\n",
                "etiqueta=\"NumeroVentas\""
            ]
        },
        {
            "cell_type": "code",
            "execution_count": 36,
            "metadata": {},
            "outputs": [],
            "source": [
                "from sklearn.preprocessing import  OneHotEncoder,LabelEncoder\n",
                "\n",
                "le=LabelEncoder()\n",
                "df['EstadoCivil'] = le.fit_transform(df['EstadoCivil'])\n",
                "df['Sexo'] = le.fit_transform(df['Sexo'])"
            ]
        },
        {
            "cell_type": "code",
            "execution_count": 37,
            "metadata": {},
            "outputs": [],
            "source": [
                "dum_df = pd.get_dummies(df[caracteristicas], columns=[\"NivelAcademico\",\"Ocupacion\"] )"
            ]
        },
        {
            "cell_type": "markdown",
            "source": [
                "# Generar datos de entrenamiento y test"
            ],
            "metadata": {
                "id": "CMZC_11mxK15",
                "colab_type": "text",
                "azdata_cell_guid": "70e7847b-a3f4-4139-acfd-a006440a0547"
            }
        },
        {
            "cell_type": "code",
            "source": [
                "from sklearn.model_selection import train_test_split\n",
                "X, y = dum_df.values, df[etiqueta].values"
            ],
            "metadata": {
                "id": "UZ9uJzzDxN62",
                "colab_type": "code",
                "colab": {},
                "azdata_cell_guid": "491d38f6-e5c1-4ea3-9294-f37870c7e669"
            },
            "outputs": [],
            "execution_count": 46
        },
        {
            "cell_type": "code",
            "execution_count": 47,
            "metadata": {},
            "outputs": [],
            "source": [
                "X_train, X_test, y_train, y_test =\\\n",
                "  train_test_split(X, y,\n",
                "  test_size=0.3)"
            ]
        },
        {
            "source": [
                "## Escalado"
            ],
            "cell_type": "markdown",
            "metadata": {}
        },
        {
            "cell_type": "code",
            "execution_count": null,
            "metadata": {},
            "outputs": [],
            "source": [
                "\n",
                "from sklearn.preprocessing import MinMaxScaler\n",
                "scaler = MinMaxScaler()\n",
                "X_train = scaler.fit_transform(X_train)\n",
                "X_test = scaler.transform(X_test)"
            ]
        },
        {
            "cell_type": "markdown",
            "source": [
                "# Regresión Lineal"
            ],
            "metadata": {
                "id": "o3o7TL2SHt3C",
                "colab_type": "text",
                "azdata_cell_guid": "82d22afb-8ab2-4c2c-9331-67b14547b0d2"
            }
        },
        {
            "cell_type": "code",
            "source": [
                "from sklearn import linear_model\n",
                "regressor = linear_model.LinearRegression()\n",
                "lr = regressor.fit(X_train, y_train)"
            ],
            "metadata": {
                "id": "LDNRp65uIReI",
                "colab_type": "code",
                "colab": {},
                "azdata_cell_guid": "fd83f20b-ea2b-4ee2-ba5f-3111d40c535b"
            },
            "outputs": [],
            "execution_count": 48
        },
        {
            "cell_type": "code",
            "source": [
                "#Realizamos la predicción con test\n",
                "print(lr.predict(X_test))"
            ],
            "metadata": {
                "id": "zCfGD100xbc9",
                "colab_type": "code",
                "colab": {},
                "azdata_cell_guid": "d3e84833-fbae-4e9a-80fc-63931b12af0a",
                "tags": []
            },
            "outputs": [
                {
                    "output_type": "stream",
                    "name": "stdout",
                    "text": "[ 7.42369237e+00  7.93280818e+00  9.55986239e+00  4.30723780e+00\n  2.66399761e+00  1.20164964e+00  5.56583508e+00  6.87767299e+00\n  4.87974340e-01  1.91084868e+01 -7.38034438e+00  1.51511855e+01\n  1.64131986e+01  1.70870207e+01  1.91941177e+01  5.10663014e+00\n  6.41442097e+00  2.26324935e+00  3.76457359e+00  1.45729301e+01\n -1.91480493e+00  1.45729301e+01  4.01164170e+00 -6.15755327e+00\n  5.20425342e-01  4.47824889e+00  1.92792299e+01 -6.87122857e+00\n -1.10524495e+01  8.60663022e+00  4.47824889e+00  1.20164964e+00\n  8.72133411e+00  8.34337614e+00  1.50655546e+01  4.01164170e+00\n  4.30723780e+00  1.43917325e+01  3.13210489e-01  9.99412756e+00\n  1.10754619e+01  1.43917325e+01 -1.85847704e-01 -2.58862698e+00\n  3.38645664e+00  1.18343961e+01  9.32030552e+00  1.43917325e+01\n  6.58516409e+00  3.17999215e-01  3.33781966e+00  4.01164170e+00\n  7.67384459e-01  1.45729301e+01  1.58942730e+00  6.23965712e+00\n -5.48373123e+00  1.07428002e+01  9.99412756e+00  6.32191001e+00\n  1.22449641e+01  3.50856277e+00  4.89201303e+00  1.91941177e+01\n  3.09075155e+00 -4.48524013e+00  1.52035063e+01 -8.05416642e+00\n -6.09332586e-01  1.38558622e+01  5.53002890e+00 -2.31106639e-01\n  6.45427423e+00  1.10754619e+01  7.79146383e+00  9.13910792e+00\n  4.85620686e+00 -1.87899876e+00  4.30723780e+00  6.02678224e-01\n  6.45427423e+00  1.46153152e+01  1.27650027e+00  1.14166223e+01\n -8.05416642e+00 -3.58698129e+00  4.30723780e+00 -5.02790433e+00\n  1.27650027e+00  1.84346648e+01  2.66399761e+00  7.88754924e+00\n  4.01164170e+00 -1.00216777e-01 -3.97612432e+00  3.63687991e+00\n  6.45427423e+00  1.04867520e+01  1.38991081e+01  8.63908122e+00\n  1.32676711e+01 -3.93627107e+00  3.09075155e+00  8.98542301e-01\n  5.56583508e+00 -5.40602129e+00  1.10754619e+01  5.49017565e+00\n -2.96624807e+00  7.93280818e+00  1.14564755e+01 -8.05416642e+00\n  7.42369237e+00  8.98542301e-01  9.13910792e+00 -5.40602129e+00\n  3.09075155e+00  8.38322939e+00  5.14901523e+00 -6.94963514e-01\n  5.23148312e+00 -4.48524013e+00  9.73087348e+00  5.82622986e+00\n -2.96624807e+00  1.77608427e+01  2.66399761e+00  6.45427423e+00\n  6.23965712e+00 -7.54505061e+00  3.63341575e+00 -7.80544539e+00\n  3.76457359e+00  7.25898613e+00 -1.45994452e-01 -7.13162335e+00\n  1.61221760e+00  9.32030552e+00  7.97266143e+00 -1.24098289e+00\n  4.87974340e-01 -2.96624807e+00 -6.44697570e+00 -1.61860398e+00\n  1.25514640e+01 -2.96624807e+00  8.98542301e-01  7.96525918e+00\n  3.63341575e+00  8.80442656e+00 -1.61860398e+00  1.23702664e+01\n -4.73219925e+00  1.16179638e+00  8.60663022e+00 -4.48524013e+00\n  1.31820402e+01  4.30723780e+00  1.99530520e+01  7.25898613e+00\n  1.13417717e+01  7.96525918e+00  1.84346648e+01  2.64573509e-01\n  5.49017565e+00  5.23148312e+00  7.67384459e-01 -6.94963514e-01\n  4.30723780e+00 -5.40602129e+00  1.96110261e+00  3.09075155e+00\n -5.02790433e+00  4.53167460e+00  9.05399573e+00 -1.85847704e-01\n  1.24558973e+01  1.91084868e+01  1.15711420e+01 -3.64040699e+00\n  7.93280818e+00  1.50093707e+00  1.19200270e+01 -2.55282080e+00\n  5.82283728e+00  1.43917325e+01 -6.83137532e+00  7.96525918e+00\n -6.15755327e+00  1.06928542e+00 -2.96624807e+00  3.76457359e+00\n  3.13210489e-01  3.46870952e+00  9.73087348e+00 -3.97612432e+00\n  5.74059893e+00  1.26763170e+01  4.85620686e+00  5.23148312e+00\n  9.55986239e+00  1.16964443e+01  9.81292996e+00  4.33724142e+00\n -5.95773720e+00  9.32030552e+00  2.24720257e-01 -4.48524013e+00\n  2.19745181e+01  3.38645664e+00 -5.73330040e+00  6.23965712e+00\n -3.93627107e+00  5.91134204e+00  4.01164170e+00  8.27194886e+00\n -5.40602129e+00  3.09075155e+00  9.73087348e+00  4.33724142e+00\n  8.63908122e+00  5.74059893e+00  3.38645664e+00  3.80442685e+00\n -2.31106639e-01  4.55766108e+00  1.32252860e+01  9.05705144e+00\n  4.14253156e+00 -1.86817315e+00  7.51587393e+00  4.30723780e+00\n -3.47536388e+00  9.55986239e+00 -4.31422904e+00  7.12809627e+00\n -3.12905676e-02  1.04016398e+01 -4.35408229e+00  1.02934150e+01\n  3.63341575e+00  9.32030552e+00  7.97266143e+00 -1.57875073e+00\n -5.66187312e+00  2.06268740e+01  1.13417717e+01 -3.72232300e+00\n  5.14901523e+00 -3.93627107e+00  1.66986456e+01 -1.24098289e+00\n  4.30723780e+00  1.58942730e+00  2.71263459e+00 -4.48524013e+00\n  7.12809627e+00  4.47824889e+00  9.81292996e+00  7.67384459e-01\n  8.72133411e+00 -6.15755327e+00  9.38395554e-01  6.20385095e+00\n  1.01088314e+01  8.63908122e+00 -2.29242603e+00 -2.96624807e+00\n  6.41442097e+00  1.10754619e+01  8.72133411e+00  7.93280818e+00\n  1.31820402e+01 -1.53396703e-01 -5.85540654e+00  8.38017369e+00\n  9.73087348e+00  1.31635352e+00  7.96525918e+00  8.38017369e+00\n  9.13910792e+00 -5.48373123e+00 -9.04928684e-01  8.63908122e+00\n -7.38034438e+00 -2.80154183e+00  4.85620686e+00  6.23965712e+00\n  7.67384459e-01 -9.64876963e+00 -1.58614951e+00  9.89856089e+00\n  1.17492839e+01  9.81292996e+00  9.38395554e-01  1.16179638e+00\n  1.71153344e+00  5.11221768e+00  1.58942730e+00  1.39414932e+01\n  3.33781966e+00 -7.54505061e+00  8.09751441e+00  1.25082181e+01\n  1.31820402e+01  5.20425342e-01  1.18343961e+01  2.58794986e+01\n  5.06677688e+00  4.14253156e+00  1.04867520e+01  6.02678224e-01\n  9.87032534e-01  2.65533207e+01 -4.35408229e+00  1.57393766e+01\n  9.13910792e+00  3.63341575e+00 -2.11414691e-02  9.13910792e+00\n  7.51587393e+00  1.52467522e+01  1.21302976e+01 -9.04928684e-01\n -5.77315365e+00 -4.64994636e+00  4.85620686e+00  5.06677688e+00\n  5.56583508e+00 -4.48524013e+00  4.39295484e+00  5.57326810e+00\n  4.89201303e+00 -2.58862698e+00  1.04867520e+01 -1.61574468e+00\n  9.55986239e+00 -8.72798847e+00  4.89201303e+00  7.51587393e+00\n  1.16179638e+00  2.26324935e+00 -1.87899876e+00 -6.40712245e+00\n  1.39414932e+01  8.88604034e+00  4.89201303e+00  6.87767299e+00\n  1.44120650e+00  1.31635352e+00 -1.24098289e+00  1.32676711e+01\n  7.88754924e+00  1.45729301e+01 -7.74038822e-01  3.63341575e+00\n -5.40602129e+00 -1.53396703e-01  6.42531477e-01  2.24720257e-01\n -3.47536388e+00  4.33724142e+00 -6.94963514e-01  3.33781966e+00\n  4.30723780e+00  4.14253156e+00 -2.31106639e-01  4.87974340e-01\n  6.02678224e-01  6.84205189e+00  2.66399761e+00  5.82622986e+00\n  3.29796640e+00  1.65943962e+01  4.85620686e+00  7.67384459e-01\n -5.48373123e+00 -7.97920333e+00  7.67384459e-01 -3.97612432e+00\n -1.53396703e-01 -4.48524013e+00 -1.00216777e-01 -3.47536388e+00\n -6.21084219e+00 -1.91480493e+00 -2.80154183e+00  5.64808796e+00\n  9.99412756e+00 -8.05416642e+00  5.56583508e+00  6.87767299e+00\n -2.29276290e+00  1.15711420e+01  1.65943962e+01 -2.58862698e+00\n  7.67384459e-01  3.13060480e+00  4.30723780e+00  3.13060480e+00\n  4.55766108e+00 -1.36878556e+00  4.97087334e+00  7.03252960e+00\n  1.05723829e+01 -2.11414691e-02  1.27650027e+00  3.63687991e+00\n  9.38395554e-01  7.67384459e-01  5.74059893e+00  4.14253156e+00\n  8.64648348e+00  5.82622986e+00  7.67384459e-01  1.99017557e+00\n -6.15755327e+00 -2.31106639e-01 -1.87899876e+00 -7.30538129e+00\n  1.27650027e+00  1.08973200e+01  8.63908122e+00  4.30723780e+00\n  1.45729301e+01 -6.83137532e+00  2.26324935e+00  2.24720257e-01\n  4.47824889e+00 -2.96624807e+00  2.45372705e+00  5.56583508e+00\n  6.84205189e+00 -3.97612432e+00 -1.19435111e+00  3.13210489e-01\n  1.69945097e+01 -3.75168752e+00  4.33724142e+00  9.39515615e+00\n -2.96624807e+00 -7.05112612e-01  7.12809627e+00  5.20425342e-01\n  4.55766108e+00  8.88604034e+00  2.85747868e+01  2.16091868e+00\n  7.12809627e+00  1.66564330e+00  3.80137114e+00  1.01088314e+01\n  6.84205189e+00  6.23965712e+00  2.13006961e+01  1.46153152e+01\n  3.22311577e+00  1.65943962e+01  5.64469538e+00  1.61221760e+00\n -8.21887266e+00  1.16964443e+01  9.13910792e+00 -4.64994636e+00\n  6.16399770e+00  9.55986239e+00  2.24720257e-01 -4.73219925e+00\n -1.00216777e-01 -6.15755327e+00  2.05417618e+01  3.76457359e+00\n -2.29276290e+00  5.10663014e+00  1.45729301e+01  1.10754619e+01\n  5.73605268e-01 -1.45994452e-01 -1.57875073e+00 -1.87899876e+00\n -4.64994636e+00  2.13006961e+01 -4.73219925e+00  8.43665510e+00\n -8.65302538e+00  4.89201303e+00 -3.47536388e+00  8.88604034e+00\n  1.45729301e+01 -5.95773720e+00  1.91084868e+01 -2.31106639e-01\n -1.08307058e+00  2.62414436e+00  1.43917325e+01  6.32191001e+00\n -7.68333926e+00  1.31820402e+01  7.42369237e+00 -4.64994636e+00\n  2.51020846e+00  1.52891372e+01  9.99412756e+00  1.58942730e+00\n -1.08307058e+00 -1.85847704e-01  1.52467522e+01 -1.91480493e+00\n -5.95773720e+00 -1.24098289e+00  3.13210489e-01  5.49017565e+00\n -3.93627107e+00  1.26763170e+01  9.32030552e+00  3.04531075e+00\n  1.04016398e+01  1.64131986e+01 -7.05112612e-01 -7.13162335e+00\n  1.12462050e+01 -1.00216777e-01  2.13006961e+01  1.87547168e+00\n  1.39414932e+01  9.05399573e+00  2.52056766e+01  8.88604034e+00\n  6.41442097e+00 -8.35716130e+00 -1.45994452e-01  3.71913280e+00\n -4.64994636e+00  1.01088314e+01  8.34337614e+00  6.02678224e-01\n  5.53002890e+00 -2.62848023e+00  7.70635164e+00 -5.95773720e+00\n  3.46870952e+00  2.62414436e+00  8.64648348e+00  2.13006961e+01\n  1.84346648e+01 -3.58698129e+00 -3.72232300e+00  7.12809627e+00\n  1.31854328e+01  4.89201303e+00 -2.55282080e+00  2.13006961e+01\n -1.57875073e+00  5.49017565e+00  1.07428002e+01  8.04751206e+00\n  1.52891372e+01  1.84346648e+01  4.01164170e+00  4.01164170e+00\n  1.38558622e+01 -2.58862698e+00  1.38592548e+01  1.31635352e+00\n  4.55766108e+00  3.13210489e-01  4.85620686e+00  8.38017369e+00\n -9.04928684e-01  5.53002890e+00  7.67384459e-01 -2.29242603e+00\n  5.23148312e+00  8.72133411e+00 -4.64994636e+00  6.02678224e-01\n  5.74059893e+00 -9.15383169e-01  1.39414932e+01 -1.53396703e-01\n -4.48524013e+00  1.39414932e+01  3.09075155e+00 -4.64994636e+00\n  1.61221760e+00 -1.91480493e+00  5.56583508e+00  3.95463372e-01\n -1.19435111e+00  8.34337614e+00  6.87767299e+00  1.21302976e+01\n  3.46870952e+00 -3.26244902e+00  9.99412756e+00 -1.87899876e+00\n  7.12809627e+00 -5.40602129e+00 -3.97612432e+00  4.01164170e+00\n -8.21887266e+00  1.13417717e+01  7.67384459e-01  4.85620686e+00\n  4.30723780e+00  7.51587393e+00  3.22311577e+00  1.93939338e+01\n  3.38645664e+00 -3.40040079e+00  2.04561309e+01  2.65533207e+01\n -1.00216777e-01 -1.00216777e-01  3.13210489e-01 -1.53396703e-01\n  5.82283728e+00 -6.83137532e+00  2.06268740e+01  5.20425342e-01\n -4.48524013e+00 -2.12771979e+00  7.42369237e+00  2.13006961e+01\n  7.67384459e-01  2.63492465e+00 -6.87122857e+00 -1.27660399e+00\n  5.49017565e+00  4.30723780e+00  1.27650027e+00  5.73605268e-01\n  2.19745181e+01  2.33221622e+01  4.87974340e-01  3.63687991e+00\n  5.10663014e+00  1.27650027e+00  2.26324935e+00 -4.35408229e+00\n  1.77608427e+01  1.11605741e+01  1.65943962e+01 -6.15755327e+00\n  8.34337614e+00  1.87547168e+00  1.11639666e+01 -6.94963514e-01\n -2.96624807e+00 -6.15755327e+00  8.72133411e+00  1.27650027e+00\n -3.97612432e+00  9.99412756e+00 -1.00216777e-01  7.97266143e+00\n  1.27650027e+00  1.17555358e+01  1.21302976e+01 -2.11414691e-02\n  3.80442685e+00  5.91134204e+00  1.16179638e+00  4.01164170e+00\n -4.48524013e+00 -4.98805108e+00  4.87974340e-01  9.87032534e-01\n  1.38558622e+01  3.04531075e+00  6.23965712e+00  1.79315858e+01\n  3.13210489e-01  5.14901523e+00  5.56583508e+00  5.15240781e+00\n  4.01164170e+00  7.96525918e+00  2.71263459e+00 -2.31106639e-01\n  9.32030552e+00 -8.72798847e+00 -2.58862698e+00 -1.53396703e-01\n  3.95463372e-01  5.74059893e+00  1.77608427e+01  6.41442097e+00\n  9.38395554e-01 -1.19435111e+00  3.38645664e+00  3.13210489e-01\n -3.60611555e-01  5.82622986e+00  1.70870207e+01  1.16179638e+00\n  6.31851742e+00 -7.05112612e-01  4.85620686e+00  5.82589298e+00\n  3.38645664e+00  1.99017557e+00  1.96110261e+00  2.58794986e+01\n  6.84205189e+00 -5.99759045e+00  7.42369237e+00  1.11605741e+01\n -9.04928684e-01  6.32191001e+00 -3.60611555e-01  9.87032534e-01\n -3.60611555e-01  4.30723780e+00  7.42369237e+00  2.25103884e+01\n -5.02790433e+00  2.58794986e+01  1.04867520e+01  1.77990501e+00\n -4.26080333e+00 -3.97612432e+00 -5.48373123e+00 -4.48524013e+00\n  1.06661200e-01  6.92430477e+00  4.85620686e+00  1.27650027e+00\n -4.64994636e+00  8.47574036e+00  1.45729301e+01  5.56583508e+00]\n"
                }
            ],
            "execution_count": 49
        },
        {
            "cell_type": "code",
            "source": [
                "print(\" lr.coef_:\", lr.coef_) \n",
                "print(\" lr.intercept_:\", lr.intercept_)\n",
                "#los guiones bajos representan siempre en sklearn valores derivados de datos de entrenamiento"
            ],
            "metadata": {
                "id": "trHMmCLCJzHj",
                "colab_type": "code",
                "colab": {},
                "azdata_cell_guid": "2209be68-ab54-455a-bb51-e62e2a45b43a",
                "tags": []
            },
            "outputs": [
                {
                    "output_type": "stream",
                    "name": "stdout",
                    "text": "lr.coef_: [ 8.11865588e+00  5.25262459e+00 -6.73822045e-05 -1.46963907e+00\n -1.93422258e-01 -3.31296331e+00  9.29785032e-01  4.04623960e+00\n -6.41893082e+00 -4.15050557e+00  1.24217863e+01  4.41395758e-01\n -2.29374567e+00]\n lr.intercept_: 1.430768588164061\n"
                }
            ],
            "execution_count": 50
        },
        {
            "cell_type": "code",
            "source": [
                "#Mean Squared Error (MSE)\n",
                "from sklearn.metrics import mean_squared_error\n",
                "y_train_pred_lr = lr.predict(X_train)\n",
                "y_test_pred_lr = lr.predict(X_test)\n",
                "print('MSE train: %.3f, test: %.3f' % (mean_squared_error(y_train, y_train_pred_lr),mean_squared_error(y_test, y_test_pred_lr)))\n",
                "\n",
                "# Si MSE es mayor en test que en train, clara muestra de overfitting"
            ],
            "metadata": {
                "id": "qCCgMxTSiO8u",
                "colab_type": "code",
                "colab": {},
                "azdata_cell_guid": "fef76eec-234c-41db-bc3e-539982b73f83",
                "tags": []
            },
            "outputs": [
                {
                    "output_type": "stream",
                    "name": "stdout",
                    "text": "MSE train: 9432.307, test: 67.445\n"
                }
            ],
            "execution_count": 51
        },
        {
            "cell_type": "code",
            "source": [
                "print('R-squared train score: {:.3f}'\n",
                "     .format(lr.score(X_train, y_train)))\n",
                "print('R-squared test score: {:.3f}'\n",
                "     .format(lr.score(X_test, y_test)))\n",
                "#R-squared conocido también como Coeficiente de determinación. El coeficiente determina la calidad del modelo para replicar los resultados, \n",
                "#y la proporción de variación de los resultados que puede explicarse por el modelo\n",
                "#Es el porcentaje de variacion de la variable dependiente que explica el modelo lineal\n",
                "\n"
            ],
            "metadata": {
                "id": "DacKhQCvKIq9",
                "colab_type": "code",
                "colab": {},
                "azdata_cell_guid": "a1916595-e884-4805-8ee9-2623ccafca2b",
                "tags": []
            },
            "outputs": [
                {
                    "output_type": "stream",
                    "name": "stdout",
                    "text": "R-squared train score: 0.005\nR-squared test score: -4.330\n"
                }
            ],
            "execution_count": 52
        },
        {
            "cell_type": "code",
            "source": [
                "import matplotlib.pyplot as plt\n",
                "\n",
                "# Creamos el fit lineal utilizando el conjunto de entrenamiento\n",
                "plt.scatter(X_train, y_train, color = 'red')\n",
                "plt.plot(X_train, lr.predict(X_train), color = 'blue')\n",
                "\n",
                "plt.show()"
            ],
            "metadata": {
                "id": "OntHnZfWIYaJ",
                "colab_type": "code",
                "colab": {},
                "azdata_cell_guid": "860d3d2a-b2ac-4e73-b1ee-67b100d27c3b"
            },
            "outputs": [
                {
                    "output_type": "error",
                    "ename": "ValueError",
                    "evalue": "x and y must be the same size",
                    "traceback": [
                        "\u001b[1;31m---------------------------------------------------------------------------\u001b[0m",
                        "\u001b[1;31mValueError\u001b[0m                                Traceback (most recent call last)",
                        "\u001b[1;32m<ipython-input-61-4e3202e4dfe6>\u001b[0m in \u001b[0;36m<module>\u001b[1;34m\u001b[0m\n\u001b[0;32m      2\u001b[0m \u001b[1;33m\u001b[0m\u001b[0m\n\u001b[0;32m      3\u001b[0m \u001b[1;31m# Creamos el fit lineal utilizando el conjunto de entrenamiento\u001b[0m\u001b[1;33m\u001b[0m\u001b[1;33m\u001b[0m\u001b[1;33m\u001b[0m\u001b[0m\n\u001b[1;32m----> 4\u001b[1;33m \u001b[0mplt\u001b[0m\u001b[1;33m.\u001b[0m\u001b[0mscatter\u001b[0m\u001b[1;33m(\u001b[0m\u001b[0mX_train\u001b[0m\u001b[1;33m,\u001b[0m \u001b[0my_train\u001b[0m\u001b[1;33m,\u001b[0m \u001b[0mcolor\u001b[0m \u001b[1;33m=\u001b[0m \u001b[1;34m'red'\u001b[0m\u001b[1;33m)\u001b[0m\u001b[1;33m\u001b[0m\u001b[1;33m\u001b[0m\u001b[0m\n\u001b[0m\u001b[0;32m      5\u001b[0m \u001b[1;33m\u001b[0m\u001b[0m\n\u001b[0;32m      6\u001b[0m \u001b[1;33m\u001b[0m\u001b[0m\n",
                        "\u001b[1;32m~\\AppData\\Local\\Programs\\Python\\Python38\\lib\\site-packages\\matplotlib\\pyplot.py\u001b[0m in \u001b[0;36mscatter\u001b[1;34m(x, y, s, c, marker, cmap, norm, vmin, vmax, alpha, linewidths, verts, edgecolors, plotnonfinite, data, **kwargs)\u001b[0m\n\u001b[0;32m   2809\u001b[0m         \u001b[0mverts\u001b[0m\u001b[1;33m=\u001b[0m\u001b[0mcbook\u001b[0m\u001b[1;33m.\u001b[0m\u001b[0mdeprecation\u001b[0m\u001b[1;33m.\u001b[0m\u001b[0m_deprecated_parameter\u001b[0m\u001b[1;33m,\u001b[0m\u001b[1;33m\u001b[0m\u001b[1;33m\u001b[0m\u001b[0m\n\u001b[0;32m   2810\u001b[0m         edgecolors=None, *, plotnonfinite=False, data=None, **kwargs):\n\u001b[1;32m-> 2811\u001b[1;33m     __ret = gca().scatter(\n\u001b[0m\u001b[0;32m   2812\u001b[0m         \u001b[0mx\u001b[0m\u001b[1;33m,\u001b[0m \u001b[0my\u001b[0m\u001b[1;33m,\u001b[0m \u001b[0ms\u001b[0m\u001b[1;33m=\u001b[0m\u001b[0ms\u001b[0m\u001b[1;33m,\u001b[0m \u001b[0mc\u001b[0m\u001b[1;33m=\u001b[0m\u001b[0mc\u001b[0m\u001b[1;33m,\u001b[0m \u001b[0mmarker\u001b[0m\u001b[1;33m=\u001b[0m\u001b[0mmarker\u001b[0m\u001b[1;33m,\u001b[0m \u001b[0mcmap\u001b[0m\u001b[1;33m=\u001b[0m\u001b[0mcmap\u001b[0m\u001b[1;33m,\u001b[0m \u001b[0mnorm\u001b[0m\u001b[1;33m=\u001b[0m\u001b[0mnorm\u001b[0m\u001b[1;33m,\u001b[0m\u001b[1;33m\u001b[0m\u001b[1;33m\u001b[0m\u001b[0m\n\u001b[0;32m   2813\u001b[0m         \u001b[0mvmin\u001b[0m\u001b[1;33m=\u001b[0m\u001b[0mvmin\u001b[0m\u001b[1;33m,\u001b[0m \u001b[0mvmax\u001b[0m\u001b[1;33m=\u001b[0m\u001b[0mvmax\u001b[0m\u001b[1;33m,\u001b[0m \u001b[0malpha\u001b[0m\u001b[1;33m=\u001b[0m\u001b[0malpha\u001b[0m\u001b[1;33m,\u001b[0m \u001b[0mlinewidths\u001b[0m\u001b[1;33m=\u001b[0m\u001b[0mlinewidths\u001b[0m\u001b[1;33m,\u001b[0m\u001b[1;33m\u001b[0m\u001b[1;33m\u001b[0m\u001b[0m\n",
                        "\u001b[1;32m~\\AppData\\Local\\Programs\\Python\\Python38\\lib\\site-packages\\matplotlib\\__init__.py\u001b[0m in \u001b[0;36minner\u001b[1;34m(ax, data, *args, **kwargs)\u001b[0m\n\u001b[0;32m   1563\u001b[0m     \u001b[1;32mdef\u001b[0m \u001b[0minner\u001b[0m\u001b[1;33m(\u001b[0m\u001b[0max\u001b[0m\u001b[1;33m,\u001b[0m \u001b[1;33m*\u001b[0m\u001b[0margs\u001b[0m\u001b[1;33m,\u001b[0m \u001b[0mdata\u001b[0m\u001b[1;33m=\u001b[0m\u001b[1;32mNone\u001b[0m\u001b[1;33m,\u001b[0m \u001b[1;33m**\u001b[0m\u001b[0mkwargs\u001b[0m\u001b[1;33m)\u001b[0m\u001b[1;33m:\u001b[0m\u001b[1;33m\u001b[0m\u001b[1;33m\u001b[0m\u001b[0m\n\u001b[0;32m   1564\u001b[0m         \u001b[1;32mif\u001b[0m \u001b[0mdata\u001b[0m \u001b[1;32mis\u001b[0m \u001b[1;32mNone\u001b[0m\u001b[1;33m:\u001b[0m\u001b[1;33m\u001b[0m\u001b[1;33m\u001b[0m\u001b[0m\n\u001b[1;32m-> 1565\u001b[1;33m             \u001b[1;32mreturn\u001b[0m \u001b[0mfunc\u001b[0m\u001b[1;33m(\u001b[0m\u001b[0max\u001b[0m\u001b[1;33m,\u001b[0m \u001b[1;33m*\u001b[0m\u001b[0mmap\u001b[0m\u001b[1;33m(\u001b[0m\u001b[0msanitize_sequence\u001b[0m\u001b[1;33m,\u001b[0m \u001b[0margs\u001b[0m\u001b[1;33m)\u001b[0m\u001b[1;33m,\u001b[0m \u001b[1;33m**\u001b[0m\u001b[0mkwargs\u001b[0m\u001b[1;33m)\u001b[0m\u001b[1;33m\u001b[0m\u001b[1;33m\u001b[0m\u001b[0m\n\u001b[0m\u001b[0;32m   1566\u001b[0m \u001b[1;33m\u001b[0m\u001b[0m\n\u001b[0;32m   1567\u001b[0m         \u001b[0mbound\u001b[0m \u001b[1;33m=\u001b[0m \u001b[0mnew_sig\u001b[0m\u001b[1;33m.\u001b[0m\u001b[0mbind\u001b[0m\u001b[1;33m(\u001b[0m\u001b[0max\u001b[0m\u001b[1;33m,\u001b[0m \u001b[1;33m*\u001b[0m\u001b[0margs\u001b[0m\u001b[1;33m,\u001b[0m \u001b[1;33m**\u001b[0m\u001b[0mkwargs\u001b[0m\u001b[1;33m)\u001b[0m\u001b[1;33m\u001b[0m\u001b[1;33m\u001b[0m\u001b[0m\n",
                        "\u001b[1;32m~\\AppData\\Local\\Programs\\Python\\Python38\\lib\\site-packages\\matplotlib\\cbook\\deprecation.py\u001b[0m in \u001b[0;36mwrapper\u001b[1;34m(*args, **kwargs)\u001b[0m\n\u001b[0;32m    356\u001b[0m                 \u001b[1;34mf\"%(removal)s.  If any parameter follows {name!r}, they \"\u001b[0m\u001b[1;33m\u001b[0m\u001b[1;33m\u001b[0m\u001b[0m\n\u001b[0;32m    357\u001b[0m                 f\"should be pass as keyword, not positionally.\")\n\u001b[1;32m--> 358\u001b[1;33m         \u001b[1;32mreturn\u001b[0m \u001b[0mfunc\u001b[0m\u001b[1;33m(\u001b[0m\u001b[1;33m*\u001b[0m\u001b[0margs\u001b[0m\u001b[1;33m,\u001b[0m \u001b[1;33m**\u001b[0m\u001b[0mkwargs\u001b[0m\u001b[1;33m)\u001b[0m\u001b[1;33m\u001b[0m\u001b[1;33m\u001b[0m\u001b[0m\n\u001b[0m\u001b[0;32m    359\u001b[0m \u001b[1;33m\u001b[0m\u001b[0m\n\u001b[0;32m    360\u001b[0m     \u001b[1;32mreturn\u001b[0m \u001b[0mwrapper\u001b[0m\u001b[1;33m\u001b[0m\u001b[1;33m\u001b[0m\u001b[0m\n",
                        "\u001b[1;32m~\\AppData\\Local\\Programs\\Python\\Python38\\lib\\site-packages\\matplotlib\\axes\\_axes.py\u001b[0m in \u001b[0;36mscatter\u001b[1;34m(self, x, y, s, c, marker, cmap, norm, vmin, vmax, alpha, linewidths, verts, edgecolors, plotnonfinite, **kwargs)\u001b[0m\n\u001b[0;32m   4378\u001b[0m         \u001b[0my\u001b[0m \u001b[1;33m=\u001b[0m \u001b[0mnp\u001b[0m\u001b[1;33m.\u001b[0m\u001b[0mma\u001b[0m\u001b[1;33m.\u001b[0m\u001b[0mravel\u001b[0m\u001b[1;33m(\u001b[0m\u001b[0my\u001b[0m\u001b[1;33m)\u001b[0m\u001b[1;33m\u001b[0m\u001b[1;33m\u001b[0m\u001b[0m\n\u001b[0;32m   4379\u001b[0m         \u001b[1;32mif\u001b[0m \u001b[0mx\u001b[0m\u001b[1;33m.\u001b[0m\u001b[0msize\u001b[0m \u001b[1;33m!=\u001b[0m \u001b[0my\u001b[0m\u001b[1;33m.\u001b[0m\u001b[0msize\u001b[0m\u001b[1;33m:\u001b[0m\u001b[1;33m\u001b[0m\u001b[1;33m\u001b[0m\u001b[0m\n\u001b[1;32m-> 4380\u001b[1;33m             \u001b[1;32mraise\u001b[0m \u001b[0mValueError\u001b[0m\u001b[1;33m(\u001b[0m\u001b[1;34m\"x and y must be the same size\"\u001b[0m\u001b[1;33m)\u001b[0m\u001b[1;33m\u001b[0m\u001b[1;33m\u001b[0m\u001b[0m\n\u001b[0m\u001b[0;32m   4381\u001b[0m \u001b[1;33m\u001b[0m\u001b[0m\n\u001b[0;32m   4382\u001b[0m         \u001b[1;32mif\u001b[0m \u001b[0ms\u001b[0m \u001b[1;32mis\u001b[0m \u001b[1;32mNone\u001b[0m\u001b[1;33m:\u001b[0m\u001b[1;33m\u001b[0m\u001b[1;33m\u001b[0m\u001b[0m\n",
                        "\u001b[1;31mValueError\u001b[0m: x and y must be the same size"
                    ]
                }
            ],
            "execution_count": 61
        },
        {
            "cell_type": "code",
            "source": [
                "# Aplicamos el fit lineal al conjunto de prueba\n",
                "plt.scatter(X_test, y_test, color = 'red')\n",
                "plt.plot(X_test, regressor.predict(X_test), color = 'blue')\n",
                "plt.title('Total Rooms vs Median House Value (Test set)')\n",
                "plt.xlabel('total_rooms')\n",
                "plt.ylabel('median_house_value')\n",
                "plt.show()"
            ],
            "metadata": {
                "id": "cqY-72oXI9ay",
                "colab_type": "code",
                "colab": {},
                "azdata_cell_guid": "215a0628-8403-4db9-afbd-fa4449c5b535"
            },
            "outputs": [
                {
                    "output_type": "error",
                    "ename": "ValueError",
                    "evalue": "x and y must be the same size",
                    "traceback": [
                        "\u001b[1;31m---------------------------------------------------------------------------\u001b[0m",
                        "\u001b[1;31mValueError\u001b[0m                                Traceback (most recent call last)",
                        "\u001b[1;32m<ipython-input-54-e5da5fb0e602>\u001b[0m in \u001b[0;36m<module>\u001b[1;34m\u001b[0m\n\u001b[0;32m      1\u001b[0m \u001b[1;31m# Aplicamos el fit lineal al conjunto de prueba\u001b[0m\u001b[1;33m\u001b[0m\u001b[1;33m\u001b[0m\u001b[1;33m\u001b[0m\u001b[0m\n\u001b[1;32m----> 2\u001b[1;33m \u001b[0mplt\u001b[0m\u001b[1;33m.\u001b[0m\u001b[0mscatter\u001b[0m\u001b[1;33m(\u001b[0m\u001b[0mX_test\u001b[0m\u001b[1;33m,\u001b[0m \u001b[0my_test\u001b[0m\u001b[1;33m,\u001b[0m \u001b[0mcolor\u001b[0m \u001b[1;33m=\u001b[0m \u001b[1;34m'red'\u001b[0m\u001b[1;33m)\u001b[0m\u001b[1;33m\u001b[0m\u001b[1;33m\u001b[0m\u001b[0m\n\u001b[0m\u001b[0;32m      3\u001b[0m \u001b[0mplt\u001b[0m\u001b[1;33m.\u001b[0m\u001b[0mplot\u001b[0m\u001b[1;33m(\u001b[0m\u001b[0mX_test\u001b[0m\u001b[1;33m,\u001b[0m \u001b[0mregressor\u001b[0m\u001b[1;33m.\u001b[0m\u001b[0mpredict\u001b[0m\u001b[1;33m(\u001b[0m\u001b[0mX_test\u001b[0m\u001b[1;33m)\u001b[0m\u001b[1;33m,\u001b[0m \u001b[0mcolor\u001b[0m \u001b[1;33m=\u001b[0m \u001b[1;34m'blue'\u001b[0m\u001b[1;33m)\u001b[0m\u001b[1;33m\u001b[0m\u001b[1;33m\u001b[0m\u001b[0m\n\u001b[0;32m      4\u001b[0m \u001b[0mplt\u001b[0m\u001b[1;33m.\u001b[0m\u001b[0mtitle\u001b[0m\u001b[1;33m(\u001b[0m\u001b[1;34m'Total Rooms vs Median House Value (Test set)'\u001b[0m\u001b[1;33m)\u001b[0m\u001b[1;33m\u001b[0m\u001b[1;33m\u001b[0m\u001b[0m\n\u001b[0;32m      5\u001b[0m \u001b[0mplt\u001b[0m\u001b[1;33m.\u001b[0m\u001b[0mxlabel\u001b[0m\u001b[1;33m(\u001b[0m\u001b[1;34m'total_rooms'\u001b[0m\u001b[1;33m)\u001b[0m\u001b[1;33m\u001b[0m\u001b[1;33m\u001b[0m\u001b[0m\n",
                        "\u001b[1;32m~\\AppData\\Local\\Programs\\Python\\Python38\\lib\\site-packages\\matplotlib\\pyplot.py\u001b[0m in \u001b[0;36mscatter\u001b[1;34m(x, y, s, c, marker, cmap, norm, vmin, vmax, alpha, linewidths, verts, edgecolors, plotnonfinite, data, **kwargs)\u001b[0m\n\u001b[0;32m   2809\u001b[0m         \u001b[0mverts\u001b[0m\u001b[1;33m=\u001b[0m\u001b[0mcbook\u001b[0m\u001b[1;33m.\u001b[0m\u001b[0mdeprecation\u001b[0m\u001b[1;33m.\u001b[0m\u001b[0m_deprecated_parameter\u001b[0m\u001b[1;33m,\u001b[0m\u001b[1;33m\u001b[0m\u001b[1;33m\u001b[0m\u001b[0m\n\u001b[0;32m   2810\u001b[0m         edgecolors=None, *, plotnonfinite=False, data=None, **kwargs):\n\u001b[1;32m-> 2811\u001b[1;33m     __ret = gca().scatter(\n\u001b[0m\u001b[0;32m   2812\u001b[0m         \u001b[0mx\u001b[0m\u001b[1;33m,\u001b[0m \u001b[0my\u001b[0m\u001b[1;33m,\u001b[0m \u001b[0ms\u001b[0m\u001b[1;33m=\u001b[0m\u001b[0ms\u001b[0m\u001b[1;33m,\u001b[0m \u001b[0mc\u001b[0m\u001b[1;33m=\u001b[0m\u001b[0mc\u001b[0m\u001b[1;33m,\u001b[0m \u001b[0mmarker\u001b[0m\u001b[1;33m=\u001b[0m\u001b[0mmarker\u001b[0m\u001b[1;33m,\u001b[0m \u001b[0mcmap\u001b[0m\u001b[1;33m=\u001b[0m\u001b[0mcmap\u001b[0m\u001b[1;33m,\u001b[0m \u001b[0mnorm\u001b[0m\u001b[1;33m=\u001b[0m\u001b[0mnorm\u001b[0m\u001b[1;33m,\u001b[0m\u001b[1;33m\u001b[0m\u001b[1;33m\u001b[0m\u001b[0m\n\u001b[0;32m   2813\u001b[0m         \u001b[0mvmin\u001b[0m\u001b[1;33m=\u001b[0m\u001b[0mvmin\u001b[0m\u001b[1;33m,\u001b[0m \u001b[0mvmax\u001b[0m\u001b[1;33m=\u001b[0m\u001b[0mvmax\u001b[0m\u001b[1;33m,\u001b[0m \u001b[0malpha\u001b[0m\u001b[1;33m=\u001b[0m\u001b[0malpha\u001b[0m\u001b[1;33m,\u001b[0m \u001b[0mlinewidths\u001b[0m\u001b[1;33m=\u001b[0m\u001b[0mlinewidths\u001b[0m\u001b[1;33m,\u001b[0m\u001b[1;33m\u001b[0m\u001b[1;33m\u001b[0m\u001b[0m\n",
                        "\u001b[1;32m~\\AppData\\Local\\Programs\\Python\\Python38\\lib\\site-packages\\matplotlib\\__init__.py\u001b[0m in \u001b[0;36minner\u001b[1;34m(ax, data, *args, **kwargs)\u001b[0m\n\u001b[0;32m   1563\u001b[0m     \u001b[1;32mdef\u001b[0m \u001b[0minner\u001b[0m\u001b[1;33m(\u001b[0m\u001b[0max\u001b[0m\u001b[1;33m,\u001b[0m \u001b[1;33m*\u001b[0m\u001b[0margs\u001b[0m\u001b[1;33m,\u001b[0m \u001b[0mdata\u001b[0m\u001b[1;33m=\u001b[0m\u001b[1;32mNone\u001b[0m\u001b[1;33m,\u001b[0m \u001b[1;33m**\u001b[0m\u001b[0mkwargs\u001b[0m\u001b[1;33m)\u001b[0m\u001b[1;33m:\u001b[0m\u001b[1;33m\u001b[0m\u001b[1;33m\u001b[0m\u001b[0m\n\u001b[0;32m   1564\u001b[0m         \u001b[1;32mif\u001b[0m \u001b[0mdata\u001b[0m \u001b[1;32mis\u001b[0m \u001b[1;32mNone\u001b[0m\u001b[1;33m:\u001b[0m\u001b[1;33m\u001b[0m\u001b[1;33m\u001b[0m\u001b[0m\n\u001b[1;32m-> 1565\u001b[1;33m             \u001b[1;32mreturn\u001b[0m \u001b[0mfunc\u001b[0m\u001b[1;33m(\u001b[0m\u001b[0max\u001b[0m\u001b[1;33m,\u001b[0m \u001b[1;33m*\u001b[0m\u001b[0mmap\u001b[0m\u001b[1;33m(\u001b[0m\u001b[0msanitize_sequence\u001b[0m\u001b[1;33m,\u001b[0m \u001b[0margs\u001b[0m\u001b[1;33m)\u001b[0m\u001b[1;33m,\u001b[0m \u001b[1;33m**\u001b[0m\u001b[0mkwargs\u001b[0m\u001b[1;33m)\u001b[0m\u001b[1;33m\u001b[0m\u001b[1;33m\u001b[0m\u001b[0m\n\u001b[0m\u001b[0;32m   1566\u001b[0m \u001b[1;33m\u001b[0m\u001b[0m\n\u001b[0;32m   1567\u001b[0m         \u001b[0mbound\u001b[0m \u001b[1;33m=\u001b[0m \u001b[0mnew_sig\u001b[0m\u001b[1;33m.\u001b[0m\u001b[0mbind\u001b[0m\u001b[1;33m(\u001b[0m\u001b[0max\u001b[0m\u001b[1;33m,\u001b[0m \u001b[1;33m*\u001b[0m\u001b[0margs\u001b[0m\u001b[1;33m,\u001b[0m \u001b[1;33m**\u001b[0m\u001b[0mkwargs\u001b[0m\u001b[1;33m)\u001b[0m\u001b[1;33m\u001b[0m\u001b[1;33m\u001b[0m\u001b[0m\n",
                        "\u001b[1;32m~\\AppData\\Local\\Programs\\Python\\Python38\\lib\\site-packages\\matplotlib\\cbook\\deprecation.py\u001b[0m in \u001b[0;36mwrapper\u001b[1;34m(*args, **kwargs)\u001b[0m\n\u001b[0;32m    356\u001b[0m                 \u001b[1;34mf\"%(removal)s.  If any parameter follows {name!r}, they \"\u001b[0m\u001b[1;33m\u001b[0m\u001b[1;33m\u001b[0m\u001b[0m\n\u001b[0;32m    357\u001b[0m                 f\"should be pass as keyword, not positionally.\")\n\u001b[1;32m--> 358\u001b[1;33m         \u001b[1;32mreturn\u001b[0m \u001b[0mfunc\u001b[0m\u001b[1;33m(\u001b[0m\u001b[1;33m*\u001b[0m\u001b[0margs\u001b[0m\u001b[1;33m,\u001b[0m \u001b[1;33m**\u001b[0m\u001b[0mkwargs\u001b[0m\u001b[1;33m)\u001b[0m\u001b[1;33m\u001b[0m\u001b[1;33m\u001b[0m\u001b[0m\n\u001b[0m\u001b[0;32m    359\u001b[0m \u001b[1;33m\u001b[0m\u001b[0m\n\u001b[0;32m    360\u001b[0m     \u001b[1;32mreturn\u001b[0m \u001b[0mwrapper\u001b[0m\u001b[1;33m\u001b[0m\u001b[1;33m\u001b[0m\u001b[0m\n",
                        "\u001b[1;32m~\\AppData\\Local\\Programs\\Python\\Python38\\lib\\site-packages\\matplotlib\\axes\\_axes.py\u001b[0m in \u001b[0;36mscatter\u001b[1;34m(self, x, y, s, c, marker, cmap, norm, vmin, vmax, alpha, linewidths, verts, edgecolors, plotnonfinite, **kwargs)\u001b[0m\n\u001b[0;32m   4378\u001b[0m         \u001b[0my\u001b[0m \u001b[1;33m=\u001b[0m \u001b[0mnp\u001b[0m\u001b[1;33m.\u001b[0m\u001b[0mma\u001b[0m\u001b[1;33m.\u001b[0m\u001b[0mravel\u001b[0m\u001b[1;33m(\u001b[0m\u001b[0my\u001b[0m\u001b[1;33m)\u001b[0m\u001b[1;33m\u001b[0m\u001b[1;33m\u001b[0m\u001b[0m\n\u001b[0;32m   4379\u001b[0m         \u001b[1;32mif\u001b[0m \u001b[0mx\u001b[0m\u001b[1;33m.\u001b[0m\u001b[0msize\u001b[0m \u001b[1;33m!=\u001b[0m \u001b[0my\u001b[0m\u001b[1;33m.\u001b[0m\u001b[0msize\u001b[0m\u001b[1;33m:\u001b[0m\u001b[1;33m\u001b[0m\u001b[1;33m\u001b[0m\u001b[0m\n\u001b[1;32m-> 4380\u001b[1;33m             \u001b[1;32mraise\u001b[0m \u001b[0mValueError\u001b[0m\u001b[1;33m(\u001b[0m\u001b[1;34m\"x and y must be the same size\"\u001b[0m\u001b[1;33m)\u001b[0m\u001b[1;33m\u001b[0m\u001b[1;33m\u001b[0m\u001b[0m\n\u001b[0m\u001b[0;32m   4381\u001b[0m \u001b[1;33m\u001b[0m\u001b[0m\n\u001b[0;32m   4382\u001b[0m         \u001b[1;32mif\u001b[0m \u001b[0ms\u001b[0m \u001b[1;32mis\u001b[0m \u001b[1;32mNone\u001b[0m\u001b[1;33m:\u001b[0m\u001b[1;33m\u001b[0m\u001b[1;33m\u001b[0m\u001b[0m\n",
                        "\u001b[1;31mValueError\u001b[0m: x and y must be the same size"
                    ]
                }
            ],
            "execution_count": 54
        },
        {
            "cell_type": "markdown",
            "source": [
                "# k-NN Regresor"
            ],
            "metadata": {
                "id": "Vlb0jKqCspq6",
                "colab_type": "text",
                "azdata_cell_guid": "7ec42245-8c37-4fcc-a643-45eaca11f53c"
            }
        },
        {
            "cell_type": "code",
            "source": [
                "from sklearn.neighbors import KNeighborsRegressor\n",
                "\n",
                "#X_train, X_test, y_train, y_test = train_test_split(X_train, y_train, random_state = 0)\n",
                "\n",
                "knnreg = KNeighborsRegressor(n_neighbors = 5).fit(X_train, y_train)"
            ],
            "metadata": {
                "id": "TbgiNa3Xstdi",
                "colab_type": "code",
                "colab": {},
                "azdata_cell_guid": "b03233b7-192c-4646-881b-dec0d1519c5a"
            },
            "outputs": [],
            "execution_count": 55
        },
        {
            "cell_type": "code",
            "source": [
                "#realizamos la predicción\n",
                "\n",
                "print(knnreg.predict(X_test))"
            ],
            "metadata": {
                "id": "UmhZqVmBxvOp",
                "colab_type": "code",
                "colab": {},
                "azdata_cell_guid": "6fe0c8ea-4057-48ae-b921-fdeaa05392dc",
                "tags": []
            },
            "outputs": [
                {
                    "output_type": "stream",
                    "name": "stdout",
                    "text": "[6.400e+00 1.000e+00 1.400e+00 1.000e+00 1.800e+00 8.000e-01 2.200e+00\n 5.600e+00 1.200e+00 1.800e+00 2.400e+00 1.000e+00 2.200e+00 8.800e+00\n 1.800e+00 1.000e+00 1.000e+00 1.400e+00 1.000e+00 7.000e+00 1.800e+00\n 7.000e+00 3.400e+00 1.000e+00 4.400e+00 1.200e+00 1.000e+00 1.000e+00\n 3.200e+00 1.200e+00 1.200e+00 8.000e-01 1.800e+00 8.000e-01 2.400e+00\n 3.400e+00 1.000e+00 1.800e+00 1.200e+00 4.800e+00 1.200e+00 1.800e+00\n 1.000e+00 9.000e+00 4.400e+00 2.400e+00 1.400e+00 1.800e+00 1.000e+00\n 1.000e+00 2.400e+00 3.400e+00 1.200e+00 7.000e+00 1.600e+00 6.000e+00\n 1.000e+00 8.000e-01 4.800e+00 1.000e+00 2.800e+00 2.600e+00 1.000e+00\n 1.800e+00 8.000e-01 1.000e+00 1.400e+00 2.600e+00 1.400e+00 2.000e+00\n 7.800e+00 1.200e+00 4.400e+00 1.200e+00 1.000e+00 1.000e+00 3.800e+00\n 1.200e+00 1.000e+00 1.200e+00 4.400e+00 6.400e+00 1.000e+00 2.200e+00\n 2.600e+00 4.800e+00 1.000e+00 1.600e+00 1.000e+00 1.200e+00 1.800e+00\n 3.200e+00 3.400e+00 1.000e+00 2.800e+00 5.400e+00 4.400e+00 1.600e+00\n 1.600e+00 5.600e+00 1.200e+00 5.000e+00 8.000e-01 1.200e+00 2.200e+00\n 1.400e+00 1.200e+00 1.200e+00 4.200e+00 1.000e+00 7.400e+00 2.600e+00\n 6.400e+00 1.200e+00 1.000e+00 1.400e+00 8.000e-01 8.000e-01 4.200e+00\n 1.400e+00 1.240e+01 1.000e+00 1.000e+00 1.200e+00 4.200e+00 2.600e+00\n 1.800e+00 4.400e+00 6.000e+00 1.000e+00 1.600e+00 1.400e+00 1.000e+00\n 3.800e+00 2.000e+00 8.000e-01 1.400e+00 1.400e+00 1.000e+00 2.200e+00\n 1.200e+00 4.200e+00 2.200e+00 2.600e+00 3.200e+00 4.200e+00 1.200e+00\n 1.000e+00 1.600e+00 1.400e+00 2.600e+00 2.200e+00 8.000e-01 1.200e+00\n 1.200e+00 1.000e+00 1.400e+00 1.000e+00 3.000e+00 3.800e+00 1.000e+00\n 1.000e+00 1.200e+00 1.600e+00 1.200e+00 1.240e+01 1.200e+00 1.400e+00\n 1.000e+00 1.400e+00 2.200e+00 8.000e-01 1.600e+00 1.400e+00 1.000e+00\n 1.000e+00 2.000e+00 1.800e+00 5.600e+00 6.200e+00 1.000e+00 1.600e+00\n 3.200e+00 1.400e+00 4.800e+00 1.800e+00 1.600e+00 1.000e+00 1.000e+00\n 1.000e+00 4.200e+00 1.000e+00 1.200e+00 4.000e+00 1.000e+00 2.800e+00\n 1.400e+00 3.800e+00 3.800e+00 1.240e+01 1.400e+00 1.400e+00 2.200e+00\n 2.200e+00 1.600e+00 1.400e+00 1.200e+00 1.000e+00 8.200e+00 4.400e+00\n 1.400e+00 6.000e+00 5.000e+00 1.000e+00 3.400e+00 2.400e+00 1.400e+00\n 8.000e-01 1.000e+00 2.200e+00 5.600e+00 1.400e+00 4.400e+00 3.200e+00\n 1.200e+00 1.400e+00 4.160e+01 3.400e+00 1.600e+00 5.200e+00 1.000e+00\n 1.000e+00 3.400e+00 1.400e+00 8.000e-01 1.200e+00 6.400e+00 1.000e+00\n 3.400e+00 1.200e+00 1.600e+00 1.400e+00 1.000e+00 1.600e+00 3.800e+00\n 2.200e+00 1.000e+00 2.200e+00 4.200e+00 5.000e+00 1.800e+00 2.200e+00\n 1.000e+00 1.600e+00 1.200e+00 1.000e+00 1.200e+00 1.200e+00 2.200e+00\n 1.200e+00 1.800e+00 1.000e+00 2.400e+00 1.400e+00 3.800e+00 5.600e+00\n 1.000e+00 4.200e+00 1.000e+00 1.200e+00 1.800e+00 1.000e+00 1.400e+00\n 1.800e+00 1.400e+00 2.360e+01 1.000e+00 5.800e+00 1.000e+00 2.360e+01\n 1.000e+00 1.000e+00 1.000e+00 5.600e+00 2.400e+00 1.600e+00 3.800e+00\n 6.000e+00 1.200e+00 1.200e+00 1.600e+00 1.140e+01 8.000e-01 2.200e+00\n 2.400e+00 1.200e+00 1.000e+00 1.600e+00 1.600e+00 2.000e+00 2.400e+00\n 1.000e+00 1.320e+01 3.000e+00 1.400e+00 4.400e+00 2.400e+00 8.064e+02\n 1.000e+00 1.600e+00 1.600e+00 1.200e+00 1.000e+00 1.800e+00 3.400e+00\n 1.400e+00 1.000e+00 1.600e+00 1.300e+01 1.000e+00 1.000e+00 5.200e+00\n 1.120e+01 1.000e+00 1.600e+00 1.600e+00 3.800e+00 1.000e+00 2.200e+00\n 1.000e+00 1.000e+00 2.000e+00 1.000e+00 9.000e+00 1.600e+00 5.400e+00\n 1.400e+00 3.000e+00 1.000e+00 1.000e+00 1.200e+00 1.400e+00 1.200e+00\n 3.000e+00 2.000e+00 1.200e+00 1.000e+00 5.600e+00 3.200e+00 5.800e+00\n 2.200e+00 1.200e+00 3.200e+00 7.000e+00 1.800e+00 1.600e+00 1.400e+00\n 1.800e+00 7.000e+00 1.200e+00 3.400e+00 2.200e+00 1.400e+00 2.400e+00\n 1.000e+00 1.600e+00 1.200e+00 1.200e+00 1.200e+00 1.600e+00 1.800e+00\n 1.200e+00 2.000e+00 1.000e+00 3.800e+00 1.200e+00 1.000e+00 1.000e+00\n 1.200e+00 2.800e+00 1.800e+00 1.000e+00 1.000e+00 3.400e+00 6.200e+00\n 1.800e+00 1.600e+00 2.600e+00 4.800e+00 2.600e+00 2.200e+00 5.600e+00\n 5.800e+00 5.600e+00 1.000e+00 9.000e+00 1.200e+00 8.000e-01 1.000e+00\n 8.000e-01 1.400e+00 1.200e+00 1.000e+00 1.200e+00 4.200e+00 1.300e+01\n 1.000e+00 5.400e+00 2.400e+00 1.200e+00 1.400e+00 1.600e+00 2.980e+01\n 1.200e+00 1.200e+00 6.600e+00 1.000e+00 1.200e+00 1.200e+00 1.600e+00\n 1.000e+00 1.200e+00 5.600e+00 1.000e+00 7.000e+00 1.600e+00 1.400e+00\n 1.200e+00 1.200e+00 4.200e+00 4.400e+00 2.200e+00 1.600e+00 2.800e+00\n 2.400e+00 1.200e+00 1.600e+00 1.200e+00 2.200e+00 1.200e+00 4.200e+00\n 1.400e+00 1.200e+00 4.400e+00 1.400e+00 1.200e+00 2.000e+00 2.000e+00\n 1.200e+00 4.600e+00 3.000e+00 3.800e+00 1.600e+00 6.000e+00 1.200e+00\n 6.400e+00 1.400e+00 1.000e+00 1.000e+00 1.400e+00 1.200e+00 1.400e+00\n 1.000e+00 1.600e+00 2.200e+00 1.400e+00 1.200e+00 8.000e-01 1.000e+00\n 1.000e+00 7.000e+00 1.000e+00 5.800e+00 1.000e+00 7.000e+00 1.200e+00\n 1.600e+00 2.000e+00 1.600e+00 1.200e+00 1.600e+00 1.200e+00 8.000e-01\n 1.000e+00 3.000e+00 1.000e+00 3.400e+00 1.200e+00 7.000e+00 1.600e+00\n 1.800e+00 1.200e+00 2.800e+00 2.800e+00 1.800e+00 1.000e+00 3.800e+00\n 1.400e+00 6.400e+00 1.600e+00 1.800e+00 6.400e+00 4.800e+00 1.600e+00\n 2.800e+00 1.000e+00 5.200e+00 1.800e+00 1.600e+00 2.200e+00 1.200e+00\n 1.200e+00 5.000e+00 3.800e+00 1.400e+00 1.200e+00 1.000e+00 2.200e+00\n 1.400e+00 8.000e-01 2.800e+00 1.000e+00 1.200e+00 2.200e+00 2.000e+00\n 1.000e+00 4.800e+00 1.200e+00 1.000e+00 1.800e+00 2.000e+00 6.800e+00\n 1.600e+00 3.800e+00 8.000e-01 1.200e+00 7.800e+00 1.000e+00 1.600e+00\n 1.600e+00 4.000e+00 2.800e+00 2.980e+01 1.200e+00 1.200e+00 4.800e+00\n 2.200e+00 1.200e+00 1.000e+00 1.000e+00 1.400e+00 1.200e+00 1.600e+00\n 1.200e+00 8.000e-01 1.800e+00 6.400e+00 1.200e+00 3.400e+00 3.400e+00\n 2.000e+00 9.000e+00 1.800e+00 5.800e+00 1.400e+00 1.200e+00 3.800e+00\n 2.360e+01 1.000e+00 7.800e+00 1.200e+00 1.000e+00 1.240e+01 1.800e+00\n 1.600e+00 1.200e+00 1.400e+00 2.200e+00 2.000e+00 1.800e+00 1.000e+00\n 2.000e+00 8.000e-01 1.600e+00 1.400e+00 1.800e+00 2.200e+00 3.000e+00\n 2.400e+00 8.000e-01 5.600e+00 1.120e+01 4.000e+00 2.000e+00 4.800e+00\n 1.200e+00 1.200e+00 1.400e+00 2.800e+00 3.400e+00 1.200e+00 1.000e+00\n 1.200e+00 3.800e+00 1.000e+00 1.000e+00 1.400e+00 1.000e+00 4.400e+00\n 3.600e+00 1.200e+00 1.800e+00 1.000e+00 1.000e+00 1.200e+00 1.800e+00\n 4.800e+00 1.600e+00 2.200e+00 4.400e+00 1.000e+00 1.200e+00 6.400e+00\n 1.200e+00 1.200e+00 1.400e+00 1.000e+00 1.600e+00 1.200e+00 1.000e+00\n 1.000e+00 1.600e+00 8.200e+00 2.200e+00 1.200e+00 5.400e+00 1.000e+00\n 1.000e+00 1.400e+00 3.400e+00 2.600e+00 2.000e+00 1.000e+00 1.000e+00\n 8.000e-01 2.200e+00 1.000e+00 1.400e+00 4.200e+00 1.000e+00 1.800e+00\n 1.000e+00 2.800e+00 4.800e+00 1.000e+00 1.000e+00 1.000e+00 5.400e+00\n 1.120e+01 1.300e+01 3.200e+00 1.000e+00 1.200e+00 3.400e+00 1.000e+00\n 8.000e-01 1.200e+00 1.000e+00 2.000e+00 1.200e+00 6.000e+00 2.200e+00\n 1.200e+00 4.200e+00 2.200e+00 1.200e+00 3.400e+00 1.000e+00 1.200e+00\n 1.200e+00 1.400e+00 3.000e+00 9.000e+00 1.800e+00 3.000e+00 1.400e+00\n 2.600e+00 1.000e+00 2.400e+00 2.400e+00 4.400e+00 1.200e+00 1.800e+00\n 1.200e+00 8.800e+00 1.200e+00 2.600e+00 1.400e+00 3.800e+00 5.800e+00\n 4.400e+00 6.600e+00 2.200e+00 8.064e+02 1.600e+00 2.000e+00 6.400e+00\n 2.000e+00 1.000e+00 1.000e+00 1.800e+00 1.000e+00 1.800e+00 1.000e+00\n 6.400e+00 1.400e+00 1.600e+00 8.064e+02 1.600e+00 1.400e+00 2.800e+00\n 2.800e+00 1.000e+00 1.000e+00 7.600e+00 2.400e+00 3.800e+00 1.000e+00\n 1.600e+00 2.000e+00 7.000e+00 2.200e+00]\n"
                }
            ],
            "execution_count": 56
        },
        {
            "cell_type": "code",
            "source": [
                "#Mean Squared Error (MSE)\n",
                "\n",
                "y_train_pred_knn = knnreg.predict(X_train)\n",
                "y_test_pred_knn = knnreg.predict(X_test)\n",
                "print('MSE train: %.3f, test: %.3f' % (mean_squared_error(y_train, y_train_pred_knn),mean_squared_error(y_test, y_test_pred_knn)))"
            ],
            "metadata": {
                "id": "Vc2xX0kOyLJq",
                "colab_type": "code",
                "colab": {},
                "azdata_cell_guid": "b3724fca-e930-481c-a74e-b76688a17f9d",
                "tags": []
            },
            "outputs": [
                {
                    "output_type": "stream",
                    "name": "stdout",
                    "text": "MSE train: 6461.823, test: 2673.457\n"
                }
            ],
            "execution_count": 57
        },
        {
            "cell_type": "code",
            "source": [
                "print('R-squared test score: {:.3f}'\n",
                "     .format(knnreg.score(X_test, y_test)))"
            ],
            "metadata": {
                "id": "UQxhCIEcwRCN",
                "colab_type": "code",
                "colab": {},
                "azdata_cell_guid": "22a8f871-22cc-4520-bf86-aaa6df6b8efb",
                "tags": []
            },
            "outputs": [
                {
                    "output_type": "stream",
                    "name": "stdout",
                    "text": "R-squared test score: -210.286\n"
                }
            ],
            "execution_count": 58
        },
        {
            "cell_type": "code",
            "source": [
                "fig, subaxes = plt.subplots(1, 2, figsize=(8,4))\n",
                "X_predict_input = np.linspace(X.min(), X.max(), 50).reshape(-1,1)\n",
                "X_train, X_test, y_train, y_test = train_test_split(X[0::5], y[0::5], random_state = 0)\n",
                "\n",
                "for thisaxis, K in zip(subaxes, [1, 3]):\n",
                "    knnreg = KNeighborsRegressor(n_neighbors = K).fit(X_train, y_train)\n",
                "    y_predict_output = knnreg.predict(X_predict_input)\n",
                "    #thisaxis.set_xlim([-2.5, 0.75])\n",
                "    thisaxis.plot(X_predict_input, y_predict_output, '^', markersize = 10,\n",
                "                 label='Predicted', alpha=0.8)\n",
                "    thisaxis.plot(X_train, y_train, 'o', label='True Value', alpha=0.4)\n",
                "    thisaxis.set_xlabel('Input feature')\n",
                "    thisaxis.set_ylabel('Target value')\n",
                "    thisaxis.set_title('KNN regression (K={})'.format(K))\n",
                "    thisaxis.legend()\n",
                "plt.tight_layout()"
            ],
            "metadata": {
                "id": "qex3GwtPtB4v",
                "colab_type": "code",
                "colab": {},
                "azdata_cell_guid": "cdc48722-a62e-49ae-b711-ce498dccb23a"
            },
            "outputs": [
                {
                    "output_type": "error",
                    "ename": "ValueError",
                    "evalue": "query data dimension must match training data dimension",
                    "traceback": [
                        "\u001b[1;31m---------------------------------------------------------------------------\u001b[0m",
                        "\u001b[1;31mValueError\u001b[0m                                Traceback (most recent call last)",
                        "\u001b[1;32m<ipython-input-59-0bc27489325f>\u001b[0m in \u001b[0;36m<module>\u001b[1;34m\u001b[0m\n\u001b[0;32m      5\u001b[0m \u001b[1;32mfor\u001b[0m \u001b[0mthisaxis\u001b[0m\u001b[1;33m,\u001b[0m \u001b[0mK\u001b[0m \u001b[1;32min\u001b[0m \u001b[0mzip\u001b[0m\u001b[1;33m(\u001b[0m\u001b[0msubaxes\u001b[0m\u001b[1;33m,\u001b[0m \u001b[1;33m[\u001b[0m\u001b[1;36m1\u001b[0m\u001b[1;33m,\u001b[0m \u001b[1;36m3\u001b[0m\u001b[1;33m]\u001b[0m\u001b[1;33m)\u001b[0m\u001b[1;33m:\u001b[0m\u001b[1;33m\u001b[0m\u001b[1;33m\u001b[0m\u001b[0m\n\u001b[0;32m      6\u001b[0m     \u001b[0mknnreg\u001b[0m \u001b[1;33m=\u001b[0m \u001b[0mKNeighborsRegressor\u001b[0m\u001b[1;33m(\u001b[0m\u001b[0mn_neighbors\u001b[0m \u001b[1;33m=\u001b[0m \u001b[0mK\u001b[0m\u001b[1;33m)\u001b[0m\u001b[1;33m.\u001b[0m\u001b[0mfit\u001b[0m\u001b[1;33m(\u001b[0m\u001b[0mX_train\u001b[0m\u001b[1;33m,\u001b[0m \u001b[0my_train\u001b[0m\u001b[1;33m)\u001b[0m\u001b[1;33m\u001b[0m\u001b[1;33m\u001b[0m\u001b[0m\n\u001b[1;32m----> 7\u001b[1;33m     \u001b[0my_predict_output\u001b[0m \u001b[1;33m=\u001b[0m \u001b[0mknnreg\u001b[0m\u001b[1;33m.\u001b[0m\u001b[0mpredict\u001b[0m\u001b[1;33m(\u001b[0m\u001b[0mX_predict_input\u001b[0m\u001b[1;33m)\u001b[0m\u001b[1;33m\u001b[0m\u001b[1;33m\u001b[0m\u001b[0m\n\u001b[0m\u001b[0;32m      8\u001b[0m     \u001b[1;31m#thisaxis.set_xlim([-2.5, 0.75])\u001b[0m\u001b[1;33m\u001b[0m\u001b[1;33m\u001b[0m\u001b[1;33m\u001b[0m\u001b[0m\n\u001b[0;32m      9\u001b[0m     thisaxis.plot(X_predict_input, y_predict_output, '^', markersize = 10,\n",
                        "\u001b[1;32m~\\AppData\\Local\\Programs\\Python\\Python38\\lib\\site-packages\\sklearn\\neighbors\\_regression.py\u001b[0m in \u001b[0;36mpredict\u001b[1;34m(self, X)\u001b[0m\n\u001b[0;32m    174\u001b[0m         \u001b[0mX\u001b[0m \u001b[1;33m=\u001b[0m \u001b[0mcheck_array\u001b[0m\u001b[1;33m(\u001b[0m\u001b[0mX\u001b[0m\u001b[1;33m,\u001b[0m \u001b[0maccept_sparse\u001b[0m\u001b[1;33m=\u001b[0m\u001b[1;34m'csr'\u001b[0m\u001b[1;33m)\u001b[0m\u001b[1;33m\u001b[0m\u001b[1;33m\u001b[0m\u001b[0m\n\u001b[0;32m    175\u001b[0m \u001b[1;33m\u001b[0m\u001b[0m\n\u001b[1;32m--> 176\u001b[1;33m         \u001b[0mneigh_dist\u001b[0m\u001b[1;33m,\u001b[0m \u001b[0mneigh_ind\u001b[0m \u001b[1;33m=\u001b[0m \u001b[0mself\u001b[0m\u001b[1;33m.\u001b[0m\u001b[0mkneighbors\u001b[0m\u001b[1;33m(\u001b[0m\u001b[0mX\u001b[0m\u001b[1;33m)\u001b[0m\u001b[1;33m\u001b[0m\u001b[1;33m\u001b[0m\u001b[0m\n\u001b[0m\u001b[0;32m    177\u001b[0m \u001b[1;33m\u001b[0m\u001b[0m\n\u001b[0;32m    178\u001b[0m         \u001b[0mweights\u001b[0m \u001b[1;33m=\u001b[0m \u001b[0m_get_weights\u001b[0m\u001b[1;33m(\u001b[0m\u001b[0mneigh_dist\u001b[0m\u001b[1;33m,\u001b[0m \u001b[0mself\u001b[0m\u001b[1;33m.\u001b[0m\u001b[0mweights\u001b[0m\u001b[1;33m)\u001b[0m\u001b[1;33m\u001b[0m\u001b[1;33m\u001b[0m\u001b[0m\n",
                        "\u001b[1;32m~\\AppData\\Local\\Programs\\Python\\Python38\\lib\\site-packages\\sklearn\\neighbors\\_base.py\u001b[0m in \u001b[0;36mkneighbors\u001b[1;34m(self, X, n_neighbors, return_distance)\u001b[0m\n\u001b[0;32m    660\u001b[0m                 \u001b[0mdelayed_query\u001b[0m \u001b[1;33m=\u001b[0m \u001b[0mdelayed\u001b[0m\u001b[1;33m(\u001b[0m\u001b[0m_tree_query_parallel_helper\u001b[0m\u001b[1;33m)\u001b[0m\u001b[1;33m\u001b[0m\u001b[1;33m\u001b[0m\u001b[0m\n\u001b[0;32m    661\u001b[0m                 \u001b[0mparallel_kwargs\u001b[0m \u001b[1;33m=\u001b[0m \u001b[1;33m{\u001b[0m\u001b[1;34m\"prefer\"\u001b[0m\u001b[1;33m:\u001b[0m \u001b[1;34m\"threads\"\u001b[0m\u001b[1;33m}\u001b[0m\u001b[1;33m\u001b[0m\u001b[1;33m\u001b[0m\u001b[0m\n\u001b[1;32m--> 662\u001b[1;33m             chunked_results = Parallel(n_jobs, **parallel_kwargs)(\n\u001b[0m\u001b[0;32m    663\u001b[0m                 delayed_query(\n\u001b[0;32m    664\u001b[0m                     self._tree, X[s], n_neighbors, return_distance)\n",
                        "\u001b[1;32m~\\AppData\\Local\\Programs\\Python\\Python38\\lib\\site-packages\\joblib\\parallel.py\u001b[0m in \u001b[0;36m__call__\u001b[1;34m(self, iterable)\u001b[0m\n\u001b[0;32m   1002\u001b[0m             \u001b[1;31m# remaining jobs.\u001b[0m\u001b[1;33m\u001b[0m\u001b[1;33m\u001b[0m\u001b[1;33m\u001b[0m\u001b[0m\n\u001b[0;32m   1003\u001b[0m             \u001b[0mself\u001b[0m\u001b[1;33m.\u001b[0m\u001b[0m_iterating\u001b[0m \u001b[1;33m=\u001b[0m \u001b[1;32mFalse\u001b[0m\u001b[1;33m\u001b[0m\u001b[1;33m\u001b[0m\u001b[0m\n\u001b[1;32m-> 1004\u001b[1;33m             \u001b[1;32mif\u001b[0m \u001b[0mself\u001b[0m\u001b[1;33m.\u001b[0m\u001b[0mdispatch_one_batch\u001b[0m\u001b[1;33m(\u001b[0m\u001b[0miterator\u001b[0m\u001b[1;33m)\u001b[0m\u001b[1;33m:\u001b[0m\u001b[1;33m\u001b[0m\u001b[1;33m\u001b[0m\u001b[0m\n\u001b[0m\u001b[0;32m   1005\u001b[0m                 \u001b[0mself\u001b[0m\u001b[1;33m.\u001b[0m\u001b[0m_iterating\u001b[0m \u001b[1;33m=\u001b[0m \u001b[0mself\u001b[0m\u001b[1;33m.\u001b[0m\u001b[0m_original_iterator\u001b[0m \u001b[1;32mis\u001b[0m \u001b[1;32mnot\u001b[0m \u001b[1;32mNone\u001b[0m\u001b[1;33m\u001b[0m\u001b[1;33m\u001b[0m\u001b[0m\n\u001b[0;32m   1006\u001b[0m \u001b[1;33m\u001b[0m\u001b[0m\n",
                        "\u001b[1;32m~\\AppData\\Local\\Programs\\Python\\Python38\\lib\\site-packages\\joblib\\parallel.py\u001b[0m in \u001b[0;36mdispatch_one_batch\u001b[1;34m(self, iterator)\u001b[0m\n\u001b[0;32m    833\u001b[0m                 \u001b[1;32mreturn\u001b[0m \u001b[1;32mFalse\u001b[0m\u001b[1;33m\u001b[0m\u001b[1;33m\u001b[0m\u001b[0m\n\u001b[0;32m    834\u001b[0m             \u001b[1;32melse\u001b[0m\u001b[1;33m:\u001b[0m\u001b[1;33m\u001b[0m\u001b[1;33m\u001b[0m\u001b[0m\n\u001b[1;32m--> 835\u001b[1;33m                 \u001b[0mself\u001b[0m\u001b[1;33m.\u001b[0m\u001b[0m_dispatch\u001b[0m\u001b[1;33m(\u001b[0m\u001b[0mtasks\u001b[0m\u001b[1;33m)\u001b[0m\u001b[1;33m\u001b[0m\u001b[1;33m\u001b[0m\u001b[0m\n\u001b[0m\u001b[0;32m    836\u001b[0m                 \u001b[1;32mreturn\u001b[0m \u001b[1;32mTrue\u001b[0m\u001b[1;33m\u001b[0m\u001b[1;33m\u001b[0m\u001b[0m\n\u001b[0;32m    837\u001b[0m \u001b[1;33m\u001b[0m\u001b[0m\n",
                        "\u001b[1;32m~\\AppData\\Local\\Programs\\Python\\Python38\\lib\\site-packages\\joblib\\parallel.py\u001b[0m in \u001b[0;36m_dispatch\u001b[1;34m(self, batch)\u001b[0m\n\u001b[0;32m    752\u001b[0m         \u001b[1;32mwith\u001b[0m \u001b[0mself\u001b[0m\u001b[1;33m.\u001b[0m\u001b[0m_lock\u001b[0m\u001b[1;33m:\u001b[0m\u001b[1;33m\u001b[0m\u001b[1;33m\u001b[0m\u001b[0m\n\u001b[0;32m    753\u001b[0m             \u001b[0mjob_idx\u001b[0m \u001b[1;33m=\u001b[0m \u001b[0mlen\u001b[0m\u001b[1;33m(\u001b[0m\u001b[0mself\u001b[0m\u001b[1;33m.\u001b[0m\u001b[0m_jobs\u001b[0m\u001b[1;33m)\u001b[0m\u001b[1;33m\u001b[0m\u001b[1;33m\u001b[0m\u001b[0m\n\u001b[1;32m--> 754\u001b[1;33m             \u001b[0mjob\u001b[0m \u001b[1;33m=\u001b[0m \u001b[0mself\u001b[0m\u001b[1;33m.\u001b[0m\u001b[0m_backend\u001b[0m\u001b[1;33m.\u001b[0m\u001b[0mapply_async\u001b[0m\u001b[1;33m(\u001b[0m\u001b[0mbatch\u001b[0m\u001b[1;33m,\u001b[0m \u001b[0mcallback\u001b[0m\u001b[1;33m=\u001b[0m\u001b[0mcb\u001b[0m\u001b[1;33m)\u001b[0m\u001b[1;33m\u001b[0m\u001b[1;33m\u001b[0m\u001b[0m\n\u001b[0m\u001b[0;32m    755\u001b[0m             \u001b[1;31m# A job can complete so quickly than its callback is\u001b[0m\u001b[1;33m\u001b[0m\u001b[1;33m\u001b[0m\u001b[1;33m\u001b[0m\u001b[0m\n\u001b[0;32m    756\u001b[0m             \u001b[1;31m# called before we get here, causing self._jobs to\u001b[0m\u001b[1;33m\u001b[0m\u001b[1;33m\u001b[0m\u001b[1;33m\u001b[0m\u001b[0m\n",
                        "\u001b[1;32m~\\AppData\\Local\\Programs\\Python\\Python38\\lib\\site-packages\\joblib\\_parallel_backends.py\u001b[0m in \u001b[0;36mapply_async\u001b[1;34m(self, func, callback)\u001b[0m\n\u001b[0;32m    207\u001b[0m     \u001b[1;32mdef\u001b[0m \u001b[0mapply_async\u001b[0m\u001b[1;33m(\u001b[0m\u001b[0mself\u001b[0m\u001b[1;33m,\u001b[0m \u001b[0mfunc\u001b[0m\u001b[1;33m,\u001b[0m \u001b[0mcallback\u001b[0m\u001b[1;33m=\u001b[0m\u001b[1;32mNone\u001b[0m\u001b[1;33m)\u001b[0m\u001b[1;33m:\u001b[0m\u001b[1;33m\u001b[0m\u001b[1;33m\u001b[0m\u001b[0m\n\u001b[0;32m    208\u001b[0m         \u001b[1;34m\"\"\"Schedule a func to be run\"\"\"\u001b[0m\u001b[1;33m\u001b[0m\u001b[1;33m\u001b[0m\u001b[0m\n\u001b[1;32m--> 209\u001b[1;33m         \u001b[0mresult\u001b[0m \u001b[1;33m=\u001b[0m \u001b[0mImmediateResult\u001b[0m\u001b[1;33m(\u001b[0m\u001b[0mfunc\u001b[0m\u001b[1;33m)\u001b[0m\u001b[1;33m\u001b[0m\u001b[1;33m\u001b[0m\u001b[0m\n\u001b[0m\u001b[0;32m    210\u001b[0m         \u001b[1;32mif\u001b[0m \u001b[0mcallback\u001b[0m\u001b[1;33m:\u001b[0m\u001b[1;33m\u001b[0m\u001b[1;33m\u001b[0m\u001b[0m\n\u001b[0;32m    211\u001b[0m             \u001b[0mcallback\u001b[0m\u001b[1;33m(\u001b[0m\u001b[0mresult\u001b[0m\u001b[1;33m)\u001b[0m\u001b[1;33m\u001b[0m\u001b[1;33m\u001b[0m\u001b[0m\n",
                        "\u001b[1;32m~\\AppData\\Local\\Programs\\Python\\Python38\\lib\\site-packages\\joblib\\_parallel_backends.py\u001b[0m in \u001b[0;36m__init__\u001b[1;34m(self, batch)\u001b[0m\n\u001b[0;32m    588\u001b[0m         \u001b[1;31m# Don't delay the application, to avoid keeping the input\u001b[0m\u001b[1;33m\u001b[0m\u001b[1;33m\u001b[0m\u001b[1;33m\u001b[0m\u001b[0m\n\u001b[0;32m    589\u001b[0m         \u001b[1;31m# arguments in memory\u001b[0m\u001b[1;33m\u001b[0m\u001b[1;33m\u001b[0m\u001b[1;33m\u001b[0m\u001b[0m\n\u001b[1;32m--> 590\u001b[1;33m         \u001b[0mself\u001b[0m\u001b[1;33m.\u001b[0m\u001b[0mresults\u001b[0m \u001b[1;33m=\u001b[0m \u001b[0mbatch\u001b[0m\u001b[1;33m(\u001b[0m\u001b[1;33m)\u001b[0m\u001b[1;33m\u001b[0m\u001b[1;33m\u001b[0m\u001b[0m\n\u001b[0m\u001b[0;32m    591\u001b[0m \u001b[1;33m\u001b[0m\u001b[0m\n\u001b[0;32m    592\u001b[0m     \u001b[1;32mdef\u001b[0m \u001b[0mget\u001b[0m\u001b[1;33m(\u001b[0m\u001b[0mself\u001b[0m\u001b[1;33m)\u001b[0m\u001b[1;33m:\u001b[0m\u001b[1;33m\u001b[0m\u001b[1;33m\u001b[0m\u001b[0m\n",
                        "\u001b[1;32m~\\AppData\\Local\\Programs\\Python\\Python38\\lib\\site-packages\\joblib\\parallel.py\u001b[0m in \u001b[0;36m__call__\u001b[1;34m(self)\u001b[0m\n\u001b[0;32m    253\u001b[0m         \u001b[1;31m# change the default number of processes to -1\u001b[0m\u001b[1;33m\u001b[0m\u001b[1;33m\u001b[0m\u001b[1;33m\u001b[0m\u001b[0m\n\u001b[0;32m    254\u001b[0m         \u001b[1;32mwith\u001b[0m \u001b[0mparallel_backend\u001b[0m\u001b[1;33m(\u001b[0m\u001b[0mself\u001b[0m\u001b[1;33m.\u001b[0m\u001b[0m_backend\u001b[0m\u001b[1;33m,\u001b[0m \u001b[0mn_jobs\u001b[0m\u001b[1;33m=\u001b[0m\u001b[0mself\u001b[0m\u001b[1;33m.\u001b[0m\u001b[0m_n_jobs\u001b[0m\u001b[1;33m)\u001b[0m\u001b[1;33m:\u001b[0m\u001b[1;33m\u001b[0m\u001b[1;33m\u001b[0m\u001b[0m\n\u001b[1;32m--> 255\u001b[1;33m             return [func(*args, **kwargs)\n\u001b[0m\u001b[0;32m    256\u001b[0m                     for func, args, kwargs in self.items]\n\u001b[0;32m    257\u001b[0m \u001b[1;33m\u001b[0m\u001b[0m\n",
                        "\u001b[1;32m~\\AppData\\Local\\Programs\\Python\\Python38\\lib\\site-packages\\joblib\\parallel.py\u001b[0m in \u001b[0;36m<listcomp>\u001b[1;34m(.0)\u001b[0m\n\u001b[0;32m    253\u001b[0m         \u001b[1;31m# change the default number of processes to -1\u001b[0m\u001b[1;33m\u001b[0m\u001b[1;33m\u001b[0m\u001b[1;33m\u001b[0m\u001b[0m\n\u001b[0;32m    254\u001b[0m         \u001b[1;32mwith\u001b[0m \u001b[0mparallel_backend\u001b[0m\u001b[1;33m(\u001b[0m\u001b[0mself\u001b[0m\u001b[1;33m.\u001b[0m\u001b[0m_backend\u001b[0m\u001b[1;33m,\u001b[0m \u001b[0mn_jobs\u001b[0m\u001b[1;33m=\u001b[0m\u001b[0mself\u001b[0m\u001b[1;33m.\u001b[0m\u001b[0m_n_jobs\u001b[0m\u001b[1;33m)\u001b[0m\u001b[1;33m:\u001b[0m\u001b[1;33m\u001b[0m\u001b[1;33m\u001b[0m\u001b[0m\n\u001b[1;32m--> 255\u001b[1;33m             return [func(*args, **kwargs)\n\u001b[0m\u001b[0;32m    256\u001b[0m                     for func, args, kwargs in self.items]\n\u001b[0;32m    257\u001b[0m \u001b[1;33m\u001b[0m\u001b[0m\n",
                        "\u001b[1;32m~\\AppData\\Local\\Programs\\Python\\Python38\\lib\\site-packages\\sklearn\\neighbors\\_base.py\u001b[0m in \u001b[0;36m_tree_query_parallel_helper\u001b[1;34m(tree, *args, **kwargs)\u001b[0m\n\u001b[0;32m    490\u001b[0m     \u001b[0munder\u001b[0m \u001b[0mPyPy\u001b[0m\u001b[1;33m.\u001b[0m\u001b[1;33m\u001b[0m\u001b[1;33m\u001b[0m\u001b[0m\n\u001b[0;32m    491\u001b[0m     \"\"\"\n\u001b[1;32m--> 492\u001b[1;33m     \u001b[1;32mreturn\u001b[0m \u001b[0mtree\u001b[0m\u001b[1;33m.\u001b[0m\u001b[0mquery\u001b[0m\u001b[1;33m(\u001b[0m\u001b[1;33m*\u001b[0m\u001b[0margs\u001b[0m\u001b[1;33m,\u001b[0m \u001b[1;33m**\u001b[0m\u001b[0mkwargs\u001b[0m\u001b[1;33m)\u001b[0m\u001b[1;33m\u001b[0m\u001b[1;33m\u001b[0m\u001b[0m\n\u001b[0m\u001b[0;32m    493\u001b[0m \u001b[1;33m\u001b[0m\u001b[0m\n\u001b[0;32m    494\u001b[0m \u001b[1;33m\u001b[0m\u001b[0m\n",
                        "\u001b[1;32msklearn\\neighbors\\_binary_tree.pxi\u001b[0m in \u001b[0;36msklearn.neighbors._kd_tree.BinaryTree.query\u001b[1;34m()\u001b[0m\n",
                        "\u001b[1;31mValueError\u001b[0m: query data dimension must match training data dimension"
                    ]
                }
            ],
            "execution_count": 59
        },
        {
            "cell_type": "code",
            "source": [
                "# plot k-NN regression para diferentes valores de k\n",
                "\n",
                "fig, subaxes = plt.subplots(5, 1, figsize=(5,20))\n",
                "X_predict_input = np.linspace(X.min(), X.max(), 500).reshape(-1,1)\n",
                "X_train, X_test, y_train, y_test = train_test_split(X, y,\n",
                "                                                   random_state = 0)\n",
                "\n",
                "for thisaxis, K in zip(subaxes, [1, 3, 7, 15, 55]):\n",
                "    knnreg = KNeighborsRegressor(n_neighbors = K).fit(X_train, y_train)\n",
                "    y_predict_output = knnreg.predict(X_predict_input)\n",
                "    train_score = knnreg.score(X_train, y_train)\n",
                "    test_score = knnreg.score(X_test, y_test)\n",
                "    \n",
                "    thisaxis.plot(X_train, y_train, 'o', alpha=0.9, label='Train')\n",
                "    thisaxis.plot(X_test, y_test, '^', alpha=0.9, label='Test')\n",
                "    \n",
                "    thisaxis.plot(X_predict_input, y_predict_output)\n",
                "    \n",
                "    thisaxis.set_xlabel('Input feature')\n",
                "    thisaxis.set_ylabel('Target value')\n",
                "    thisaxis.set_title('KNN Regression (K={})\\n\\\n",
                "Train $R^2 = {:.3f}$,  Test $R^2 = {:.3f}$'\n",
                "                      .format(K, train_score, test_score))\n",
                "    thisaxis.legend()\n",
                "    plt.tight_layout(pad=0.4, w_pad=0.5, h_pad=1.0)"
            ],
            "metadata": {
                "id": "e30Z2GkqzYJo",
                "colab_type": "code",
                "colab": {},
                "azdata_cell_guid": "2d5332f6-d5e0-4991-999a-6158d1a6b558"
            },
            "outputs": [],
            "execution_count": 0
        }
    ]
}