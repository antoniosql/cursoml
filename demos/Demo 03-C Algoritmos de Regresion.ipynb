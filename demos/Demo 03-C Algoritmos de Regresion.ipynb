{
    "metadata": {
        "kernelspec": {
            "name": "python_defaultSpec_1600749642024",
            "display_name": "Python 3.8.5 64-bit"
        },
        "language_info": {
            "name": "python",
            "version": "3.8.5-final",
            "mimetype": "text/x-python",
            "codemirror_mode": {
                "name": "ipython",
                "version": 3
            },
            "pygments_lexer": "ipython3",
            "nbconvert_exporter": "python",
            "file_extension": ".py"
        }
    },
    "nbformat_minor": 2,
    "nbformat": 4,
    "cells": [
        {
            "cell_type": "markdown",
            "source": [
                "![Verne](https://www.vernegroup.com/wp-content/uploads/2020/07/LOGO-VERNE-TECHNOLOGY-GROUP-3.png)"
            ],
            "metadata": {
                "azdata_cell_guid": "8172bf50-d835-4431-8916-7725974afeb4"
            }
        },
        {
            "cell_type": "markdown",
            "source": [
                "# Carga de datos y exploración"
            ],
            "metadata": {
                "id": "1DU_pK-Pw9G1",
                "colab_type": "text",
                "azdata_cell_guid": "30a18b7d-ccea-4c35-baf3-785da81ccc16"
            }
        },
        {
            "cell_type": "code",
            "source": [
                "import pandas as pd\n",
                "import numpy as np\n",
                "import sqlite3"
            ],
            "metadata": {
                "id": "Luzizu3KxCZu",
                "colab_type": "code",
                "colab": {},
                "azdata_cell_guid": "d8a59429-e253-4dcd-9095-d0c42ba4b8f3"
            },
            "outputs": [],
            "execution_count": 1
        },
        {
            "cell_type": "code",
            "source": [
                "conn = sqlite3.connect('Tiendas24H.sqlite')\n",
                "consulta=\"select c.CodCliente,  EstadoCivil, Sexo, IngresosAnuales, N.NivelAcademico, O.Ocupacion, count(Ticket) as NumeroVentas from clientes c inner join NivelAcademico N    on c.NivelAcademico = N.Codigo    inner join Ocupacion O on c.Ocupacion = o.Codigo     left outer join VentasCAB v          on v.codcliente = C.codcliente  where c.Codcliente <>'CONTADO' group by c.CodCliente,  EstadoCivil, Sexo, IngresosAnuales, N.NivelAcademico, O.Ocupacion\"\n",
                "\n",
                "df = pd.read_sql_query(consulta,conn)\n",
                "\n",
                "df.head()"
            ],
            "metadata": {
                "id": "tYPA2JGWxEAA",
                "colab_type": "code",
                "colab": {},
                "azdata_cell_guid": "f961c649-1bc6-4061-a28d-3e5c6e86d329"
            },
            "outputs": [
                {
                    "output_type": "execute_result",
                    "data": {
                        "text/plain": "  CodCliente EstadoCivil Sexo  IngresosAnuales NivelAcademico  \\\n0     000020           M    M          90000.0   Licenciatura   \n1     000026           S    M          60000.0   Licenciatura   \n2     000029           M    M          60000.0   Licenciatura   \n3     000046           S    F          70000.0   Licenciatura   \n4     000047           S    F          80000.0   Licenciatura   \n\n                   Ocupacion  NumeroVentas  \n0  Profesional especializado             1  \n1  Profesional especializado            22  \n2  Profesional especializado             1  \n3  Profesional especializado             0  \n4  Profesional especializado            18  ",
                        "text/html": "<div>\n<style scoped>\n    .dataframe tbody tr th:only-of-type {\n        vertical-align: middle;\n    }\n\n    .dataframe tbody tr th {\n        vertical-align: top;\n    }\n\n    .dataframe thead th {\n        text-align: right;\n    }\n</style>\n<table border=\"1\" class=\"dataframe\">\n  <thead>\n    <tr style=\"text-align: right;\">\n      <th></th>\n      <th>CodCliente</th>\n      <th>EstadoCivil</th>\n      <th>Sexo</th>\n      <th>IngresosAnuales</th>\n      <th>NivelAcademico</th>\n      <th>Ocupacion</th>\n      <th>NumeroVentas</th>\n    </tr>\n  </thead>\n  <tbody>\n    <tr>\n      <th>0</th>\n      <td>000020</td>\n      <td>M</td>\n      <td>M</td>\n      <td>90000.0</td>\n      <td>Licenciatura</td>\n      <td>Profesional especializado</td>\n      <td>1</td>\n    </tr>\n    <tr>\n      <th>1</th>\n      <td>000026</td>\n      <td>S</td>\n      <td>M</td>\n      <td>60000.0</td>\n      <td>Licenciatura</td>\n      <td>Profesional especializado</td>\n      <td>22</td>\n    </tr>\n    <tr>\n      <th>2</th>\n      <td>000029</td>\n      <td>M</td>\n      <td>M</td>\n      <td>60000.0</td>\n      <td>Licenciatura</td>\n      <td>Profesional especializado</td>\n      <td>1</td>\n    </tr>\n    <tr>\n      <th>3</th>\n      <td>000046</td>\n      <td>S</td>\n      <td>F</td>\n      <td>70000.0</td>\n      <td>Licenciatura</td>\n      <td>Profesional especializado</td>\n      <td>0</td>\n    </tr>\n    <tr>\n      <th>4</th>\n      <td>000047</td>\n      <td>S</td>\n      <td>F</td>\n      <td>80000.0</td>\n      <td>Licenciatura</td>\n      <td>Profesional especializado</td>\n      <td>18</td>\n    </tr>\n  </tbody>\n</table>\n</div>"
                    },
                    "metadata": {},
                    "execution_count": 2
                }
            ],
            "execution_count": 2
        },
        {
            "cell_type": "code",
            "execution_count": 3,
            "metadata": {},
            "outputs": [],
            "source": [
                "caracteristicas = [\"EstadoCivil\", \"Sexo\", \"IngresosAnuales\",\"NivelAcademico\", \"Ocupacion\"]\n",
                "etiqueta=\"NumeroVentas\""
            ]
        },
        {
            "cell_type": "code",
            "execution_count": 4,
            "metadata": {},
            "outputs": [],
            "source": [
                "from sklearn.preprocessing import  OneHotEncoder,LabelEncoder\n",
                "\n",
                "le=LabelEncoder()\n",
                "df['EstadoCivil'] = le.fit_transform(df['EstadoCivil'])\n",
                "df['Sexo'] = le.fit_transform(df['Sexo'])"
            ]
        },
        {
            "cell_type": "code",
            "execution_count": 5,
            "metadata": {},
            "outputs": [],
            "source": [
                "dum_df = pd.get_dummies(df[caracteristicas], columns=[\"NivelAcademico\",\"Ocupacion\"] )"
            ]
        },
        {
            "cell_type": "markdown",
            "source": [
                "# Generar datos de entrenamiento y test"
            ],
            "metadata": {
                "id": "CMZC_11mxK15",
                "colab_type": "text",
                "azdata_cell_guid": "70e7847b-a3f4-4139-acfd-a006440a0547"
            }
        },
        {
            "cell_type": "code",
            "source": [
                "from sklearn.model_selection import train_test_split\n",
                "X, y = dum_df.values, df[etiqueta].values"
            ],
            "metadata": {
                "id": "UZ9uJzzDxN62",
                "colab_type": "code",
                "colab": {},
                "azdata_cell_guid": "491d38f6-e5c1-4ea3-9294-f37870c7e669"
            },
            "outputs": [],
            "execution_count": 6
        },
        {
            "cell_type": "code",
            "execution_count": 7,
            "metadata": {},
            "outputs": [],
            "source": [
                "X_train, X_test, y_train, y_test =\\\n",
                "  train_test_split(X, y,\n",
                "  test_size=0.3)"
            ]
        },
        {
            "source": [
                "## Escalado"
            ],
            "cell_type": "markdown",
            "metadata": {}
        },
        {
            "cell_type": "code",
            "execution_count": 8,
            "metadata": {},
            "outputs": [],
            "source": [
                "\n",
                "from sklearn.preprocessing import MinMaxScaler\n",
                "scaler = MinMaxScaler()\n",
                "X_train = scaler.fit_transform(X_train)\n",
                "X_test = scaler.transform(X_test)"
            ]
        },
        {
            "cell_type": "markdown",
            "source": [
                "# Regresión Lineal"
            ],
            "metadata": {
                "id": "o3o7TL2SHt3C",
                "colab_type": "text",
                "azdata_cell_guid": "82d22afb-8ab2-4c2c-9331-67b14547b0d2"
            }
        },
        {
            "cell_type": "code",
            "source": [
                "from sklearn import linear_model\n",
                "regressor = linear_model.LinearRegression()\n",
                "lr = regressor.fit(X_train, y_train)"
            ],
            "metadata": {
                "id": "LDNRp65uIReI",
                "colab_type": "code",
                "colab": {},
                "azdata_cell_guid": "fd83f20b-ea2b-4ee2-ba5f-3111d40c535b"
            },
            "outputs": [],
            "execution_count": 9
        },
        {
            "cell_type": "code",
            "source": [
                "#Realizamos la predicción con test\n",
                "print(lr.predict(X_test))"
            ],
            "metadata": {
                "id": "zCfGD100xbc9",
                "colab_type": "code",
                "colab": {},
                "azdata_cell_guid": "d3e84833-fbae-4e9a-80fc-63931b12af0a",
                "tags": []
            },
            "outputs": [
                {
                    "output_type": "stream",
                    "name": "stdout",
                    "text": "[2.15625 3.40625 1.90625 3.46875 1.78125 2.28125 3.375   1.5     1.8125\n 1.59375 2.96875 2.15625 1.78125 2.78125 2.28125 3.59375 3.25    2.78125\n 2.53125 3.28125 2.03125 2.03125 4.34375 1.78125 1.65625 2.78125 2.78125\n 2.25    2.9375  3.96875 1.90625 3.90625 3.59375 3.1875  1.375   1.90625\n 2.625   2.34375 2.03125 3.46875 1.28125 1.96875 1.875   3.5     2.90625\n 2.15625 2.875   2.65625 3.78125 2.6875  4.      2.53125 1.84375 2.40625\n 3.90625 1.3125  3.6875  3.03125 2.34375 3.71875 2.75    4.      2.15625\n 2.25    3.34375 2.15625 2.      2.25    2.      1.78125 1.40625 2.9375\n 4.125   3.84375 2.15625 4.125   4.21875 2.53125 3.28125 1.625   2.53125\n 4.21875 1.40625 2.78125 2.59375 1.96875 4.21875 2.90625 2.28125 3.34375\n 1.8125  1.90625 2.96875 2.875   2.59375 2.28125 2.1875  1.34375 3.15625\n 3.59375 2.75    2.53125 2.6875  2.1875  3.25    2.6875  4.03125 1.28125\n 3.53125 2.28125 2.125   4.65625 3.5     3.6875  2.40625 2.875   3.46875\n 2.46875 1.09375 2.875   3.8125  4.21875 2.03125 2.75    2.15625 2.78125\n 3.375   1.21875 2.09375 3.5625  3.90625 3.15625 3.1875  1.40625 2.5625\n 2.28125 3.21875 2.125   3.34375 2.75    1.65625 2.65625 3.90625 3.96875\n 2.15625 3.40625 2.25    4.34375 3.09375 2.875   2.75    3.71875 1.375\n 2.15625 2.15625 1.28125 2.78125 2.15625 1.78125 4.15625 3.0625  1.90625\n 2.03125 2.875   3.1875  3.28125 3.      3.59375 1.90625 2.28125 3.40625\n 2.15625 3.96875 1.46875 2.03125 3.5625  3.90625 2.03125 2.78125 3.8125\n 3.5     3.59375 2.625   3.40625 3.375   1.8125  1.75    2.25    3.09375\n 1.96875 3.90625 2.21875 1.9375  3.      1.90625 3.15625 1.84375 1.96875\n 2.28125 2.78125 2.28125 1.1875  3.15625 2.46875 3.59375 4.      4.\n 2.4375  3.      3.28125 2.25    3.46875 2.03125 4.125   1.09375 3.34375\n 2.96875 2.28125 2.40625 2.      2.40625 2.28125 2.78125 2.53125 3.90625\n 3.      3.46875 1.84375 1.90625 2.46875 2.15625 3.71875 2.96875 3.40625\n 2.84375 3.125   3.90625 3.5625  3.5625  3.375   3.09375 3.65625 1.40625\n 3.59375 2.53125 3.3125  2.28125 2.1875  2.      2.09375 2.46875 2.75\n 1.71875 2.40625 4.      1.21875 1.375   3.15625 3.375   2.875   2.15625\n 2.78125 2.84375 1.3125  2.96875 2.25    1.21875 3.78125 1.5     2.59375\n 2.71875 2.34375 1.75    2.25    2.40625 3.8125  2.28125 2.875   2.28125\n 2.375   3.5     2.90625 2.875   4.21875 2.78125 3.5625  2.4375  2.96875\n 3.28125 2.21875 4.      3.15625 2.5     2.71875 2.5     1.90625 2.875\n 2.5625  3.625   3.03125 3.59375 2.28125 2.78125 1.71875 2.65625 3.6875\n 2.46875 2.5     3.03125 3.40625 2.96875 3.78125 1.90625 2.28125 1.9375\n 2.90625 2.03125 2.78125 3.      2.4375  3.28125 2.875   2.34375 1.40625\n 3.65625 3.6875  2.40625 2.15625 1.78125 2.1875  4.34375 1.8125  3.8125\n 1.78125 2.96875 2.65625 1.90625 2.28125 1.90625 1.46875 2.5625  2.75\n 2.1875  3.28125 3.03125 1.375   4.125   2.375   2.96875 3.03125 3.15625\n 3.59375 3.21875 1.84375 4.09375 2.65625 3.125   2.65625 1.9375  1.09375\n 2.46875 1.65625 3.59375 3.4375  2.53125 1.875   2.09375 3.03125 2.46875\n 2.34375 1.71875 3.125   1.3125  3.03125 3.09375 1.34375 3.75    3.8125\n 3.34375 2.40625 2.34375 2.03125 1.84375 1.28125 4.09375 2.375   4.3125\n 2.78125 1.90625 1.71875 4.03125 2.15625 1.59375 3.15625 1.71875 4.125\n 2.875   3.15625 2.6875  3.09375 2.40625 3.28125 2.28125 3.90625 2.90625\n 4.125   2.28125 1.84375 1.84375 1.78125 3.15625 1.90625 1.84375 1.71875\n 2.09375 2.46875 3.15625 1.375   2.28125 2.78125 2.21875 3.78125 4.\n 3.96875 2.0625  2.15625 2.15625 2.      2.15625 2.15625 2.28125 2.21875\n 2.5     4.      1.90625 3.90625 2.8125  3.59375 2.15625 3.09375 2.875\n 2.40625 2.65625 2.78125 3.34375 2.28125 3.3125  1.90625 3.8125  2.53125\n 3.03125 3.59375 1.21875 3.65625 2.03125 3.90625 2.15625 1.9375  3.28125\n 1.90625 1.84375 3.75    1.84375 2.53125 1.78125 2.34375 2.75    3.15625\n 3.46875 2.6875  3.875   2.875   2.46875 2.28125 2.6875  3.78125 2.40625\n 2.15625 3.8125  2.28125 1.90625 2.40625 2.      3.375   1.8125  2.46875\n 3.34375 3.34375 2.46875 2.53125 2.28125 1.96875 4.      2.46875 1.46875\n 2.96875 2.46875 3.59375 1.375   4.21875 3.15625 2.      2.78125 2.40625\n 3.5625  3.28125 2.28125 3.59375 1.9375  2.34375 2.03125 2.15625 2.375\n 1.84375 2.96875 2.5625  3.3125  1.1875  2.40625 3.28125 2.875   2.28125\n 3.875   2.28125 3.34375 2.15625 1.125   2.78125 3.34375 3.375   3.96875\n 1.84375 3.40625 1.375   3.28125 1.875   1.84375 3.1875  2.28125 2.28125\n 2.25    1.21875 2.875   3.59375 2.15625 2.      3.46875 3.34375 2.84375\n 3.90625 3.09375 2.40625 3.5     2.78125 2.28125 2.625   2.03125 2.4375\n 2.1875  1.65625 3.15625 4.125   3.03125 2.28125 2.5     2.      2.125\n 1.34375 3.15625 4.21875 4.3125  1.71875 2.09375 1.46875 2.59375 3.375\n 3.59375 2.59375 2.375   1.84375 3.      2.25    3.78125 1.53125 4.09375\n 3.90625 2.375   3.09375 2.375   3.03125 1.71875 3.75    1.3125  1.8125\n 2.125   2.65625 3.375   2.28125 2.09375 3.6875  1.84375 4.125   1.84375\n 3.      3.40625 3.65625 3.8125  2.90625 3.375   2.15625 2.4375  3.5625\n 4.125   2.3125  1.8125  2.21875 3.8125  2.15625 4.125   4.3125  3.1875\n 1.84375 3.28125 2.34375 2.28125 2.53125 3.375   2.34375 4.21875 2.4375\n 4.3125  1.40625 2.53125 3.28125 1.84375 2.03125 3.25    4.21875 3.59375\n 3.90625 2.21875 3.      4.21875 2.03125 2.4375  2.40625 2.15625 1.65625\n 2.28125 3.0625  2.78125 2.40625 2.90625 2.40625 2.71875 1.40625 1.28125\n 1.96875 1.90625 2.3125  2.84375 1.9375  2.34375 3.375   1.71875 2.5\n 2.15625 4.09375 1.71875 2.625   2.90625 3.09375 3.4375  2.59375 2.15625\n 2.      2.65625 3.40625 2.15625 2.90625 3.125   2.21875 1.3125  2.53125\n 1.3125  2.34375 3.46875 3.5     2.78125 2.96875 3.09375 1.96875 1.90625\n 1.78125 3.34375 2.09375 3.34375 2.6875  2.125   3.78125 3.71875 1.96875\n 4.09375 2.21875 2.125   2.59375 3.28125 2.78125 1.875   1.46875 2.28125\n 3.34375 1.28125 2.78125 1.78125 1.40625 1.90625 2.59375 1.78125 2.1875\n 3.15625 4.      1.5     3.65625 3.03125 2.875   2.84375 2.53125 3.03125\n 2.65625 2.15625 2.28125]\n"
                }
            ],
            "execution_count": 10
        },
        {
            "cell_type": "code",
            "source": [
                "print(\" lr.coef_:\", lr.coef_) \n",
                "print(\" lr.intercept_:\", lr.intercept_)\n",
                "#los guiones bajos representan siempre en sklearn valores derivados de datos de entrenamiento"
            ],
            "metadata": {
                "id": "trHMmCLCJzHj",
                "colab_type": "code",
                "colab": {},
                "azdata_cell_guid": "2209be68-ab54-455a-bb51-e62e2a45b43a",
                "tags": []
            },
            "outputs": [
                {
                    "output_type": "stream",
                    "name": "stdout",
                    "text": "lr.coef_: [ 5.15200566e-01  9.56714465e-02  1.75218802e+00 -1.23879653e+14\n -1.23879653e+14 -1.23879653e+14 -1.23879653e+14 -1.23879653e+14\n -1.31875283e+14 -1.31875283e+14 -1.31875283e+14 -1.31875283e+14\n -1.31875283e+14]\n lr.intercept_: 255754935879051.47\n"
                }
            ],
            "execution_count": 11
        },
        {
            "cell_type": "code",
            "source": [
                "#Mean Squared Error (MSE)\n",
                "from sklearn.metrics import mean_squared_error\n",
                "y_train_pred_lr = lr.predict(X_train)\n",
                "y_test_pred_lr = lr.predict(X_test)\n",
                "print('MSE train: %.3f, test: %.3f' % (mean_squared_error(y_train, y_train_pred_lr),mean_squared_error(y_test, y_test_pred_lr)))\n",
                "\n",
                "# Si MSE es mayor en test que en train, clara muestra de overfitting"
            ],
            "metadata": {
                "id": "qCCgMxTSiO8u",
                "colab_type": "code",
                "colab": {},
                "azdata_cell_guid": "fef76eec-234c-41db-bc3e-539982b73f83",
                "tags": []
            },
            "outputs": [
                {
                    "output_type": "stream",
                    "name": "stdout",
                    "text": "MSE train: 55.771, test: 22017.284\n"
                }
            ],
            "execution_count": 12
        },
        {
            "cell_type": "code",
            "source": [
                "print('R-squared train score: {:.3f}'\n",
                "     .format(lr.score(X_train, y_train)))\n",
                "print('R-squared test score: {:.3f}'\n",
                "     .format(lr.score(X_test, y_test)))\n",
                "#R-squared conocido también como Coeficiente de determinación. El coeficiente determina la calidad del modelo para replicar los resultados, \n",
                "#y la proporción de variación de los resultados que puede explicarse por el modelo\n",
                "#Es el porcentaje de variacion de la variable dependiente que explica el modelo lineal\n",
                "\n"
            ],
            "metadata": {
                "id": "DacKhQCvKIq9",
                "colab_type": "code",
                "colab": {},
                "azdata_cell_guid": "a1916595-e884-4805-8ee9-2623ccafca2b",
                "tags": []
            },
            "outputs": [
                {
                    "output_type": "stream",
                    "name": "stdout",
                    "text": "R-squared train score: 0.008\nR-squared test score: -0.001\n"
                }
            ],
            "execution_count": 13
        },
        {
            "cell_type": "markdown",
            "source": [
                "# k-NN Regresor"
            ],
            "metadata": {
                "id": "Vlb0jKqCspq6",
                "colab_type": "text",
                "azdata_cell_guid": "7ec42245-8c37-4fcc-a643-45eaca11f53c"
            }
        },
        {
            "cell_type": "code",
            "source": [
                "from sklearn.neighbors import KNeighborsRegressor\n",
                "\n",
                "#X_train, X_test, y_train, y_test = train_test_split(X_train, y_train, random_state = 0)\n",
                "\n",
                "knnreg = KNeighborsRegressor(n_neighbors = 5).fit(X_train, y_train)"
            ],
            "metadata": {
                "id": "TbgiNa3Xstdi",
                "colab_type": "code",
                "colab": {},
                "azdata_cell_guid": "b03233b7-192c-4646-881b-dec0d1519c5a"
            },
            "outputs": [],
            "execution_count": 14
        },
        {
            "cell_type": "code",
            "source": [
                "#realizamos la predicción\n",
                "\n",
                "print(knnreg.predict(X_test))"
            ],
            "metadata": {
                "id": "UmhZqVmBxvOp",
                "colab_type": "code",
                "colab": {},
                "azdata_cell_guid": "6fe0c8ea-4057-48ae-b921-fdeaa05392dc",
                "tags": []
            },
            "outputs": [
                {
                    "output_type": "stream",
                    "name": "stdout",
                    "text": "[ 1.   2.6  1.6  4.   1.   2.8  1.8  3.   2.   1.   2.4  1.   1.8  1.2\n  1.   1.   2.6  1.2  2.   1.6  2.4  1.4  1.6  6.6  1.8  1.8  1.4  1.4\n  1.2  3.4  1.2  1.4  1.2  1.6  1.6  1.4  2.4  1.6  1.   1.2  4.   1.2\n  2.   1.   4.8  1.   3.6  1.4  1.2  1.6  2.2  2.4  1.2  1.   1.8  1.2\n  3.6  3.6  4.8  1.2  5.   2.2  1.4  1.2  2.2  1.  13.   1.2 13.   1.\n  2.   1.2  1.8  1.6  1.4  1.8  1.2  2.   1.6  1.   2.4  1.2  4.   1.2\n  1.4  1.2  1.2  4.6  1.6  8.2  2.   1.8 10.   1.2  1.4  1.   1.2  7.\n  1.8  1.   5.   2.4  1.6  1.6  2.6  1.   1.   1.4  2.   1.   1.   3.4\n  1.   2.8  1.   1.2  1.2  4.2  2.4  3.6  0.8  1.2  4.4  1.6  1.   3.4\n  3.4  4.8  2.2  3.6  1.8  1.   1.6  2.   1.6  1.   3.8  1.   8.2  2.\n  6.6  1.4  1.   3.4  1.   2.6  1.2  1.6  3.4  2.2  1.6  1.6  1.8  1.6\n  1.   1.4  1.8  1.   1.   1.6  1.4  1.6  1.2  5.6  1.6  3.2  1.2  2.6\n  1.2  2.6  2.6  1.6  3.4  1.6  1.4  3.6  9.4  1.4  1.8  0.8  1.6  1.6\n  2.4  2.6  1.6  0.8  3.2  1.2  1.6  1.   9.4  5.4  2.4  2.6  1.4  3.\n  1.2  1.2  1.4  1.4  1.4  1.4  1.  25.8  1.   8.6  2.2  6.2  1.2  1.6\n  1.4  4.   1.2  1.8  2.   8.2  6.   1.   1.8 13.   1.   1.6  1.8  2.\n  9.4  1.2  2.8  1.2  1.8  4.6  1.   1.2 10.   2.6  6.4  2.2  1.   3.6\n  3.6  3.2  3.4  2.2  2.   4.   2.4  2.2  1.   1.2  2.4  1.4  4.6  1.6\n  2.2  1.   2.2  6.6  1.6  1.   3.2  1.2  1.6  1.4  1.6  1.2  4.8  1.6\n  3.6  1.2  3.   2.8  1.4  1.6  4.   1.6  1.   0.8  1.6  1.2  1.   1.2\n  1.   2.8  2.2  1.2  3.4  3.6  1.2  1.2  1.2  3.   2.2  1.2  1.   1.2\n  1.2  1.6  1.2  0.8  2.6  3.6  1.   1.6  1.4  1.4  1.4  2.8  4.6  1.2\n  3.   1.6 10.   2.4  1.6  1.8  1.4  1.2  1.4  1.4  1.2  4.6  3.2  1.2\n  1.6  2.  10.8  0.8  1.   1.   1.   2.2  1.6  2.   1.2  1.8  4.8  1.4\n  1.   1.4  1.   1.6  0.8  1.6  1.8  1.4  1.2  1.6  1.8  1.  10.   1.2\n  1.   1.   3.8  1.2  1.4  1.4  1.8  1.8  5.6  2.4  1.   1.8  1.   3.8\n  2.4  2.   7.   1.2  1.4  1.6  1.   1.8  1.2  1.   2.   4.2  2.   0.8\n  8.2  1.6  0.8  4.4  1.2  1.4  1.4  1.8  1.4  1.8  1.   1.4  1.6  2.6\n  1.   3.4  2.2  1.8  3.6  3.4  2.4  2.   1.   1.   1.6  1.8  6.   1.8\n  1.6  1.   1.   1.   1.8  1.8  1.2  2.2  1.4  5.8  1.   1.8  1.   1.4\n  3.   2.4  1.   3.4  1.2  1.   1.6  2.4  1.4  1.   1.8  3.   1.   8.6\n  1.6  1.   5.8  1.   1.6  1.2  2.2  1.4  1.4  1.2  8.2  1.   2.2  2.\n  1.2  2.4  1.2  1.   3.6  2.2  1.2  1.4  1.6  2.4  2.4  1.4  1.2  2.\n  1.2  2.4  1.   1.6  1.6  1.4  4.   2.2  1.   2.2  4.6  1.   2.4  1.2\n  1.   1.   4.2  1.   1.8  1.  13.   3.4  1.2  4.2  3.8  2.2  4.6  2.4\n  1.4  1.2  2.2  5.8  1.6  2.4  4.6  1.   1.6  1.2  3.4  2.4  3.4  1.\n  3.6  3.2  1.2  1.   2.4  4.8  2.4  1.6  1.8  1.   6.   0.8  2.2  1.4\n  1.8  1.   3.6  1.   1.   1.8  8.2  1.   2.   1.4  8.2  3.2  3.4  1.2\n  1.6  1.6  2.4  2.   1.2  1.6  1.6  1.6  1.2  3.6  2.2  1.   1.   1.\n  2.8  3.6  1.4  1.8  1.   1.   3.   1.4  1.6  1.   1.2  6.2  1.2  4.\n  2.8  1.8  1.2  1.   1.   2.4  1.   7.   3.4 30.6  3.4  1.2  1.4  1.6\n  1.4  3.4  1.2  1.4  1.   1.4  1.2  1.6  6.   1.   5.4  9.4  3.2  4.2\n  1.   3.6  1.4  2.   1.2  2.   1.   1.8  3.2  1.6  1.4  3.6  1.2  1.8\n  2.   1.2  2.6  2.2  0.8  6.   1.8  1.6  4.6  3.6  1.8  1.2  0.8  5.4\n  0.8  1.   1.8  3.4  1.6  1.2  2.4  4.8  1.6  2.4  3.2  1.   1.2  4.6\n  1.4  2.   2.4  2.4  1.   1.2  2.6  2.8  1.   1.4  7.4  1.2  1.2  1.4\n  1.2  1.   1.6  1.8  1.   1.4  2.2  1.   1.2  1.8  1.4  2.   1.4  1.2\n  1.8  1.8  3.   5.6  1.6  3.4  1.2  1.8  1.   1.4  1.   2.4  1.2  2.6\n  3.8  2.8  1.   2.4  1.4  2.2  1.   4.8  1.8  3.   1.2  2.4  1.2  2.4\n  1.2  1.   1.4 10.   1.2  1.2  1.4  1.   2.2  1.4  8.2  1.6  1.   1.2\n  3.2  1.2  1.4  7.4  1.   1.4  3.2  3.4  2.   1.6  1.2  2.2  4.   1.2\n  6.6  2.   1.4  1.6  6.6  1.2  3.   2.2  3.   2.2  1.2  3.6  6.4  2.\n  3.6  1.4  1.   1. ]\n"
                }
            ],
            "execution_count": 15
        },
        {
            "cell_type": "code",
            "source": [
                "#Mean Squared Error (MSE)\n",
                "\n",
                "y_train_pred_knn = knnreg.predict(X_train)\n",
                "y_test_pred_knn = knnreg.predict(X_test)\n",
                "print('MSE train: %.3f, test: %.3f' % (mean_squared_error(y_train, y_train_pred_knn),mean_squared_error(y_test, y_test_pred_knn)))"
            ],
            "metadata": {
                "id": "Vc2xX0kOyLJq",
                "colab_type": "code",
                "colab": {},
                "azdata_cell_guid": "b3724fca-e930-481c-a74e-b76688a17f9d",
                "tags": []
            },
            "outputs": [
                {
                    "output_type": "stream",
                    "name": "stdout",
                    "text": "MSE train: 53.216, test: 22040.947\n"
                }
            ],
            "execution_count": 16
        },
        {
            "cell_type": "code",
            "source": [
                "print('R-squared test score: {:.3f}'\n",
                "     .format(knnreg.score(X_test, y_test)))"
            ],
            "metadata": {
                "id": "UQxhCIEcwRCN",
                "colab_type": "code",
                "colab": {},
                "azdata_cell_guid": "22a8f871-22cc-4520-bf86-aaa6df6b8efb",
                "tags": []
            },
            "outputs": [
                {
                    "output_type": "stream",
                    "name": "stdout",
                    "text": "R-squared test score: -0.002\n"
                }
            ],
            "execution_count": 17
        },
        {
            "cell_type": "code",
            "source": [],
            "metadata": {
                "id": "e30Z2GkqzYJo",
                "colab_type": "code",
                "colab": {},
                "azdata_cell_guid": "2d5332f6-d5e0-4991-999a-6158d1a6b558"
            },
            "outputs": [],
            "execution_count": 0
        }
    ]
}