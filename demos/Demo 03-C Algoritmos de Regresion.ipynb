{
    "metadata": {
        "kernelspec": {
            "name": "python3",
            "display_name": "Python 3"
        },
        "language_info": {
            "name": "python",
            "version": "3.6.6",
            "mimetype": "text/x-python",
            "codemirror_mode": {
                "name": "ipython",
                "version": 3
            },
            "pygments_lexer": "ipython3",
            "nbconvert_exporter": "python",
            "file_extension": ".py"
        }
    },
    "nbformat_minor": 2,
    "nbformat": 4,
    "cells": [
        {
            "cell_type": "markdown",
            "source": [
                "![SolidQ](https://www.solidq.com/wp-content/uploads/2015/06/Logo-SolidQ-Web.gif)"
            ],
            "metadata": {
                "azdata_cell_guid": "8172bf50-d835-4431-8916-7725974afeb4"
            }
        },
        {
            "cell_type": "markdown",
            "source": [
                "# Carga de datos y exploración"
            ],
            "metadata": {
                "id": "1DU_pK-Pw9G1",
                "colab_type": "text",
                "azdata_cell_guid": "30a18b7d-ccea-4c35-baf3-785da81ccc16"
            }
        },
        {
            "cell_type": "code",
            "source": [
                "import numpy as np\n",
                "import pandas as pd\n",
                "import matplotlib.pyplot as plt\n",
                "import seaborn as sns\n",
                "dataset = pd.read_csv('sample_data/california_housing_train.csv')"
            ],
            "metadata": {
                "id": "Luzizu3KxCZu",
                "colab_type": "code",
                "colab": {},
                "azdata_cell_guid": "d8a59429-e253-4dcd-9095-d0c42ba4b8f3"
            },
            "outputs": [],
            "execution_count": 0
        },
        {
            "cell_type": "code",
            "source": [
                "X = dataset[['total_rooms']].values\n",
                "y = dataset[['median_house_value']].values\n",
                "plt.scatter(X, y)"
            ],
            "metadata": {
                "id": "tYPA2JGWxEAA",
                "colab_type": "code",
                "colab": {},
                "azdata_cell_guid": "f961c649-1bc6-4061-a28d-3e5c6e86d329"
            },
            "outputs": [],
            "execution_count": 0
        },
        {
            "cell_type": "code",
            "source": [
                "cols=['longitude', 'latitude', 'housing_median_age', 'total_rooms','total_bedrooms', 'population', 'households', 'median_income','median_house_value']\n",
                "\n",
                "#Matriz de Correlación\n",
                "\n",
                "cm = np.corrcoef(dataset[cols].T)\n",
                "sns.set(font_scale=1.5)\n",
                "hm = sns.heatmap(cm, cbar=True, annot=True, square=True, fmt='.2f', annot_kws={'size': 9}, yticklabels=cols, xticklabels=cols)\n",
                "plt.show()"
            ],
            "metadata": {
                "id": "ncE2OC4OxGMH",
                "colab_type": "code",
                "colab": {},
                "azdata_cell_guid": "4fd362ce-a850-4959-8f31-12e96d80c971"
            },
            "outputs": [],
            "execution_count": 0
        },
        {
            "cell_type": "markdown",
            "source": [
                "# Generar datos de entrenamiento y test"
            ],
            "metadata": {
                "id": "CMZC_11mxK15",
                "colab_type": "text",
                "azdata_cell_guid": "70e7847b-a3f4-4139-acfd-a006440a0547"
            }
        },
        {
            "cell_type": "code",
            "source": [
                "from sklearn.model_selection import train_test_split\n",
                "X_train, X_test, y_train, y_test = train_test_split(X, y, test_size = 0.01, random_state = 1)"
            ],
            "metadata": {
                "id": "UZ9uJzzDxN62",
                "colab_type": "code",
                "colab": {},
                "azdata_cell_guid": "491d38f6-e5c1-4ea3-9294-f37870c7e669"
            },
            "outputs": [],
            "execution_count": 0
        },
        {
            "cell_type": "code",
            "source": [
                "dataset"
            ],
            "metadata": {
                "id": "BFZvIp1r1qGH",
                "colab_type": "code",
                "colab": {},
                "azdata_cell_guid": "5c70bbb4-ccb2-4a40-9329-611d423c575a"
            },
            "outputs": [],
            "execution_count": 0
        },
        {
            "cell_type": "markdown",
            "source": [
                "#Regresión Lineal"
            ],
            "metadata": {
                "id": "o3o7TL2SHt3C",
                "colab_type": "text",
                "azdata_cell_guid": "82d22afb-8ab2-4c2c-9331-67b14547b0d2"
            }
        },
        {
            "cell_type": "code",
            "source": [
                "from sklearn import linear_model\n",
                "regressor = linear_model.LinearRegression()\n",
                "lr = regressor.fit(X_train, y_train)"
            ],
            "metadata": {
                "id": "LDNRp65uIReI",
                "colab_type": "code",
                "colab": {},
                "azdata_cell_guid": "fd83f20b-ea2b-4ee2-ba5f-3111d40c535b"
            },
            "outputs": [],
            "execution_count": 0
        },
        {
            "cell_type": "code",
            "source": [
                "X_train"
            ],
            "metadata": {
                "id": "JByPJ01e69vo",
                "colab_type": "code",
                "colab": {},
                "azdata_cell_guid": "805ed4f9-0212-4a22-9804-11b5d85071ee"
            },
            "outputs": [],
            "execution_count": 0
        },
        {
            "cell_type": "code",
            "source": [
                "#Realizamos la predicción con test\n",
                "print(lr.predict(X_test))"
            ],
            "metadata": {
                "id": "zCfGD100xbc9",
                "colab_type": "code",
                "colab": {},
                "azdata_cell_guid": "d3e84833-fbae-4e9a-80fc-63931b12af0a"
            },
            "outputs": [],
            "execution_count": 0
        },
        {
            "cell_type": "code",
            "source": [
                "print(\" lr.coef_:\", lr.coef_) \n",
                "print(\" lr.intercept_:\", lr.intercept_)\n",
                "#los guiones bajos representan siempre en sklearn valores derivados de datos de entrenamiento"
            ],
            "metadata": {
                "id": "trHMmCLCJzHj",
                "colab_type": "code",
                "colab": {},
                "azdata_cell_guid": "2209be68-ab54-455a-bb51-e62e2a45b43a"
            },
            "outputs": [],
            "execution_count": 0
        },
        {
            "cell_type": "code",
            "source": [
                "#Mean Squared Error (MSE)\n",
                "from sklearn.metrics import mean_squared_error\n",
                "y_train_pred_lr = lr.predict(X_train)\n",
                "y_test_pred_lr = lr.predict(X_test)\n",
                "print('MSE train: %.3f, test: %.3f' % (mean_squared_error(y_train, y_train_pred_lr),mean_squared_error(y_test, y_test_pred_lr)))\n",
                "\n",
                "# Si MSE es mayor en test que en train, clara muestra de overfitting"
            ],
            "metadata": {
                "id": "qCCgMxTSiO8u",
                "colab_type": "code",
                "colab": {},
                "azdata_cell_guid": "fef76eec-234c-41db-bc3e-539982b73f83"
            },
            "outputs": [],
            "execution_count": 0
        },
        {
            "cell_type": "code",
            "source": [
                "print('R-squared train score: {:.3f}'\n",
                "     .format(lr.score(X_train, y_train)))\n",
                "print('R-squared test score: {:.3f}'\n",
                "     .format(lr.score(X_test, y_test)))\n",
                "#R-squared conocido también como Coeficiente de determinación. El coeficiente determina la calidad del modelo para replicar los resultados, \n",
                "#y la proporción de variación de los resultados que puede explicarse por el modelo\n",
                "#Es el porcentaje de variacion de la variable dependiente que explica el modelo lineal\n",
                "\n"
            ],
            "metadata": {
                "id": "DacKhQCvKIq9",
                "colab_type": "code",
                "colab": {},
                "azdata_cell_guid": "a1916595-e884-4805-8ee9-2623ccafca2b"
            },
            "outputs": [],
            "execution_count": 0
        },
        {
            "cell_type": "code",
            "source": [
                "y_pred = regressor.predict(X_test)\n",
                "# Creamos el fit lineal utilizando el conjunto de entrenamiento\n",
                "plt.scatter(X_train, y_train, color = 'red')\n",
                "plt.plot(X_train, regressor.predict(X_train), color = 'blue')\n",
                "plt.title('Total Rooms vs Median House Value (Training set)')\n",
                "plt.xlabel('total_rooms')\n",
                "plt.ylabel('median_house_value')\n",
                "plt.show()"
            ],
            "metadata": {
                "id": "OntHnZfWIYaJ",
                "colab_type": "code",
                "colab": {},
                "azdata_cell_guid": "860d3d2a-b2ac-4e73-b1ee-67b100d27c3b"
            },
            "outputs": [],
            "execution_count": 0
        },
        {
            "cell_type": "code",
            "source": [
                "# Aplicamos el fit lineal al conjunto de prueba\n",
                "plt.scatter(X_test, y_test, color = 'red')\n",
                "plt.plot(X_test, regressor.predict(X_test), color = 'blue')\n",
                "plt.title('Total Rooms vs Median House Value (Test set)')\n",
                "plt.xlabel('total_rooms')\n",
                "plt.ylabel('median_house_value')\n",
                "plt.show()"
            ],
            "metadata": {
                "id": "cqY-72oXI9ay",
                "colab_type": "code",
                "colab": {},
                "azdata_cell_guid": "215a0628-8403-4db9-afbd-fa4449c5b535"
            },
            "outputs": [],
            "execution_count": 0
        },
        {
            "cell_type": "markdown",
            "source": [
                "# k-NN Regresor"
            ],
            "metadata": {
                "id": "Vlb0jKqCspq6",
                "colab_type": "text",
                "azdata_cell_guid": "7ec42245-8c37-4fcc-a643-45eaca11f53c"
            }
        },
        {
            "cell_type": "code",
            "source": [
                "from sklearn.neighbors import KNeighborsRegressor\n",
                "\n",
                "#X_train, X_test, y_train, y_test = train_test_split(X_train, y_train, random_state = 0)\n",
                "\n",
                "knnreg = KNeighborsRegressor(n_neighbors = 5).fit(X_train, y_train)"
            ],
            "metadata": {
                "id": "TbgiNa3Xstdi",
                "colab_type": "code",
                "colab": {},
                "azdata_cell_guid": "b03233b7-192c-4646-881b-dec0d1519c5a"
            },
            "outputs": [],
            "execution_count": 0
        },
        {
            "cell_type": "code",
            "source": [
                "#realizamos la predicción\n",
                "\n",
                "print(knnreg.predict(X_test))"
            ],
            "metadata": {
                "id": "UmhZqVmBxvOp",
                "colab_type": "code",
                "colab": {},
                "azdata_cell_guid": "6fe0c8ea-4057-48ae-b921-fdeaa05392dc"
            },
            "outputs": [],
            "execution_count": 0
        },
        {
            "cell_type": "code",
            "source": [
                "#Mean Squared Error (MSE)\n",
                "\n",
                "y_train_pred_knn = knnreg.predict(X_train)\n",
                "y_test_pred_knn = knnreg.predict(X_test)\n",
                "print('MSE train: %.3f, test: %.3f' % (mean_squared_error(y_train, y_train_pred_knn),mean_squared_error(y_test, y_test_pred_knn)))"
            ],
            "metadata": {
                "id": "Vc2xX0kOyLJq",
                "colab_type": "code",
                "colab": {},
                "azdata_cell_guid": "b3724fca-e930-481c-a74e-b76688a17f9d"
            },
            "outputs": [],
            "execution_count": 0
        },
        {
            "cell_type": "code",
            "source": [
                "print('R-squared test score: {:.3f}'\n",
                "     .format(knnreg.score(X_test, y_test)))"
            ],
            "metadata": {
                "id": "UQxhCIEcwRCN",
                "colab_type": "code",
                "colab": {},
                "azdata_cell_guid": "22a8f871-22cc-4520-bf86-aaa6df6b8efb"
            },
            "outputs": [],
            "execution_count": 0
        },
        {
            "cell_type": "code",
            "source": [
                "fig, subaxes = plt.subplots(1, 2, figsize=(8,4))\n",
                "X_predict_input = np.linspace(X.min(), X.max(), 50).reshape(-1,1)\n",
                "X_train, X_test, y_train, y_test = train_test_split(X[0::5], y[0::5], random_state = 0)\n",
                "\n",
                "for thisaxis, K in zip(subaxes, [1, 3]):\n",
                "    knnreg = KNeighborsRegressor(n_neighbors = K).fit(X_train, y_train)\n",
                "    y_predict_output = knnreg.predict(X_predict_input)\n",
                "    #thisaxis.set_xlim([-2.5, 0.75])\n",
                "    thisaxis.plot(X_predict_input, y_predict_output, '^', markersize = 10,\n",
                "                 label='Predicted', alpha=0.8)\n",
                "    thisaxis.plot(X_train, y_train, 'o', label='True Value', alpha=0.4)\n",
                "    thisaxis.set_xlabel('Input feature')\n",
                "    thisaxis.set_ylabel('Target value')\n",
                "    thisaxis.set_title('KNN regression (K={})'.format(K))\n",
                "    thisaxis.legend()\n",
                "plt.tight_layout()"
            ],
            "metadata": {
                "id": "qex3GwtPtB4v",
                "colab_type": "code",
                "colab": {},
                "azdata_cell_guid": "cdc48722-a62e-49ae-b711-ce498dccb23a"
            },
            "outputs": [],
            "execution_count": 0
        },
        {
            "cell_type": "code",
            "source": [
                "# plot k-NN regression para diferentes valores de k\n",
                "\n",
                "fig, subaxes = plt.subplots(5, 1, figsize=(5,20))\n",
                "X_predict_input = np.linspace(X.min(), X.max(), 500).reshape(-1,1)\n",
                "X_train, X_test, y_train, y_test = train_test_split(X, y,\n",
                "                                                   random_state = 0)\n",
                "\n",
                "for thisaxis, K in zip(subaxes, [1, 3, 7, 15, 55]):\n",
                "    knnreg = KNeighborsRegressor(n_neighbors = K).fit(X_train, y_train)\n",
                "    y_predict_output = knnreg.predict(X_predict_input)\n",
                "    train_score = knnreg.score(X_train, y_train)\n",
                "    test_score = knnreg.score(X_test, y_test)\n",
                "    \n",
                "    thisaxis.plot(X_train, y_train, 'o', alpha=0.9, label='Train')\n",
                "    thisaxis.plot(X_test, y_test, '^', alpha=0.9, label='Test')\n",
                "    \n",
                "    thisaxis.plot(X_predict_input, y_predict_output)\n",
                "    \n",
                "    thisaxis.set_xlabel('Input feature')\n",
                "    thisaxis.set_ylabel('Target value')\n",
                "    thisaxis.set_title('KNN Regression (K={})\\n\\\n",
                "Train $R^2 = {:.3f}$,  Test $R^2 = {:.3f}$'\n",
                "                      .format(K, train_score, test_score))\n",
                "    thisaxis.legend()\n",
                "    plt.tight_layout(pad=0.4, w_pad=0.5, h_pad=1.0)"
            ],
            "metadata": {
                "id": "e30Z2GkqzYJo",
                "colab_type": "code",
                "colab": {},
                "azdata_cell_guid": "2d5332f6-d5e0-4991-999a-6158d1a6b558"
            },
            "outputs": [],
            "execution_count": 0
        }
    ]
}