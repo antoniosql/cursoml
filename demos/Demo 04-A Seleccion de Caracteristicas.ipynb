{
    "metadata": {
        "kernelspec": {
            "name": "Python 3.8.5 64-bit",
            "display_name": "Python 3.8.5 64-bit",
            "metadata": {
                "interpreter": {
                    "hash": "18f07aa1f218bd815af44c10d679f476605f722da72676851e9ef086401d84b6"
                }
            }
        },
        "language_info": {
            "name": "python",
            "version": "3.8.5-final",
            "mimetype": "text/x-python",
            "codemirror_mode": {
                "name": "ipython",
                "version": 3
            },
            "pygments_lexer": "ipython3",
            "nbconvert_exporter": "python",
            "file_extension": ".py"
        }
    },
    "nbformat_minor": 2,
    "nbformat": 4,
    "cells": [
        {
            "cell_type": "markdown",
            "source": [
                "![SolidQ](https://antoniosql.github.io/images/SolidQ_Verne.png) "
            ],
            "metadata": {
                "azdata_cell_guid": "d9c039cc-bd7a-4b08-a005-98bbc0782fd5"
            }
        },
        {
            "cell_type": "markdown",
            "source": [
                "# Selección de Características"
            ],
            "metadata": {
                "id": "FdSxu9HKREIu",
                "colab_type": "text",
                "azdata_cell_guid": "ca134e23-6ce5-4233-840f-dbe451dc027c"
            }
        },
        {
            "cell_type": "code",
            "source": [
                "import pandas as pd\n",
                "import numpy as np\n",
                "import sqlite3\n",
                "import matplotlib.pyplot as plt"
            ],
            "metadata": {
                "id": "GI5CErqGMr5T",
                "colab_type": "code",
                "colab": {},
                "azdata_cell_guid": "b7382618-6946-4bb1-9ae9-c5d23ada07f2"
            },
            "outputs": [],
            "execution_count": 1
        },
        {
            "cell_type": "code",
            "execution_count": 2,
            "metadata": {},
            "outputs": [],
            "source": [
                "conn = sqlite3.connect('Tiendas24H.sqlite')\n",
                "#Consideramos que un cliente nos ha abandonado si no nos compra desde hace más de 200 días. \n",
                "consulta = \"select c.CodCliente, max(v.fecha) as FechaUltimaCompra, EstadoCivil, Sexo,IngresosAnuales, N.NivelAcademico, O.Ocupacion,  round((julianday('now') - julianday(FechaNacimiento))/365) as Edad,round((julianday('now') - julianday(max(v.fecha)))) as DiasUltimaCompra, case when round((julianday('now') - julianday(max(v.fecha))))>200 then 1 else 0 end as 'Abandono' from clientes c inner join NivelAcademico N  on c.NivelAcademico = N.Codigo  inner join Ocupacion O on c.Ocupacion = o.Codigo inner join VentasCAB v on v.codcliente = C.codcliente where c.Codcliente <>'CONTADO' group by c.CodCliente,  EstadoCivil, Sexo, IngresosAnuales, N.NivelAcademico, O.Ocupacion\"\n",
                "\n",
                "df = pd.read_sql_query(consulta,conn)"
            ]
        },
        {
            "cell_type": "code",
            "execution_count": 3,
            "metadata": {},
            "outputs": [],
            "source": [
                "df.dropna(axis=0,inplace=True)"
            ]
        },
        {
            "cell_type": "code",
            "execution_count": 4,
            "metadata": {},
            "outputs": [],
            "source": [
                "#Personalizado\n",
                "etiquetas = [\"Adolescentes\", \"Millenials\" ,\"EGB\",\"Maduros\"]\n",
                "custombins = [16,29,39,54,88]\n",
                "df[\"RangoEdad\"] = pd.cut(df[\"Edad\"],bins=custombins,labels=etiquetas)"
            ]
        },
        {
            "cell_type": "code",
            "execution_count": 5,
            "metadata": {},
            "outputs": [],
            "source": [
                "caracteristicas=[\"EstadoCivil\" , \"Sexo\",\"IngresosAnuales\",\"NivelAcademico\",\"Ocupacion\",\"DiasUltimaCompra\",\"RangoEdad\"]\n",
                "etiqueta = [\"Abandono\"]"
            ]
        },
        {
            "cell_type": "code",
            "execution_count": 6,
            "metadata": {},
            "outputs": [],
            "source": [
                "from sklearn.preprocessing import  LabelEncoder\n",
                "\n",
                "le=LabelEncoder()\n",
                "df['EstadoCivil'] = le.fit_transform(df['EstadoCivil'])\n",
                "df['Sexo'] = le.fit_transform(df['Sexo'])"
            ]
        },
        {
            "cell_type": "code",
            "execution_count": 7,
            "metadata": {},
            "outputs": [],
            "source": [
                "dum_df = pd.get_dummies(df[caracteristicas], columns=[\"NivelAcademico\",\"Ocupacion\",\"RangoEdad\"] )\n"
            ]
        },
        {
            "cell_type": "code",
            "execution_count": 8,
            "metadata": {},
            "outputs": [],
            "source": [
                "X, y = dum_df, df[etiqueta]"
            ]
        },
        {
            "cell_type": "code",
            "execution_count": 9,
            "metadata": {
                "tags": []
            },
            "outputs": [
                {
                    "output_type": "stream",
                    "name": "stdout",
                    "text": "Distribución Original Counter({'Abandono': 1})\nDistribución balanceada Counter({'Abandono': 1})\n"
                }
            ],
            "source": [
                "from imblearn.over_sampling import SMOTE \n",
                "from collections import Counter\n",
                "\n",
                "print('Distribución Original %s' % Counter(y))\n",
                "sm = SMOTE(random_state=42)\n",
                "X_res, y_res = sm.fit_resample(X, y)\n",
                "print('Distribución balanceada %s' % Counter(y_res))"
            ]
        },
        {
            "cell_type": "code",
            "execution_count": 10,
            "metadata": {
                "tags": []
            },
            "outputs": [
                {
                    "output_type": "stream",
                    "name": "stdout",
                    "text": "[2.574e+01 8.710e+01 4.441e+03 2.289e+05 6.234e+01 4.720e+01 1.502e+02\n 4.211e+01 9.408e+01 4.676e+00 1.744e+00 6.834e+01 4.771e+01 4.934e+01\n       nan 1.423e+01 1.912e+02 1.034e+02]\n[[9.00e+04 2.31e+02 0.00e+00 1.00e+00]\n [6.00e+04 1.55e+02 0.00e+00 1.00e+00]\n [6.00e+04 2.96e+02 0.00e+00 1.00e+00]\n [8.00e+04 1.60e+02 0.00e+00 1.00e+00]\n [7.00e+04 3.40e+02 0.00e+00 1.00e+00]]\n"
                }
            ],
            "source": [
                "#Selección Univariate\n",
                "# Feature Extraction with Univariate Statistical Tests (Chi-squared for classification)\n",
                "from sklearn.feature_selection import SelectKBest\n",
                "from sklearn.feature_selection import chi2\n",
                "import numpy\n",
                "\n",
                "# feature extraction\n",
                "test = SelectKBest(score_func=chi2, k=4)\n",
                "fit = test.fit(X_res, y_res)\n",
                "# summarize scores\n",
                "numpy.set_printoptions(precision=3)\n",
                "print(fit.scores_)\n",
                "features = fit.transform(X_res)\n",
                "# summarize selected features\n",
                "print(features[0:5,:])\n"
            ]
        },
        {
            "cell_type": "code",
            "execution_count": 15,
            "metadata": {},
            "outputs": [
                {
                    "output_type": "execute_result",
                    "data": {
                        "text/plain": "array([[9.000e+04, 2.310e+02, 0.000e+00, 1.000e+00],\n       [6.000e+04, 1.550e+02, 0.000e+00, 1.000e+00],\n       [6.000e+04, 2.960e+02, 0.000e+00, 1.000e+00],\n       ...,\n       [6.000e+04, 1.663e+02, 0.000e+00, 0.000e+00],\n       [4.000e+04, 1.476e+02, 0.000e+00, 0.000e+00],\n       [7.000e+04, 1.780e+02, 0.000e+00, 0.000e+00]])"
                    },
                    "metadata": {},
                    "execution_count": 15
                }
            ],
            "source": [
                "features"
            ]
        },
        {
            "cell_type": "code",
            "source": [
                "from sklearn.model_selection import train_test_split\n",
                "X_train, X_test, y_train, y_test = train_test_split(features, y_res, random_state=1 , test_size=0.3)\n",
                "from sklearn.preprocessing import MinMaxScaler\n",
                "scaler = MinMaxScaler()\n",
                "X_train = scaler.fit_transform(X_train)\n",
                "X_test = scaler.transform(X_test)"
            ],
            "metadata": {
                "id": "e_YGchnmMsiw",
                "colab_type": "code",
                "colab": {},
                "azdata_cell_guid": "5b2bdb7b-9b6e-43c8-b5c6-6959f3ca0692"
            },
            "outputs": [],
            "execution_count": 16
        },
        {
            "cell_type": "code",
            "execution_count": 17,
            "metadata": {
                "tags": []
            },
            "outputs": [
                {
                    "output_type": "stream",
                    "name": "stdout",
                    "text": "Accuracy of Decision Tree classifier on training set: 1.00\nAccuracy of Decision Tree classifier on test set: 1.00\n"
                }
            ],
            "source": [
                "from sklearn.tree import DecisionTreeClassifier\n",
                "clf = DecisionTreeClassifier().fit(X_train, y_train)\n",
                "print('Accuracy of Decision Tree classifier on training set: {:.2f}'\n",
                "     .format(clf.score(X_train, y_train)))\n",
                "print('Accuracy of Decision Tree classifier on test set: {:.2f}'\n",
                "     .format(clf.score(X_test, y_test)))"
            ]
        },
        {
            "cell_type": "code",
            "execution_count": 18,
            "metadata": {
                "tags": []
            },
            "outputs": [
                {
                    "output_type": "stream",
                    "name": "stdout",
                    "text": "[False  True  True  True]\n[2 1 1 1]\n"
                }
            ],
            "source": [
                "# Recursive Feature Elimination\n",
                "from sklearn.feature_selection import RFE\n",
                "\n",
                "rfe = RFE(clf, 3)\n",
                "rfe = rfe.fit(X_train, y_train)\n",
                "# summarize the selection of the attributes\n",
                "print(rfe.support_)\n",
                "print(rfe.ranking_)"
            ]
        }
    ]
}