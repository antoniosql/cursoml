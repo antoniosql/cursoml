{
    "metadata": {
        "kernelspec": {
            "name": "python_defaultSpec_1600697134405",
            "display_name": "Python 3.8.5 64-bit"
        },
        "language_info": {
            "name": "python",
            "version": "3.8.5-final",
            "mimetype": "text/x-python",
            "codemirror_mode": {
                "name": "ipython",
                "version": 3
            },
            "pygments_lexer": "ipython3",
            "nbconvert_exporter": "python",
            "file_extension": ".py"
        }
    },
    "nbformat_minor": 2,
    "nbformat": 4,
    "cells": [
        {
            "cell_type": "markdown",
            "source": [
                "![SolidQ](https://antoniosql.github.io/images/SolidQ_Verne.png) "
            ],
            "metadata": {
                "azdata_cell_guid": "6ff08df4-5bc0-47c1-ba66-20206ccc00b1"
            }
        },
        {
            "cell_type": "markdown",
            "source": [
                "# Codificación de Variables Categóricas"
            ],
            "metadata": {
                "id": "lMj-AMuwwXm_",
                "colab_type": "text",
                "azdata_cell_guid": "023fc82f-0fcd-4826-a065-93ab4945fb60"
            }
        },
        {
            "cell_type": "code",
            "source": [
                "import pandas as pd\n",
                "import sqlite3\n",
                "import numpy as np"
            ],
            "metadata": {
                "id": "JcxP4Z9GwSad",
                "colab_type": "code",
                "colab": {},
                "azdata_cell_guid": "65afc185-cd26-4814-8eda-5236c18bbb92"
            },
            "outputs": [],
            "execution_count": 12
        },
        {
            "cell_type": "code",
            "execution_count": 3,
            "metadata": {},
            "outputs": [
                {
                    "output_type": "execute_result",
                    "data": {
                        "text/plain": "   index CodCliente     Nombre Apellidos FechaNacimiento EstadoCivil Sexo  \\\n0      0     000020        Jon      Yang      1976-04-08           M    M   \n1      1     000026     Eugene     Huang      1975-05-14           S    M   \n2      2     000029      Ruben    Torres      1975-08-12           M    M   \n3      3     000046    Christy       Zhu      1978-02-15           S    F   \n4      4     000047  Elizabeth   Johnson      1978-08-08           S    F   \n\n                    Email  IngresosAnuales  HijosACargo  NivelAcademico  \\\n0       jon24@outlook.com          90000.0          0.0               4   \n1    eugene10@outlook.com          60000.0          3.0               4   \n2     ruben35@outlook.com          60000.0          3.0               4   \n3   christy12@outlook.com          70000.0          0.0               4   \n4  elizabeth5@outlook.com          80000.0          5.0               4   \n\n   Ocupacion  \n0          5  \n1          5  \n2          5  \n3          5  \n4          5  ",
                        "text/html": "<div>\n<style scoped>\n    .dataframe tbody tr th:only-of-type {\n        vertical-align: middle;\n    }\n\n    .dataframe tbody tr th {\n        vertical-align: top;\n    }\n\n    .dataframe thead th {\n        text-align: right;\n    }\n</style>\n<table border=\"1\" class=\"dataframe\">\n  <thead>\n    <tr style=\"text-align: right;\">\n      <th></th>\n      <th>index</th>\n      <th>CodCliente</th>\n      <th>Nombre</th>\n      <th>Apellidos</th>\n      <th>FechaNacimiento</th>\n      <th>EstadoCivil</th>\n      <th>Sexo</th>\n      <th>Email</th>\n      <th>IngresosAnuales</th>\n      <th>HijosACargo</th>\n      <th>NivelAcademico</th>\n      <th>Ocupacion</th>\n    </tr>\n  </thead>\n  <tbody>\n    <tr>\n      <th>0</th>\n      <td>0</td>\n      <td>000020</td>\n      <td>Jon</td>\n      <td>Yang</td>\n      <td>1976-04-08</td>\n      <td>M</td>\n      <td>M</td>\n      <td>jon24@outlook.com</td>\n      <td>90000.0</td>\n      <td>0.0</td>\n      <td>4</td>\n      <td>5</td>\n    </tr>\n    <tr>\n      <th>1</th>\n      <td>1</td>\n      <td>000026</td>\n      <td>Eugene</td>\n      <td>Huang</td>\n      <td>1975-05-14</td>\n      <td>S</td>\n      <td>M</td>\n      <td>eugene10@outlook.com</td>\n      <td>60000.0</td>\n      <td>3.0</td>\n      <td>4</td>\n      <td>5</td>\n    </tr>\n    <tr>\n      <th>2</th>\n      <td>2</td>\n      <td>000029</td>\n      <td>Ruben</td>\n      <td>Torres</td>\n      <td>1975-08-12</td>\n      <td>M</td>\n      <td>M</td>\n      <td>ruben35@outlook.com</td>\n      <td>60000.0</td>\n      <td>3.0</td>\n      <td>4</td>\n      <td>5</td>\n    </tr>\n    <tr>\n      <th>3</th>\n      <td>3</td>\n      <td>000046</td>\n      <td>Christy</td>\n      <td>Zhu</td>\n      <td>1978-02-15</td>\n      <td>S</td>\n      <td>F</td>\n      <td>christy12@outlook.com</td>\n      <td>70000.0</td>\n      <td>0.0</td>\n      <td>4</td>\n      <td>5</td>\n    </tr>\n    <tr>\n      <th>4</th>\n      <td>4</td>\n      <td>000047</td>\n      <td>Elizabeth</td>\n      <td>Johnson</td>\n      <td>1978-08-08</td>\n      <td>S</td>\n      <td>F</td>\n      <td>elizabeth5@outlook.com</td>\n      <td>80000.0</td>\n      <td>5.0</td>\n      <td>4</td>\n      <td>5</td>\n    </tr>\n  </tbody>\n</table>\n</div>"
                    },
                    "metadata": {},
                    "execution_count": 3
                }
            ],
            "source": [
                "conn = sqlite3.connect('Tiendas24H.sqlite')\n",
                "query = \"SELECT * FROM Clientes\"\n",
                "\n",
                "df = pd.read_sql_query(query,conn)\n",
                "\n",
                "df.head()"
            ]
        },
        {
            "cell_type": "code",
            "execution_count": 4,
            "metadata": {
                "tags": []
            },
            "outputs": [
                {
                    "output_type": "stream",
                    "name": "stdout",
                    "text": "<class 'pandas.core.frame.DataFrame'>\nRangeIndex: 2441 entries, 0 to 2440\nData columns (total 12 columns):\n #   Column           Non-Null Count  Dtype  \n---  ------           --------------  -----  \n 0   index            2441 non-null   int64  \n 1   CodCliente       2441 non-null   object \n 2   Nombre           2441 non-null   object \n 3   Apellidos        2441 non-null   object \n 4   FechaNacimiento  2441 non-null   object \n 5   EstadoCivil      2440 non-null   object \n 6   Sexo             2440 non-null   object \n 7   Email            2440 non-null   object \n 8   IngresosAnuales  2440 non-null   float64\n 9   HijosACargo      2440 non-null   float64\n 10  NivelAcademico   2441 non-null   int64  \n 11  Ocupacion        2441 non-null   int64  \ndtypes: float64(2), int64(3), object(7)\nmemory usage: 229.0+ KB\n"
                }
            ],
            "source": [
                "df.info()"
            ]
        },
        {
            "cell_type": "code",
            "execution_count": 5,
            "metadata": {},
            "outputs": [
                {
                    "output_type": "execute_result",
                    "data": {
                        "text/plain": "array(['M', 'S', None], dtype=object)"
                    },
                    "metadata": {},
                    "execution_count": 5
                }
            ],
            "source": [
                "df.EstadoCivil.unique()"
            ]
        },
        {
            "cell_type": "code",
            "execution_count": 6,
            "metadata": {},
            "outputs": [
                {
                    "output_type": "execute_result",
                    "data": {
                        "text/plain": "array(['M', 'F', None], dtype=object)"
                    },
                    "metadata": {},
                    "execution_count": 6
                }
            ],
            "source": [
                "df.Sexo.unique()"
            ]
        },
        {
            "cell_type": "code",
            "execution_count": 7,
            "metadata": {},
            "outputs": [
                {
                    "output_type": "execute_result",
                    "data": {
                        "text/plain": "index              0\nCodCliente         0\nNombre             0\nApellidos          0\nFechaNacimiento    0\nEstadoCivil        1\nSexo               1\nEmail              1\nIngresosAnuales    1\nHijosACargo        1\nNivelAcademico     0\nOcupacion          0\ndtype: int64"
                    },
                    "metadata": {},
                    "execution_count": 7
                }
            ],
            "source": [
                "df.isna().sum()"
            ]
        },
        {
            "cell_type": "code",
            "execution_count": 8,
            "metadata": {},
            "outputs": [],
            "source": [
                "df.dropna(axis=0,inplace=True)"
            ]
        },
        {
            "cell_type": "code",
            "execution_count": 23,
            "metadata": {},
            "outputs": [],
            "source": [
                "from sklearn.compose import ColumnTransformer \n",
                "from sklearn.preprocessing import  OneHotEncoder,LabelEncoder\n",
                "\n",
                "#etiquetas = ['EstadoCivil', 'Sexo']\n",
                "le=LabelEncoder()\n",
                "\n",
                "#df_Etiquetado = df[etiquetas].apply(le.fit_transform)\n",
                "\n",
                "df['EstadoCivil'] = le.fit_transform(df['EstadoCivil'])\n",
                "df['Sexo'] = le.fit_transform(df['Sexo'])\n"
            ]
        },
        {
            "cell_type": "code",
            "execution_count": 24,
            "metadata": {},
            "outputs": [
                {
                    "output_type": "execute_result",
                    "data": {
                        "text/plain": "   index CodCliente     Nombre Apellidos FechaNacimiento  EstadoCivil  Sexo  \\\n0      0     000020        Jon      Yang      1976-04-08            0     1   \n1      1     000026     Eugene     Huang      1975-05-14            1     1   \n2      2     000029      Ruben    Torres      1975-08-12            0     1   \n3      3     000046    Christy       Zhu      1978-02-15            1     0   \n4      4     000047  Elizabeth   Johnson      1978-08-08            1     0   \n\n                    Email  IngresosAnuales  HijosACargo  NivelAcademico  \\\n0       jon24@outlook.com          90000.0          0.0               4   \n1    eugene10@outlook.com          60000.0          3.0               4   \n2     ruben35@outlook.com          60000.0          3.0               4   \n3   christy12@outlook.com          70000.0          0.0               4   \n4  elizabeth5@outlook.com          80000.0          5.0               4   \n\n   Ocupacion  \n0          5  \n1          5  \n2          5  \n3          5  \n4          5  ",
                        "text/html": "<div>\n<style scoped>\n    .dataframe tbody tr th:only-of-type {\n        vertical-align: middle;\n    }\n\n    .dataframe tbody tr th {\n        vertical-align: top;\n    }\n\n    .dataframe thead th {\n        text-align: right;\n    }\n</style>\n<table border=\"1\" class=\"dataframe\">\n  <thead>\n    <tr style=\"text-align: right;\">\n      <th></th>\n      <th>index</th>\n      <th>CodCliente</th>\n      <th>Nombre</th>\n      <th>Apellidos</th>\n      <th>FechaNacimiento</th>\n      <th>EstadoCivil</th>\n      <th>Sexo</th>\n      <th>Email</th>\n      <th>IngresosAnuales</th>\n      <th>HijosACargo</th>\n      <th>NivelAcademico</th>\n      <th>Ocupacion</th>\n    </tr>\n  </thead>\n  <tbody>\n    <tr>\n      <th>0</th>\n      <td>0</td>\n      <td>000020</td>\n      <td>Jon</td>\n      <td>Yang</td>\n      <td>1976-04-08</td>\n      <td>0</td>\n      <td>1</td>\n      <td>jon24@outlook.com</td>\n      <td>90000.0</td>\n      <td>0.0</td>\n      <td>4</td>\n      <td>5</td>\n    </tr>\n    <tr>\n      <th>1</th>\n      <td>1</td>\n      <td>000026</td>\n      <td>Eugene</td>\n      <td>Huang</td>\n      <td>1975-05-14</td>\n      <td>1</td>\n      <td>1</td>\n      <td>eugene10@outlook.com</td>\n      <td>60000.0</td>\n      <td>3.0</td>\n      <td>4</td>\n      <td>5</td>\n    </tr>\n    <tr>\n      <th>2</th>\n      <td>2</td>\n      <td>000029</td>\n      <td>Ruben</td>\n      <td>Torres</td>\n      <td>1975-08-12</td>\n      <td>0</td>\n      <td>1</td>\n      <td>ruben35@outlook.com</td>\n      <td>60000.0</td>\n      <td>3.0</td>\n      <td>4</td>\n      <td>5</td>\n    </tr>\n    <tr>\n      <th>3</th>\n      <td>3</td>\n      <td>000046</td>\n      <td>Christy</td>\n      <td>Zhu</td>\n      <td>1978-02-15</td>\n      <td>1</td>\n      <td>0</td>\n      <td>christy12@outlook.com</td>\n      <td>70000.0</td>\n      <td>0.0</td>\n      <td>4</td>\n      <td>5</td>\n    </tr>\n    <tr>\n      <th>4</th>\n      <td>4</td>\n      <td>000047</td>\n      <td>Elizabeth</td>\n      <td>Johnson</td>\n      <td>1978-08-08</td>\n      <td>1</td>\n      <td>0</td>\n      <td>elizabeth5@outlook.com</td>\n      <td>80000.0</td>\n      <td>5.0</td>\n      <td>4</td>\n      <td>5</td>\n    </tr>\n  </tbody>\n</table>\n</div>"
                    },
                    "metadata": {},
                    "execution_count": 24
                }
            ],
            "source": [
                "df.head()"
            ]
        },
        {
            "cell_type": "code",
            "execution_count": 13,
            "metadata": {},
            "outputs": [],
            "source": [
                "\n",
                "categorias =['EstadoCivil','Sexo','NivelAcademico','Ocupacion']\n",
                "\n",
                "columnTransformer = ColumnTransformer([('encoder', OneHotEncoder(), categorias)], remainder='passthrough')\n",
                "\n",
                "dataset = np.array(columnTransformer.fit_transform(df), dtype = np.str)"
            ]
        },
        {
            "cell_type": "code",
            "execution_count": 14,
            "metadata": {},
            "outputs": [
                {
                    "output_type": "execute_result",
                    "data": {
                        "text/plain": "array([['1.0', '0.0', '0.0', ..., 'jon24@outlook.com', '90000.0', '0.0'],\n       ['0.0', '1.0', '0.0', ..., 'eugene10@outlook.com', '60000.0',\n        '3.0'],\n       ['1.0', '0.0', '0.0', ..., 'ruben35@outlook.com', '60000.0',\n        '3.0'],\n       ...,\n       ['1.0', '0.0', '0.0', ..., 'ethan9@outlook.com', '90000.0', '0.0'],\n       ['0.0', '1.0', '1.0', ..., 'chloe86@outlook.com', '90000.0',\n        '0.0'],\n       ['1.0', '0.0', '0.0', ..., 'arturo8@outlook.com', '110000.0',\n        '2.0']], dtype='<U25')"
                    },
                    "metadata": {},
                    "execution_count": 14
                }
            ],
            "source": [
                "dataset"
            ]
        },
        {
            "cell_type": "code",
            "execution_count": null,
            "metadata": {},
            "outputs": [],
            "source": []
        }
    ]
}