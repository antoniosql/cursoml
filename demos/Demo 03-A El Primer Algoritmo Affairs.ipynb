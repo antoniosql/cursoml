{
    "metadata": {
        "kernelspec": {
            "name": "python3",
            "display_name": "Python 3"
        },
        "language_info": {
            "name": "python",
            "version": "3.6.6",
            "mimetype": "text/x-python",
            "codemirror_mode": {
                "name": "ipython",
                "version": 3
            },
            "pygments_lexer": "ipython3",
            "nbconvert_exporter": "python",
            "file_extension": ".py"
        }
    },
    "nbformat_minor": 2,
    "nbformat": 4,
    "cells": [
        {
            "cell_type": "markdown",
            "source": [
                "![SolidQ](https://www.solidq.com/wp-content/uploads/2015/06/Logo-SolidQ-Web.gif)"
            ],
            "metadata": {
                "azdata_cell_guid": "25e34069-65d2-4e51-a56e-f092122ae6fc"
            }
        },
        {
            "cell_type": "markdown",
            "source": [
                "# Teoría sobre la infidelidad matrimonial\n",
                "http://www.statsmodels.org/stable/datasets/generated/fair.html\n",
                "  \n",
                "https://fairmodel.econ.yale.edu/rayfair/pdf/1978a200.pdf "
            ],
            "metadata": {
                "id": "I3VZjsfOPOI5",
                "colab_type": "text",
                "azdata_cell_guid": "6c60d50c-b0e2-4404-8498-a6f354be5783"
            }
        },
        {
            "cell_type": "code",
            "source": [
                "#Importamos los modulos y librerias que vamos a necesitar\n",
                "!pip install statsmodels\n",
                "!pip install scipy==1.2 --upgrade\n",
                "\n",
                "import numpy as np\n",
                "import pandas as pd\n",
                "import matplotlib.pyplot as plt \n",
                "from scipy import stats\n",
                "import statsmodels.api as sm\n",
                "import seaborn as sns\n",
                "\n",
                "from patsy import dmatrices\n",
                "\n",
                "from sklearn import metrics\n",
                "from sklearn.linear_model import LogisticRegression\n",
                "from sklearn.model_selection import train_test_split\n",
                "\n",
                "#dta.columns = ['rate_marriage', 'age', 'yrs_married', 'children', 'religious', 'educ', 'occupation', 'occupation_husb','affairs']"
            ],
            "metadata": {
                "id": "uRxqGtKpEtSP",
                "colab_type": "code",
                "colab": {},
                "azdata_cell_guid": "b916605c-8cd6-4c1b-8a82-ed2ac0aa487c"
            },
            "outputs": [],
            "execution_count": 0
        },
        {
            "cell_type": "code",
            "source": [
                "#Cargamos los datos\n",
                "dta = sm.datasets.fair.load_pandas().data\n",
                "dta.head(10)"
            ],
            "metadata": {
                "id": "56BZtj2PEtSV",
                "colab_type": "code",
                "outputId": "bed46dff-5adb-4422-e15f-1aa91adef013",
                "executionInfo": {
                    "status": "ok",
                    "timestamp": 1573418882742,
                    "user_tz": -60,
                    "elapsed": 1336,
                    "user": {
                        "displayName": "Machine Learning",
                        "photoUrl": "",
                        "userId": "05609927355646341864"
                    }
                },
                "colab": {
                    "base_uri": "https://localhost:8080/",
                    "height": 359
                },
                "azdata_cell_guid": "7109a24e-a8e1-4d5a-8f93-061a772e165b"
            },
            "outputs": [
                {
                    "output_type": "execute_result",
                    "execution_count": 2,
                    "data": {
                        "text/html": "<div>\n<style scoped>\n    .dataframe tbody tr th:only-of-type {\n        vertical-align: middle;\n    }\n\n    .dataframe tbody tr th {\n        vertical-align: top;\n    }\n\n    .dataframe thead th {\n        text-align: right;\n    }\n</style>\n<table border=\"1\" class=\"dataframe\">\n  <thead>\n    <tr style=\"text-align: right;\">\n      <th></th>\n      <th>rate_marriage</th>\n      <th>age</th>\n      <th>yrs_married</th>\n      <th>children</th>\n      <th>religious</th>\n      <th>educ</th>\n      <th>occupation</th>\n      <th>occupation_husb</th>\n      <th>affairs</th>\n    </tr>\n  </thead>\n  <tbody>\n    <tr>\n      <th>0</th>\n      <td>3.0</td>\n      <td>32.0</td>\n      <td>9.0</td>\n      <td>3.0</td>\n      <td>3.0</td>\n      <td>17.0</td>\n      <td>2.0</td>\n      <td>5.0</td>\n      <td>0.111111</td>\n    </tr>\n    <tr>\n      <th>1</th>\n      <td>3.0</td>\n      <td>27.0</td>\n      <td>13.0</td>\n      <td>3.0</td>\n      <td>1.0</td>\n      <td>14.0</td>\n      <td>3.0</td>\n      <td>4.0</td>\n      <td>3.230769</td>\n    </tr>\n    <tr>\n      <th>2</th>\n      <td>4.0</td>\n      <td>22.0</td>\n      <td>2.5</td>\n      <td>0.0</td>\n      <td>1.0</td>\n      <td>16.0</td>\n      <td>3.0</td>\n      <td>5.0</td>\n      <td>1.400000</td>\n    </tr>\n    <tr>\n      <th>3</th>\n      <td>4.0</td>\n      <td>37.0</td>\n      <td>16.5</td>\n      <td>4.0</td>\n      <td>3.0</td>\n      <td>16.0</td>\n      <td>5.0</td>\n      <td>5.0</td>\n      <td>0.727273</td>\n    </tr>\n    <tr>\n      <th>4</th>\n      <td>5.0</td>\n      <td>27.0</td>\n      <td>9.0</td>\n      <td>1.0</td>\n      <td>1.0</td>\n      <td>14.0</td>\n      <td>3.0</td>\n      <td>4.0</td>\n      <td>4.666666</td>\n    </tr>\n    <tr>\n      <th>5</th>\n      <td>4.0</td>\n      <td>27.0</td>\n      <td>9.0</td>\n      <td>0.0</td>\n      <td>2.0</td>\n      <td>14.0</td>\n      <td>3.0</td>\n      <td>4.0</td>\n      <td>4.666666</td>\n    </tr>\n    <tr>\n      <th>6</th>\n      <td>5.0</td>\n      <td>37.0</td>\n      <td>23.0</td>\n      <td>5.5</td>\n      <td>2.0</td>\n      <td>12.0</td>\n      <td>5.0</td>\n      <td>4.0</td>\n      <td>0.852174</td>\n    </tr>\n    <tr>\n      <th>7</th>\n      <td>5.0</td>\n      <td>37.0</td>\n      <td>23.0</td>\n      <td>5.5</td>\n      <td>2.0</td>\n      <td>12.0</td>\n      <td>2.0</td>\n      <td>3.0</td>\n      <td>1.826086</td>\n    </tr>\n    <tr>\n      <th>8</th>\n      <td>3.0</td>\n      <td>22.0</td>\n      <td>2.5</td>\n      <td>0.0</td>\n      <td>2.0</td>\n      <td>12.0</td>\n      <td>3.0</td>\n      <td>3.0</td>\n      <td>4.799999</td>\n    </tr>\n    <tr>\n      <th>9</th>\n      <td>3.0</td>\n      <td>27.0</td>\n      <td>6.0</td>\n      <td>0.0</td>\n      <td>1.0</td>\n      <td>16.0</td>\n      <td>3.0</td>\n      <td>5.0</td>\n      <td>1.333333</td>\n    </tr>\n  </tbody>\n</table>\n</div>",
                        "text/plain": "   rate_marriage   age  yrs_married  ...  occupation  occupation_husb   affairs\n0            3.0  32.0          9.0  ...         2.0              5.0  0.111111\n1            3.0  27.0         13.0  ...         3.0              4.0  3.230769\n2            4.0  22.0          2.5  ...         3.0              5.0  1.400000\n3            4.0  37.0         16.5  ...         5.0              5.0  0.727273\n4            5.0  27.0          9.0  ...         3.0              4.0  4.666666\n5            4.0  27.0          9.0  ...         3.0              4.0  4.666666\n6            5.0  37.0         23.0  ...         5.0              4.0  0.852174\n7            5.0  37.0         23.0  ...         2.0              3.0  1.826086\n8            3.0  22.0          2.5  ...         3.0              3.0  4.799999\n9            3.0  27.0          6.0  ...         3.0              5.0  1.333333\n\n[10 rows x 9 columns]"
                    },
                    "metadata": {
                        "tags": []
                    }
                }
            ],
            "execution_count": 0
        },
        {
            "cell_type": "code",
            "source": [
                "#Informacion sobre el dataset: descripcion general, origen, \n",
                "#definicion de variables,tipo de variables\n",
                "\n",
                "print(sm.datasets.fair.NOTE)\n",
                "print(sm.datasets.fair.SOURCE)\n",
                "print(sm.datasets.fair.DESCRLONG)\n",
                "\n",
                "dta.info()"
            ],
            "metadata": {
                "id": "yyjZh6kUEtSc",
                "colab_type": "code",
                "colab": {},
                "azdata_cell_guid": "70d1aa27-b695-4a97-83c4-2898a92fd5fe"
            },
            "outputs": [],
            "execution_count": 0
        },
        {
            "cell_type": "code",
            "source": [
                "#Comprobamos que no falten datos (Resultado booleano: true=falta dato, false=dato)\n",
                "#Tambien se puede visualizar si faltan datos con los mapas de calor de seaborn.\n",
                "#En este caso, no hace falta.\n",
                "\n",
                "dta.isnull().head(10)"
            ],
            "metadata": {
                "id": "YWPkx8MOEtSi",
                "colab_type": "code",
                "outputId": "78901e67-eac0-4541-a0a1-0ab808bb630a",
                "executionInfo": {
                    "status": "ok",
                    "timestamp": 1573418892285,
                    "user_tz": -60,
                    "elapsed": 546,
                    "user": {
                        "displayName": "Machine Learning",
                        "photoUrl": "",
                        "userId": "05609927355646341864"
                    }
                },
                "colab": {
                    "base_uri": "https://localhost:8080/",
                    "height": 359
                },
                "azdata_cell_guid": "87de0e0f-65d4-4c29-b51c-ec7b6293d506"
            },
            "outputs": [
                {
                    "output_type": "execute_result",
                    "execution_count": 4,
                    "data": {
                        "text/html": "<div>\n<style scoped>\n    .dataframe tbody tr th:only-of-type {\n        vertical-align: middle;\n    }\n\n    .dataframe tbody tr th {\n        vertical-align: top;\n    }\n\n    .dataframe thead th {\n        text-align: right;\n    }\n</style>\n<table border=\"1\" class=\"dataframe\">\n  <thead>\n    <tr style=\"text-align: right;\">\n      <th></th>\n      <th>rate_marriage</th>\n      <th>age</th>\n      <th>yrs_married</th>\n      <th>children</th>\n      <th>religious</th>\n      <th>educ</th>\n      <th>occupation</th>\n      <th>occupation_husb</th>\n      <th>affairs</th>\n    </tr>\n  </thead>\n  <tbody>\n    <tr>\n      <th>0</th>\n      <td>False</td>\n      <td>False</td>\n      <td>False</td>\n      <td>False</td>\n      <td>False</td>\n      <td>False</td>\n      <td>False</td>\n      <td>False</td>\n      <td>False</td>\n    </tr>\n    <tr>\n      <th>1</th>\n      <td>False</td>\n      <td>False</td>\n      <td>False</td>\n      <td>False</td>\n      <td>False</td>\n      <td>False</td>\n      <td>False</td>\n      <td>False</td>\n      <td>False</td>\n    </tr>\n    <tr>\n      <th>2</th>\n      <td>False</td>\n      <td>False</td>\n      <td>False</td>\n      <td>False</td>\n      <td>False</td>\n      <td>False</td>\n      <td>False</td>\n      <td>False</td>\n      <td>False</td>\n    </tr>\n    <tr>\n      <th>3</th>\n      <td>False</td>\n      <td>False</td>\n      <td>False</td>\n      <td>False</td>\n      <td>False</td>\n      <td>False</td>\n      <td>False</td>\n      <td>False</td>\n      <td>False</td>\n    </tr>\n    <tr>\n      <th>4</th>\n      <td>False</td>\n      <td>False</td>\n      <td>False</td>\n      <td>False</td>\n      <td>False</td>\n      <td>False</td>\n      <td>False</td>\n      <td>False</td>\n      <td>False</td>\n    </tr>\n    <tr>\n      <th>5</th>\n      <td>False</td>\n      <td>False</td>\n      <td>False</td>\n      <td>False</td>\n      <td>False</td>\n      <td>False</td>\n      <td>False</td>\n      <td>False</td>\n      <td>False</td>\n    </tr>\n    <tr>\n      <th>6</th>\n      <td>False</td>\n      <td>False</td>\n      <td>False</td>\n      <td>False</td>\n      <td>False</td>\n      <td>False</td>\n      <td>False</td>\n      <td>False</td>\n      <td>False</td>\n    </tr>\n    <tr>\n      <th>7</th>\n      <td>False</td>\n      <td>False</td>\n      <td>False</td>\n      <td>False</td>\n      <td>False</td>\n      <td>False</td>\n      <td>False</td>\n      <td>False</td>\n      <td>False</td>\n    </tr>\n    <tr>\n      <th>8</th>\n      <td>False</td>\n      <td>False</td>\n      <td>False</td>\n      <td>False</td>\n      <td>False</td>\n      <td>False</td>\n      <td>False</td>\n      <td>False</td>\n      <td>False</td>\n    </tr>\n    <tr>\n      <th>9</th>\n      <td>False</td>\n      <td>False</td>\n      <td>False</td>\n      <td>False</td>\n      <td>False</td>\n      <td>False</td>\n      <td>False</td>\n      <td>False</td>\n      <td>False</td>\n    </tr>\n  </tbody>\n</table>\n</div>",
                        "text/plain": "   rate_marriage    age  yrs_married  ...  occupation  occupation_husb  affairs\n0          False  False        False  ...       False            False    False\n1          False  False        False  ...       False            False    False\n2          False  False        False  ...       False            False    False\n3          False  False        False  ...       False            False    False\n4          False  False        False  ...       False            False    False\n5          False  False        False  ...       False            False    False\n6          False  False        False  ...       False            False    False\n7          False  False        False  ...       False            False    False\n8          False  False        False  ...       False            False    False\n9          False  False        False  ...       False            False    False\n\n[10 rows x 9 columns]"
                    },
                    "metadata": {
                        "tags": []
                    }
                }
            ],
            "execution_count": 0
        },
        {
            "cell_type": "markdown",
            "source": [
                "El signo del índice de correlación también nos da información.  Si el índice de correlación entre dos variables es positivo, significa que, si una de ellas aumenta, la otra también lo hace. Por el contrario,  cuando el signo es negativo, si una variable aumenta, la otra, disminuye.  Por ejemplo, para affairs y rate_marriage es negativo. Esto indica que las personas que valoran más su matrimonio (rate_marriage creciente), tienen menos aventuras extramaritales (affairs decreciente)."
            ],
            "metadata": {
                "id": "gtoN6CpdOVL2",
                "colab_type": "text",
                "azdata_cell_guid": "c50a36d3-906a-4b82-b962-bdd7b53a9a13"
            }
        },
        {
            "cell_type": "code",
            "source": [
                "# Veamos ahora la matriz de correlacion. \n",
                "# Deberiamos eliminar las variables altamente correlacionadas >0,90\n",
                "# Edad, años matrimonio-- logica\n",
                "# Correlacion positiva--religious/rate marriage,age/yrs_marriage\n",
                "# Correlacion negativa: affairs/children, religious\n",
                "\n",
                "print(dta.corr())\n"
            ],
            "metadata": {
                "id": "wTidytSqEtSp",
                "colab_type": "code",
                "outputId": "08d9d923-6d1c-49ba-8bf0-20766aa2d579",
                "executionInfo": {
                    "status": "ok",
                    "timestamp": 1561802997060,
                    "user_tz": -120,
                    "elapsed": 561,
                    "user": {
                        "displayName": "Machine Learning",
                        "photoUrl": "",
                        "userId": "05609927355646341864"
                    }
                },
                "colab": {
                    "base_uri": "https://localhost:8080/",
                    "height": 221
                },
                "azdata_cell_guid": "37a8be2d-4dd7-484c-8984-60d90e1ec24b"
            },
            "outputs": [
                {
                    "output_type": "stream",
                    "name": "stdout",
                    "text": "                 rate_marriage       age  ...  occupation_husb   affairs\nrate_marriage         1.000000 -0.111127  ...         0.027745 -0.178068\nage                  -0.111127  1.000000  ...         0.162567 -0.089964\nyrs_married          -0.128978  0.894082  ...         0.128135 -0.087737\nchildren             -0.129161  0.673902  ...         0.086660 -0.070278\nreligious             0.078794  0.136598  ...         0.004061 -0.125933\neduc                  0.079869  0.027960  ...         0.183932 -0.017740\noccupation            0.039528  0.106127  ...         0.201156  0.004469\noccupation_husb       0.027745  0.162567  ...         1.000000 -0.015614\naffairs              -0.178068 -0.089964  ...        -0.015614  1.000000\n\n[9 rows x 9 columns]\n"
                }
            ],
            "execution_count": 0
        },
        {
            "cell_type": "code",
            "source": [
                "\n",
                "#Edad, años matrimonio-- logicamente no son independientes, para eliminarlos habria que hacer:\n",
                "#dta.drop(['age','yrs_married'],axis=1,inplace=True)\n",
                "#dta.head()"
            ],
            "metadata": {
                "id": "vt25NvE3FWiT",
                "colab_type": "code",
                "colab": {},
                "azdata_cell_guid": "b9086434-c985-4175-98af-d2ae45319e89"
            },
            "outputs": [],
            "execution_count": 0
        },
        {
            "cell_type": "markdown",
            "source": [
                "El histograma sobre la influencia del nivel educativo también arroja resultados interesantes. El menor número de infidelidades se produce en los niveles extremos: mujeres con nivel básico de educación o profesionales con una muy alta cualificación-"
            ],
            "metadata": {
                "id": "gmpNOMYfOcLv",
                "colab_type": "text",
                "azdata_cell_guid": "ee502697-dfce-4fb9-83ad-6d460be133eb"
            }
        },
        {
            "cell_type": "code",
            "source": [
                "#Para que muestre los graficos en el notebook añadimos:\n",
                "#%matplotlib inline\n",
                "\n",
                "# histograma sobre influencia del nivel educativo\n",
                "dta.educ.hist()\n",
                "plt.title('Influencia del Nivel Educativo')\n",
                "plt.xlabel('Nivel Academico')\n",
                "plt.ylabel('Frecuencia infidelidad')"
            ],
            "metadata": {
                "id": "sIvGqxZcEtSu",
                "colab_type": "code",
                "outputId": "e4ff592e-5533-4a71-f8bc-08508aee38af",
                "executionInfo": {
                    "status": "ok",
                    "timestamp": 1561803052884,
                    "user_tz": -120,
                    "elapsed": 803,
                    "user": {
                        "displayName": "Machine Learning",
                        "photoUrl": "",
                        "userId": "05609927355646341864"
                    }
                },
                "colab": {
                    "base_uri": "https://localhost:8080/",
                    "height": 312
                },
                "azdata_cell_guid": "f9493548-7359-4a39-b954-01124af15678"
            },
            "outputs": [
                {
                    "output_type": "execute_result",
                    "execution_count": 6,
                    "data": {
                        "text/plain": "Text(0, 0.5, 'Frecuencia infidelidad')"
                    },
                    "metadata": {
                        "tags": []
                    }
                },
                {
                    "output_type": "display_data",
                    "data": {
                        "image/png": "[encoded data removed]",
                        "text/plain": "<Figure size 432x288 with 1 Axes>"
                    },
                    "metadata": {
                        "tags": []
                    }
                }
            ],
            "execution_count": 0
        },
        {
            "cell_type": "markdown",
            "source": [
                "También podemos observar la influencia de los años de matrimonio:"
            ],
            "metadata": {
                "id": "ApBjqkz5OhMm",
                "colab_type": "text",
                "azdata_cell_guid": "3b2e6894-7bbf-40fa-a25c-314177f8c427"
            }
        },
        {
            "cell_type": "code",
            "source": [
                "\n",
                "\n",
                "# histograma sobre influencia de los años de matrimonio\n",
                "dta.yrs_married.hist()\n",
                "plt.title('Histograma Años de Matrimonio')\n",
                "plt.xlabel('Años de Matrimonio')\n",
                "plt.ylabel('Frecuencia infidelidad')"
            ],
            "metadata": {
                "id": "nC0__e9uFo7F",
                "colab_type": "code",
                "outputId": "d425973d-d838-423a-b127-66f9f8b4c0bc",
                "executionInfo": {
                    "status": "ok",
                    "timestamp": 1561803067562,
                    "user_tz": -120,
                    "elapsed": 811,
                    "user": {
                        "displayName": "Machine Learning",
                        "photoUrl": "",
                        "userId": "05609927355646341864"
                    }
                },
                "colab": {
                    "base_uri": "https://localhost:8080/",
                    "height": 312
                },
                "azdata_cell_guid": "3e60bd2d-65a3-4ea7-89a5-25302c10e762"
            },
            "outputs": [
                {
                    "output_type": "execute_result",
                    "execution_count": 7,
                    "data": {
                        "text/plain": "Text(0, 0.5, 'Frecuencia infidelidad')"
                    },
                    "metadata": {
                        "tags": []
                    }
                },
                {
                    "output_type": "display_data",
                    "data": {
                        "image/png": "[encoded data removed]",
                        "text/plain": "<Figure size 432x288 with 1 Axes>"
                    },
                    "metadata": {
                        "tags": []
                    }
                }
            ],
            "execution_count": 0
        },
        {
            "cell_type": "code",
            "source": [
                "#Creamos una nueva variable binaria \"infidelidad\" para tratarlo como un problema de clasificación 0=fiel, 1=infiel\n",
                "#Mostramos los primeros....infieles\n",
                "dta['infidelidad']=(dta.affairs>0).astype(int)\n",
                "print(dta.head(10))\n",
                "dta.shape"
            ],
            "metadata": {
                "id": "A_yx_08Mi0XC",
                "colab_type": "code",
                "outputId": "7effaa2a-df9f-43cf-9991-8ab0e4d8fdbd",
                "executionInfo": {
                    "status": "ok",
                    "timestamp": 1573418912939,
                    "user_tz": -60,
                    "elapsed": 681,
                    "user": {
                        "displayName": "Machine Learning",
                        "photoUrl": "",
                        "userId": "05609927355646341864"
                    }
                },
                "colab": {
                    "base_uri": "https://localhost:8080/",
                    "height": 255
                },
                "azdata_cell_guid": "8da84269-7cad-4a78-bb3b-43960a8ef04b"
            },
            "outputs": [
                {
                    "output_type": "stream",
                    "name": "stdout",
                    "text": "   rate_marriage   age  yrs_married  ...  occupation_husb   affairs  infidelidad\n0            3.0  32.0          9.0  ...              5.0  0.111111            1\n1            3.0  27.0         13.0  ...              4.0  3.230769            1\n2            4.0  22.0          2.5  ...              5.0  1.400000            1\n3            4.0  37.0         16.5  ...              5.0  0.727273            1\n4            5.0  27.0          9.0  ...              4.0  4.666666            1\n5            4.0  27.0          9.0  ...              4.0  4.666666            1\n6            5.0  37.0         23.0  ...              4.0  0.852174            1\n7            5.0  37.0         23.0  ...              3.0  1.826086            1\n8            3.0  22.0          2.5  ...              3.0  4.799999            1\n9            3.0  27.0          6.0  ...              5.0  1.333333            1\n\n[10 rows x 10 columns]\n"
                },
                {
                    "output_type": "execute_result",
                    "execution_count": 5,
                    "data": {
                        "text/plain": "(6366, 10)"
                    },
                    "metadata": {
                        "tags": []
                    }
                }
            ],
            "execution_count": 0
        },
        {
            "cell_type": "code",
            "source": [
                "feature_names = ['rate_marriage', 'age', 'yrs_married', 'children','religious','educ','occupation','occupation_husb']\n",
                "X = dta[feature_names]\n",
                "y = dta['infidelidad']"
            ],
            "metadata": {
                "id": "zVzBrY5svB3c",
                "colab_type": "code",
                "colab": {},
                "azdata_cell_guid": "80289f97-914a-46b1-a53f-55edef7843bf"
            },
            "outputs": [],
            "execution_count": 0
        },
        {
            "cell_type": "code",
            "source": [
                "from sklearn.model_selection import train_test_split\n",
                "X_train, X_test, y_train, y_test = train_test_split(X, y, test_size=0.3,\n",
                "  random_state=0)\n",
                "from sklearn.preprocessing import MinMaxScaler\n",
                "scaler = MinMaxScaler()\n",
                "X_train = scaler.fit_transform(X_train)\n",
                "X_test = scaler.transform(X_test)"
            ],
            "metadata": {
                "id": "NbnpSlQiu4Od",
                "colab_type": "code",
                "colab": {},
                "azdata_cell_guid": "ac8f71cf-c821-4701-98ec-3fac1d83ea12"
            },
            "outputs": [],
            "execution_count": 0
        },
        {
            "cell_type": "code",
            "source": [
                "X_train"
            ],
            "metadata": {
                "id": "ac6Cx93oBuds",
                "colab_type": "code",
                "outputId": "ca72cf82-d125-4884-98ff-fed2d17d524d",
                "executionInfo": {
                    "status": "ok",
                    "timestamp": 1573418924402,
                    "user_tz": -60,
                    "elapsed": 561,
                    "user": {
                        "displayName": "Machine Learning",
                        "photoUrl": "",
                        "userId": "05609927355646341864"
                    }
                },
                "colab": {
                    "base_uri": "https://localhost:8080/",
                    "height": 238
                },
                "azdata_cell_guid": "032ba9b9-54f8-4b05-80a0-e78abf71c4f3"
            },
            "outputs": [
                {
                    "output_type": "execute_result",
                    "execution_count": 9,
                    "data": {
                        "text/plain": "array([[1.        , 0.3877551 , 0.24444444, ..., 0.63636364, 0.2       ,\n        1.        ],\n       [0.75      , 1.        , 1.        , ..., 0.45454545, 0.4       ,\n        0.8       ],\n       [1.        , 0.79591837, 1.        , ..., 0.45454545, 0.4       ,\n        0.8       ],\n       ...,\n       [0.5       , 0.18367347, 0.08888889, ..., 0.45454545, 0.4       ,\n        0.6       ],\n       [1.        , 0.18367347, 0.        , ..., 0.45454545, 0.4       ,\n        0.8       ],\n       [0.75      , 0.18367347, 0.08888889, ..., 0.27272727, 0.4       ,\n        0.2       ]])"
                    },
                    "metadata": {
                        "tags": []
                    }
                }
            ],
            "execution_count": 0
        },
        {
            "cell_type": "code",
            "source": [
                "from sklearn.tree import DecisionTreeClassifier\n",
                "clf = DecisionTreeClassifier().fit(X_train, y_train)\n",
                "print('Accuracy of Decision Tree classifier on training set: {:.2f}'\n",
                "     .format(clf.score(X_train, y_train)))\n",
                "print('Accuracy of Decision Tree classifier on test set: {:.2f}'\n",
                "     .format(clf.score(X_test, y_test)))"
            ],
            "metadata": {
                "id": "AdzREBzuvv0B",
                "colab_type": "code",
                "outputId": "e500c350-7870-4a0f-e41c-ead6fb06d519",
                "executionInfo": {
                    "status": "ok",
                    "timestamp": 1573418930336,
                    "user_tz": -60,
                    "elapsed": 1160,
                    "user": {
                        "displayName": "Machine Learning",
                        "photoUrl": "",
                        "userId": "05609927355646341864"
                    }
                },
                "colab": {
                    "base_uri": "https://localhost:8080/",
                    "height": 51
                },
                "azdata_cell_guid": "db278de1-cf39-4f91-bfa9-3896a1f37f95"
            },
            "outputs": [
                {
                    "output_type": "stream",
                    "name": "stdout",
                    "text": "Accuracy of Decision Tree classifier on training set: 0.95\nAccuracy of Decision Tree classifier on test set: 0.65\n"
                }
            ],
            "execution_count": 0
        },
        {
            "cell_type": "code",
            "source": [
                "from sklearn import linear_model\n",
                "regressor = linear_model.LinearRegression()\n",
                "lr = regressor.fit(X_train, y_train)"
            ],
            "metadata": {
                "id": "CpzksD1yiQxi",
                "colab_type": "code",
                "colab": {},
                "azdata_cell_guid": "1e19a9cd-b6d9-408e-9985-7c7c01e853c7"
            },
            "outputs": [],
            "execution_count": 0
        },
        {
            "cell_type": "code",
            "source": [
                "lr.score(X_train,y_train)"
            ],
            "metadata": {
                "id": "LA0AkeWJvoo1",
                "colab_type": "code",
                "outputId": "54510e5d-5f56-435d-9ba9-19170e959442",
                "executionInfo": {
                    "status": "ok",
                    "timestamp": 1573418935863,
                    "user_tz": -60,
                    "elapsed": 1103,
                    "user": {
                        "displayName": "Machine Learning",
                        "photoUrl": "",
                        "userId": "05609927355646341864"
                    }
                },
                "colab": {
                    "base_uri": "https://localhost:8080/",
                    "height": 34
                },
                "azdata_cell_guid": "f2ca2bc9-1a40-4a0a-94b4-3df54fa73045"
            },
            "outputs": [
                {
                    "output_type": "execute_result",
                    "execution_count": 12,
                    "data": {
                        "text/plain": "0.15955031432335953"
                    },
                    "metadata": {
                        "tags": []
                    }
                }
            ],
            "execution_count": 0
        },
        {
            "cell_type": "code",
            "source": [
                "#Realizamos la predicción con test\n",
                "print(lr.predict(X_test))"
            ],
            "metadata": {
                "id": "K8RdkTbliTsK",
                "colab_type": "code",
                "outputId": "e99ad8c1-a9cb-4074-e507-81d25c4334c9",
                "executionInfo": {
                    "status": "ok",
                    "timestamp": 1573418941869,
                    "user_tz": -60,
                    "elapsed": 613,
                    "user": {
                        "displayName": "Machine Learning",
                        "photoUrl": "",
                        "userId": "05609927355646341864"
                    }
                },
                "colab": {
                    "base_uri": "https://localhost:8080/",
                    "height": 34
                },
                "azdata_cell_guid": "3e7192f6-5baa-47a6-8c49-4b0d8b2a1dbf"
            },
            "outputs": [
                {
                    "output_type": "stream",
                    "name": "stdout",
                    "text": "[0.58726202 0.00382948 0.34026419 ... 0.46727903 0.20987881 0.25617711]\n"
                }
            ],
            "execution_count": 0
        }
    ]
}