{
    "metadata": {
        "kernelspec": {
            "name": "python3",
            "display_name": "Python 3"
        },
        "language_info": {
            "name": "python",
            "version": "3.6.6",
            "mimetype": "text/x-python",
            "codemirror_mode": {
                "name": "ipython",
                "version": 3
            },
            "pygments_lexer": "ipython3",
            "nbconvert_exporter": "python",
            "file_extension": ".py"
        }
    },
    "nbformat_minor": 2,
    "nbformat": 4,
    "cells": [
        {
            "cell_type": "markdown",
            "source": [
                "![SolidQ](https://www.solidq.com/wp-content/uploads/2015/06/Logo-SolidQ-Web.gif)"
            ],
            "metadata": {
                "id": "VyUZzels_52q",
                "colab_type": "text",
                "azdata_cell_guid": "c16a642f-89be-4f4d-ab19-10d6b97b91a4"
            }
        },
        {
            "cell_type": "markdown",
            "source": [
                "# NumPy: Numerical Python"
            ],
            "metadata": {
                "id": "Ywfi4fgbWV62",
                "colab_type": "text",
                "azdata_cell_guid": "d545659b-451c-4e44-920f-4e93443f7dad"
            }
        },
        {
            "cell_type": "markdown",
            "source": [
                "Librería que nos permite trabajar con arrays, de un modo mucho más eficiente que hacerlo con listas o diccionarios. Es la base de otras muchas librerías, entre ellas pandas. \r\n",
                "\r\n",
                "https://docs.scipy.org/doc/numpy/user/quickstart.html"
            ],
            "metadata": {
                "id": "06j5moIMVaa9",
                "colab_type": "text",
                "azdata_cell_guid": "1e726df7-c729-4fb8-8cac-e2df57b17434"
            }
        },
        {
            "cell_type": "code",
            "source": [
                "import numpy as np\n"
            ],
            "metadata": {
                "id": "PpNuRgaEUIPu",
                "colab_type": "code",
                "colab": {},
                "azdata_cell_guid": "d13d3a24-0773-4cab-b9db-ed8819446032"
            },
            "outputs": [],
            "execution_count": 2
        },
        {
            "cell_type": "code",
            "source": [
                "np.array([1,2,3,4])"
            ],
            "metadata": {
                "azdata_cell_guid": "a6867563-18e4-4e0a-9dcc-04437759a6b4"
            },
            "outputs": [
                {
                    "data": {
                        "text/plain": "array([1, 2, 3, 4])"
                    },
                    "metadata": {},
                    "execution_count": 3,
                    "output_type": "execute_result"
                }
            ],
            "execution_count": 3
        },
        {
            "cell_type": "code",
            "source": [
                "# Los arrays pueden ser multidimensionales\r\n",
                "np.zeros( (3,4) )"
            ],
            "metadata": {
                "azdata_cell_guid": "c3fc3728-9923-43b7-b644-9033dc8729cb"
            },
            "outputs": [
                {
                    "data": {
                        "text/plain": "array([[0., 0., 0., 0.],\n       [0., 0., 0., 0.],\n       [0., 0., 0., 0.]])"
                    },
                    "metadata": {},
                    "execution_count": 4,
                    "output_type": "execute_result"
                }
            ],
            "execution_count": 4
        },
        {
            "cell_type": "code",
            "source": [
                "np.ones( (2,3,4), dtype=np.int16 ) "
            ],
            "metadata": {
                "azdata_cell_guid": "91b73aa2-91d4-4f2a-aa22-c00ce32f7eb8"
            },
            "outputs": [
                {
                    "data": {
                        "text/plain": "array([[[1, 1, 1, 1],\n        [1, 1, 1, 1],\n        [1, 1, 1, 1]],\n\n       [[1, 1, 1, 1],\n        [1, 1, 1, 1],\n        [1, 1, 1, 1]]], dtype=int16)"
                    },
                    "metadata": {},
                    "execution_count": 5,
                    "output_type": "execute_result"
                }
            ],
            "execution_count": 5
        },
        {
            "cell_type": "code",
            "source": [
                "np.full((3,5),3.14)"
            ],
            "metadata": {
                "azdata_cell_guid": "52b8b161-5bf6-4caa-87a1-5f4f290ec7ea"
            },
            "outputs": [
                {
                    "data": {
                        "text/plain": "array([[3.14, 3.14, 3.14, 3.14, 3.14],\n       [3.14, 3.14, 3.14, 3.14, 3.14],\n       [3.14, 3.14, 3.14, 3.14, 3.14]])"
                    },
                    "metadata": {},
                    "execution_count": 6,
                    "output_type": "execute_result"
                }
            ],
            "execution_count": 6
        },
        {
            "cell_type": "code",
            "source": [
                "# arange() crea una secuencia en la que el límite superior no está incluido. Es un intervalo cerrado por la izquierda\r\n",
                "\r\n",
                "np.arange(0,20,2)"
            ],
            "metadata": {
                "azdata_cell_guid": "19c329ee-54c1-4eac-9ba7-2f71420cdd05"
            },
            "outputs": [
                {
                    "data": {
                        "text/plain": "array([ 0,  2,  4,  6,  8, 10, 12, 14, 16, 18])"
                    },
                    "metadata": {},
                    "execution_count": 7,
                    "output_type": "execute_result"
                }
            ],
            "execution_count": 7
        },
        {
            "cell_type": "code",
            "source": [
                "#reshape() permite redimensionar el array\n",
                "a = np.arange(15).reshape(3, 5)\n",
                "\n",
                "a\n",
                "\n",
                ""
            ],
            "metadata": {
                "id": "YuHWQHCxUOtC",
                "colab_type": "code",
                "colab": {},
                "azdata_cell_guid": "5adeda03-de04-4679-bf8e-4f3111b76c5f"
            },
            "outputs": [
                {
                    "data": {
                        "text/plain": "array([[ 0,  1,  2,  3,  4],\n       [ 5,  6,  7,  8,  9],\n       [10, 11, 12, 13, 14]])"
                    },
                    "metadata": {},
                    "execution_count": 8,
                    "output_type": "execute_result"
                }
            ],
            "execution_count": 8
        },
        {
            "cell_type": "code",
            "source": [
                "#Para ver información sobre el array\n",
                "\n",
                "a.shape\n",
                "\n",
                "a.ndim\n",
                "\n",
                "a.dtype.name\n",
                "\n",
                "a.itemsize\n",
                "\n",
                "a.size\n",
                "\n",
                "\n",
                "b = np.array([6, 7, 8])\n",
                "b\n",
                "type(b)\n",
                ""
            ],
            "metadata": {
                "id": "7D1byh0QIlfW",
                "colab_type": "code",
                "colab": {},
                "azdata_cell_guid": "fd594f4a-0306-4dac-a7e9-59568620526a"
            },
            "outputs": [
                {
                    "data": {
                        "text/plain": "numpy.ndarray"
                    },
                    "metadata": {},
                    "execution_count": 9,
                    "output_type": "execute_result"
                }
            ],
            "execution_count": 9
        },
        {
            "cell_type": "markdown",
            "source": [
                "# Pandas\n"
            ],
            "metadata": {
                "id": "UkVNv16cciXh",
                "colab_type": "text",
                "azdata_cell_guid": "a9295ddf-e5d1-4d52-8777-a51e193d09cb"
            }
        },
        {
            "cell_type": "markdown",
            "source": [
                "Pandas dispone de dos estructuras fundamentales de datos:\n",
                "\n",
                "* Series. Una única columna (array de una dimensión)\n",
                "\n",
                "* Dataframes. conjunto de Series con nombre. Similar a una tabla con filas y columnas\n",
                "\n",
                "El Dataframe es la abstracción de manejo de datos más común en Pandas, del mismo modo que lo es en R o en Spark donde tien implementaciones similares"
            ],
            "metadata": {
                "id": "Pk8OBzbcclI4",
                "colab_type": "text",
                "azdata_cell_guid": "0d76ee64-5a6a-4814-a106-c475c06d10ae"
            }
        },
        {
            "cell_type": "code",
            "source": [
                "import pandas as pd"
            ],
            "metadata": {
                "id": "YxxXrPeDckQc",
                "colab_type": "code",
                "colab": {},
                "azdata_cell_guid": "5b3b44b0-43f0-4b87-9f3e-d71d0d5e3e81"
            },
            "outputs": [],
            "execution_count": 10
        },
        {
            "cell_type": "code",
            "source": [
                "city_names=pd.Series(['San Francisco', 'San Jose', 'Sacramento','New York'])"
            ],
            "metadata": {
                "id": "kcNTFioOcrOU",
                "colab_type": "code",
                "colab": {},
                "azdata_cell_guid": "4fd8dac2-5a7d-4e54-9a9e-c4f5e4fe9d41"
            },
            "outputs": [],
            "execution_count": 25
        },
        {
            "cell_type": "code",
            "source": [
                "city_names[1:4]"
            ],
            "metadata": {
                "azdata_cell_guid": "6946bf96-3fa1-4712-bdac-1ea5201483b7"
            },
            "outputs": [
                {
                    "data": {
                        "text/plain": "1      San Jose\n2    Sacramento\n3      New York\ndtype: object"
                    },
                    "metadata": {},
                    "execution_count": 29,
                    "output_type": "execute_result"
                }
            ],
            "execution_count": 29
        },
        {
            "cell_type": "code",
            "source": [
                "\n",
                "population = pd.Series([852469, 1015785, 485199])\n",
                "\n",
                "pd.DataFrame({ 'City name': city_names, 'Population': population })"
            ],
            "metadata": {
                "id": "d6UHGTwecuuO",
                "colab_type": "code",
                "colab": {},
                "azdata_cell_guid": "02c3d5f3-afef-4039-899b-68ce3ae9bc0c"
            },
            "outputs": [],
            "execution_count": 0
        },
        {
            "cell_type": "code",
            "source": [
                "import pandas as pd\n",
                "california_housing_dataframe = pd.read_csv(\"sample_data/california_housing_train.csv\", sep=\",\")\n",
                "california_housing_dataframe.describe()"
            ],
            "metadata": {
                "id": "bo-khjZ_c1Lc",
                "colab_type": "code",
                "colab": {},
                "azdata_cell_guid": "9b5ae924-7137-4d79-a5f4-fd646060c672"
            },
            "outputs": [],
            "execution_count": 0
        },
        {
            "cell_type": "code",
            "source": [
                "california_housing_dataframe.head()"
            ],
            "metadata": {
                "id": "tg0G-kzzc4xw",
                "colab_type": "code",
                "colab": {},
                "azdata_cell_guid": "d8d9dc49-0f09-4ec8-8c3c-4a2ce5439ac5"
            },
            "outputs": [],
            "execution_count": 0
        },
        {
            "cell_type": "code",
            "source": [
                "california_housing_dataframe.hist('housing_median_age')"
            ],
            "metadata": {
                "id": "94USy214c6TA",
                "colab_type": "code",
                "colab": {},
                "azdata_cell_guid": "c87688ec-2579-47ab-85b4-bb40cb2cd703"
            },
            "outputs": [],
            "execution_count": 0
        },
        {
            "cell_type": "code",
            "source": [
                "california_housing_dataframe.corr()"
            ],
            "metadata": {
                "id": "qt1SpmmZ53dg",
                "colab_type": "code",
                "colab": {},
                "azdata_cell_guid": "0d1758a6-7606-4de9-82b4-df0e80e16c8f"
            },
            "outputs": [],
            "execution_count": 0
        },
        {
            "cell_type": "code",
            "source": [
                "cities = pd.DataFrame({ 'City name': city_names, 'Population': population })\n",
                "print(type(cities['City name']))\n",
                "cities['City name']"
            ],
            "metadata": {
                "id": "WSh_YnZec-iN",
                "colab_type": "code",
                "colab": {},
                "azdata_cell_guid": "80844ce6-ef29-4688-89e7-54e35d22d413"
            },
            "outputs": [],
            "execution_count": 0
        },
        {
            "cell_type": "markdown",
            "source": [
                "# Matplotlib "
            ],
            "metadata": {
                "azdata_cell_guid": "6bb51453-a468-4966-a824-ce800eb25217"
            }
        },
        {
            "cell_type": "code",
            "source": [
                "import matplotlib.pyplot as plt\r\n",
                "\r\n",
                "data = {'naranjas': 10, 'manzanas': 15, 'limones': 5, 'limas': 20}\r\n",
                "names = list(data.keys())\r\n",
                "values = list(data.values())\r\n",
                "\r\n",
                "fig, axs = plt.subplots(1, 3, figsize=(9, 3), sharey=True)\r\n",
                "axs[0].bar(names, values)\r\n",
                "axs[1].scatter(names, values)\r\n",
                "axs[2].plot(names, values)\r\n",
                "fig.suptitle('Plotting Categórico')\r\n",
                "plt.show()"
            ],
            "metadata": {
                "azdata_cell_guid": "1aea2c64-3e39-4015-91fc-db81d0f06d0c"
            },
            "outputs": [
                {
                    "data": {
                        "text/plain": "<Figure size 648x216 with 3 Axes>",
                        "image/png": "[encoded data removed]"
                    },
                    "metadata": {
                        "needs_background": "light"
                    },
                    "output_type": "display_data"
                }
            ],
            "execution_count": 32
        },
        {
            "cell_type": "code",
            "source": [
                "cat = [\"bored\", \"happy\", \"bored\", \"bored\", \"happy\", \"bored\"]\r\n",
                "dog = [\"happy\", \"happy\", \"happy\", \"happy\", \"bored\", \"bored\"]\r\n",
                "activity = [\"combing\", \"drinking\", \"feeding\", \"napping\", \"playing\", \"washing\"]\r\n",
                "\r\n",
                "fig, ax = plt.subplots()\r\n",
                "ax.plot(activity, dog, label=\"dog\")\r\n",
                "ax.plot(activity, cat, label=\"cat\")\r\n",
                "ax.legend()\r\n",
                "\r\n",
                "plt.show()"
            ],
            "metadata": {
                "azdata_cell_guid": "099b1bdc-5b2b-46df-b960-c2802197a780"
            },
            "outputs": [
                {
                    "data": {
                        "text/plain": "<Figure size 432x288 with 1 Axes>",
                        "image/png": "[encoded data removed]"
                    },
                    "metadata": {
                        "needs_background": "light"
                    },
                    "output_type": "display_data"
                }
            ],
            "execution_count": 31
        }
    ]
}