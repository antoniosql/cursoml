{
    "metadata": {
        "kernelspec": {
            "name": "python3",
            "display_name": "Python 3"
        },
        "language_info": {
            "name": "python",
            "version": "3.6.6",
            "mimetype": "text/x-python",
            "codemirror_mode": {
                "name": "ipython",
                "version": 3
            },
            "pygments_lexer": "ipython3",
            "nbconvert_exporter": "python",
            "file_extension": ".py"
        }
    },
    "nbformat_minor": 2,
    "nbformat": 4,
    "cells": [
        {
            "cell_type": "markdown",
            "source": [
                "  \n",
                "---"
            ],
            "metadata": {
                "id": "lk4f-SobIwPH",
                "colab_type": "text",
                "azdata_cell_guid": "f5c7fca2-549d-44a1-a45d-ed164eec06b2"
            }
        },
        {
            "cell_type": "markdown",
            "source": [
                "![SolidQ](https://www.solidq.com/wp-content/uploads/2015/06/Logo-SolidQ-Web.gif)"
            ],
            "metadata": {
                "azdata_cell_guid": "772b95c5-79e8-4176-a69a-bea75a6d42bb"
            }
        },
        {
            "cell_type": "markdown",
            "source": [
                "# Evaluación de Modelos"
            ],
            "metadata": {
                "collapsed": true,
                "id": "1K5ZLFUVIwPJ",
                "colab_type": "text",
                "azdata_cell_guid": "a8ef6aa1-8f08-4a7c-8407-8fe691cd0ab3"
            }
        },
        {
            "cell_type": "markdown",
            "source": [
                "## Evaluación para Clasificación"
            ],
            "metadata": {
                "id": "bcQP0a1rIwPL",
                "colab_type": "text",
                "azdata_cell_guid": "5a9978ab-34c7-4359-94c1-c194fcba2d7e"
            }
        },
        {
            "cell_type": "markdown",
            "source": [
                "### Cargamos y preparamos los datos"
            ],
            "metadata": {
                "id": "8wJorKnhIwPM",
                "colab_type": "text",
                "azdata_cell_guid": "a6802424-b5be-4eb1-be48-95ca6d6b4bbd"
            }
        },
        {
            "cell_type": "code",
            "source": [
                "##%matplotlib notebook\n",
                "import numpy as np\n",
                "import pandas as pd\n",
                "import seaborn as sns\n",
                "import matplotlib.pyplot as plt\n",
                "from sklearn.model_selection import train_test_split\n",
                "from sklearn.datasets import load_digits\n",
                "\n",
                "dataset = load_digits()\n",
                "X, y = dataset.data, dataset.target\n",
                "\n",
                "for class_name, class_count in zip(dataset.target_names, np.bincount(dataset.target)):\n",
                "    print(class_name,class_count)"
            ],
            "metadata": {
                "id": "0IQ8fVt7IwPN",
                "colab_type": "code",
                "colab": {
                    "base_uri": "https://localhost:8080/",
                    "height": 187
                },
                "outputId": "ab4c2fd5-fd79-41ce-fa24-64bc6fe06f50",
                "executionInfo": {
                    "status": "ok",
                    "timestamp": 1562348708910,
                    "user_tz": -120,
                    "elapsed": 1129,
                    "user": {
                        "displayName": "Machine Learning",
                        "photoUrl": "",
                        "userId": "05609927355646341864"
                    }
                },
                "azdata_cell_guid": "61972b6d-44df-43f4-850f-581ab43782c8"
            },
            "outputs": [
                {
                    "output_type": "stream",
                    "name": "stdout",
                    "text": "0 178\n1 182\n2 177\n3 183\n4 181\n5 182\n6 181\n7 179\n8 174\n9 180\n"
                }
            ],
            "execution_count": 1
        },
        {
            "cell_type": "code",
            "source": [
                "# Creamos un conjunto de datos con clases binarios no balanceadas:  \n",
                "# La clase Negativa (0) es 'not digit 1' \n",
                "# La clase positiva (1) es 'digit 1'\n",
                "y_binary_imbalanced = y.copy()\n",
                "y_binary_imbalanced[y_binary_imbalanced != 1] = 0\n",
                "\n",
                "print('Original labels:\\t', y[1:30])\n",
                "print('New binary labels:\\t', y_binary_imbalanced[1:30])"
            ],
            "metadata": {
                "id": "axY1sF3WIwPT",
                "colab_type": "code",
                "colab": {
                    "base_uri": "https://localhost:8080/",
                    "height": 51
                },
                "outputId": "bb55e1fe-257f-4596-fe8e-e9c4545276bd",
                "executionInfo": {
                    "status": "ok",
                    "timestamp": 1562348708916,
                    "user_tz": -120,
                    "elapsed": 1132,
                    "user": {
                        "displayName": "Machine Learning",
                        "photoUrl": "",
                        "userId": "05609927355646341864"
                    }
                },
                "azdata_cell_guid": "cccbce2e-ba98-463d-923e-d5578586b30d"
            },
            "outputs": [
                {
                    "output_type": "stream",
                    "name": "stdout",
                    "text": "Original labels:\t [1 2 3 4 5 6 7 8 9 0 1 2 3 4 5 6 7 8 9 0 1 2 3 4 5 6 7 8 9]\nNew binary labels:\t [1 0 0 0 0 0 0 0 0 0 1 0 0 0 0 0 0 0 0 0 1 0 0 0 0 0 0 0 0]\n"
                }
            ],
            "execution_count": 2
        },
        {
            "cell_type": "code",
            "source": [
                "np.bincount(y_binary_imbalanced)    # La clase negativa (0) es la más frecuente"
            ],
            "metadata": {
                "scrolled": true,
                "id": "tckEdqTqIwPX",
                "colab_type": "code",
                "colab": {
                    "base_uri": "https://localhost:8080/",
                    "height": 34
                },
                "outputId": "dfce67b2-bbe8-4f42-e201-5f3b92d09edc",
                "executionInfo": {
                    "status": "ok",
                    "timestamp": 1562348713912,
                    "user_tz": -120,
                    "elapsed": 542,
                    "user": {
                        "displayName": "Machine Learning",
                        "photoUrl": "",
                        "userId": "05609927355646341864"
                    }
                },
                "azdata_cell_guid": "eb3a3a43-7950-4831-b832-c2b9cc0e62ef"
            },
            "outputs": [
                {
                    "output_type": "execute_result",
                    "execution_count": 3,
                    "data": {
                        "text/plain": "array([1615,  182])"
                    },
                    "metadata": {
                        "tags": []
                    }
                }
            ],
            "execution_count": 3
        },
        {
            "cell_type": "code",
            "source": [
                "X_train, X_test, y_train, y_test = train_test_split(X, y_binary_imbalanced, random_state=0)\n",
                "\n",
                "# Accuracy de un clasificador Support Vector Machine \n",
                "from sklearn.svm import SVC\n",
                "\n",
                "svm = SVC(kernel='rbf', C=1).fit(X_train, y_train)\n",
                "svm.score(X_test, y_test)"
            ],
            "metadata": {
                "id": "nCFaici2IwPb",
                "colab_type": "code",
                "colab": {
                    "base_uri": "https://localhost:8080/",
                    "height": 88
                },
                "outputId": "a689ed73-64af-4e17-a7d1-717d4c61a9c4",
                "executionInfo": {
                    "status": "ok",
                    "timestamp": 1562348716273,
                    "user_tz": -120,
                    "elapsed": 929,
                    "user": {
                        "displayName": "Machine Learning",
                        "photoUrl": "",
                        "userId": "05609927355646341864"
                    }
                },
                "azdata_cell_guid": "29c24206-f629-42af-82f3-a30a151fd43d"
            },
            "outputs": [
                {
                    "output_type": "stream",
                    "name": "stderr",
                    "text": "/usr/local/lib/python3.6/dist-packages/sklearn/svm/base.py:193: FutureWarning: The default value of gamma will change from 'auto' to 'scale' in version 0.22 to account better for unscaled features. Set gamma explicitly to 'auto' or 'scale' to avoid this warning.\n  \"avoid this warning.\", FutureWarning)\n"
                },
                {
                    "output_type": "execute_result",
                    "execution_count": 4,
                    "data": {
                        "text/plain": "0.9088888888888889"
                    },
                    "metadata": {
                        "tags": []
                    }
                }
            ],
            "execution_count": 4
        },
        {
            "cell_type": "markdown",
            "source": [
                "### Clasificador Dummy"
            ],
            "metadata": {
                "id": "G4YNF5NlIwPe",
                "colab_type": "text",
                "azdata_cell_guid": "6c9ed7aa-745d-4a84-a2e0-866994cba816"
            }
        },
        {
            "cell_type": "markdown",
            "source": [
                "DummyClassifier es un clasificador que realizar predicciones utilizando reglas simples, por lo que puede ser útil para comparar con nuestros clasificadores, especialmente si tenemos clases no balanceadas"
            ],
            "metadata": {
                "collapsed": true,
                "id": "rdD5CcuCIwPg",
                "colab_type": "text",
                "azdata_cell_guid": "dc609c27-8eed-4db5-ae1f-691c6a4f67f0"
            }
        },
        {
            "cell_type": "code",
            "source": [
                "from sklearn.dummy import DummyClassifier\n",
                "\n",
                "# La clase negativa (0) es la más frecuente\n",
                "dummy_majority = DummyClassifier(strategy = 'most_frequent').fit(X_train, y_train)\n",
                "# ES por ello que nuestro clasificador dummy predice siempre.....\n",
                "y_dummy_predictions = dummy_majority.predict(X_test)\n",
                "\n",
                "y_dummy_predictions"
            ],
            "metadata": {
                "id": "8Xg_2wXUIwPh",
                "colab_type": "code",
                "colab": {},
                "azdata_cell_guid": "d85aeabb-16a1-4757-8659-0d8779dd7dd7"
            },
            "outputs": [],
            "execution_count": 0
        },
        {
            "cell_type": "code",
            "source": [
                "dummy_majority.score(X_test, y_test)"
            ],
            "metadata": {
                "id": "4pQbW2-7IwPm",
                "colab_type": "code",
                "colab": {
                    "base_uri": "https://localhost:8080/",
                    "height": 34
                },
                "outputId": "f7c85010-3592-4b6a-f2b7-f17e766769fa",
                "executionInfo": {
                    "status": "ok",
                    "timestamp": 1562348727760,
                    "user_tz": -120,
                    "elapsed": 567,
                    "user": {
                        "displayName": "Machine Learning",
                        "photoUrl": "",
                        "userId": "05609927355646341864"
                    }
                },
                "azdata_cell_guid": "78ad8bac-c9c1-4f25-8415-7cfa1450556d"
            },
            "outputs": [
                {
                    "output_type": "execute_result",
                    "execution_count": 6,
                    "data": {
                        "text/plain": "0.9044444444444445"
                    },
                    "metadata": {
                        "tags": []
                    }
                }
            ],
            "execution_count": 6
        },
        {
            "cell_type": "code",
            "source": [
                "svm = SVC(kernel='linear', C=1).fit(X_train, y_train)\n",
                "svm.score(X_test, y_test)"
            ],
            "metadata": {
                "id": "3nITfaQOIwPr",
                "colab_type": "code",
                "colab": {
                    "base_uri": "https://localhost:8080/",
                    "height": 34
                },
                "outputId": "56265c85-cd8c-47d7-da0e-971452039d9a",
                "executionInfo": {
                    "status": "ok",
                    "timestamp": 1562348729938,
                    "user_tz": -120,
                    "elapsed": 529,
                    "user": {
                        "displayName": "Machine Learning",
                        "photoUrl": "",
                        "userId": "05609927355646341864"
                    }
                },
                "azdata_cell_guid": "b6cabf65-9beb-40d7-95b7-3746c9f68562"
            },
            "outputs": [
                {
                    "output_type": "execute_result",
                    "execution_count": 7,
                    "data": {
                        "text/plain": "0.9777777777777777"
                    },
                    "metadata": {
                        "tags": []
                    }
                }
            ],
            "execution_count": 7
        },
        {
            "cell_type": "markdown",
            "source": [
                "### Matrices de Confusion "
            ],
            "metadata": {
                "id": "6O1qcebLIwPv",
                "colab_type": "text",
                "azdata_cell_guid": "2b19c000-1507-46d0-ad76-d05feeda8e2f"
            }
        },
        {
            "cell_type": "markdown",
            "source": [
                "#### Matriz de Confusión binaria"
            ],
            "metadata": {
                "id": "-FtvzwoEIwPx",
                "colab_type": "text",
                "azdata_cell_guid": "48641168-6a7d-4f78-ac26-73324f4ec9a4"
            }
        },
        {
            "cell_type": "code",
            "source": [
                "from sklearn.metrics import confusion_matrix\n",
                "\n",
                "# La clase negativa (0) es la más frecuente\n",
                "dummy_majority = DummyClassifier(strategy = 'most_frequent').fit(X_train, y_train)\n",
                "y_majority_predicted = dummy_majority.predict(X_test)\n",
                "confusion = confusion_matrix(y_test, y_majority_predicted)\n",
                "\n",
                "print('Most frequent class (dummy classifier)\\n', confusion)"
            ],
            "metadata": {
                "id": "otJ43sB8IwP0",
                "colab_type": "code",
                "colab": {
                    "base_uri": "https://localhost:8080/",
                    "height": 68
                },
                "outputId": "50141b0c-9538-4084-ef70-d14d8cfc5ffe",
                "executionInfo": {
                    "status": "ok",
                    "timestamp": 1562348735616,
                    "user_tz": -120,
                    "elapsed": 562,
                    "user": {
                        "displayName": "Machine Learning",
                        "photoUrl": "",
                        "userId": "05609927355646341864"
                    }
                },
                "azdata_cell_guid": "c57b2000-ee47-4ed6-a72e-c70efda5a664"
            },
            "outputs": [
                {
                    "output_type": "stream",
                    "name": "stdout",
                    "text": "Most frequent class (dummy classifier)\n [[407   0]\n [ 43   0]]\n"
                }
            ],
            "execution_count": 8
        },
        {
            "cell_type": "code",
            "source": [
                "# produce predicciones aleatorias con la misma proporción de clases que el conjunto de entrenamiento\n",
                "dummy_classprop = DummyClassifier(strategy='stratified').fit(X_train, y_train)\n",
                "y_classprop_predicted = dummy_classprop.predict(X_test)\n",
                "confusion = confusion_matrix(y_test, y_classprop_predicted)\n",
                "\n",
                "print('Random class-proportional prediction (dummy classifier)\\n', confusion)"
            ],
            "metadata": {
                "id": "TtVdah-DIwP5",
                "colab_type": "code",
                "colab": {
                    "base_uri": "https://localhost:8080/",
                    "height": 68
                },
                "outputId": "c46abe3e-be1d-4974-d13b-6e90a6bfab2f",
                "executionInfo": {
                    "status": "ok",
                    "timestamp": 1562348743081,
                    "user_tz": -120,
                    "elapsed": 674,
                    "user": {
                        "displayName": "Machine Learning",
                        "photoUrl": "",
                        "userId": "05609927355646341864"
                    }
                },
                "azdata_cell_guid": "2da098dd-9d49-406c-8c4b-206ecb9f0171"
            },
            "outputs": [
                {
                    "output_type": "stream",
                    "name": "stdout",
                    "text": "Random class-proportional prediction (dummy classifier)\n [[357  50]\n [ 39   4]]\n"
                }
            ],
            "execution_count": 9
        },
        {
            "cell_type": "code",
            "source": [
                "svm = SVC(kernel='linear', C=1).fit(X_train, y_train)\n",
                "svm_predicted = svm.predict(X_test)\n",
                "confusion = confusion_matrix(y_test, svm_predicted)\n",
                "\n",
                "print('Support vector machine classifier (linear kernel, C=1)\\n', confusion)"
            ],
            "metadata": {
                "scrolled": true,
                "id": "K1aSszUNIwP8",
                "colab_type": "code",
                "colab": {
                    "base_uri": "https://localhost:8080/",
                    "height": 68
                },
                "outputId": "92fa4c9c-1633-42c7-ff19-8325cd216957",
                "executionInfo": {
                    "status": "ok",
                    "timestamp": 1562348751325,
                    "user_tz": -120,
                    "elapsed": 546,
                    "user": {
                        "displayName": "Machine Learning",
                        "photoUrl": "",
                        "userId": "05609927355646341864"
                    }
                },
                "azdata_cell_guid": "3d9bee16-ee42-4a70-83a2-739dfa3d03bb"
            },
            "outputs": [
                {
                    "output_type": "stream",
                    "name": "stdout",
                    "text": "Support vector machine classifier (linear kernel, C=1)\n [[402   5]\n [  5  38]]\n"
                }
            ],
            "execution_count": 10
        },
        {
            "cell_type": "code",
            "source": [
                "from sklearn.linear_model import LogisticRegression\n",
                "\n",
                "lr = LogisticRegression().fit(X_train, y_train)\n",
                "lr_predicted = lr.predict(X_test)\n",
                "confusion = confusion_matrix(y_test, lr_predicted)\n",
                "\n",
                "print('Logistic regression classifier (default settings)\\n', confusion)"
            ],
            "metadata": {
                "id": "ueoV9vNYIwQA",
                "colab_type": "code",
                "colab": {
                    "base_uri": "https://localhost:8080/",
                    "height": 122
                },
                "outputId": "ec138b64-b574-455d-897f-a9942257355e",
                "executionInfo": {
                    "status": "ok",
                    "timestamp": 1562348753346,
                    "user_tz": -120,
                    "elapsed": 553,
                    "user": {
                        "displayName": "Machine Learning",
                        "photoUrl": "",
                        "userId": "05609927355646341864"
                    }
                },
                "azdata_cell_guid": "a87a29dd-2350-4e72-bd25-6a1365c89ea2"
            },
            "outputs": [
                {
                    "output_type": "stream",
                    "name": "stdout",
                    "text": "Logistic regression classifier (default settings)\n [[401   6]\n [  6  37]]\n"
                },
                {
                    "output_type": "stream",
                    "name": "stderr",
                    "text": "/usr/local/lib/python3.6/dist-packages/sklearn/linear_model/logistic.py:432: FutureWarning: Default solver will be changed to 'lbfgs' in 0.22. Specify a solver to silence this warning.\n  FutureWarning)\n"
                }
            ],
            "execution_count": 11
        },
        {
            "cell_type": "code",
            "source": [
                "from sklearn.tree import DecisionTreeClassifier\n",
                "\n",
                "dt = DecisionTreeClassifier(max_depth=10).fit(X_train, y_train)\n",
                "tree_predicted = dt.predict(X_test)\n",
                "confusion = confusion_matrix(y_test, tree_predicted)\n",
                "\n",
                "print('Decision tree classifier (max_depth = 2)\\n', confusion)"
            ],
            "metadata": {
                "id": "_GgS7mXrIwQE",
                "colab_type": "code",
                "colab": {
                    "base_uri": "https://localhost:8080/",
                    "height": 68
                },
                "outputId": "824cc90f-194d-43ec-9ec6-9c65df611303",
                "executionInfo": {
                    "status": "ok",
                    "timestamp": 1562348759447,
                    "user_tz": -120,
                    "elapsed": 645,
                    "user": {
                        "displayName": "Machine Learning",
                        "photoUrl": "",
                        "userId": "05609927355646341864"
                    }
                },
                "azdata_cell_guid": "1c0ca3b7-4e79-4c51-ad41-4b05fdb34b26"
            },
            "outputs": [
                {
                    "output_type": "stream",
                    "name": "stdout",
                    "text": "Decision tree classifier (max_depth = 2)\n [[402   5]\n [  7  36]]\n"
                }
            ],
            "execution_count": 12
        },
        {
            "cell_type": "markdown",
            "source": [
                "### Métricas de Evaluación para clasificación binaria"
            ],
            "metadata": {
                "id": "fDzof5XDIwQK",
                "colab_type": "text",
                "azdata_cell_guid": "ca7b85b1-ec6f-4aa1-af93-9f58b28e78ce"
            }
        },
        {
            "cell_type": "code",
            "source": [
                "from sklearn.metrics import accuracy_score, precision_score, recall_score, f1_score\n",
                "# Accuracy = TP + TN / (TP + TN + FP + FN)\n",
                "# Precision = TP / (TP + FP)\n",
                "# Recall = TP / (TP + FN)  También llamada sensitivity, or Ratio de positivos verdaderos\n",
                "# F1 = 2 * Precision * Recall / (Precision + Recall) \n",
                "print('Accuracy: {:.2f}'.format(accuracy_score(y_test, tree_predicted)))\n",
                "print('Precision: {:.2f}'.format(precision_score(y_test, tree_predicted)))\n",
                "print('Recall: {:.2f}'.format(recall_score(y_test, tree_predicted)))\n",
                "print('F1: {:.2f}'.format(f1_score(y_test, tree_predicted)))"
            ],
            "metadata": {
                "id": "4gWzWuUZIwQL",
                "colab_type": "code",
                "colab": {},
                "azdata_cell_guid": "426ee9c9-c0c5-41e4-95ef-39cff136fe5f"
            },
            "outputs": [],
            "execution_count": 0
        },
        {
            "cell_type": "code",
            "source": [
                "# informe combinado con todas las métricas\n",
                "from sklearn.metrics import classification_report\n",
                "\n",
                "print(classification_report(y_test, tree_predicted, target_names=['not 1', '1']))"
            ],
            "metadata": {
                "id": "6qVIyn3vIwQO",
                "colab_type": "code",
                "colab": {
                    "base_uri": "https://localhost:8080/",
                    "height": 170
                },
                "outputId": "838d1a7d-ffa5-4a17-b586-09ccb5e04fe3",
                "executionInfo": {
                    "status": "ok",
                    "timestamp": 1562348840684,
                    "user_tz": -120,
                    "elapsed": 678,
                    "user": {
                        "displayName": "Machine Learning",
                        "photoUrl": "",
                        "userId": "05609927355646341864"
                    }
                },
                "azdata_cell_guid": "00f1bffb-8351-480d-80e8-55676508086b"
            },
            "outputs": [
                {
                    "output_type": "stream",
                    "name": "stdout",
                    "text": "              precision    recall  f1-score   support\n\n       not 1       0.98      0.99      0.99       407\n           1       0.88      0.84      0.86        43\n\n    accuracy                           0.97       450\n   macro avg       0.93      0.91      0.92       450\nweighted avg       0.97      0.97      0.97       450\n\n"
                }
            ],
            "execution_count": 13
        },
        {
            "cell_type": "code",
            "source": [
                "print('Random class-proportional (dummy)\\n', \n",
                "      classification_report(y_test, y_classprop_predicted, target_names=['not 1', '1']))\n",
                "print('SVM\\n', \n",
                "      classification_report(y_test, svm_predicted, target_names = ['not 1', '1']))\n",
                "print('Logistic regression\\n', \n",
                "      classification_report(y_test, lr_predicted, target_names = ['not 1', '1']))\n",
                "print('Decision tree\\n', \n",
                "      classification_report(y_test, tree_predicted, target_names = ['not 1', '1']))"
            ],
            "metadata": {
                "scrolled": false,
                "id": "rGYSGFm1IwQS",
                "colab_type": "code",
                "colab": {
                    "base_uri": "https://localhost:8080/",
                    "height": 697
                },
                "outputId": "b2adc97d-33e4-4fb9-8283-57bf67274e08",
                "executionInfo": {
                    "status": "ok",
                    "timestamp": 1562348892881,
                    "user_tz": -120,
                    "elapsed": 573,
                    "user": {
                        "displayName": "Machine Learning",
                        "photoUrl": "",
                        "userId": "05609927355646341864"
                    }
                },
                "azdata_cell_guid": "fd14e31d-1713-4a85-8c30-56b6370c9bd6"
            },
            "outputs": [
                {
                    "output_type": "stream",
                    "name": "stdout",
                    "text": "Random class-proportional (dummy)\n               precision    recall  f1-score   support\n\n       not 1       0.90      0.88      0.89       407\n           1       0.07      0.09      0.08        43\n\n    accuracy                           0.80       450\n   macro avg       0.49      0.49      0.49       450\nweighted avg       0.82      0.80      0.81       450\n\nSVM\n               precision    recall  f1-score   support\n\n       not 1       0.99      0.99      0.99       407\n           1       0.88      0.88      0.88        43\n\n    accuracy                           0.98       450\n   macro avg       0.94      0.94      0.94       450\nweighted avg       0.98      0.98      0.98       450\n\nLogistic regression\n               precision    recall  f1-score   support\n\n       not 1       0.99      0.99      0.99       407\n           1       0.86      0.86      0.86        43\n\n    accuracy                           0.97       450\n   macro avg       0.92      0.92      0.92       450\nweighted avg       0.97      0.97      0.97       450\n\nDecision tree\n               precision    recall  f1-score   support\n\n       not 1       0.98      0.99      0.99       407\n           1       0.88      0.84      0.86        43\n\n    accuracy                           0.97       450\n   macro avg       0.93      0.91      0.92       450\nweighted avg       0.97      0.97      0.97       450\n\n"
                }
            ],
            "execution_count": 14
        },
        {
            "cell_type": "markdown",
            "source": [
                "### Funciones de decisión"
            ],
            "metadata": {
                "id": "Qh_9P79mIwQa",
                "colab_type": "text",
                "azdata_cell_guid": "c6ac7f0c-f5a6-4949-ae0c-ea1bb17b1848"
            }
        },
        {
            "cell_type": "code",
            "source": [
                "X_train, X_test, y_train, y_test = train_test_split(X, y_binary_imbalanced, random_state=0)\n",
                "y_scores_lr = lr.fit(X_train, y_train).decision_function(X_test)\n",
                "y_score_list = list(zip(y_test[0:20], y_scores_lr[0:20]))\n",
                "\n",
                "# mostrar los score de la función de decisión para las 20 primeras instancias\n",
                "y_score_list"
            ],
            "metadata": {
                "id": "pLJ_wYwtIwQd",
                "colab_type": "code",
                "colab": {
                    "base_uri": "https://localhost:8080/",
                    "height": 411
                },
                "outputId": "23b9a990-b89d-4fc8-fe42-1a8cd8d5ae74",
                "executionInfo": {
                    "status": "ok",
                    "timestamp": 1562349475194,
                    "user_tz": -120,
                    "elapsed": 588,
                    "user": {
                        "displayName": "Machine Learning",
                        "photoUrl": "",
                        "userId": "05609927355646341864"
                    }
                },
                "azdata_cell_guid": "b56ba3a2-82c2-4e90-be2e-f09edca43f9c"
            },
            "outputs": [
                {
                    "output_type": "stream",
                    "name": "stderr",
                    "text": "/usr/local/lib/python3.6/dist-packages/sklearn/linear_model/logistic.py:432: FutureWarning: Default solver will be changed to 'lbfgs' in 0.22. Specify a solver to silence this warning.\n  FutureWarning)\n"
                },
                {
                    "output_type": "execute_result",
                    "execution_count": 15,
                    "data": {
                        "text/plain": "[(0, -23.176989657551648),\n (0, -13.541450394871287),\n (0, -21.722627104092584),\n (0, -18.9070877412218),\n (0, -19.735542645875892),\n (0, -9.74976511370652),\n (1, 5.235015715026157),\n (0, -19.307664604253656),\n (0, -25.100994965540327),\n (0, -21.82719510575969),\n (0, -24.15093492646572),\n (0, -19.576898063798456),\n (0, -22.57434100152597),\n (0, -10.822984222208149),\n (0, -11.911690285632716),\n (0, -10.978841206941702),\n (1, 11.205893493373733),\n (0, -27.64586167419724),\n (0, -12.859331960110072),\n (0, -25.84863780560674)]"
                    },
                    "metadata": {
                        "tags": []
                    }
                }
            ],
            "execution_count": 15
        },
        {
            "cell_type": "code",
            "source": [
                "X_train, X_test, y_train, y_test = train_test_split(X, y_binary_imbalanced, random_state=0)\n",
                "y_proba_lr = lr.fit(X_train, y_train).predict_proba(X_test)\n",
                "y_proba_list = list(zip(y_test[0:20], y_proba_lr[0:20,1]))\n",
                "\n",
                "# show the probability of positive class for first 20 instances\n",
                "y_proba_list"
            ],
            "metadata": {
                "id": "TbNICdonIwQl",
                "colab_type": "code",
                "colab": {
                    "base_uri": "https://localhost:8080/",
                    "height": 411
                },
                "outputId": "9b7d097d-9f8c-42ad-e128-a4cd6f26cae6",
                "executionInfo": {
                    "status": "ok",
                    "timestamp": 1562349486279,
                    "user_tz": -120,
                    "elapsed": 651,
                    "user": {
                        "displayName": "Machine Learning",
                        "photoUrl": "",
                        "userId": "05609927355646341864"
                    }
                },
                "azdata_cell_guid": "5bf425e3-256a-41d9-82a0-f2c6e5fd275b"
            },
            "outputs": [
                {
                    "output_type": "stream",
                    "name": "stderr",
                    "text": "/usr/local/lib/python3.6/dist-packages/sklearn/linear_model/logistic.py:432: FutureWarning: Default solver will be changed to 'lbfgs' in 0.22. Specify a solver to silence this warning.\n  FutureWarning)\n"
                },
                {
                    "output_type": "execute_result",
                    "execution_count": 16,
                    "data": {
                        "text/plain": "[(0, 8.597284222417216e-11),\n (0, 1.3152922020136396e-06),\n (0, 3.681144927809022e-10),\n (0, 6.148315178535437e-09),\n (0, 2.6851140086604004e-09),\n (0, 5.8304958290213596e-05),\n (1, 0.9947014830529678),\n (0, 4.118962159414478e-09),\n (0, 1.2553834419861996e-11),\n (0, 3.315657098817125e-10),\n (0, 3.2462519881388256e-11),\n (0, 3.1467424346296725e-09),\n (0, 1.5706820130600582e-10),\n (0, 1.9935586479135097e-05),\n (0, 6.71144018686373e-06),\n (0, 1.7058562759822722e-05),\n (1, 0.9999864063404994),\n (0, 9.852690200775348e-13),\n (0, 2.601728407090735e-06),\n (0, 5.944005961243011e-12)]"
                    },
                    "metadata": {
                        "tags": []
                    }
                }
            ],
            "execution_count": 16
        },
        {
            "cell_type": "markdown",
            "source": [
                "### Curvas de precisión Re-call"
            ],
            "metadata": {
                "id": "EkXrLSXNIwQp",
                "colab_type": "text",
                "azdata_cell_guid": "63b54d90-0b7a-4fc9-a7fb-b214378e2470"
            }
        },
        {
            "cell_type": "code",
            "source": [
                "from sklearn.metrics import precision_recall_curve\n",
                "\n",
                "precision, recall, thresholds = precision_recall_curve(y_test, y_scores_lr)\n",
                "closest_zero = np.argmin(np.abs(thresholds))\n",
                "closest_zero_p = precision[closest_zero]\n",
                "closest_zero_r = recall[closest_zero]\n",
                "\n",
                "plt.figure()\n",
                "plt.xlim([0.0, 1.01])\n",
                "plt.ylim([0.0, 1.01])\n",
                "plt.plot(precision, recall, label='Precision-Recall Curve')\n",
                "plt.plot(closest_zero_p, closest_zero_r, 'o', markersize = 12, fillstyle = 'none', c='r', mew=3)\n",
                "plt.xlabel('Precision', fontsize=16)\n",
                "plt.ylabel('Recall', fontsize=16)\n",
                "plt.axes().set_aspect('equal')\n",
                "plt.show()"
            ],
            "metadata": {
                "id": "W0E84OyiIwQq",
                "colab_type": "code",
                "colab": {
                    "base_uri": "https://localhost:8080/",
                    "height": 359
                },
                "outputId": "5d44a387-0925-44b0-8c35-3949f7d5b17b",
                "executionInfo": {
                    "status": "ok",
                    "timestamp": 1562349513166,
                    "user_tz": -120,
                    "elapsed": 917,
                    "user": {
                        "displayName": "Machine Learning",
                        "photoUrl": "",
                        "userId": "05609927355646341864"
                    }
                },
                "azdata_cell_guid": "3c17fab0-f3a4-4b5a-a1e7-2c9e17a9fb3f"
            },
            "outputs": [
                {
                    "output_type": "stream",
                    "name": "stderr",
                    "text": "/usr/local/lib/python3.6/dist-packages/matplotlib/figure.py:98: MatplotlibDeprecationWarning: \nAdding an axes using the same arguments as a previous axes currently reuses the earlier instance.  In a future version, a new instance will always be created and returned.  Meanwhile, this warning can be suppressed, and the future behavior ensured, by passing a unique label to each axes instance.\n  \"Adding an axes using the same arguments as a previous axes \"\n"
                },
                {
                    "output_type": "display_data",
                    "data": {
                        "image/png": "[encoded data removed]",
                        "text/plain": "<Figure size 432x288 with 1 Axes>"
                    },
                    "metadata": {
                        "tags": []
                    }
                }
            ],
            "execution_count": 17
        },
        {
            "cell_type": "markdown",
            "source": [
                "### ROC curves, Area-Under-Curve (AUC)"
            ],
            "metadata": {
                "id": "LzhMtLiqIwQv",
                "colab_type": "text",
                "azdata_cell_guid": "3355d25b-c5d2-4588-83d7-d36bf7ae6ac8"
            }
        },
        {
            "cell_type": "code",
            "source": [
                "from sklearn.metrics import roc_curve, auc\n",
                "\n",
                "X_train, X_test, y_train, y_test = train_test_split(X, y_binary_imbalanced, random_state=0)\n",
                "\n",
                "y_score_lr = lr.fit(X_train, y_train).decision_function(X_test)\n",
                "fpr_lr, tpr_lr, _ = roc_curve(y_test, y_score_lr)\n",
                "roc_auc_lr = auc(fpr_lr, tpr_lr)\n",
                "\n",
                "plt.figure()\n",
                "plt.xlim([-0.01, 1.00])\n",
                "plt.ylim([-0.01, 1.01])\n",
                "plt.plot(fpr_lr, tpr_lr, lw=3, label='LogRegr ROC curve (area = {:0.2f})'.format(roc_auc_lr))\n",
                "plt.xlabel('False Positive Rate', fontsize=16)\n",
                "plt.ylabel('True Positive Rate', fontsize=16)\n",
                "plt.title('ROC curve (1-of-10 digits classifier)', fontsize=16)\n",
                "plt.legend(loc='lower right', fontsize=13)\n",
                "plt.plot([0, 1], [0, 1], color='navy', lw=3, linestyle='--')\n",
                "plt.axes().set_aspect('equal')\n",
                "plt.show()"
            ],
            "metadata": {
                "id": "CxD_AHJhIwQw",
                "colab_type": "code",
                "colab": {
                    "base_uri": "https://localhost:8080/",
                    "height": 407
                },
                "outputId": "bf4adcdc-9b42-447d-b799-0e6f557697f2",
                "executionInfo": {
                    "status": "ok",
                    "timestamp": 1562349547975,
                    "user_tz": -120,
                    "elapsed": 830,
                    "user": {
                        "displayName": "Machine Learning",
                        "photoUrl": "",
                        "userId": "05609927355646341864"
                    }
                },
                "azdata_cell_guid": "e32432b1-282b-426f-8671-06864dca3a65"
            },
            "outputs": [
                {
                    "output_type": "stream",
                    "name": "stderr",
                    "text": "/usr/local/lib/python3.6/dist-packages/sklearn/linear_model/logistic.py:432: FutureWarning: Default solver will be changed to 'lbfgs' in 0.22. Specify a solver to silence this warning.\n  FutureWarning)\n/usr/local/lib/python3.6/dist-packages/matplotlib/figure.py:98: MatplotlibDeprecationWarning: \nAdding an axes using the same arguments as a previous axes currently reuses the earlier instance.  In a future version, a new instance will always be created and returned.  Meanwhile, this warning can be suppressed, and the future behavior ensured, by passing a unique label to each axes instance.\n  \"Adding an axes using the same arguments as a previous axes \"\n"
                },
                {
                    "output_type": "display_data",
                    "data": {
                        "image/png": "[encoded data removed]",
                        "text/plain": "<Figure size 432x288 with 1 Axes>"
                    },
                    "metadata": {
                        "tags": []
                    }
                }
            ],
            "execution_count": 18
        },
        {
            "cell_type": "code",
            "source": [
                "from matplotlib import cm\n",
                "\n",
                "X_train, X_test, y_train, y_test = train_test_split(X, y_binary_imbalanced, random_state=0)\n",
                "\n",
                "plt.figure()\n",
                "plt.xlim([-0.01, 1.00])\n",
                "plt.ylim([-0.01, 1.01])\n",
                "for g in [0.01, 0.1, 0.20, 1]:\n",
                "    svm = SVC(gamma=g).fit(X_train, y_train)\n",
                "    y_score_svm = svm.decision_function(X_test)\n",
                "    fpr_svm, tpr_svm, _ = roc_curve(y_test, y_score_svm)\n",
                "    roc_auc_svm = auc(fpr_svm, tpr_svm)\n",
                "    accuracy_svm = svm.score(X_test, y_test)\n",
                "    print(\"gamma = {:.2f}  accuracy = {:.2f}   AUC = {:.2f}\".format(g, accuracy_svm, \n",
                "                                                                    roc_auc_svm))\n",
                "    plt.plot(fpr_svm, tpr_svm, lw=3, alpha=0.7, \n",
                "             label='SVM (gamma = {:0.2f}, area = {:0.2f})'.format(g, roc_auc_svm))\n",
                "\n",
                "plt.xlabel('False Positive Rate', fontsize=16)\n",
                "plt.ylabel('True Positive Rate (Recall)', fontsize=16)\n",
                "plt.plot([0, 1], [0, 1], color='k', lw=0.5, linestyle='--')\n",
                "plt.legend(loc=\"lower right\", fontsize=11)\n",
                "plt.title('ROC curve: (1-of-10 digits classifier)', fontsize=16)\n",
                "plt.axes().set_aspect('equal')\n",
                "\n",
                "plt.show()"
            ],
            "metadata": {
                "scrolled": false,
                "id": "YxBlaKoOIwQz",
                "colab_type": "code",
                "colab": {},
                "azdata_cell_guid": "8673ab4b-6832-4e0e-b71e-38a56384bcbe"
            },
            "outputs": [],
            "execution_count": 0
        },
        {
            "cell_type": "markdown",
            "source": [
                "## Métricas de Evaluación de regresión"
            ],
            "metadata": {
                "id": "NwzMpu70IwRK",
                "colab_type": "text",
                "azdata_cell_guid": "c8ad1df0-6137-4433-a846-bcc7dbd91114"
            }
        },
        {
            "cell_type": "code",
            "source": [
                "#%matplotlib notebook\n",
                "import matplotlib.pyplot as plt\n",
                "import numpy as np\n",
                "from sklearn.model_selection import train_test_split\n",
                "from sklearn import datasets\n",
                "from sklearn.linear_model import LinearRegression\n",
                "from sklearn.metrics import mean_squared_error, r2_score\n",
                "from sklearn.dummy import DummyRegressor\n",
                "\n",
                "diabetes = datasets.load_diabetes()\n",
                "\n",
                "X = diabetes.data[:, None, 6]\n",
                "y = diabetes.target\n",
                "\n",
                "X_train, X_test, y_train, y_test = train_test_split(X, y, random_state=0)\n",
                "\n",
                "lm = LinearRegression().fit(X_train, y_train)\n",
                "lm_dummy_mean = DummyRegressor(strategy = 'mean').fit(X_train, y_train)\n",
                "\n",
                "y_predict = lm.predict(X_test)\n",
                "y_predict_dummy_mean = lm_dummy_mean.predict(X_test)\n",
                "\n",
                "print('Linear model, coefficients: ', lm.coef_)\n",
                "print(\"Mean squared error (dummy): {:.2f}\".format(mean_squared_error(y_test, \n",
                "                                                                     y_predict_dummy_mean)))\n",
                "print(\"Mean squared error (linear model): {:.2f}\".format(mean_squared_error(y_test, y_predict)))\n",
                "print(\"r2_score (dummy): {:.2f}\".format(r2_score(y_test, y_predict_dummy_mean)))\n",
                "print(\"r2_score (linear model): {:.2f}\".format(r2_score(y_test, y_predict)))\n",
                "\n",
                "# Plot outputs\n",
                "plt.scatter(X_test, y_test,  color='black')\n",
                "plt.plot(X_test, y_predict, color='green', linewidth=2)\n",
                "plt.plot(X_test, y_predict_dummy_mean, color='red', linestyle = 'dashed', \n",
                "         linewidth=2, label = 'dummy')\n",
                "\n",
                "plt.show()"
            ],
            "metadata": {
                "id": "DHeYK0SKIwRL",
                "colab_type": "code",
                "colab": {
                    "base_uri": "https://localhost:8080/",
                    "height": 354
                },
                "outputId": "3140aefd-cc30-4996-f0da-6945910a8658",
                "executionInfo": {
                    "status": "ok",
                    "timestamp": 1562349832232,
                    "user_tz": -120,
                    "elapsed": 782,
                    "user": {
                        "displayName": "Machine Learning",
                        "photoUrl": "",
                        "userId": "05609927355646341864"
                    }
                },
                "azdata_cell_guid": "808856fb-1952-4a66-80f1-2f968d81045c"
            },
            "outputs": [
                {
                    "output_type": "stream",
                    "name": "stdout",
                    "text": "Linear model, coefficients:  [-698.80206267]\nMean squared error (dummy): 4965.13\nMean squared error (linear model): 4646.74\nr2_score (dummy): -0.00\nr2_score (linear model): 0.06\n"
                },
                {
                    "output_type": "display_data",
                    "data": {
                        "image/png": "[encoded data removed]",
                        "text/plain": "<Figure size 432x288 with 1 Axes>"
                    },
                    "metadata": {
                        "tags": []
                    }
                }
            ],
            "execution_count": 19
        },
        {
            "cell_type": "code",
            "source": [
                "diabetes.data"
            ],
            "metadata": {
                "id": "nTrSdccP_vkF",
                "colab_type": "code",
                "colab": {},
                "azdata_cell_guid": "f697d712-26e5-4236-81e1-0e9df1df7b22"
            },
            "outputs": [],
            "execution_count": 0
        },
        {
            "cell_type": "markdown",
            "source": [
                "### Selección de Modelos utilizando métricas de evaluación"
            ],
            "metadata": {
                "id": "TQyUvCbEIwRS",
                "colab_type": "text",
                "azdata_cell_guid": "392f9192-b4ef-462a-83ed-6a32b097936a"
            }
        },
        {
            "cell_type": "markdown",
            "source": [
                "#### Cross-validation "
            ],
            "metadata": {
                "id": "7wrx4wfmIwRT",
                "colab_type": "text",
                "azdata_cell_guid": "73c85241-f8be-40e3-b87e-efbc23035c2d"
            }
        },
        {
            "cell_type": "code",
            "source": [
                "from sklearn.model_selection import cross_val_score\n",
                "from sklearn.svm import SVC\n",
                "\n",
                "dataset = load_digits()\n",
                "# again, making this a binary problem with 'digit 1' as positive class \n",
                "# and 'not 1' as negative class\n",
                "X, y = dataset.data, dataset.target == 1\n",
                "clf = SVC(kernel='linear', C=1)\n",
                "\n",
                "# accuracy is the default scoring metric\n",
                "print('Cross-validation (accuracy)', cross_val_score(clf, X, y, cv=5))\n",
                "# use AUC as scoring metric\n",
                "print('Cross-validation (AUC)', cross_val_score(clf, X, y, cv=5, scoring = 'roc_auc'))\n",
                "# use recall as scoring metric\n",
                "print('Cross-validation (recall)', cross_val_score(clf, X, y, cv=5, scoring = 'recall'))"
            ],
            "metadata": {
                "id": "YWg4rKO2IwRV",
                "colab_type": "code",
                "colab": {
                    "base_uri": "https://localhost:8080/",
                    "height": 68
                },
                "outputId": "0aa63875-0eba-4f9d-980b-3467c1b55e11",
                "executionInfo": {
                    "status": "ok",
                    "timestamp": 1562350062481,
                    "user_tz": -120,
                    "elapsed": 1402,
                    "user": {
                        "displayName": "Machine Learning",
                        "photoUrl": "",
                        "userId": "05609927355646341864"
                    }
                },
                "azdata_cell_guid": "2e4022c3-d692-4f0b-98ba-812aba9de2e7"
            },
            "outputs": [
                {
                    "output_type": "stream",
                    "name": "stdout",
                    "text": "Cross-validation (accuracy) [0.91944444 0.98611111 0.97214485 0.97493036 0.96935933]\nCross-validation (AUC) [0.9641871  0.9976571  0.99372205 0.99699002 0.98675611]\nCross-validation (recall) [0.81081081 0.89189189 0.83333333 0.83333333 0.83333333]\n"
                }
            ],
            "execution_count": 20
        },
        {
            "cell_type": "markdown",
            "source": [
                "#### Métricas de evaluación soportadas para selección de modelos"
            ],
            "metadata": {
                "id": "S8PcWTbxIwRh",
                "colab_type": "text",
                "azdata_cell_guid": "39bd4dda-4e01-450d-b9a5-e3a49c70dad6"
            }
        },
        {
            "cell_type": "code",
            "source": [
                "from sklearn.metrics.scorer import SCORERS\n",
                "\n",
                "print(sorted(list(SCORERS.keys())))"
            ],
            "metadata": {
                "id": "wHHfmOKIIwRi",
                "colab_type": "code",
                "colab": {},
                "azdata_cell_guid": "bd546bfb-b2ee-4b1f-9f09-c4fefe620ad2"
            },
            "outputs": [],
            "execution_count": 0
        }
    ]
}