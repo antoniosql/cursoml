{
    "metadata": {
        "kernelspec": {
            "name": "python3",
            "display_name": "Python 3"
        },
        "language_info": {
            "name": "python",
            "version": "3.6.6",
            "mimetype": "text/x-python",
            "codemirror_mode": {
                "name": "ipython",
                "version": 3
            },
            "pygments_lexer": "ipython3",
            "nbconvert_exporter": "python",
            "file_extension": ".py"
        }
    },
    "nbformat_minor": 2,
    "nbformat": 4,
    "cells": [
        {
            "cell_type": "markdown",
            "source": [
                "![SolidQ](https://www.solidq.com/wp-content/uploads/2015/06/Logo-SolidQ-Web.gif)    "
            ],
            "metadata": {
                "azdata_cell_guid": "6ff08df4-5bc0-47c1-ba66-20206ccc00b1"
            }
        },
        {
            "cell_type": "markdown",
            "source": [
                "# Visualización con Pandas"
            ],
            "metadata": {
                "id": "lMj-AMuwwXm_",
                "colab_type": "text",
                "azdata_cell_guid": "023fc82f-0fcd-4826-a065-93ab4945fb60"
            }
        },
        {
            "cell_type": "code",
            "source": [
                "import matplotlib.pyplot as plt\n",
                "import numpy as np\n",
                "import pandas as pd\n",
                "\n",
                "%matplotlib inline\n",
                "\n",
                "#!pip install dsutil\n",
                "#from dsutil import plotting"
            ],
            "metadata": {
                "id": "JcxP4Z9GwSad",
                "colab_type": "code",
                "colab": {},
                "azdata_cell_guid": "65afc185-cd26-4814-8eda-5236c18bbb92"
            },
            "outputs": [],
            "execution_count": 0
        },
        {
            "cell_type": "code",
            "source": [
                "df = pd.DataFrame({\n",
                "    'nombre':['john','mary','peter','jeff','bill','lisa','jose'],\n",
                "    'edad':[23,78,22,19,45,33,20],\n",
                "    'sexo':['M','F','M','M','M','F','M'],\n",
                "    'estado':['california','dc','california','dc','california','texas','texas'],\n",
                "    'num_hijos':[2,0,0,3,2,1,4],\n",
                "    'num_mascotas':[5,1,0,5,2,2,3]\n",
                "})\n",
                "df[['nombre','edad','sexo','estado','num_hijos','num_mascotas']]"
            ],
            "metadata": {
                "id": "BnHpsUcPw1Hu",
                "colab_type": "code",
                "colab": {},
                "azdata_cell_guid": "8c1dbbf1-415b-45d2-90bf-4c6d7e08c26f"
            },
            "outputs": [],
            "execution_count": 0
        },
        {
            "cell_type": "code",
            "source": [
                "# plot num_hijos vs num_mascotas\n",
                "df.plot(kind='scatter',x='num_hijos',y='num_mascotas',color='red')"
            ],
            "metadata": {
                "id": "x6fhZnFYw75l",
                "colab_type": "code",
                "outputId": "415d11e8-00f1-411a-f6c8-181abcc06119",
                "executionInfo": {
                    "status": "ok",
                    "timestamp": 1573415775122,
                    "user_tz": -60,
                    "elapsed": 770,
                    "user": {
                        "displayName": "Machine Learning",
                        "photoUrl": "",
                        "userId": "05609927355646341864"
                    }
                },
                "colab": {
                    "base_uri": "https://localhost:8080/",
                    "height": 297
                },
                "azdata_cell_guid": "87a3d650-cd10-40aa-ad9b-f567ee402792"
            },
            "outputs": [
                {
                    "output_type": "execute_result",
                    "execution_count": 3,
                    "data": {
                        "text/plain": "<matplotlib.axes._subplots.AxesSubplot at 0x7fa1aeb804e0>"
                    },
                    "metadata": {
                        "tags": []
                    }
                },
                {
                    "output_type": "display_data",
                    "data": {
                        "image/png": "[encoded data removed]",
                        "text/plain": "<Figure size 432x288 with 1 Axes>"
                    },
                    "metadata": {
                        "tags": []
                    }
                }
            ],
            "execution_count": 0
        },
        {
            "cell_type": "code",
            "source": [
                "df.plot(kind='bar',x='nombre',y='edad')"
            ],
            "metadata": {
                "id": "s9El6MD7w9Po",
                "colab_type": "code",
                "outputId": "2287e1c2-8d36-4936-f1ac-785fe33fd622",
                "executionInfo": {
                    "status": "ok",
                    "timestamp": 1561742691992,
                    "user_tz": -120,
                    "elapsed": 571,
                    "user": {
                        "displayName": "Machine Learning",
                        "photoUrl": "",
                        "userId": "05609927355646341864"
                    }
                },
                "colab": {
                    "base_uri": "https://localhost:8080/",
                    "height": 316
                },
                "azdata_cell_guid": "27861b1b-26b9-4901-ab9c-f0e2bb1ed4f4"
            },
            "outputs": [
                {
                    "output_type": "execute_result",
                    "execution_count": 4,
                    "data": {
                        "text/plain": "<matplotlib.axes._subplots.AxesSubplot at 0x7f522f14f710>"
                    },
                    "metadata": {
                        "tags": []
                    }
                },
                {
                    "output_type": "display_data",
                    "data": {
                        "image/png": "[encoded data removed]",
                        "text/plain": "<Figure size 432x288 with 1 Axes>"
                    },
                    "metadata": {
                        "tags": []
                    }
                }
            ],
            "execution_count": 0
        },
        {
            "cell_type": "code",
            "source": [
                "plt.clf()\n",
                "# gca stands for 'get current axis'\n",
                "ax = plt.gca()\n",
                "\n",
                "df.plot(kind='line',x='nombre',y='num_hijos',ax=ax)\n",
                "df.plot(kind='line',x='nombre',y='num_mascotas', color='red', ax=ax)\n",
                "\n",
                "plt.show()"
            ],
            "metadata": {
                "id": "4Y87pBmixDiX",
                "colab_type": "code",
                "outputId": "73a4300c-e115-4af0-8b15-deb37e6ea633",
                "executionInfo": {
                    "status": "ok",
                    "timestamp": 1561742702888,
                    "user_tz": -120,
                    "elapsed": 726,
                    "user": {
                        "displayName": "Machine Learning",
                        "photoUrl": "",
                        "userId": "05609927355646341864"
                    }
                },
                "colab": {
                    "base_uri": "https://localhost:8080/",
                    "height": 283
                },
                "azdata_cell_guid": "cbeec154-eb63-40a9-a0bb-2ce49b39c419"
            },
            "outputs": [
                {
                    "output_type": "display_data",
                    "data": {
                        "image/png": "[encoded data removed]",
                        "text/plain": "<Figure size 432x288 with 1 Axes>"
                    },
                    "metadata": {
                        "tags": []
                    }
                }
            ],
            "execution_count": 0
        },
        {
            "cell_type": "code",
            "source": [
                "df.groupby('estado')['nombre'].count().plot(kind='bar')"
            ],
            "metadata": {
                "id": "OBZZ5hj9xN5L",
                "colab_type": "code",
                "outputId": "1c4ab9d8-eb59-4f75-a24c-fc5aeeef51b6",
                "executionInfo": {
                    "status": "ok",
                    "timestamp": 1561742829136,
                    "user_tz": -120,
                    "elapsed": 682,
                    "user": {
                        "displayName": "Machine Learning",
                        "photoUrl": "",
                        "userId": "05609927355646341864"
                    }
                },
                "colab": {
                    "base_uri": "https://localhost:8080/",
                    "height": 336
                },
                "azdata_cell_guid": "20f144d1-c721-4917-b78e-8ef0635ff5b7"
            },
            "outputs": [
                {
                    "output_type": "execute_result",
                    "execution_count": 6,
                    "data": {
                        "text/plain": "<matplotlib.axes._subplots.AxesSubplot at 0x7f522f089f60>"
                    },
                    "metadata": {
                        "tags": []
                    }
                },
                {
                    "output_type": "display_data",
                    "data": {
                        "image/png": "[encoded data removed]",
                        "text/plain": "<Figure size 432x288 with 1 Axes>"
                    },
                    "metadata": {
                        "tags": []
                    }
                }
            ],
            "execution_count": 0
        },
        {
            "cell_type": "code",
            "source": [
                "df.groupby('estado').size().plot(kind='bar')"
            ],
            "metadata": {
                "id": "0eXLN7OFxQ5o",
                "colab_type": "code",
                "outputId": "70012a93-f4d2-4df7-f863-759af5fa70d1",
                "executionInfo": {
                    "status": "ok",
                    "timestamp": 1561742869513,
                    "user_tz": -120,
                    "elapsed": 582,
                    "user": {
                        "displayName": "Machine Learning",
                        "photoUrl": "",
                        "userId": "05609927355646341864"
                    }
                },
                "colab": {
                    "base_uri": "https://localhost:8080/",
                    "height": 336
                },
                "azdata_cell_guid": "c67d77c5-0c21-4a60-9852-623dc4e10e33"
            },
            "outputs": [
                {
                    "output_type": "execute_result",
                    "execution_count": 7,
                    "data": {
                        "text/plain": "<matplotlib.axes._subplots.AxesSubplot at 0x7f522f0265c0>"
                    },
                    "metadata": {
                        "tags": []
                    }
                },
                {
                    "output_type": "display_data",
                    "data": {
                        "image/png": "[encoded data removed]",
                        "text/plain": "<Figure size 432x288 with 1 Axes>"
                    },
                    "metadata": {
                        "tags": []
                    }
                }
            ],
            "execution_count": 0
        },
        {
            "cell_type": "code",
            "source": [
                "df.groupby(['estado','sexo']).size().unstack().plot(kind='bar',stacked=True)\n",
                "plt.show()"
            ],
            "metadata": {
                "id": "s8gK5wakxTtF",
                "colab_type": "code",
                "outputId": "64b2fa91-affa-412f-b4f7-5e35a5c8eba3",
                "executionInfo": {
                    "status": "ok",
                    "timestamp": 1561742934904,
                    "user_tz": -120,
                    "elapsed": 722,
                    "user": {
                        "displayName": "Machine Learning",
                        "photoUrl": "",
                        "userId": "05609927355646341864"
                    }
                },
                "colab": {
                    "base_uri": "https://localhost:8080/",
                    "height": 319
                },
                "azdata_cell_guid": "1dbd051f-fdfb-44b1-928a-4be954d79b56"
            },
            "outputs": [
                {
                    "output_type": "display_data",
                    "data": {
                        "image/png": "[encoded data removed]",
                        "text/plain": "<Figure size 432x288 with 1 Axes>"
                    },
                    "metadata": {
                        "tags": []
                    }
                }
            ],
            "execution_count": 0
        },
        {
            "cell_type": "code",
            "source": [
                "plt.clf()\n",
                "df.groupby(['sexo','estado'])['edad'].size().unstack().plot(kind='bar',stacked=True)\n",
                "plt.legend(loc='lower right')\n",
                "plt.gcf().set_size_inches(7,4)\n",
                "plt.show()"
            ],
            "metadata": {
                "id": "_NYLH15bxWbb",
                "colab_type": "code",
                "outputId": "d8338a56-a3b1-41f8-d786-0bda7c862e3a",
                "executionInfo": {
                    "status": "ok",
                    "timestamp": 1561742983068,
                    "user_tz": -120,
                    "elapsed": 796,
                    "user": {
                        "displayName": "Machine Learning",
                        "photoUrl": "",
                        "userId": "05609927355646341864"
                    }
                },
                "colab": {
                    "base_uri": "https://localhost:8080/",
                    "height": 298
                },
                "azdata_cell_guid": "1be8ecff-6bf4-4894-aeb2-2fbfff7825c1"
            },
            "outputs": [
                {
                    "output_type": "display_data",
                    "data": {
                        "text/plain": "<Figure size 432x288 with 0 Axes>"
                    },
                    "metadata": {
                        "tags": []
                    }
                },
                {
                    "output_type": "display_data",
                    "data": {
                        "image/png": "[encoded data removed]",
                        "text/plain": "<Figure size 504x288 with 1 Axes>"
                    },
                    "metadata": {
                        "tags": []
                    }
                }
            ],
            "execution_count": 0
        },
        {
            "cell_type": "code",
            "source": [
                "df[['edad']].plot(kind='hist',bins=[0,20,40,60,80,100],rwidth=0.9,)"
            ],
            "metadata": {
                "id": "2Bu-K4pYxZlX",
                "colab_type": "code",
                "outputId": "5e1d8395-ea59-4e6f-d3c0-833a868e9ca5",
                "executionInfo": {
                    "status": "ok",
                    "timestamp": 1561743001785,
                    "user_tz": -120,
                    "elapsed": 613,
                    "user": {
                        "displayName": "Machine Learning",
                        "photoUrl": "",
                        "userId": "05609927355646341864"
                    }
                },
                "colab": {
                    "base_uri": "https://localhost:8080/",
                    "height": 286
                },
                "azdata_cell_guid": "5cdc645d-7e1b-4b63-bf22-5e6eacaeec34"
            },
            "outputs": [
                {
                    "output_type": "execute_result",
                    "execution_count": 10,
                    "data": {
                        "text/plain": "<matplotlib.axes._subplots.AxesSubplot at 0x7f522eec5240>"
                    },
                    "metadata": {
                        "tags": []
                    }
                },
                {
                    "output_type": "display_data",
                    "data": {
                        "image/png": "[encoded data removed]",
                        "text/plain": "<Figure size 432x288 with 1 Axes>"
                    },
                    "metadata": {
                        "tags": []
                    }
                }
            ],
            "execution_count": 0
        },
        {
            "cell_type": "code",
            "source": [
                "df['edad'].plot(\n",
                "    kind='box',\n",
                "    figsize=(12,8)\n",
                ")"
            ],
            "metadata": {
                "id": "tVhNiDts6p6Z",
                "colab_type": "code",
                "outputId": "1889ec31-1a2e-4d0b-ca06-292d0e621680",
                "executionInfo": {
                    "status": "ok",
                    "timestamp": 1573416262998,
                    "user_tz": -60,
                    "elapsed": 882,
                    "user": {
                        "displayName": "Machine Learning",
                        "photoUrl": "",
                        "userId": "05609927355646341864"
                    }
                },
                "colab": {
                    "base_uri": "https://localhost:8080/",
                    "height": 500
                },
                "azdata_cell_guid": "ccfa5e9e-2743-4867-86c3-7ab6263a9942"
            },
            "outputs": [
                {
                    "output_type": "execute_result",
                    "execution_count": 4,
                    "data": {
                        "text/plain": "<matplotlib.axes._subplots.AxesSubplot at 0x7fa1abaa5198>"
                    },
                    "metadata": {
                        "tags": []
                    }
                },
                {
                    "output_type": "display_data",
                    "data": {
                        "image/png": "[encoded data removed]",
                        "text/plain": "<Figure size 864x576 with 1 Axes>"
                    },
                    "metadata": {
                        "tags": []
                    }
                }
            ],
            "execution_count": 0
        },
        {
            "cell_type": "code",
            "source": [
                "import matplotlib.ticker as mtick\n",
                "\n",
                "df.groupby(['sexo','estado'])['edad'].size().groupby(level=0).apply(\n",
                "    lambda x: 100 * x / x.sum()\n",
                ").unstack().plot(kind='bar',stacked=True)\n",
                "\n",
                "plt.gca().yaxis.set_major_formatter(mtick.PercentFormatter())\n",
                "plt.legend(loc='lower right')\n",
                "plt.gcf().set_size_inches(7,4)\n",
                "plt.show()"
            ],
            "metadata": {
                "id": "98mzbRtVxaSi",
                "colab_type": "code",
                "outputId": "18702b07-6dfb-4096-f04a-fe4f510f7986",
                "executionInfo": {
                    "status": "ok",
                    "timestamp": 1561743028986,
                    "user_tz": -120,
                    "elapsed": 828,
                    "user": {
                        "displayName": "Machine Learning",
                        "photoUrl": "",
                        "userId": "05609927355646341864"
                    }
                },
                "colab": {
                    "base_uri": "https://localhost:8080/",
                    "height": 281
                },
                "azdata_cell_guid": "185933ed-5bc9-442b-baad-be5304e1a70a"
            },
            "outputs": [
                {
                    "output_type": "display_data",
                    "data": {
                        "image/png": "[encoded data removed]",
                        "text/plain": "<Figure size 504x288 with 1 Axes>"
                    },
                    "metadata": {
                        "tags": []
                    }
                }
            ],
            "execution_count": 0
        },
        {
            "cell_type": "code",
            "source": [
                "df = pd.DataFrame({\n",
                "    'nombre':['john','lisa','peter','carl','linda','betty'],\n",
                "    'fecha_nacimiento':[\n",
                "        '01/21/1988','03/10/1977','07/25/1999','01/22/1977','09/30/1968','09/15/1970'\n",
                "    ]\n",
                "})\n"
            ],
            "metadata": {
                "id": "m2rn2EVaxgaX",
                "colab_type": "code",
                "colab": {},
                "azdata_cell_guid": "38f6f924-85c8-4a41-8f85-ec25db267ae9"
            },
            "outputs": [],
            "execution_count": 0
        },
        {
            "cell_type": "code",
            "source": [
                "df['fecha_nacimiento'] = pd.to_datetime(df['fecha_nacimiento'],infer_datetime_format=True)\n",
                "df"
            ],
            "metadata": {
                "id": "-qT6HiaYxh2T",
                "colab_type": "code",
                "outputId": "35ea50ee-aef6-4fb9-ab7e-b58cf7ad6797",
                "executionInfo": {
                    "status": "ok",
                    "timestamp": 1561743254421,
                    "user_tz": -120,
                    "elapsed": 680,
                    "user": {
                        "displayName": "Machine Learning",
                        "photoUrl": "",
                        "userId": "05609927355646341864"
                    }
                },
                "colab": {
                    "base_uri": "https://localhost:8080/",
                    "height": 235
                },
                "azdata_cell_guid": "4776cb0f-bdd1-44b8-9701-f8968ed315bf"
            },
            "outputs": [
                {
                    "output_type": "execute_result",
                    "execution_count": 17,
                    "data": {
                        "text/html": "<div>\n<style scoped>\n    .dataframe tbody tr th:only-of-type {\n        vertical-align: middle;\n    }\n\n    .dataframe tbody tr th {\n        vertical-align: top;\n    }\n\n    .dataframe thead th {\n        text-align: right;\n    }\n</style>\n<table border=\"1\" class=\"dataframe\">\n  <thead>\n    <tr style=\"text-align: right;\">\n      <th></th>\n      <th>nombre</th>\n      <th>fecha_nacimiento</th>\n    </tr>\n  </thead>\n  <tbody>\n    <tr>\n      <th>0</th>\n      <td>john</td>\n      <td>1988-01-21</td>\n    </tr>\n    <tr>\n      <th>1</th>\n      <td>lisa</td>\n      <td>1977-03-10</td>\n    </tr>\n    <tr>\n      <th>2</th>\n      <td>peter</td>\n      <td>1999-07-25</td>\n    </tr>\n    <tr>\n      <th>3</th>\n      <td>carl</td>\n      <td>1977-01-22</td>\n    </tr>\n    <tr>\n      <th>4</th>\n      <td>linda</td>\n      <td>1968-09-30</td>\n    </tr>\n    <tr>\n      <th>5</th>\n      <td>betty</td>\n      <td>1970-09-15</td>\n    </tr>\n  </tbody>\n</table>\n</div>",
                        "text/plain": "  nombre fecha_nacimiento\n0   john       1988-01-21\n1   lisa       1977-03-10\n2  peter       1999-07-25\n3   carl       1977-01-22\n4  linda       1968-09-30\n5  betty       1970-09-15"
                    },
                    "metadata": {
                        "tags": []
                    }
                }
            ],
            "execution_count": 0
        },
        {
            "cell_type": "code",
            "source": [
                "import pandas as pd\n",
                "df = pd.read_csv()"
            ],
            "metadata": {
                "id": "Bd1EifOhKHdS",
                "colab_type": "code",
                "colab": {},
                "azdata_cell_guid": "aa6ec3d0-875e-4758-95f7-8bbaaae23f2d"
            },
            "outputs": [],
            "execution_count": 0
        },
        {
            "cell_type": "code",
            "source": [
                "df.dtypes"
            ],
            "metadata": {
                "id": "OstLWq8FxmLt",
                "colab_type": "code",
                "outputId": "f714e6f1-f116-49df-bc11-927b99d82a3e",
                "executionInfo": {
                    "status": "ok",
                    "timestamp": 1561743190434,
                    "user_tz": -120,
                    "elapsed": 550,
                    "user": {
                        "displayName": "Machine Learning",
                        "photoUrl": "",
                        "userId": "05609927355646341864"
                    }
                },
                "colab": {
                    "base_uri": "https://localhost:8080/",
                    "height": 68
                },
                "azdata_cell_guid": "0fe0f630-65e6-443d-bc54-c27b0c1f5b64"
            },
            "outputs": [
                {
                    "output_type": "execute_result",
                    "execution_count": 16,
                    "data": {
                        "text/plain": "nombre              object\nfecha_nacimiento    object\ndtype: object"
                    },
                    "metadata": {
                        "tags": []
                    }
                }
            ],
            "execution_count": 0
        },
        {
            "cell_type": "code",
            "source": [
                "plt.clf()\n",
                "df['fecha_nacimiento'].map(lambda d: d.month).plot(kind='hist')\n",
                "plt.xlabel('Número de Mes')\n",
                "#plotting.add_grid()\n",
                "plt.show()"
            ],
            "metadata": {
                "id": "bhKsGmj2x0Io",
                "colab_type": "code",
                "outputId": "62942c86-6ae6-43de-f1b5-f24e734bdd6a",
                "executionInfo": {
                    "status": "ok",
                    "timestamp": 1561743284363,
                    "user_tz": -120,
                    "elapsed": 873,
                    "user": {
                        "displayName": "Machine Learning",
                        "photoUrl": "",
                        "userId": "05609927355646341864"
                    }
                },
                "colab": {
                    "base_uri": "https://localhost:8080/",
                    "height": 283
                },
                "azdata_cell_guid": "04bffc63-ff83-4dcc-aeba-fb3bf5a5727e"
            },
            "outputs": [
                {
                    "output_type": "display_data",
                    "data": {
                        "image/png": "[encoded data removed]",
                        "text/plain": "<Figure size 432x288 with 1 Axes>"
                    },
                    "metadata": {
                        "tags": []
                    }
                }
            ],
            "execution_count": 0
        }
    ]
}