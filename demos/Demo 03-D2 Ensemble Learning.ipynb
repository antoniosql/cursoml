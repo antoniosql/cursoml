{
    "metadata": {
        "kernelspec": {
            "name": "python3",
            "display_name": "Python 3"
        },
        "language_info": {
            "name": "python",
            "version": "3.6.6",
            "mimetype": "text/x-python",
            "codemirror_mode": {
                "name": "ipython",
                "version": 3
            },
            "pygments_lexer": "ipython3",
            "nbconvert_exporter": "python",
            "file_extension": ".py"
        }
    },
    "nbformat_minor": 2,
    "nbformat": 4,
    "cells": [
        {
            "cell_type": "markdown",
            "source": [
                "![SolidQ](https://www.solidq.com/wp-content/uploads/2015/06/Logo-SolidQ-Web.gif)"
            ],
            "metadata": {
                "azdata_cell_guid": "ce147c1b-a6e8-47d3-8f7e-26d203faf789"
            }
        },
        {
            "cell_type": "markdown",
            "source": [
                "# Carga de datos y revisión"
            ],
            "metadata": {
                "id": "Wz4FbjZ00TGD",
                "colab_type": "text",
                "azdata_cell_guid": "f7450233-b89b-4662-9412-992240ae76f2"
            }
        },
        {
            "cell_type": "code",
            "source": [
                "import pandas as pd\n",
                "import matplotlib.pyplot as plt\n",
                "datos = pd.read_csv('bank-full.csv', sep=';')\n",
                "datos.head()"
            ],
            "metadata": {
                "id": "HCOMFgOT-tAr",
                "colab_type": "code",
                "outputId": "75277c30-c818-499f-cb51-4e6b022249b6",
                "executionInfo": {
                    "status": "ok",
                    "timestamp": 1562338540202,
                    "user_tz": -120,
                    "elapsed": 634,
                    "user": {
                        "displayName": "Machine Learning",
                        "photoUrl": "",
                        "userId": "05609927355646341864"
                    }
                },
                "colab": {
                    "base_uri": "https://localhost:8080/",
                    "height": 224
                },
                "azdata_cell_guid": "19f2d355-bac2-420c-85a8-83e48a7ceee0"
            },
            "outputs": [
                {
                    "output_type": "execute_result",
                    "execution_count": 1,
                    "data": {
                        "text/html": "<div>\n<style scoped>\n    .dataframe tbody tr th:only-of-type {\n        vertical-align: middle;\n    }\n\n    .dataframe tbody tr th {\n        vertical-align: top;\n    }\n\n    .dataframe thead th {\n        text-align: right;\n    }\n</style>\n<table border=\"1\" class=\"dataframe\">\n  <thead>\n    <tr style=\"text-align: right;\">\n      <th></th>\n      <th>age</th>\n      <th>job</th>\n      <th>marital</th>\n      <th>education</th>\n      <th>default</th>\n      <th>balance</th>\n      <th>housing</th>\n      <th>loan</th>\n      <th>contact</th>\n      <th>day</th>\n      <th>month</th>\n      <th>duration</th>\n      <th>campaign</th>\n      <th>pdays</th>\n      <th>previous</th>\n      <th>poutcome</th>\n      <th>y</th>\n    </tr>\n  </thead>\n  <tbody>\n    <tr>\n      <th>0</th>\n      <td>58</td>\n      <td>management</td>\n      <td>married</td>\n      <td>tertiary</td>\n      <td>no</td>\n      <td>2143</td>\n      <td>yes</td>\n      <td>no</td>\n      <td>unknown</td>\n      <td>5</td>\n      <td>may</td>\n      <td>261</td>\n      <td>1</td>\n      <td>-1</td>\n      <td>0</td>\n      <td>unknown</td>\n      <td>no</td>\n    </tr>\n    <tr>\n      <th>1</th>\n      <td>44</td>\n      <td>technician</td>\n      <td>single</td>\n      <td>secondary</td>\n      <td>no</td>\n      <td>29</td>\n      <td>yes</td>\n      <td>no</td>\n      <td>unknown</td>\n      <td>5</td>\n      <td>may</td>\n      <td>151</td>\n      <td>1</td>\n      <td>-1</td>\n      <td>0</td>\n      <td>unknown</td>\n      <td>no</td>\n    </tr>\n    <tr>\n      <th>2</th>\n      <td>33</td>\n      <td>entrepreneur</td>\n      <td>married</td>\n      <td>secondary</td>\n      <td>no</td>\n      <td>2</td>\n      <td>yes</td>\n      <td>yes</td>\n      <td>unknown</td>\n      <td>5</td>\n      <td>may</td>\n      <td>76</td>\n      <td>1</td>\n      <td>-1</td>\n      <td>0</td>\n      <td>unknown</td>\n      <td>no</td>\n    </tr>\n    <tr>\n      <th>3</th>\n      <td>47</td>\n      <td>blue-collar</td>\n      <td>married</td>\n      <td>unknown</td>\n      <td>no</td>\n      <td>1506</td>\n      <td>yes</td>\n      <td>no</td>\n      <td>unknown</td>\n      <td>5</td>\n      <td>may</td>\n      <td>92</td>\n      <td>1</td>\n      <td>-1</td>\n      <td>0</td>\n      <td>unknown</td>\n      <td>no</td>\n    </tr>\n    <tr>\n      <th>4</th>\n      <td>33</td>\n      <td>unknown</td>\n      <td>single</td>\n      <td>unknown</td>\n      <td>no</td>\n      <td>1</td>\n      <td>no</td>\n      <td>no</td>\n      <td>unknown</td>\n      <td>5</td>\n      <td>may</td>\n      <td>198</td>\n      <td>1</td>\n      <td>-1</td>\n      <td>0</td>\n      <td>unknown</td>\n      <td>no</td>\n    </tr>\n  </tbody>\n</table>\n</div>",
                        "text/plain": "   age           job  marital  education  ... pdays  previous poutcome   y\n0   58    management  married   tertiary  ...    -1         0  unknown  no\n1   44    technician   single  secondary  ...    -1         0  unknown  no\n2   33  entrepreneur  married  secondary  ...    -1         0  unknown  no\n3   47   blue-collar  married    unknown  ...    -1         0  unknown  no\n4   33       unknown   single    unknown  ...    -1         0  unknown  no\n\n[5 rows x 17 columns]"
                    },
                    "metadata": {
                        "tags": []
                    }
                }
            ],
            "execution_count": 1
        },
        {
            "cell_type": "code",
            "source": [
                "feature_names = ['age', 'balance', 'duration', 'pdays']\n",
                "X = datos[feature_names]\n",
                "y = datos['y']\n"
            ],
            "metadata": {
                "id": "vN7ND6Qk4KYT",
                "colab_type": "code",
                "colab": {},
                "azdata_cell_guid": "752b8fc3-d64a-4aea-9cc4-ea8395be8dc3"
            },
            "outputs": [],
            "execution_count": 0
        },
        {
            "cell_type": "markdown",
            "source": [
                "# Separar datos y escalar"
            ],
            "metadata": {
                "id": "jDOdWeLr4Ny4",
                "colab_type": "text",
                "azdata_cell_guid": "176d9b24-795d-44f7-a1cb-149ff982c94e"
            }
        },
        {
            "cell_type": "code",
            "source": [
                "from sklearn.model_selection import train_test_split\n",
                "X_train, X_test, y_train, y_test = train_test_split(X, y, random_state=1 , test_size=0.3)\n",
                "from sklearn.preprocessing import MinMaxScaler\n",
                "scaler = MinMaxScaler()\n",
                "X_train = scaler.fit_transform(X_train)\n",
                "X_test = scaler.transform(X_test)"
            ],
            "metadata": {
                "id": "9PXyZMZd4Q3v",
                "colab_type": "code",
                "colab": {},
                "azdata_cell_guid": "7937161e-9e3f-4f83-8bc9-b0ba8be64341"
            },
            "outputs": [],
            "execution_count": 0
        },
        {
            "cell_type": "markdown",
            "source": [
                "# Árboles de Decisión\n"
            ],
            "metadata": {
                "id": "BHWwi2tT4YZy",
                "colab_type": "text",
                "azdata_cell_guid": "649c9882-0864-4f50-918c-0018e0edb22d"
            }
        },
        {
            "cell_type": "code",
            "source": [
                "from sklearn.tree import DecisionTreeClassifier\n",
                "clf = DecisionTreeClassifier().fit(X_train, y_train)\n",
                "print('Accuracy of Decision Tree classifier on training set: {:.2f}'\n",
                "     .format(clf.score(X_train, y_train)))\n",
                "print('Accuracy of Decision Tree classifier on test set: {:.2f}'\n",
                "     .format(clf.score(X_test, y_test)))"
            ],
            "metadata": {
                "id": "iKZ4_etx4cVt",
                "colab_type": "code",
                "colab": {
                    "base_uri": "https://localhost:8080/",
                    "height": 51
                },
                "outputId": "807cdb2f-ccf0-4e3a-bc72-d6d5baf9fde0",
                "executionInfo": {
                    "status": "ok",
                    "timestamp": 1562338568564,
                    "user_tz": -120,
                    "elapsed": 1128,
                    "user": {
                        "displayName": "Machine Learning",
                        "photoUrl": "",
                        "userId": "05609927355646341864"
                    }
                },
                "azdata_cell_guid": "d3e97ab0-d2cc-4c18-ad5b-906507c4834c"
            },
            "outputs": [
                {
                    "output_type": "stream",
                    "name": "stdout",
                    "text": "Accuracy of Decision Tree classifier on training set: 1.00\nAccuracy of Decision Tree classifier on test set: 0.85\n"
                }
            ],
            "execution_count": 4
        },
        {
            "cell_type": "code",
            "source": [
                "from sklearn.ensemble import RandomForestClassifier\n",
                " \n",
                "# Crear el modelo con 100 arboles\n",
                "model = RandomForestClassifier(n_estimators=300, \n",
                "                               bootstrap = True, verbose=2,\n",
                "                               max_features = 'sqrt',n_jobs=4)\n",
                "# a entrenar!\n",
                "model.fit(X_train, y_train)"
            ],
            "metadata": {
                "id": "3Voy0QCg9Q2s",
                "colab_type": "code",
                "colab": {
                    "base_uri": "https://localhost:8080/",
                    "height": 1000
                },
                "outputId": "75638fb5-56b8-4020-add9-d7b1f4d35c6d",
                "executionInfo": {
                    "status": "ok",
                    "timestamp": 1562339554344,
                    "user_tz": -120,
                    "elapsed": 11696,
                    "user": {
                        "displayName": "Machine Learning",
                        "photoUrl": "",
                        "userId": "05609927355646341864"
                    }
                },
                "azdata_cell_guid": "f0c968bd-5409-409e-911a-e11b6389dc03"
            },
            "outputs": [
                {
                    "output_type": "stream",
                    "name": "stderr",
                    "text": "[Parallel(n_jobs=4)]: Using backend ThreadingBackend with 4 concurrent workers.\n"
                },
                {
                    "output_type": "stream",
                    "name": "stdout",
                    "text": "building tree 1 of 300building tree 2 of 300building tree 3 of 300\n\n\nbuilding tree 4 of 300\nbuilding tree 5 of 300\nbuilding tree 7 of 300\nbuilding tree 6 of 300\nbuilding tree 8 of 300\nbuilding tree 9 of 300\nbuilding tree 10 of 300building tree 11 of 300\n\nbuilding tree 12 of 300\nbuilding tree 13 of 300\nbuilding tree 14 of 300\nbuilding tree 16 of 300building tree 15 of 300building tree 17 of 300\n\n\nbuilding tree 18 of 300\nbuilding tree 19 of 300\nbuilding tree 20 of 300\nbuilding tree 21 of 300\nbuilding tree 22 of 300\nbuilding tree 23 of 300\nbuilding tree 24 of 300\nbuilding tree 25 of 300\nbuilding tree 26 of 300\nbuilding tree 27 of 300\nbuilding tree 28 of 300\nbuilding tree 29 of 300\nbuilding tree 30 of 300\nbuilding tree 31 of 300\nbuilding tree 32 of 300\nbuilding tree 33 of 300\nbuilding tree 34 of 300\nbuilding tree 35 of 300\nbuilding tree 36 of 300\nbuilding tree 37 of 300\nbuilding tree 38 of 300\nbuilding tree 39 of 300\nbuilding tree 40 of 300\nbuilding tree 41 of 300\n"
                },
                {
                    "output_type": "stream",
                    "name": "stderr",
                    "text": "[Parallel(n_jobs=4)]: Done  33 tasks      | elapsed:    1.2s\n"
                },
                {
                    "output_type": "stream",
                    "name": "stdout",
                    "text": "building tree 42 of 300\nbuilding tree 43 of 300\nbuilding tree 44 of 300\nbuilding tree 45 of 300\nbuilding tree 46 of 300\nbuilding tree 47 of 300\nbuilding tree 48 of 300\nbuilding tree 49 of 300\nbuilding tree 50 of 300\nbuilding tree 51 of 300\nbuilding tree 52 of 300\nbuilding tree 53 of 300\nbuilding tree 54 of 300\nbuilding tree 55 of 300\nbuilding tree 56 of 300\nbuilding tree 57 of 300\nbuilding tree 58 of 300\nbuilding tree 59 of 300\nbuilding tree 60 of 300\nbuilding tree 61 of 300\nbuilding tree 62 of 300\nbuilding tree 63 of 300\nbuilding tree 64 of 300\nbuilding tree 65 of 300\nbuilding tree 66 of 300\nbuilding tree 67 of 300\nbuilding tree 68 of 300\nbuilding tree 69 of 300\nbuilding tree 70 of 300\nbuilding tree 71 of 300\nbuilding tree 72 of 300\nbuilding tree 73 of 300\nbuilding tree 74 of 300\nbuilding tree 75 of 300\nbuilding tree 76 of 300\nbuilding tree 77 of 300\nbuilding tree 78 of 300\nbuilding tree 79 of 300\nbuilding tree 80 of 300\nbuilding tree 81 of 300\nbuilding tree 82 of 300\nbuilding tree 83 of 300\nbuilding tree 84 of 300\nbuilding tree 85 of 300\nbuilding tree 86 of 300\nbuilding tree 87 of 300\nbuilding tree 88 of 300\nbuilding tree 89 of 300\nbuilding tree 90 of 300\nbuilding tree 91 of 300\nbuilding tree 92 of 300\nbuilding tree 93 of 300\nbuilding tree 94 of 300\nbuilding tree 95 of 300\nbuilding tree 96 of 300\nbuilding tree 97 of 300\nbuilding tree 98 of 300\nbuilding tree 99 of 300\nbuilding tree 100 of 300\nbuilding tree 101 of 300\nbuilding tree 102 of 300\nbuilding tree 103 of 300\nbuilding tree 104 of 300\nbuilding tree 105 of 300\nbuilding tree 106 of 300\nbuilding tree 107 of 300\nbuilding tree 108 of 300\nbuilding tree 109 of 300\nbuilding tree 110 of 300\nbuilding tree 111 of 300\nbuilding tree 112 of 300\nbuilding tree 113 of 300\nbuilding tree 114 of 300\nbuilding tree 115 of 300\nbuilding tree 117 of 300building tree 116 of 300\n\nbuilding tree 118 of 300\nbuilding tree 119 of 300\nbuilding tree 120 of 300\nbuilding tree 121 of 300\nbuilding tree 122 of 300\nbuilding tree 123 of 300\nbuilding tree 124 of 300\nbuilding tree 125 of 300\nbuilding tree 126 of 300\nbuilding tree 127 of 300\nbuilding tree 128 of 300\nbuilding tree 129 of 300\nbuilding tree 130 of 300\nbuilding tree 131 of 300\nbuilding tree 132 of 300\nbuilding tree 133 of 300building tree 134 of 300\n\nbuilding tree 135 of 300\nbuilding tree 136 of 300\nbuilding tree 138 of 300building tree 137 of 300\n\nbuilding tree 139 of 300\nbuilding tree 140 of 300building tree 141 of 300\n\nbuilding tree 142 of 300\nbuilding tree 143 of 300\nbuilding tree 144 of 300\nbuilding tree 145 of 300\nbuilding tree 146 of 300\nbuilding tree 147 of 300\nbuilding tree 148 of 300\nbuilding tree 149 of 300\nbuilding tree 150 of 300\nbuilding tree 151 of 300\nbuilding tree 152 of 300\nbuilding tree 153 of 300building tree 154 of 300\n\nbuilding tree 155 of 300\nbuilding tree 156 of 300\nbuilding tree 157 of 300\nbuilding tree 158 of 300\nbuilding tree 159 of 300\nbuilding tree 160 of 300\n"
                },
                {
                    "output_type": "stream",
                    "name": "stderr",
                    "text": "[Parallel(n_jobs=4)]: Done 154 tasks      | elapsed:    5.7s\n"
                },
                {
                    "output_type": "stream",
                    "name": "stdout",
                    "text": "building tree 162 of 300building tree 161 of 300\n\nbuilding tree 163 of 300\nbuilding tree 164 of 300\nbuilding tree 165 of 300\nbuilding tree 166 of 300\nbuilding tree 167 of 300\nbuilding tree 169 of 300\nbuilding tree 168 of 300\nbuilding tree 170 of 300\nbuilding tree 171 of 300\nbuilding tree 172 of 300\nbuilding tree 173 of 300\nbuilding tree 174 of 300\nbuilding tree 175 of 300\nbuilding tree 177 of 300\nbuilding tree 176 of 300\nbuilding tree 178 of 300\nbuilding tree 179 of 300\nbuilding tree 180 of 300\nbuilding tree 181 of 300\nbuilding tree 182 of 300\nbuilding tree 183 of 300\nbuilding tree 184 of 300\nbuilding tree 185 of 300\nbuilding tree 186 of 300\nbuilding tree 187 of 300\nbuilding tree 189 of 300\nbuilding tree 188 of 300\nbuilding tree 190 of 300\nbuilding tree 191 of 300\nbuilding tree 192 of 300\nbuilding tree 193 of 300\nbuilding tree 194 of 300\nbuilding tree 195 of 300\nbuilding tree 196 of 300\nbuilding tree 198 of 300\nbuilding tree 197 of 300\nbuilding tree 199 of 300\nbuilding tree 200 of 300\nbuilding tree 201 of 300\nbuilding tree 202 of 300\nbuilding tree 203 of 300\nbuilding tree 204 of 300\nbuilding tree 205 of 300\nbuilding tree 206 of 300\nbuilding tree 207 of 300\nbuilding tree 208 of 300\nbuilding tree 209 of 300\nbuilding tree 210 of 300\nbuilding tree 211 of 300\nbuilding tree 212 of 300\nbuilding tree 214 of 300\nbuilding tree 213 of 300\nbuilding tree 215 of 300\nbuilding tree 216 of 300\nbuilding tree 217 of 300\nbuilding tree 218 of 300\nbuilding tree 219 of 300\nbuilding tree 220 of 300\nbuilding tree 221 of 300\nbuilding tree 222 of 300\nbuilding tree 223 of 300\nbuilding tree 224 of 300\nbuilding tree 226 of 300building tree 225 of 300\n\nbuilding tree 227 of 300\nbuilding tree 228 of 300\nbuilding tree 229 of 300\nbuilding tree 231 of 300building tree 230 of 300\n\nbuilding tree 232 of 300\nbuilding tree 233 of 300\nbuilding tree 234 of 300\nbuilding tree 235 of 300\nbuilding tree 236 of 300\nbuilding tree 237 of 300\nbuilding tree 238 of 300\nbuilding tree 239 of 300\nbuilding tree 240 of 300\nbuilding tree 241 of 300\nbuilding tree 242 of 300\nbuilding tree 243 of 300\nbuilding tree 244 of 300\nbuilding tree 245 of 300\nbuilding tree 246 of 300\nbuilding tree 247 of 300\nbuilding tree 248 of 300\nbuilding tree 249 of 300\nbuilding tree 250 of 300\nbuilding tree 251 of 300\nbuilding tree 252 of 300building tree 253 of 300building tree 254 of 300\n\n\nbuilding tree 255 of 300\nbuilding tree 256 of 300\nbuilding tree 257 of 300\nbuilding tree 258 of 300\nbuilding tree 259 of 300\nbuilding tree 260 of 300\nbuilding tree 261 of 300\nbuilding tree 262 of 300\nbuilding tree 263 of 300\nbuilding tree 264 of 300\nbuilding tree 265 of 300\nbuilding tree 266 of 300\nbuilding tree 267 of 300\nbuilding tree 268 of 300\nbuilding tree 269 of 300\nbuilding tree 270 of 300\nbuilding tree 271 of 300building tree 272 of 300\n\nbuilding tree 273 of 300\nbuilding tree 274 of 300\nbuilding tree 275 of 300\nbuilding tree 276 of 300\nbuilding tree 277 of 300\nbuilding tree 278 of 300\nbuilding tree 279 of 300\nbuilding tree 280 of 300\nbuilding tree 281 of 300\nbuilding tree 282 of 300\nbuilding tree 283 of 300\nbuilding tree 284 of 300\nbuilding tree 285 of 300\nbuilding tree 286 of 300\nbuilding tree 287 of 300\nbuilding tree 288 of 300\nbuilding tree 289 of 300\nbuilding tree 290 of 300\nbuilding tree 291 of 300\nbuilding tree 292 of 300\nbuilding tree 293 of 300\nbuilding tree 294 of 300\nbuilding tree 295 of 300\nbuilding tree 296 of 300\nbuilding tree 297 of 300\nbuilding tree 298 of 300\nbuilding tree 299 of 300\nbuilding tree 300 of 300\n"
                },
                {
                    "output_type": "stream",
                    "name": "stderr",
                    "text": "[Parallel(n_jobs=4)]: Done 300 out of 300 | elapsed:   11.0s finished\n"
                },
                {
                    "output_type": "execute_result",
                    "execution_count": 13,
                    "data": {
                        "text/plain": "RandomForestClassifier(bootstrap=True, class_weight=None, criterion='gini',\n                       max_depth=None, max_features='sqrt', max_leaf_nodes=None,\n                       min_impurity_decrease=0.0, min_impurity_split=None,\n                       min_samples_leaf=1, min_samples_split=2,\n                       min_weight_fraction_leaf=0.0, n_estimators=300, n_jobs=4,\n                       oob_score=False, random_state=None, verbose=2,\n                       warm_start=False)"
                    },
                    "metadata": {
                        "tags": []
                    }
                }
            ],
            "execution_count": 13
        },
        {
            "cell_type": "code",
            "source": [
                ""
            ],
            "metadata": {
                "id": "zDuC01RqqvQC",
                "colab_type": "code",
                "colab": {},
                "azdata_cell_guid": "aa87e3ca-9071-4e17-9a6a-298538c60d08"
            },
            "outputs": [],
            "execution_count": 0
        },
        {
            "cell_type": "code",
            "source": [
                "model.score(X_test,y_test)"
            ],
            "metadata": {
                "id": "Y92nXG2v9n7b",
                "colab_type": "code",
                "colab": {
                    "base_uri": "https://localhost:8080/",
                    "height": 102
                },
                "outputId": "248a3822-3701-452c-f9a2-f488118fbffb",
                "executionInfo": {
                    "status": "ok",
                    "timestamp": 1562339560368,
                    "user_tz": -120,
                    "elapsed": 1072,
                    "user": {
                        "displayName": "Machine Learning",
                        "photoUrl": "",
                        "userId": "05609927355646341864"
                    }
                },
                "azdata_cell_guid": "46417aac-fdbb-4d7c-ac20-05b2fd343ce1"
            },
            "outputs": [
                {
                    "output_type": "stream",
                    "name": "stderr",
                    "text": "[Parallel(n_jobs=4)]: Using backend ThreadingBackend with 4 concurrent workers.\n[Parallel(n_jobs=4)]: Done  33 tasks      | elapsed:    0.1s\n[Parallel(n_jobs=4)]: Done 154 tasks      | elapsed:    0.3s\n[Parallel(n_jobs=4)]: Done 300 out of 300 | elapsed:    0.6s finished\n"
                },
                {
                    "output_type": "execute_result",
                    "execution_count": 14,
                    "data": {
                        "text/plain": "0.8903715718077263"
                    },
                    "metadata": {
                        "tags": []
                    }
                }
            ],
            "execution_count": 14
        },
        {
            "cell_type": "code",
            "source": [
                "model.score(X_train,y_train)"
            ],
            "metadata": {
                "id": "9WzAv4jIpJuH",
                "colab_type": "code",
                "colab": {
                    "base_uri": "https://localhost:8080/",
                    "height": 85
                },
                "outputId": "adb940c5-1459-458f-afd6-693ba9645bd1",
                "executionInfo": {
                    "status": "ok",
                    "timestamp": 1562338706091,
                    "user_tz": -120,
                    "elapsed": 1250,
                    "user": {
                        "displayName": "Machine Learning",
                        "photoUrl": "",
                        "userId": "05609927355646341864"
                    }
                },
                "azdata_cell_guid": "b7620e05-87cd-4d82-bdcd-08811033d9ac"
            },
            "outputs": [
                {
                    "output_type": "stream",
                    "name": "stderr",
                    "text": "[Parallel(n_jobs=1)]: Using backend SequentialBackend with 1 concurrent workers.\n[Parallel(n_jobs=1)]: Done   1 out of   1 | elapsed:    0.0s remaining:    0.0s\n[Parallel(n_jobs=1)]: Done 100 out of 100 | elapsed:    0.6s finished\n"
                },
                {
                    "output_type": "execute_result",
                    "execution_count": 8,
                    "data": {
                        "text/plain": "0.9998420071412772"
                    },
                    "metadata": {
                        "tags": []
                    }
                }
            ],
            "execution_count": 8
        },
        {
            "cell_type": "code",
            "source": [
                "model.predict_proba(X_test)"
            ],
            "metadata": {
                "id": "MIsdSYqiJeOf",
                "colab_type": "code",
                "colab": {
                    "base_uri": "https://localhost:8080/",
                    "height": 187
                },
                "outputId": "c78f1123-7a60-4122-f3bf-75dc9f8bc38c",
                "executionInfo": {
                    "status": "ok",
                    "timestamp": 1562338637048,
                    "user_tz": -120,
                    "elapsed": 793,
                    "user": {
                        "displayName": "Machine Learning",
                        "photoUrl": "",
                        "userId": "05609927355646341864"
                    }
                },
                "azdata_cell_guid": "b30868fe-9897-4921-a139-1a859da008ee"
            },
            "outputs": [
                {
                    "output_type": "stream",
                    "name": "stderr",
                    "text": "[Parallel(n_jobs=1)]: Using backend SequentialBackend with 1 concurrent workers.\n[Parallel(n_jobs=1)]: Done   1 out of   1 | elapsed:    0.0s remaining:    0.0s\n[Parallel(n_jobs=1)]: Done 100 out of 100 | elapsed:    0.3s finished\n"
                },
                {
                    "output_type": "execute_result",
                    "execution_count": 7,
                    "data": {
                        "text/plain": "array([[0.93, 0.07],\n       [1.  , 0.  ],\n       [0.43, 0.57],\n       ...,\n       [1.  , 0.  ],\n       [1.  , 0.  ],\n       [0.94, 0.06]])"
                    },
                    "metadata": {
                        "tags": []
                    }
                }
            ],
            "execution_count": 7
        },
        {
            "cell_type": "code",
            "source": [
                "model.predict(X_test)"
            ],
            "metadata": {
                "id": "K9uZD2JlqwR8",
                "colab_type": "code",
                "colab": {
                    "base_uri": "https://localhost:8080/",
                    "height": 85
                },
                "outputId": "887ebe01-b263-42e1-8dc4-e3df2cc567f9",
                "executionInfo": {
                    "status": "ok",
                    "timestamp": 1562339129986,
                    "user_tz": -120,
                    "elapsed": 669,
                    "user": {
                        "displayName": "Machine Learning",
                        "photoUrl": "",
                        "userId": "05609927355646341864"
                    }
                },
                "azdata_cell_guid": "1d0a3482-118b-425f-af5e-bfa4201880ad"
            },
            "outputs": [
                {
                    "output_type": "stream",
                    "name": "stderr",
                    "text": "[Parallel(n_jobs=4)]: Using backend ThreadingBackend with 4 concurrent workers.\n[Parallel(n_jobs=4)]: Done  33 tasks      | elapsed:    0.1s\n[Parallel(n_jobs=4)]: Done 100 out of 100 | elapsed:    0.2s finished\n"
                },
                {
                    "output_type": "execute_result",
                    "execution_count": 10,
                    "data": {
                        "text/plain": "array(['no', 'no', 'no', ..., 'no', 'no', 'no'], dtype=object)"
                    },
                    "metadata": {
                        "tags": []
                    }
                }
            ],
            "execution_count": 10
        }
    ]
}