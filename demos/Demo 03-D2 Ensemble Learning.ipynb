{
    "metadata": {
        "kernelspec": {
            "name": "python_defaultSpec_1600717037731",
            "display_name": "Python 3.8.5 64-bit"
        },
        "language_info": {
            "name": "python",
            "version": "3.8.5-final",
            "mimetype": "text/x-python",
            "codemirror_mode": {
                "name": "ipython",
                "version": 3
            },
            "pygments_lexer": "ipython3",
            "nbconvert_exporter": "python",
            "file_extension": ".py"
        }
    },
    "nbformat_minor": 2,
    "nbformat": 4,
    "cells": [
        {
            "cell_type": "markdown",
            "source": [
                "![SolidQ](https://antoniosql.github.io/images/SolidQ_Verne.png) "
            ],
            "metadata": {
                "azdata_cell_guid": "ce147c1b-a6e8-47d3-8f7e-26d203faf789"
            }
        },
        {
            "cell_type": "markdown",
            "source": [
                "# Carga de datos y revisión"
            ],
            "metadata": {
                "id": "Wz4FbjZ00TGD",
                "colab_type": "text",
                "azdata_cell_guid": "f7450233-b89b-4662-9412-992240ae76f2"
            }
        },
        {
            "cell_type": "code",
            "source": [
                "import sqlite3\n",
                "import pandas as pd\n",
                "import matplotlib.pyplot as plt\n"
            ],
            "metadata": {
                "id": "HCOMFgOT-tAr",
                "colab_type": "code",
                "outputId": "75277c30-c818-499f-cb51-4e6b022249b6",
                "executionInfo": {
                    "status": "ok",
                    "timestamp": 1562338540202,
                    "user_tz": -120,
                    "elapsed": 634,
                    "user": {
                        "displayName": "Machine Learning",
                        "photoUrl": "",
                        "userId": "05609927355646341864"
                    }
                },
                "colab": {
                    "base_uri": "https://localhost:8080/",
                    "height": 224
                },
                "azdata_cell_guid": "19f2d355-bac2-420c-85a8-83e48a7ceee0"
            },
            "outputs": [],
            "execution_count": 1
        },
        {
            "cell_type": "code",
            "execution_count": 7,
            "metadata": {},
            "outputs": [],
            "source": [
                "conn = sqlite3.connect('Tiendas24H.sqlite')\n",
                "#Consideramos que un cliente nos ha abandonado si no nos compra desde hace más de 200 días. \n",
                "consulta = \"select c.CodCliente, max(v.fecha) as FechaUltimaCompra, EstadoCivil, Sexo,IngresosAnuales, N.NivelAcademico, O.Ocupacion, round((julianday('now') - julianday(max(v.fecha)))) as DiasUltimaCompra, case when round((julianday('now') - julianday(max(v.fecha))))>200 then 1 else 0 end as 'Abandono' from clientes c inner join NivelAcademico N  on c.NivelAcademico = N.Codigo  inner join Ocupacion O on c.Ocupacion = o.Codigo inner join VentasCAB v on v.codcliente = C.codcliente where c.Codcliente <>'CONTADO' group by c.CodCliente,  EstadoCivil, Sexo, IngresosAnuales, N.NivelAcademico, O.Ocupacion\"\n",
                "\n",
                "df = pd.read_sql_query(consulta,conn)"
            ]
        },
        {
            "cell_type": "code",
            "execution_count": 8,
            "metadata": {},
            "outputs": [
                {
                    "output_type": "execute_result",
                    "data": {
                        "text/plain": "     CodCliente FechaUltimaCompra EstadoCivil Sexo  IngresosAnuales  \\\n0        000020        2020-02-08           M    M          90000.0   \n1        000026        2020-04-24           S    M          60000.0   \n2        000029        2019-12-05           M    M          60000.0   \n3        000047        2020-04-19           S    F          80000.0   \n4        000067        2019-10-22           S    M          70000.0   \n...         ...               ...         ...  ...              ...   \n2377  Y1795344R        2019-05-11           M    F          70000.0   \n2378  Y2404085R        2020-01-24           S    F          90000.0   \n2379  Y2544794L        2020-03-21           M    M          90000.0   \n2380  Y2671043K        2020-05-01           S    F          90000.0   \n2381  Y2716961P        2020-02-06           M    M         110000.0   \n\n                          NivelAcademico                  Ocupacion  \\\n0                           Licenciatura  Profesional especializado   \n1                           Licenciatura  Profesional especializado   \n2                           Licenciatura  Profesional especializado   \n3                           Licenciatura  Profesional especializado   \n4                           Licenciatura  Profesional especializado   \n...                                  ...                        ...   \n2377               Estudios de postgrado           Mando intermedio   \n2378  Estudios universitarios (en curso)  Profesional especializado   \n2379  Estudios universitarios (en curso)  Profesional especializado   \n2380  Estudios universitarios (en curso)  Profesional especializado   \n2381                        Licenciatura           Mando intermedio   \n\n      DiasUltimaCompra  Abandono  \n0                227.0         1  \n1                151.0         0  \n2                292.0         1  \n3                156.0         0  \n4                336.0         1  \n...                ...       ...  \n2377             500.0         1  \n2378             242.0         1  \n2379             185.0         0  \n2380             144.0         0  \n2381             229.0         1  \n\n[2382 rows x 9 columns]",
                        "text/html": "<div>\n<style scoped>\n    .dataframe tbody tr th:only-of-type {\n        vertical-align: middle;\n    }\n\n    .dataframe tbody tr th {\n        vertical-align: top;\n    }\n\n    .dataframe thead th {\n        text-align: right;\n    }\n</style>\n<table border=\"1\" class=\"dataframe\">\n  <thead>\n    <tr style=\"text-align: right;\">\n      <th></th>\n      <th>CodCliente</th>\n      <th>FechaUltimaCompra</th>\n      <th>EstadoCivil</th>\n      <th>Sexo</th>\n      <th>IngresosAnuales</th>\n      <th>NivelAcademico</th>\n      <th>Ocupacion</th>\n      <th>DiasUltimaCompra</th>\n      <th>Abandono</th>\n    </tr>\n  </thead>\n  <tbody>\n    <tr>\n      <th>0</th>\n      <td>000020</td>\n      <td>2020-02-08</td>\n      <td>M</td>\n      <td>M</td>\n      <td>90000.0</td>\n      <td>Licenciatura</td>\n      <td>Profesional especializado</td>\n      <td>227.0</td>\n      <td>1</td>\n    </tr>\n    <tr>\n      <th>1</th>\n      <td>000026</td>\n      <td>2020-04-24</td>\n      <td>S</td>\n      <td>M</td>\n      <td>60000.0</td>\n      <td>Licenciatura</td>\n      <td>Profesional especializado</td>\n      <td>151.0</td>\n      <td>0</td>\n    </tr>\n    <tr>\n      <th>2</th>\n      <td>000029</td>\n      <td>2019-12-05</td>\n      <td>M</td>\n      <td>M</td>\n      <td>60000.0</td>\n      <td>Licenciatura</td>\n      <td>Profesional especializado</td>\n      <td>292.0</td>\n      <td>1</td>\n    </tr>\n    <tr>\n      <th>3</th>\n      <td>000047</td>\n      <td>2020-04-19</td>\n      <td>S</td>\n      <td>F</td>\n      <td>80000.0</td>\n      <td>Licenciatura</td>\n      <td>Profesional especializado</td>\n      <td>156.0</td>\n      <td>0</td>\n    </tr>\n    <tr>\n      <th>4</th>\n      <td>000067</td>\n      <td>2019-10-22</td>\n      <td>S</td>\n      <td>M</td>\n      <td>70000.0</td>\n      <td>Licenciatura</td>\n      <td>Profesional especializado</td>\n      <td>336.0</td>\n      <td>1</td>\n    </tr>\n    <tr>\n      <th>...</th>\n      <td>...</td>\n      <td>...</td>\n      <td>...</td>\n      <td>...</td>\n      <td>...</td>\n      <td>...</td>\n      <td>...</td>\n      <td>...</td>\n      <td>...</td>\n    </tr>\n    <tr>\n      <th>2377</th>\n      <td>Y1795344R</td>\n      <td>2019-05-11</td>\n      <td>M</td>\n      <td>F</td>\n      <td>70000.0</td>\n      <td>Estudios de postgrado</td>\n      <td>Mando intermedio</td>\n      <td>500.0</td>\n      <td>1</td>\n    </tr>\n    <tr>\n      <th>2378</th>\n      <td>Y2404085R</td>\n      <td>2020-01-24</td>\n      <td>S</td>\n      <td>F</td>\n      <td>90000.0</td>\n      <td>Estudios universitarios (en curso)</td>\n      <td>Profesional especializado</td>\n      <td>242.0</td>\n      <td>1</td>\n    </tr>\n    <tr>\n      <th>2379</th>\n      <td>Y2544794L</td>\n      <td>2020-03-21</td>\n      <td>M</td>\n      <td>M</td>\n      <td>90000.0</td>\n      <td>Estudios universitarios (en curso)</td>\n      <td>Profesional especializado</td>\n      <td>185.0</td>\n      <td>0</td>\n    </tr>\n    <tr>\n      <th>2380</th>\n      <td>Y2671043K</td>\n      <td>2020-05-01</td>\n      <td>S</td>\n      <td>F</td>\n      <td>90000.0</td>\n      <td>Estudios universitarios (en curso)</td>\n      <td>Profesional especializado</td>\n      <td>144.0</td>\n      <td>0</td>\n    </tr>\n    <tr>\n      <th>2381</th>\n      <td>Y2716961P</td>\n      <td>2020-02-06</td>\n      <td>M</td>\n      <td>M</td>\n      <td>110000.0</td>\n      <td>Licenciatura</td>\n      <td>Mando intermedio</td>\n      <td>229.0</td>\n      <td>1</td>\n    </tr>\n  </tbody>\n</table>\n<p>2382 rows × 9 columns</p>\n</div>"
                    },
                    "metadata": {},
                    "execution_count": 8
                }
            ],
            "source": [
                "df"
            ]
        },
        {
            "cell_type": "code",
            "execution_count": 13,
            "metadata": {},
            "outputs": [],
            "source": [
                "caracteristicas = [\"EstadoCivil\", \"Sexo\", \"IngresosAnuales\",\"NivelAcademico\", \"Ocupacion\"]\n",
                "etiqueta=\"Abandono\""
            ]
        },
        {
            "cell_type": "code",
            "execution_count": 14,
            "metadata": {},
            "outputs": [],
            "source": [
                "from sklearn.preprocessing import  OneHotEncoder,LabelEncoder\n",
                "\n",
                "le=LabelEncoder()\n",
                "df['EstadoCivil'] = le.fit_transform(df['EstadoCivil'])\n",
                "df['Sexo'] = le.fit_transform(df['Sexo'])"
            ]
        },
        {
            "cell_type": "code",
            "execution_count": 15,
            "metadata": {},
            "outputs": [],
            "source": [
                "dum_df = pd.get_dummies(df[caracteristicas], columns=[\"NivelAcademico\",\"Ocupacion\"] )"
            ]
        },
        {
            "cell_type": "code",
            "execution_count": 16,
            "metadata": {},
            "outputs": [],
            "source": [
                "\n",
                "X, y = dum_df, df[etiqueta]"
            ]
        },
        {
            "cell_type": "code",
            "execution_count": null,
            "metadata": {},
            "outputs": [],
            "source": []
        },
        {
            "cell_type": "markdown",
            "source": [
                "# Separar datos y escalar"
            ],
            "metadata": {
                "id": "jDOdWeLr4Ny4",
                "colab_type": "text",
                "azdata_cell_guid": "176d9b24-795d-44f7-a1cb-149ff982c94e"
            }
        },
        {
            "cell_type": "code",
            "source": [
                "from sklearn.model_selection import train_test_split\n",
                "X_train, X_test, y_train, y_test = train_test_split(X, y, random_state=1 , test_size=0.3)\n",
                "from sklearn.preprocessing import MinMaxScaler\n",
                "scaler = MinMaxScaler()\n",
                "X_train = scaler.fit_transform(X_train)\n",
                "X_test = scaler.transform(X_test)"
            ],
            "metadata": {
                "id": "9PXyZMZd4Q3v",
                "colab_type": "code",
                "colab": {},
                "azdata_cell_guid": "7937161e-9e3f-4f83-8bc9-b0ba8be64341"
            },
            "outputs": [],
            "execution_count": 17
        },
        {
            "cell_type": "markdown",
            "source": [
                "# Árboles de Decisión\n"
            ],
            "metadata": {
                "id": "BHWwi2tT4YZy",
                "colab_type": "text",
                "azdata_cell_guid": "649c9882-0864-4f50-918c-0018e0edb22d"
            }
        },
        {
            "cell_type": "code",
            "source": [
                "from sklearn.tree import DecisionTreeClassifier\n",
                "clf = DecisionTreeClassifier().fit(X_train, y_train)\n",
                "print('Accuracy of Decision Tree classifier on training set: {:.2f}'\n",
                "     .format(clf.score(X_train, y_train)))\n",
                "print('Accuracy of Decision Tree classifier on test set: {:.2f}'\n",
                "     .format(clf.score(X_test, y_test)))"
            ],
            "metadata": {
                "id": "iKZ4_etx4cVt",
                "colab_type": "code",
                "colab": {
                    "base_uri": "https://localhost:8080/",
                    "height": 51
                },
                "outputId": "807cdb2f-ccf0-4e3a-bc72-d6d5baf9fde0",
                "executionInfo": {
                    "status": "ok",
                    "timestamp": 1562338568564,
                    "user_tz": -120,
                    "elapsed": 1128,
                    "user": {
                        "displayName": "Machine Learning",
                        "photoUrl": "",
                        "userId": "05609927355646341864"
                    }
                },
                "azdata_cell_guid": "d3e97ab0-d2cc-4c18-ad5b-906507c4834c",
                "tags": []
            },
            "outputs": [
                {
                    "output_type": "stream",
                    "name": "stdout",
                    "text": "Accuracy of Decision Tree classifier on training set: 0.83\nAccuracy of Decision Tree classifier on test set: 0.80\n"
                }
            ],
            "execution_count": 18
        },
        {
            "cell_type": "code",
            "execution_count": 19,
            "metadata": {
                "tags": []
            },
            "outputs": [
                {
                    "output_type": "stream",
                    "name": "stdout",
                    "text": "[[ 11 106]\n [ 37 561]]\n              precision    recall  f1-score   support\n\n           0       0.23      0.09      0.13       117\n           1       0.84      0.94      0.89       598\n\n    accuracy                           0.80       715\n   macro avg       0.54      0.52      0.51       715\nweighted avg       0.74      0.80      0.76       715\n\n"
                }
            ],
            "source": [
                "from sklearn.metrics import classification_report\n",
                "from sklearn.metrics import confusion_matrix\n",
                "pred = clf.predict(X_test)\n",
                "print(confusion_matrix(y_test, pred))\n",
                "print(classification_report(y_test, pred))"
            ]
        },
        {
            "cell_type": "code",
            "source": [
                "from sklearn.ensemble import RandomForestClassifier\n",
                " \n",
                "# Crear el modelo con 100 arboles\n",
                "model = RandomForestClassifier(n_estimators=300, \n",
                "                               bootstrap = True, verbose=2,\n",
                "                               max_features = 'sqrt',n_jobs=4)\n",
                "# a entrenar!\n",
                "model.fit(X_train, y_train)"
            ],
            "metadata": {
                "id": "3Voy0QCg9Q2s",
                "colab_type": "code",
                "colab": {
                    "base_uri": "https://localhost:8080/",
                    "height": 1000
                },
                "outputId": "75638fb5-56b8-4020-add9-d7b1f4d35c6d",
                "executionInfo": {
                    "status": "ok",
                    "timestamp": 1562339554344,
                    "user_tz": -120,
                    "elapsed": 11696,
                    "user": {
                        "displayName": "Machine Learning",
                        "photoUrl": "",
                        "userId": "05609927355646341864"
                    }
                },
                "azdata_cell_guid": "f0c968bd-5409-409e-911a-e11b6389dc03",
                "tags": []
            },
            "outputs": [
                {
                    "output_type": "stream",
                    "name": "stderr",
                    "text": "[Parallel(n_jobs=4)]: Using backend ThreadingBackend with 4 concurrent workers.\n[Parallel(n_jobs=4)]: Done  33 tasks      | elapsed:    0.0s\nbuilding tree 1 of 300\nbuilding tree 2 of 300building tree 3 of 300\n\nbuilding tree 4 of 300\nbuilding tree 5 of 300building tree 6 of 300\n\nbuilding tree 7 of 300\nbuilding tree 8 of 300\nbuilding tree 9 of 300building tree 10 of 300\nbuilding tree 11 of 300\n\nbuilding tree 12 of 300\nbuilding tree 13 of 300building tree 14 of 300\n\nbuilding tree 15 of 300building tree 16 of 300\n\nbuilding tree 17 of 300\nbuilding tree 18 of 300building tree 19 of 300building tree 20 of 300\n\n\nbuilding tree 21 of 300building tree 22 of 300building tree 23 of 300\n\n\nbuilding tree 24 of 300\nbuilding tree 25 of 300\nbuilding tree 26 of 300\nbuilding tree 27 of 300building tree 28 of 300\n\nbuilding tree 29 of 300building tree 30 of 300\n\nbuilding tree 31 of 300\nbuilding tree 32 of 300\nbuilding tree 33 of 300\nbuilding tree 34 of 300building tree 35 of 300\n\nbuilding tree 36 of 300\nbuilding tree 37 of 300\nbuilding tree 38 of 300\nbuilding tree 39 of 300building tree 40 of 300\n\nbuilding tree 41 of 300building tree 42 of 300\n\nbuilding tree 43 of 300building tree 44 of 300\n\nbuilding tree 45 of 300building tree 46 of 300building tree 47 of 300\n\n\nbuilding tree 48 of 300\nbuilding tree 49 of 300building tree 50 of 300building tree 51 of 300\n\nbuilding tree 52 of 300\n\nbuilding tree 53 of 300\nbuilding tree 54 of 300building tree 55 of 300\n\nbuilding tree 56 of 300\nbuilding tree 57 of 300building tree 58 of 300\n\nbuilding tree 59 of 300building tree 60 of 300\n\nbuilding tree 61 of 300building tree 62 of 300\n\nbuilding tree 63 of 300building tree 64 of 300\n\nbuilding tree 65 of 300building tree 66 of 300building tree 67 of 300\n\nbuilding tree 68 of 300\n\nbuilding tree 69 of 300building tree 70 of 300building tree 71 of 300building tree 72 of 300\n\n\n\nbuilding tree 73 of 300building tree 74 of 300\n\nbuilding tree 75 of 300building tree 76 of 300\n\nbuilding tree 77 of 300building tree 78 of 300\nbuilding tree 79 of 300\n\nbuilding tree 80 of 300\nbuilding tree 81 of 300building tree 82 of 300\n\nbuilding tree 83 of 300\nbuilding tree 84 of 300\nbuilding tree 85 of 300\nbuilding tree 86 of 300\nbuilding tree 87 of 300\nbuilding tree 88 of 300\nbuilding tree 89 of 300building tree 90 of 300\n\nbuilding tree 91 of 300\nbuilding tree 92 of 300building tree 93 of 300building tree 94 of 300\nbuilding tree 95 of 300\n\n\nbuilding tree 96 of 300building tree 97 of 300\n\nbuilding tree 98 of 300building tree 99 of 300\n\nbuilding tree 100 of 300building tree 101 of 300\n\nbuilding tree 102 of 300\nbuilding tree 103 of 300\nbuilding tree 104 of 300\nbuilding tree 105 of 300building tree 106 of 300\n\nbuilding tree 107 of 300\nbuilding tree 108 of 300building tree 109 of 300\nbuilding tree 110 of 300building tree 111 of 300\n\n\nbuilding tree 112 of 300\nbuilding tree 113 of 300building tree 114 of 300\n\nbuilding tree 115 of 300\nbuilding tree 116 of 300building tree 117 of 300building tree 118 of 300building tree 119 of 300\n\n\n\nbuilding tree 120 of 300building tree 121 of 300\n\nbuilding tree 122 of 300building tree 123 of 300\n\nbuilding tree 124 of 300building tree 125 of 300\nbuilding tree 126 of 300\nbuilding tree 127 of 300\n\nbuilding tree 128 of 300building tree 129 of 300building tree 130 of 300\n\n\nbuilding tree 131 of 300\nbuilding tree 132 of 300building tree 133 of 300\n\nbuilding tree 134 of 300\nbuilding tree 135 of 300\nbuilding tree 136 of 300\nbuilding tree 137 of 300\nbuilding tree 138 of 300building tree 139 of 300\n\nbuilding tree 140 of 300\nbuilding tree 141 of 300\nbuilding tree 142 of 300building tree 143 of 300\n\nbuilding tree 144 of 300building tree 145 of 300building tree 146 of 300\n\nbuilding tree 147 of 300\n\nbuilding tree 148 of 300\nbuilding tree 149 of 300\nbuilding tree 150 of 300\nbuilding tree 151 of 300\nbuilding tree 152 of 300building tree 153 of 300\nbuilding tree 154 of 300\n\nbuilding tree 155 of 300\nbuilding tree 156 of 300building tree 157 of 300\n\nbuilding tree 158 of 300\nbuilding tree 159 of 300\nbuilding tree 160 of 300\nbuilding tree 161 of 300\nbuilding tree 162 of 300\nbuilding tree 163 of 300building tree 164 of 300building tree 165 of 300\n\nbuilding tree 166 of 300\n\nbuilding tree 167 of 300building tree 168 of 300\nbuilding tree 169 of 300\n\nbuilding tree 170 of 300\nbuilding tree 171 of 300building tree 172 of 300building tree 173 of 300\n\n\nbuilding tree 174 of 300\nbuilding tree 175 of 300building tree 176 of 300building tree 177 of 300\n\n\nbuilding tree 178 of 300\nbuilding tree 179 of 300building tree 180 of 300\n\nbuilding tree 181 of 300\nbuilding tree 182 of 300\nbuilding tree 183 of 300building tree 184 of 300\nbuilding tree 185 of 300\n\nbuilding tree 186 of 300\nbuilding tree 187 of 300\nbuilding tree 188 of 300\nbuilding tree 189 of 300\nbuilding tree 190 of 300\nbuilding tree 191 of 300\nbuilding tree 192 of 300building tree 193 of 300\n\nbuilding tree 194 of 300\nbuilding tree 195 of 300\nbuilding tree 196 of 300\nbuilding tree 197 of 300\nbuilding tree 198 of 300\nbuilding tree 199 of 300building tree 200 of 300\n\nbuilding tree 201 of 300\nbuilding tree 202 of 300\nbuilding tree 203 of 300\nbuilding tree 204 of 300building tree 205 of 300\n\nbuilding tree 206 of 300\nbuilding tree 207 of 300building tree 208 of 300\n\nbuilding tree 209 of 300\nbuilding tree 210 of 300\nbuilding tree 211 of 300building tree 212 of 300\n\nbuilding tree 213 of 300building tree 214 of 300\n\nbuilding tree 215 of 300building tree 216 of 300building tree 217 of 300\n\n\nbuilding tree 218 of 300\nbuilding tree 219 of 300\nbuilding tree 220 of 300building tree 221 of 300\n\nbuilding tree 222 of 300\nbuilding tree 223 of 300building tree 224 of 300\n\nbuilding tree 225 of 300building tree 226 of 300\n\nbuilding tree 227 of 300building tree 228 of 300building tree 229 of 300\n\n\nbuilding tree 230 of 300\nbuilding tree 231 of 300building tree 232 of 300\n\nbuilding tree 233 of 300\nbuilding tree 234 of 300building tree 235 of 300\n\nbuilding tree 236 of 300\nbuilding tree 237 of 300\nbuilding tree 238 of 300building tree 239 of 300building tree 240 of 300\n\n\nbuilding tree 241 of 300\nbuilding tree 242 of 300building tree 243 of 300\n\nbuilding tree 244 of 300\nbuilding tree 245 of 300\nbuilding tree 246 of 300\nbuilding tree 247 of 300building tree 248 of 300\n\nbuilding tree 249 of 300\nbuilding tree 250 of 300building tree 251 of 300\n\nbuilding tree 252 of 300building tree 253 of 300\n\nbuilding tree 254 of 300building tree 255 of 300\n\n[Parallel(n_jobs=4)]: Done 154 tasks      | elapsed:    0.1s\nbuilding tree 256 of 300\nbuilding tree 257 of 300\nbuilding tree 258 of 300\nbuilding tree 259 of 300\nbuilding tree 260 of 300building tree 261 of 300\n\nbuilding tree 262 of 300building tree 263 of 300\n\nbuilding tree 264 of 300building tree 265 of 300\n\nbuilding tree 266 of 300building tree 267 of 300\n\nbuilding tree 268 of 300\nbuilding tree 269 of 300\nbuilding tree 270 of 300\nbuilding tree 271 of 300\nbuilding tree 272 of 300\nbuilding tree 273 of 300\nbuilding tree 274 of 300building tree 275 of 300\n\nbuilding tree 276 of 300\nbuilding tree 277 of 300\nbuilding tree 278 of 300building tree 279 of 300\nbuilding tree 280 of 300\nbuilding tree 281 of 300\n\nbuilding tree 282 of 300building tree 283 of 300building tree 284 of 300\n\n\nbuilding tree 285 of 300\nbuilding tree 286 of 300building tree 287 of 300\n\nbuilding tree 288 of 300\nbuilding tree 289 of 300\nbuilding tree 290 of 300\nbuilding tree 291 of 300\nbuilding tree 292 of 300building tree 293 of 300\n\nbuilding tree 294 of 300building tree 295 of 300\nbuilding tree 296 of 300\nbuilding tree 297 of 300\n\nbuilding tree 298 of 300\nbuilding tree 299 of 300building tree 300 of 300\n\n[Parallel(n_jobs=4)]: Done 300 out of 300 | elapsed:    0.4s finished\n"
                },
                {
                    "output_type": "execute_result",
                    "data": {
                        "text/plain": "RandomForestClassifier(max_features='sqrt', n_estimators=300, n_jobs=4,\n                       verbose=2)"
                    },
                    "metadata": {},
                    "execution_count": 20
                }
            ],
            "execution_count": 20
        },
        {
            "cell_type": "code",
            "source": [
                ""
            ],
            "metadata": {
                "id": "zDuC01RqqvQC",
                "colab_type": "code",
                "colab": {},
                "azdata_cell_guid": "aa87e3ca-9071-4e17-9a6a-298538c60d08"
            },
            "outputs": [],
            "execution_count": 0
        },
        {
            "cell_type": "code",
            "source": [
                "model.score(X_test,y_test)"
            ],
            "metadata": {
                "id": "Y92nXG2v9n7b",
                "colab_type": "code",
                "colab": {
                    "base_uri": "https://localhost:8080/",
                    "height": 102
                },
                "outputId": "248a3822-3701-452c-f9a2-f488118fbffb",
                "executionInfo": {
                    "status": "ok",
                    "timestamp": 1562339560368,
                    "user_tz": -120,
                    "elapsed": 1072,
                    "user": {
                        "displayName": "Machine Learning",
                        "photoUrl": "",
                        "userId": "05609927355646341864"
                    }
                },
                "azdata_cell_guid": "46417aac-fdbb-4d7c-ac20-05b2fd343ce1",
                "tags": []
            },
            "outputs": [
                {
                    "output_type": "stream",
                    "name": "stderr",
                    "text": "[Parallel(n_jobs=4)]: Using backend ThreadingBackend with 4 concurrent workers.\n[Parallel(n_jobs=4)]: Done  33 tasks      | elapsed:    0.0s\n[Parallel(n_jobs=4)]: Done 154 tasks      | elapsed:    0.0s\n[Parallel(n_jobs=4)]: Done 300 out of 300 | elapsed:    0.0s finished\n"
                },
                {
                    "output_type": "execute_result",
                    "data": {
                        "text/plain": "0.8125874125874126"
                    },
                    "metadata": {},
                    "execution_count": 21
                }
            ],
            "execution_count": 21
        },
        {
            "cell_type": "code",
            "source": [
                "model.score(X_train,y_train)"
            ],
            "metadata": {
                "id": "9WzAv4jIpJuH",
                "colab_type": "code",
                "colab": {
                    "base_uri": "https://localhost:8080/",
                    "height": 85
                },
                "outputId": "adb940c5-1459-458f-afd6-693ba9645bd1",
                "executionInfo": {
                    "status": "ok",
                    "timestamp": 1562338706091,
                    "user_tz": -120,
                    "elapsed": 1250,
                    "user": {
                        "displayName": "Machine Learning",
                        "photoUrl": "",
                        "userId": "05609927355646341864"
                    }
                },
                "azdata_cell_guid": "b7620e05-87cd-4d82-bdcd-08811033d9ac",
                "tags": []
            },
            "outputs": [
                {
                    "output_type": "stream",
                    "name": "stderr",
                    "text": "[Parallel(n_jobs=4)]: Using backend ThreadingBackend with 4 concurrent workers.\n[Parallel(n_jobs=4)]: Done  33 tasks      | elapsed:    0.0s\n[Parallel(n_jobs=4)]: Done 154 tasks      | elapsed:    0.0s\n[Parallel(n_jobs=4)]: Done 300 out of 300 | elapsed:    0.0s finished\n"
                },
                {
                    "output_type": "execute_result",
                    "data": {
                        "text/plain": "0.8332333533293341"
                    },
                    "metadata": {},
                    "execution_count": 22
                }
            ],
            "execution_count": 22
        },
        {
            "cell_type": "code",
            "source": [
                "model.predict_proba(X_test)"
            ],
            "metadata": {
                "id": "MIsdSYqiJeOf",
                "colab_type": "code",
                "colab": {
                    "base_uri": "https://localhost:8080/",
                    "height": 187
                },
                "outputId": "c78f1123-7a60-4122-f3bf-75dc9f8bc38c",
                "executionInfo": {
                    "status": "ok",
                    "timestamp": 1562338637048,
                    "user_tz": -120,
                    "elapsed": 793,
                    "user": {
                        "displayName": "Machine Learning",
                        "photoUrl": "",
                        "userId": "05609927355646341864"
                    }
                },
                "azdata_cell_guid": "b30868fe-9897-4921-a139-1a859da008ee",
                "tags": []
            },
            "outputs": [
                {
                    "output_type": "stream",
                    "name": "stderr",
                    "text": "[Parallel(n_jobs=4)]: Using backend ThreadingBackend with 4 concurrent workers.\n[Parallel(n_jobs=4)]: Done  33 tasks      | elapsed:    0.0s\n[Parallel(n_jobs=4)]: Done 154 tasks      | elapsed:    0.0s\n[Parallel(n_jobs=4)]: Done 300 out of 300 | elapsed:    0.0s finished\n"
                },
                {
                    "output_type": "execute_result",
                    "data": {
                        "text/plain": "array([[0.2169696 , 0.7830304 ],\n       [0.33454894, 0.66545106],\n       [0.28239338, 0.71760662],\n       ...,\n       [0.09086381, 0.90913619],\n       [0.08420894, 0.91579106],\n       [0.01244709, 0.98755291]])"
                    },
                    "metadata": {},
                    "execution_count": 23
                }
            ],
            "execution_count": 23
        },
        {
            "cell_type": "code",
            "source": [
                "model.predict(X_test)"
            ],
            "metadata": {
                "id": "K9uZD2JlqwR8",
                "colab_type": "code",
                "colab": {
                    "base_uri": "https://localhost:8080/",
                    "height": 85
                },
                "outputId": "887ebe01-b263-42e1-8dc4-e3df2cc567f9",
                "executionInfo": {
                    "status": "ok",
                    "timestamp": 1562339129986,
                    "user_tz": -120,
                    "elapsed": 669,
                    "user": {
                        "displayName": "Machine Learning",
                        "photoUrl": "",
                        "userId": "05609927355646341864"
                    }
                },
                "azdata_cell_guid": "1d0a3482-118b-425f-af5e-bfa4201880ad",
                "tags": []
            },
            "outputs": [
                {
                    "output_type": "stream",
                    "name": "stderr",
                    "text": "[Parallel(n_jobs=4)]: Using backend ThreadingBackend with 4 concurrent workers.\n[Parallel(n_jobs=4)]: Done  33 tasks      | elapsed:    0.0s\n[Parallel(n_jobs=4)]: Done 154 tasks      | elapsed:    0.0s\n[Parallel(n_jobs=4)]: Done 300 out of 300 | elapsed:    0.0s finished\n"
                },
                {
                    "output_type": "execute_result",
                    "data": {
                        "text/plain": "array([1, 1, 1, 1, 1, 1, 1, 1, 1, 1, 1, 1, 1, 1, 1, 1, 1, 1, 1, 1, 1, 1,\n       1, 1, 1, 1, 1, 1, 1, 1, 1, 1, 1, 1, 1, 1, 1, 1, 1, 1, 1, 1, 1, 1,\n       1, 1, 1, 1, 1, 1, 1, 1, 1, 1, 1, 1, 1, 1, 1, 1, 1, 1, 1, 1, 1, 1,\n       1, 1, 1, 1, 1, 1, 1, 1, 1, 1, 1, 1, 0, 1, 1, 1, 1, 1, 1, 1, 0, 1,\n       1, 1, 1, 1, 1, 1, 1, 1, 1, 1, 1, 1, 1, 1, 1, 1, 1, 1, 1, 0, 0, 1,\n       1, 1, 1, 1, 0, 1, 1, 1, 1, 1, 1, 1, 1, 1, 1, 1, 1, 1, 1, 1, 1, 1,\n       1, 1, 1, 1, 1, 1, 1, 1, 1, 1, 1, 1, 1, 1, 1, 1, 1, 1, 1, 1, 1, 1,\n       1, 1, 1, 1, 1, 1, 1, 1, 1, 1, 1, 0, 1, 1, 1, 1, 1, 1, 1, 1, 1, 1,\n       1, 1, 1, 0, 1, 1, 1, 1, 1, 1, 1, 1, 1, 1, 1, 1, 1, 1, 1, 1, 1, 1,\n       1, 1, 1, 1, 1, 1, 1, 1, 1, 0, 1, 1, 1, 1, 1, 1, 1, 1, 1, 1, 1, 1,\n       1, 1, 1, 1, 1, 1, 1, 1, 1, 1, 1, 1, 1, 1, 1, 1, 1, 1, 1, 1, 1, 1,\n       1, 1, 1, 1, 1, 1, 1, 1, 1, 1, 1, 1, 1, 1, 1, 1, 1, 1, 1, 1, 1, 1,\n       1, 1, 1, 1, 1, 1, 1, 1, 1, 1, 1, 1, 1, 1, 1, 1, 1, 1, 1, 1, 1, 1,\n       1, 1, 1, 1, 1, 1, 1, 1, 1, 1, 1, 1, 1, 0, 1, 1, 1, 1, 1, 1, 1, 1,\n       1, 1, 1, 1, 0, 1, 1, 1, 1, 1, 1, 1, 1, 1, 1, 1, 1, 1, 1, 1, 1, 1,\n       1, 1, 1, 1, 1, 1, 1, 1, 1, 1, 1, 1, 1, 1, 1, 1, 1, 1, 1, 1, 1, 1,\n       1, 0, 1, 1, 1, 1, 1, 0, 1, 1, 1, 1, 1, 1, 1, 1, 1, 1, 1, 1, 1, 1,\n       1, 1, 1, 1, 1, 1, 1, 1, 1, 1, 1, 1, 1, 1, 1, 1, 1, 1, 1, 1, 1, 1,\n       1, 0, 1, 1, 1, 1, 1, 1, 1, 1, 1, 1, 1, 1, 1, 1, 1, 1, 1, 1, 1, 1,\n       1, 1, 1, 1, 1, 1, 1, 1, 1, 1, 1, 1, 1, 1, 1, 1, 1, 1, 1, 1, 1, 1,\n       1, 1, 1, 1, 1, 1, 1, 1, 1, 1, 1, 1, 1, 1, 1, 1, 1, 1, 1, 1, 1, 1,\n       1, 1, 1, 1, 1, 1, 1, 1, 1, 1, 1, 1, 1, 1, 1, 1, 1, 1, 1, 1, 0, 1,\n       1, 1, 1, 1, 1, 1, 1, 1, 1, 1, 1, 1, 1, 1, 1, 1, 1, 1, 1, 0, 1, 1,\n       1, 1, 1, 1, 1, 1, 1, 1, 1, 1, 1, 1, 0, 1, 1, 1, 1, 1, 1, 1, 1, 1,\n       1, 1, 0, 1, 1, 1, 1, 1, 1, 1, 0, 1, 0, 1, 1, 1, 1, 1, 1, 1, 1, 1,\n       1, 1, 1, 1, 0, 1, 1, 1, 1, 1, 1, 1, 1, 1, 1, 1, 1, 1, 1, 1, 1, 1,\n       1, 1, 1, 1, 1, 1, 1, 1, 1, 1, 1, 1, 1, 1, 1, 1, 1, 1, 1, 1, 1, 1,\n       1, 1, 1, 1, 1, 1, 1, 1, 1, 1, 1, 0, 1, 1, 1, 1, 1, 1, 1, 1, 1, 1,\n       1, 1, 1, 1, 1, 1, 1, 1, 1, 1, 1, 1, 1, 1, 1, 1, 1, 0, 0, 1, 0, 1,\n       1, 1, 1, 1, 1, 1, 1, 1, 1, 1, 1, 1, 1, 1, 1, 1, 0, 1, 1, 1, 1, 1,\n       1, 1, 1, 1, 1, 1, 0, 1, 1, 1, 1, 1, 1, 1, 1, 1, 0, 1, 1, 1, 1, 1,\n       1, 1, 1, 1, 1, 1, 1, 1, 1, 1, 1, 1, 1, 1, 1, 1, 1, 1, 1, 1, 1, 1,\n       1, 1, 1, 1, 1, 1, 1, 1, 1, 1, 1], dtype=int64)"
                    },
                    "metadata": {},
                    "execution_count": 24
                }
            ],
            "execution_count": 24
        },
        {
            "cell_type": "code",
            "execution_count": null,
            "metadata": {},
            "outputs": [],
            "source": []
        }
    ]
}