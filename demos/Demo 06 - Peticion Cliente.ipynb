{
 "metadata": {
  "language_info": {
   "codemirror_mode": {
    "name": "ipython",
    "version": 3
   },
   "file_extension": ".py",
   "mimetype": "text/x-python",
   "name": "python",
   "nbconvert_exporter": "python",
   "pygments_lexer": "ipython3",
   "version": "3.8.5-final"
  },
  "orig_nbformat": 2,
  "kernelspec": {
   "name": "Python 3.8.5 64-bit",
   "display_name": "Python 3.8.5 64-bit",
   "metadata": {
    "interpreter": {
     "hash": "18f07aa1f218bd815af44c10d679f476605f722da72676851e9ef086401d84b6"
    }
   }
  }
 },
 "nbformat": 4,
 "nbformat_minor": 2,
 "cells": [
  {
   "source": [
    "# Cliente para petición\n",
    "\n",
    "Ejemplo de Predicción:\n",
    "\n",
    "columnas = [\"EstadoCivil\", \"Sexo\", \"IngresosAnuales\",\"NivelAcademico\", \"Ocupacion\"]\n",
    "entrada = [[1,1,25000,1,1] ,[1,1,30000,2,2],[1,1,35000,3,3],[1,1,40000,4,4],[1,1,45000,5,5]]\n",
    "\n",
    "datos=pd.DataFrame(entrada, columns = columnas)\n",
    "\n",
    "datos_Entrada = pd.get_dummies(datos, columns=[\"NivelAcademico\",\"Ocupacion\"] )\n",
    "\n",
    "\n",
    "prediccion = clf.predict_proba(datos_Entrada)"
   ],
   "cell_type": "markdown",
   "metadata": {}
  },
  {
   "cell_type": "code",
   "execution_count": 16,
   "metadata": {
    "tags": []
   },
   "outputs": [
    {
     "output_type": "stream",
     "name": "stdout",
     "text": "1\n"
    }
   ],
   "source": [
    "import requests\n",
    "import json\n",
    "\n",
    "url=\"http://127.0.0.1:5000/api\"\n",
    "peticion=json.dumps({'EstadoCivil':0,'Sexo':0,'IngresosAnuales':25000,'NivelAcademico_Educación Secundaria':1,'NivelAcademico_Educación Secundaria (en curso)':0,'NivelAcademico_Estudios de postgrado':0,'NivelAcademico_Estudios universitarios (en curso)':0,'NivelAcademico_Licenciatura':0, 'Ocupacion_Empleado por cuenta ajena':0,'Ocupacion_Empleados/as de hogar':0, 'Ocupacion_Mando intermedio':0,'Ocupacion_Profesional especializado':1,'Ocupacion_Profesional independiente':0})\n",
    "\n",
    "r=requests.post(url,peticion)\n",
    "\n",
    "print(r.json())"
   ]
  },
  {
   "cell_type": "code",
   "execution_count": null,
   "metadata": {},
   "outputs": [],
   "source": []
  }
 ]
}