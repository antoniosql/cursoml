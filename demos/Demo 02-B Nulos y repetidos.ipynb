{
    "metadata": {
        "kernelspec": {
            "name": "python_defaultSpec_1600686103620",
            "display_name": "Python 3.8.5 64-bit"
        },
        "language_info": {
            "name": "python",
            "version": "3.8.5-final",
            "mimetype": "text/x-python",
            "codemirror_mode": {
                "name": "ipython",
                "version": 3
            },
            "pygments_lexer": "ipython3",
            "nbconvert_exporter": "python",
            "file_extension": ".py"
        }
    },
    "nbformat_minor": 2,
    "nbformat": 4,
    "cells": [
        {
            "cell_type": "markdown",
            "source": [
                "![SolidQ](https://antoniosql.github.io/images/SolidQ_Verne.png) "
            ],
            "metadata": {
                "azdata_cell_guid": "5c29ec9a-0351-45b5-bff1-8ac3b35132cf"
            }
        },
        {
            "cell_type": "markdown",
            "source": [
                "# Gestionando valores nulos"
            ],
            "metadata": {
                "id": "dMo5pS1De55q",
                "colab_type": "text",
                "azdata_cell_guid": "2422971e-74e6-447a-a512-277a69e907be"
            }
        },
        {
            "cell_type": "code",
            "source": [
                "import pandas as pd\n",
                "from io import StringIO\n",
                "csv_data = \\\n",
                "  '''A,B,C,D\n",
                "  1.0,2.0,3.0,4.0\n",
                "  5.0,6.0,,8.0\n",
                "  10.0,11.0,12.0,'''\n",
                "# Si usamos Python 2.7, necesitamos convertir el string a unicode:\n",
                "# csv_data = unicode(csv_data)\n",
                "df = pd.read_csv(StringIO(csv_data))\n",
                "df\n",
                "#En el código anterior, leemos datos en formato CSV en un DataFrame pandas via la función read_csv y vemos como las dos celdas que faldan se \"rellenan\" con NaN \n",
                "#La función StringIO solo se usa para facilitar la demostración para simular que tenemos un fichero real."
            ],
            "metadata": {
                "id": "fyXux7KEe9XO",
                "colab_type": "code",
                "colab": {},
                "azdata_cell_guid": "e44693ad-a22e-44d9-b2ba-f11ff8244582"
            },
            "outputs": [
                {
                    "output_type": "execute_result",
                    "data": {
                        "text/plain": "      A     B     C    D\n0   1.0   2.0   3.0  4.0\n1   5.0   6.0   NaN  8.0\n2  10.0  11.0  12.0  NaN",
                        "text/html": "<div>\n<style scoped>\n    .dataframe tbody tr th:only-of-type {\n        vertical-align: middle;\n    }\n\n    .dataframe tbody tr th {\n        vertical-align: top;\n    }\n\n    .dataframe thead th {\n        text-align: right;\n    }\n</style>\n<table border=\"1\" class=\"dataframe\">\n  <thead>\n    <tr style=\"text-align: right;\">\n      <th></th>\n      <th>A</th>\n      <th>B</th>\n      <th>C</th>\n      <th>D</th>\n    </tr>\n  </thead>\n  <tbody>\n    <tr>\n      <th>0</th>\n      <td>1.0</td>\n      <td>2.0</td>\n      <td>3.0</td>\n      <td>4.0</td>\n    </tr>\n    <tr>\n      <th>1</th>\n      <td>5.0</td>\n      <td>6.0</td>\n      <td>NaN</td>\n      <td>8.0</td>\n    </tr>\n    <tr>\n      <th>2</th>\n      <td>10.0</td>\n      <td>11.0</td>\n      <td>12.0</td>\n      <td>NaN</td>\n    </tr>\n  </tbody>\n</table>\n</div>"
                    },
                    "metadata": {},
                    "execution_count": 1
                }
            ],
            "execution_count": 1
        },
        {
            "cell_type": "code",
            "source": [
                "df.isna().sum()"
            ],
            "metadata": {
                "id": "fJ89fmgxhJrN",
                "colab_type": "code",
                "colab": {},
                "azdata_cell_guid": "2e012777-bf9b-46bb-a8ed-6e82ce4c78c0"
            },
            "outputs": [],
            "execution_count": 0
        },
        {
            "cell_type": "code",
            "source": [
                "#acceso al array NumPy que tenemos por detrás\n",
                "df.values"
            ],
            "metadata": {
                "id": "o6MZdmuRha5R",
                "colab_type": "code",
                "colab": {},
                "azdata_cell_guid": "ce7f1390-d5df-4ab9-918d-d32f494fc3cf"
            },
            "outputs": [],
            "execution_count": 0
        },
        {
            "cell_type": "code",
            "source": [
                "#lo más \"fácil\"\n",
                "df.dropna(axis=0)"
            ],
            "metadata": {
                "id": "L1YS8H6RhkE4",
                "colab_type": "code",
                "colab": {},
                "azdata_cell_guid": "3c2393f4-71ee-4277-ad01-44ee7eff995a"
            },
            "outputs": [],
            "execution_count": 0
        },
        {
            "cell_type": "code",
            "source": [
                "#también podemos borrar columnas\n",
                "df.dropna(axis=1)"
            ],
            "metadata": {
                "id": "SBNkL6Brhrft",
                "colab_type": "code",
                "colab": {},
                "azdata_cell_guid": "a7d81a23-8f9d-4b78-8a7d-b7539a969e5d"
            },
            "outputs": [],
            "execution_count": 0
        },
        {
            "cell_type": "code",
            "source": [
                "#borrar filas donde todos los valores sea NaN\n",
                "df.dropna(how='all')"
            ],
            "metadata": {
                "id": "60C8cl-9hzet",
                "colab_type": "code",
                "colab": {},
                "azdata_cell_guid": "99d0cf70-f808-4bdc-a2b5-4c84324a78aa"
            },
            "outputs": [],
            "execution_count": 0
        },
        {
            "cell_type": "code",
            "source": [
                "#borrar filas que tienen menos de 4 valores reales\n",
                "df.dropna(thresh=4)"
            ],
            "metadata": {
                "id": "ztTWDBFPh8Ym",
                "colab_type": "code",
                "colab": {},
                "azdata_cell_guid": "b2770875-5239-4636-90e9-a2100729ea9f"
            },
            "outputs": [],
            "execution_count": 0
        },
        {
            "cell_type": "code",
            "source": [
                "#borrar filas con NaN en una columna específica\n",
                "df.dropna(subset=['C'])"
            ],
            "metadata": {
                "id": "-T-d8OJciE_X",
                "colab_type": "code",
                "colab": {},
                "azdata_cell_guid": "5a99f18f-da68-4843-bdd9-4c6dfd637fef"
            },
            "outputs": [],
            "execution_count": 0
        },
        {
            "cell_type": "code",
            "source": [
                "#directamente el porcentaje de valores nulos\n",
                "\n",
                "df.isna().mean().round(4) * 100"
            ],
            "metadata": {
                "id": "M3Rd4QD9nhu8",
                "colab_type": "code",
                "colab": {},
                "azdata_cell_guid": "be152c0b-a550-4884-a66d-905d53a7fb01"
            },
            "outputs": [],
            "execution_count": 0
        },
        {
            "cell_type": "markdown",
            "source": [
                "Habitualmente, eliminar ejemplos o borrar columnas enteras simplemente no es posible, porque perderíamos mucho valor de los datos. En este caso, podemos utilizar técnicas de interpolación para estimar los valores que faltan de otras muestras de ejemplos de nuestro conjunto de datos. Una de las técnicas más comunes de interpolación, es la interpolación meida, donde reemplazamos el valor que falta por la media de los valores de la columna. Podemos hacerlo de un modo sencillo, a través de la clase Imputer del paquete scikit-learn"
            ],
            "metadata": {
                "id": "QiGq72puicjc",
                "colab_type": "text",
                "azdata_cell_guid": "7ebe25db-82a9-4991-ba32-2eabef024aa6"
            }
        },
        {
            "cell_type": "code",
            "source": [
                "from sklearn.preprocessing import Imputer\n",
                "imr = Imputer(missing_values='NaN', strategy='mean', axis=0)\n",
                "imr = imr.fit(df.values)\n",
                "imputed_data = imr.transform(df.values)\n",
                "imputed_data"
            ],
            "metadata": {
                "id": "vymd7NHlibdA",
                "colab_type": "code",
                "colab": {},
                "azdata_cell_guid": "72bf90a8-fd05-4770-850d-05be9df1c26a"
            },
            "outputs": [],
            "execution_count": 0
        },
        {
            "cell_type": "markdown",
            "source": [
                "En el código anterior, hemos reemplazado cada valor NaN con la media correspondiente. Si cambiamos el axis=0 a Axis=1, entonces calcularíamos la media de las filas. Otra opción podría ser reemplazar los valores faltantes por los más habituales. Se suele utilizar para valores de característica categóricos."
            ],
            "metadata": {
                "id": "U6mvYYdlkGWy",
                "colab_type": "text",
                "azdata_cell_guid": "991f2bfb-1e03-4604-a3d9-d79cd3a28fae"
            }
        },
        {
            "cell_type": "code",
            "source": [
                "from sklearn.impute import SimpleImputer\n",
                "my_imputer = SimpleImputer()\n",
                "imputed_data = pd.DataFrame(my_imputer.fit_transform(df))\n",
                "imputed_data"
            ],
            "metadata": {
                "id": "o-k8OYEmjrvM",
                "colab_type": "code",
                "colab": {},
                "azdata_cell_guid": "f5845cf7-1802-495a-899f-fd968dd5fba4"
            },
            "outputs": [],
            "execution_count": 0
        },
        {
            "cell_type": "markdown",
            "source": [
                "# Valores duplicados"
            ],
            "metadata": {
                "id": "45fwU6ZagBH2",
                "colab_type": "text",
                "azdata_cell_guid": "2b025ae5-fbb8-4585-894d-1cb94734db41"
            }
        },
        {
            "cell_type": "code",
            "source": [
                "# import pandas as pd\n",
                "import numpy as np\n",
                " \n",
                "#Crear un DataFrame\n",
                "d = {\n",
                "    'Name':['Alisa','Bobby','jodha','jack','raghu','Cathrine',\n",
                "            'Alisa','Bobby','kumar','Alisa','Alex','Cathrine'],\n",
                "    'Age':[26,24,23,22,23,24,26,24,22,23,24,24],\n",
                "      \n",
                "       'Score':[85,63,55,74,31,77,85,63,42,62,89,77]}\n",
                " \n",
                "df = pd.DataFrame(d,columns=['Name','Age','Score'])\n",
                "df"
            ],
            "metadata": {
                "id": "cicomAMMpaU0",
                "colab_type": "code",
                "colab": {},
                "azdata_cell_guid": "f58e3480-ea68-425b-af73-b3546bf77d97"
            },
            "outputs": [],
            "execution_count": 0
        },
        {
            "cell_type": "code",
            "source": [
                "df[\"is_duplicate\"]= df.duplicated()\n",
                " \n",
                "df"
            ],
            "metadata": {
                "id": "PbN_9pw2peNz",
                "colab_type": "code",
                "colab": {},
                "azdata_cell_guid": "63f50108-3426-446a-91bd-d87009d66404"
            },
            "outputs": [],
            "execution_count": 0
        },
        {
            "cell_type": "code",
            "source": [
                "# eliminar filas duplicadas\n",
                " \n",
                "df.drop_duplicates()"
            ],
            "metadata": {
                "id": "alY9snUkpmkl",
                "colab_type": "code",
                "colab": {},
                "azdata_cell_guid": "8c6bad92-a504-4aeb-bddd-6d2656b35467"
            },
            "outputs": [],
            "execution_count": 0
        },
        {
            "cell_type": "code",
            "source": [
                "# eliminar filas duplicadas\n",
                " \n",
                "df.drop_duplicates(keep='last')\n",
                "# Deja la última y elimina el resto"
            ],
            "metadata": {
                "id": "qiqT8GF5pp4s",
                "colab_type": "code",
                "colab": {},
                "azdata_cell_guid": "fc4892c6-d875-49b1-b183-9d0f9f06dc01"
            },
            "outputs": [],
            "execution_count": 0
        },
        {
            "cell_type": "code",
            "source": [
                "# Ahora podemos borrar filas por nombre de columna. Las filas se borran de un modo que se mantienen valores de columna únicos para la columna especificada\n",
                " \n",
                "df.drop_duplicates(['Name'], keep='last')\n"
            ],
            "metadata": {
                "id": "D502sj9npt6x",
                "colab_type": "code",
                "colab": {},
                "azdata_cell_guid": "3803815a-872f-4173-bbbc-97f3032a52a4"
            },
            "outputs": [],
            "execution_count": 0
        }
    ]
}