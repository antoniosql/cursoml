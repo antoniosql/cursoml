{
    "metadata": {
        "kernelspec": {
            "name": "Python 3.8.5 64-bit",
            "display_name": "Python 3.8.5 64-bit",
            "metadata": {
                "interpreter": {
                    "hash": "18f07aa1f218bd815af44c10d679f476605f722da72676851e9ef086401d84b6"
                }
            }
        },
        "language_info": {
            "name": "python",
            "version": "3.8.5-final",
            "mimetype": "text/x-python",
            "codemirror_mode": {
                "name": "ipython",
                "version": 3
            },
            "pygments_lexer": "ipython3",
            "nbconvert_exporter": "python",
            "file_extension": ".py"
        }
    },
    "nbformat_minor": 2,
    "nbformat": 4,
    "cells": [
        {
            "cell_type": "markdown",
            "source": [
                "![Verne](https://www.vernegroup.com/wp-content/uploads/2020/07/LOGO-VERNE-TECHNOLOGY-GROUP-3.png)"
            ],
            "metadata": {
                "azdata_cell_guid": "d9c039cc-bd7a-4b08-a005-98bbc0782fd5"
            }
        },
        {
            "cell_type": "markdown",
            "source": [
                "# Analizando la cesta de la compra\n",
                "El análisis de la cesta de la compra, también conocido como análisis de afinidad, es una técnica de modelado basada en la teoría de que, si adquiere un determinado grupo de artículos, es más probable que compre otro. Por ejemplo, alguien que compre mantequilla de cacahuete y pan tiene muchas más probabilidades de querer comprar también mermelada. Sin embargo, no todas las relaciones son tan evidentes. La previsión del comportamiento del consumidor puede aumentar las ventas y ofrecer al comerciante una importante ventaja respecto a sus competidores. En realidad, el análisis de la cesta de la compra no es más que una aplicación de técnicas de análisis de asociación, aunque muchos artículos en línea y tutoriales confundan estos dos conceptos. Para ponerlo en perspectiva respecto a otras técnicas de aprendizaje automático, el análisis de la cesta de la compra es una herramienta de aprendizaje sin supervisión que requiere poca ingeniería de características y una cantidad limitada de limpieza y preparación de datos. En la práctica, las conclusiones que se deducen del análisis de la cesta de la compra se pueden explorar aún más con otras herramientas de IA o ciencia de datos.\n",
                "\n",
                "A pesar de su capacidad para descubrir patrones ocultos, el análisis de la cesta de la compra es relativamente fácil de explicar y no requiere conocimientos avanzados de cálculo o estadística. Sin embargo, es necesario revisar algunos términos y notaciones convencionales. En primer lugar, se hace referencia a las nociones de causa y efecto como antecedente y consecuente. En el ejemplo que he mencionado antes, la mantequilla de cacahuete y el pan son el antecedente y la mermelada, el consecuente. La notación formal para esta relación sería {Peanut Butter, Bread} -> {Jelly}, lo que indica una conexión entre los dos artículos. Asimismo, hay que tener en cuenta que tanto los antecedentes como los consecuentes pueden constar de varios artículos.\n",
                "\n",
                "Hay tres medidas matemáticas importantes necesarias para el análisis de la cesta de la compra: soporte, mejora y confianza. El soporte es el número de veces que los antecedentes aparecen juntos en los datos. Para simplificar el ejemplo, imaginemos la relación siguiente: {Peanut Butter} -> {Grape Jelly}. Dados 100 clientes y una transacción por cliente, considere el escenario siguiente:\n",
                "\n",
                "- 15 clientes compraron mantequilla de cacahuete\n",
                "- 13 compraron mermelada de uva\n",
                "- 11 compraron mantequilla de cacahuete y mermelada de uva\n",
                "El soporte representa el número de veces que los artículos aparecen en una transacción juntos, que, en este ejemplo es 11 de cada 100, o 0,11. En términos estadísticos, hay una probabilidad del 11 por ciento de que cualquier transacción determinada incluya mantequilla de cacahuete y mermelada de uva. La confianza toma el valor del soporte (0,11) y lo divide por la probabilidad de una transacción que tenga solo mermelada de uva, lo que genera un valor de 0,846. Esto significa que casi el 85 por ciento de las veces que se compró mermelada de uva, se compró junto con mermelada de cacahuete. Por último, está la mejora, que toma el valor de la confianza (0,846) y lo divide por la probabilidad de la mantequilla de cacahuete. Esto equivale a 5,64 (redondeado a dos posiciones decimales).\n"
            ],
            "metadata": {
                "id": "FdSxu9HKREIu",
                "colab_type": "text",
                "azdata_cell_guid": "ca134e23-6ce5-4233-840f-dbe451dc027c"
            }
        },
        {
            "cell_type": "code",
            "source": [
                "import pandas as pd\n",
                "import numpy as np\n",
                "import sqlite3\n",
                "import matplotlib.pyplot as plt"
            ],
            "metadata": {
                "id": "GI5CErqGMr5T",
                "colab_type": "code",
                "colab": {},
                "azdata_cell_guid": "b7382618-6946-4bb1-9ae9-c5d23ada07f2"
            },
            "outputs": [],
            "execution_count": 36
        },
        {
            "cell_type": "code",
            "execution_count": 79,
            "metadata": {},
            "outputs": [
                {
                    "output_type": "execute_result",
                    "data": {
                        "text/plain": "   index             Ticket   Linea CodProducto UnidadMedida  Cantidad  \\\n0     14  S1-12-001-1014067  173210    03000264            U       1.0   \n1     15  S1-12-001-1014067  173211    04000383            U       1.0   \n2     21  S1-12-001-1018802  180371    02000443            U       2.0   \n3     22  S1-12-001-1018802  180372    02000442            U       1.0   \n4     28  S1-12-001-1024113  188001    03000287            U       1.0   \n\n   ImporteVenta  ImporteCoste CodTienda  \n0        1.5045        1.0465       001  \n1        0.8925        0.4255       001  \n2        2.1250        1.9090       001  \n3        1.5555        1.4950       001  \n4        1.7425        1.1270       001  ",
                        "text/html": "<div>\n<style scoped>\n    .dataframe tbody tr th:only-of-type {\n        vertical-align: middle;\n    }\n\n    .dataframe tbody tr th {\n        vertical-align: top;\n    }\n\n    .dataframe thead th {\n        text-align: right;\n    }\n</style>\n<table border=\"1\" class=\"dataframe\">\n  <thead>\n    <tr style=\"text-align: right;\">\n      <th></th>\n      <th>index</th>\n      <th>Ticket</th>\n      <th>Linea</th>\n      <th>CodProducto</th>\n      <th>UnidadMedida</th>\n      <th>Cantidad</th>\n      <th>ImporteVenta</th>\n      <th>ImporteCoste</th>\n      <th>CodTienda</th>\n    </tr>\n  </thead>\n  <tbody>\n    <tr>\n      <th>0</th>\n      <td>14</td>\n      <td>S1-12-001-1014067</td>\n      <td>173210</td>\n      <td>03000264</td>\n      <td>U</td>\n      <td>1.0</td>\n      <td>1.5045</td>\n      <td>1.0465</td>\n      <td>001</td>\n    </tr>\n    <tr>\n      <th>1</th>\n      <td>15</td>\n      <td>S1-12-001-1014067</td>\n      <td>173211</td>\n      <td>04000383</td>\n      <td>U</td>\n      <td>1.0</td>\n      <td>0.8925</td>\n      <td>0.4255</td>\n      <td>001</td>\n    </tr>\n    <tr>\n      <th>2</th>\n      <td>21</td>\n      <td>S1-12-001-1018802</td>\n      <td>180371</td>\n      <td>02000443</td>\n      <td>U</td>\n      <td>2.0</td>\n      <td>2.1250</td>\n      <td>1.9090</td>\n      <td>001</td>\n    </tr>\n    <tr>\n      <th>3</th>\n      <td>22</td>\n      <td>S1-12-001-1018802</td>\n      <td>180372</td>\n      <td>02000442</td>\n      <td>U</td>\n      <td>1.0</td>\n      <td>1.5555</td>\n      <td>1.4950</td>\n      <td>001</td>\n    </tr>\n    <tr>\n      <th>4</th>\n      <td>28</td>\n      <td>S1-12-001-1024113</td>\n      <td>188001</td>\n      <td>03000287</td>\n      <td>U</td>\n      <td>1.0</td>\n      <td>1.7425</td>\n      <td>1.1270</td>\n      <td>001</td>\n    </tr>\n  </tbody>\n</table>\n</div>"
                    },
                    "metadata": {},
                    "execution_count": 79
                }
            ],
            "source": [
                "conn = sqlite3.connect('Tiendas24H.sqlite')\n",
                "consulta=\"select v.*,vc.CodTienda from ventasdet v inner join ventascab vc on v.Ticket=vc.Ticket where vc.Ticket in (select distinct Ticket from ventasdet  group by Ticket having count(CodProducto) >1) \"\n",
                "\n",
                "df = pd.read_sql_query(consulta,conn)\n",
                "\n",
                "df.head()"
            ]
        },
        {
            "cell_type": "code",
            "execution_count": 80,
            "metadata": {},
            "outputs": [],
            "source": [
                "df.dropna(axis=0,inplace=True)"
            ]
        },
        {
            "cell_type": "code",
            "execution_count": 81,
            "metadata": {},
            "outputs": [
                {
                    "output_type": "execute_result",
                    "data": {
                        "text/plain": "  CodTienda   index  Ticket   Linea  CodProducto  UnidadMedida  Cantidad  \\\n2       005  128426  128426  128426       128426        128426    128426   \n5       011   97876   97876   97876        97876         97876     97876   \n0       001   56173   56173   56173        56173         56173     56173   \n4       009   38847   38847   38847        38847         38847     38847   \n3       006   17322   17322   17322        17322         17322     17322   \n\n   ImporteVenta  ImporteCoste  \n2        128426        128426  \n5         97876         97876  \n0         56173         56173  \n4         38847         38847  \n3         17322         17322  ",
                        "text/html": "<div>\n<style scoped>\n    .dataframe tbody tr th:only-of-type {\n        vertical-align: middle;\n    }\n\n    .dataframe tbody tr th {\n        vertical-align: top;\n    }\n\n    .dataframe thead th {\n        text-align: right;\n    }\n</style>\n<table border=\"1\" class=\"dataframe\">\n  <thead>\n    <tr style=\"text-align: right;\">\n      <th></th>\n      <th>CodTienda</th>\n      <th>index</th>\n      <th>Ticket</th>\n      <th>Linea</th>\n      <th>CodProducto</th>\n      <th>UnidadMedida</th>\n      <th>Cantidad</th>\n      <th>ImporteVenta</th>\n      <th>ImporteCoste</th>\n    </tr>\n  </thead>\n  <tbody>\n    <tr>\n      <th>2</th>\n      <td>005</td>\n      <td>128426</td>\n      <td>128426</td>\n      <td>128426</td>\n      <td>128426</td>\n      <td>128426</td>\n      <td>128426</td>\n      <td>128426</td>\n      <td>128426</td>\n    </tr>\n    <tr>\n      <th>5</th>\n      <td>011</td>\n      <td>97876</td>\n      <td>97876</td>\n      <td>97876</td>\n      <td>97876</td>\n      <td>97876</td>\n      <td>97876</td>\n      <td>97876</td>\n      <td>97876</td>\n    </tr>\n    <tr>\n      <th>0</th>\n      <td>001</td>\n      <td>56173</td>\n      <td>56173</td>\n      <td>56173</td>\n      <td>56173</td>\n      <td>56173</td>\n      <td>56173</td>\n      <td>56173</td>\n      <td>56173</td>\n    </tr>\n    <tr>\n      <th>4</th>\n      <td>009</td>\n      <td>38847</td>\n      <td>38847</td>\n      <td>38847</td>\n      <td>38847</td>\n      <td>38847</td>\n      <td>38847</td>\n      <td>38847</td>\n      <td>38847</td>\n    </tr>\n    <tr>\n      <th>3</th>\n      <td>006</td>\n      <td>17322</td>\n      <td>17322</td>\n      <td>17322</td>\n      <td>17322</td>\n      <td>17322</td>\n      <td>17322</td>\n      <td>17322</td>\n      <td>17322</td>\n    </tr>\n  </tbody>\n</table>\n</div>"
                    },
                    "metadata": {},
                    "execution_count": 81
                }
            ],
            "source": [
                "df.groupby('CodTienda').count().reset_index().sort_values('Ticket', ascending = False).head()"
            ]
        },
        {
            "cell_type": "code",
            "execution_count": 82,
            "metadata": {},
            "outputs": [],
            "source": [
                "df = (df[df['CodTienda']==\"005\"].groupby(['Ticket', 'CodProducto'])['Cantidad'].sum().unstack().reset_index().fillna(0).set_index('Ticket'))\n",
                "\n"
            ]
        },
        {
            "cell_type": "code",
            "execution_count": 83,
            "metadata": {},
            "outputs": [
                {
                    "output_type": "execute_result",
                    "data": {
                        "text/plain": "CodProducto        01000002  01000003  01000004  01000005  01000014  01000015  \\\nTicket                                                                          \nS1-12-005-2280941       0.0       0.0       0.0       0.0       0.0       0.0   \nS1-12-005-2281977       0.0       0.0       0.0       0.0       0.0       0.0   \nS1-12-005-2283323       0.0       0.0       0.0       0.0       0.0       0.0   \nS1-12-005-2287298       0.0       0.0       0.0       0.0       0.0       0.0   \nS1-12-005-2288103       0.0       0.0       0.0       0.0       0.0       0.0   \n...                     ...       ...       ...       ...       ...       ...   \nS4-13-005-62778         0.0       0.0       0.0       0.0       0.0       0.0   \nS4-13-005-62815         0.0       0.0       0.0       0.0       0.0       0.0   \nS4-13-005-62873         0.0       0.0       0.0       0.0       0.0       0.0   \nS4-13-005-62875         0.0       0.0       0.0       0.0       0.0       0.0   \nS4-13-005-62886         0.0       0.0       0.0       0.0       0.0       0.0   \n\nCodProducto        01000016  01000017  01000022  01000023  ...  13000117  \\\nTicket                                                     ...             \nS1-12-005-2280941       0.0       0.0       0.0       0.0  ...       0.0   \nS1-12-005-2281977       0.0       0.0       0.0       0.0  ...       0.0   \nS1-12-005-2283323       0.0       0.0       0.0       0.0  ...       0.0   \nS1-12-005-2287298       0.0       0.0       0.0       0.0  ...       0.0   \nS1-12-005-2288103       0.0       0.0       0.0       0.0  ...       0.0   \n...                     ...       ...       ...       ...  ...       ...   \nS4-13-005-62778         0.0       0.0       0.0       0.0  ...       0.0   \nS4-13-005-62815         0.0       0.0       0.0       0.0  ...       0.0   \nS4-13-005-62873         0.0       0.0       0.0       0.0  ...       0.0   \nS4-13-005-62875         0.0       0.0       0.0       0.0  ...       0.0   \nS4-13-005-62886         0.0       0.0       0.0       0.0  ...       0.0   \n\nCodProducto        13000128  13000167  13000168  13000169  13000170  13000171  \\\nTicket                                                                          \nS1-12-005-2280941       1.0       0.0       0.0       0.0       0.0       0.0   \nS1-12-005-2281977       0.0       0.0       0.0       0.0       0.0       0.0   \nS1-12-005-2283323       0.0       0.0       0.0       0.0       0.0       0.0   \nS1-12-005-2287298       0.0       0.0       0.0       0.0       0.0       0.0   \nS1-12-005-2288103       0.0       0.0       0.0       0.0       0.0       0.0   \n...                     ...       ...       ...       ...       ...       ...   \nS4-13-005-62778         0.0       0.0       0.0       0.0       0.0       0.0   \nS4-13-005-62815         0.0       0.0       0.0       0.0       0.0       0.0   \nS4-13-005-62873         0.0       0.0       0.0       0.0       0.0       0.0   \nS4-13-005-62875         0.0       0.0       0.0       0.0       0.0       0.0   \nS4-13-005-62886         0.0       0.0       0.0       0.0       0.0       0.0   \n\nCodProducto        13000172  13000174  13000175  \nTicket                                           \nS1-12-005-2280941       0.0       0.0       0.0  \nS1-12-005-2281977       0.0       0.0       0.0  \nS1-12-005-2283323       0.0       0.0       0.0  \nS1-12-005-2287298       0.0       0.0       0.0  \nS1-12-005-2288103       0.0       0.0       0.0  \n...                     ...       ...       ...  \nS4-13-005-62778         0.0       0.0       0.0  \nS4-13-005-62815         0.0       0.0       0.0  \nS4-13-005-62873         0.0       0.0       0.0  \nS4-13-005-62875         0.0       0.0       0.0  \nS4-13-005-62886         0.0       0.0       0.0  \n\n[44945 rows x 2383 columns]",
                        "text/html": "<div>\n<style scoped>\n    .dataframe tbody tr th:only-of-type {\n        vertical-align: middle;\n    }\n\n    .dataframe tbody tr th {\n        vertical-align: top;\n    }\n\n    .dataframe thead th {\n        text-align: right;\n    }\n</style>\n<table border=\"1\" class=\"dataframe\">\n  <thead>\n    <tr style=\"text-align: right;\">\n      <th>CodProducto</th>\n      <th>01000002</th>\n      <th>01000003</th>\n      <th>01000004</th>\n      <th>01000005</th>\n      <th>01000014</th>\n      <th>01000015</th>\n      <th>01000016</th>\n      <th>01000017</th>\n      <th>01000022</th>\n      <th>01000023</th>\n      <th>...</th>\n      <th>13000117</th>\n      <th>13000128</th>\n      <th>13000167</th>\n      <th>13000168</th>\n      <th>13000169</th>\n      <th>13000170</th>\n      <th>13000171</th>\n      <th>13000172</th>\n      <th>13000174</th>\n      <th>13000175</th>\n    </tr>\n    <tr>\n      <th>Ticket</th>\n      <th></th>\n      <th></th>\n      <th></th>\n      <th></th>\n      <th></th>\n      <th></th>\n      <th></th>\n      <th></th>\n      <th></th>\n      <th></th>\n      <th></th>\n      <th></th>\n      <th></th>\n      <th></th>\n      <th></th>\n      <th></th>\n      <th></th>\n      <th></th>\n      <th></th>\n      <th></th>\n      <th></th>\n    </tr>\n  </thead>\n  <tbody>\n    <tr>\n      <th>S1-12-005-2280941</th>\n      <td>0.0</td>\n      <td>0.0</td>\n      <td>0.0</td>\n      <td>0.0</td>\n      <td>0.0</td>\n      <td>0.0</td>\n      <td>0.0</td>\n      <td>0.0</td>\n      <td>0.0</td>\n      <td>0.0</td>\n      <td>...</td>\n      <td>0.0</td>\n      <td>1.0</td>\n      <td>0.0</td>\n      <td>0.0</td>\n      <td>0.0</td>\n      <td>0.0</td>\n      <td>0.0</td>\n      <td>0.0</td>\n      <td>0.0</td>\n      <td>0.0</td>\n    </tr>\n    <tr>\n      <th>S1-12-005-2281977</th>\n      <td>0.0</td>\n      <td>0.0</td>\n      <td>0.0</td>\n      <td>0.0</td>\n      <td>0.0</td>\n      <td>0.0</td>\n      <td>0.0</td>\n      <td>0.0</td>\n      <td>0.0</td>\n      <td>0.0</td>\n      <td>...</td>\n      <td>0.0</td>\n      <td>0.0</td>\n      <td>0.0</td>\n      <td>0.0</td>\n      <td>0.0</td>\n      <td>0.0</td>\n      <td>0.0</td>\n      <td>0.0</td>\n      <td>0.0</td>\n      <td>0.0</td>\n    </tr>\n    <tr>\n      <th>S1-12-005-2283323</th>\n      <td>0.0</td>\n      <td>0.0</td>\n      <td>0.0</td>\n      <td>0.0</td>\n      <td>0.0</td>\n      <td>0.0</td>\n      <td>0.0</td>\n      <td>0.0</td>\n      <td>0.0</td>\n      <td>0.0</td>\n      <td>...</td>\n      <td>0.0</td>\n      <td>0.0</td>\n      <td>0.0</td>\n      <td>0.0</td>\n      <td>0.0</td>\n      <td>0.0</td>\n      <td>0.0</td>\n      <td>0.0</td>\n      <td>0.0</td>\n      <td>0.0</td>\n    </tr>\n    <tr>\n      <th>S1-12-005-2287298</th>\n      <td>0.0</td>\n      <td>0.0</td>\n      <td>0.0</td>\n      <td>0.0</td>\n      <td>0.0</td>\n      <td>0.0</td>\n      <td>0.0</td>\n      <td>0.0</td>\n      <td>0.0</td>\n      <td>0.0</td>\n      <td>...</td>\n      <td>0.0</td>\n      <td>0.0</td>\n      <td>0.0</td>\n      <td>0.0</td>\n      <td>0.0</td>\n      <td>0.0</td>\n      <td>0.0</td>\n      <td>0.0</td>\n      <td>0.0</td>\n      <td>0.0</td>\n    </tr>\n    <tr>\n      <th>S1-12-005-2288103</th>\n      <td>0.0</td>\n      <td>0.0</td>\n      <td>0.0</td>\n      <td>0.0</td>\n      <td>0.0</td>\n      <td>0.0</td>\n      <td>0.0</td>\n      <td>0.0</td>\n      <td>0.0</td>\n      <td>0.0</td>\n      <td>...</td>\n      <td>0.0</td>\n      <td>0.0</td>\n      <td>0.0</td>\n      <td>0.0</td>\n      <td>0.0</td>\n      <td>0.0</td>\n      <td>0.0</td>\n      <td>0.0</td>\n      <td>0.0</td>\n      <td>0.0</td>\n    </tr>\n    <tr>\n      <th>...</th>\n      <td>...</td>\n      <td>...</td>\n      <td>...</td>\n      <td>...</td>\n      <td>...</td>\n      <td>...</td>\n      <td>...</td>\n      <td>...</td>\n      <td>...</td>\n      <td>...</td>\n      <td>...</td>\n      <td>...</td>\n      <td>...</td>\n      <td>...</td>\n      <td>...</td>\n      <td>...</td>\n      <td>...</td>\n      <td>...</td>\n      <td>...</td>\n      <td>...</td>\n      <td>...</td>\n    </tr>\n    <tr>\n      <th>S4-13-005-62778</th>\n      <td>0.0</td>\n      <td>0.0</td>\n      <td>0.0</td>\n      <td>0.0</td>\n      <td>0.0</td>\n      <td>0.0</td>\n      <td>0.0</td>\n      <td>0.0</td>\n      <td>0.0</td>\n      <td>0.0</td>\n      <td>...</td>\n      <td>0.0</td>\n      <td>0.0</td>\n      <td>0.0</td>\n      <td>0.0</td>\n      <td>0.0</td>\n      <td>0.0</td>\n      <td>0.0</td>\n      <td>0.0</td>\n      <td>0.0</td>\n      <td>0.0</td>\n    </tr>\n    <tr>\n      <th>S4-13-005-62815</th>\n      <td>0.0</td>\n      <td>0.0</td>\n      <td>0.0</td>\n      <td>0.0</td>\n      <td>0.0</td>\n      <td>0.0</td>\n      <td>0.0</td>\n      <td>0.0</td>\n      <td>0.0</td>\n      <td>0.0</td>\n      <td>...</td>\n      <td>0.0</td>\n      <td>0.0</td>\n      <td>0.0</td>\n      <td>0.0</td>\n      <td>0.0</td>\n      <td>0.0</td>\n      <td>0.0</td>\n      <td>0.0</td>\n      <td>0.0</td>\n      <td>0.0</td>\n    </tr>\n    <tr>\n      <th>S4-13-005-62873</th>\n      <td>0.0</td>\n      <td>0.0</td>\n      <td>0.0</td>\n      <td>0.0</td>\n      <td>0.0</td>\n      <td>0.0</td>\n      <td>0.0</td>\n      <td>0.0</td>\n      <td>0.0</td>\n      <td>0.0</td>\n      <td>...</td>\n      <td>0.0</td>\n      <td>0.0</td>\n      <td>0.0</td>\n      <td>0.0</td>\n      <td>0.0</td>\n      <td>0.0</td>\n      <td>0.0</td>\n      <td>0.0</td>\n      <td>0.0</td>\n      <td>0.0</td>\n    </tr>\n    <tr>\n      <th>S4-13-005-62875</th>\n      <td>0.0</td>\n      <td>0.0</td>\n      <td>0.0</td>\n      <td>0.0</td>\n      <td>0.0</td>\n      <td>0.0</td>\n      <td>0.0</td>\n      <td>0.0</td>\n      <td>0.0</td>\n      <td>0.0</td>\n      <td>...</td>\n      <td>0.0</td>\n      <td>0.0</td>\n      <td>0.0</td>\n      <td>0.0</td>\n      <td>0.0</td>\n      <td>0.0</td>\n      <td>0.0</td>\n      <td>0.0</td>\n      <td>0.0</td>\n      <td>0.0</td>\n    </tr>\n    <tr>\n      <th>S4-13-005-62886</th>\n      <td>0.0</td>\n      <td>0.0</td>\n      <td>0.0</td>\n      <td>0.0</td>\n      <td>0.0</td>\n      <td>0.0</td>\n      <td>0.0</td>\n      <td>0.0</td>\n      <td>0.0</td>\n      <td>0.0</td>\n      <td>...</td>\n      <td>0.0</td>\n      <td>0.0</td>\n      <td>0.0</td>\n      <td>0.0</td>\n      <td>0.0</td>\n      <td>0.0</td>\n      <td>0.0</td>\n      <td>0.0</td>\n      <td>0.0</td>\n      <td>0.0</td>\n    </tr>\n  </tbody>\n</table>\n<p>44945 rows × 2383 columns</p>\n</div>"
                    },
                    "metadata": {},
                    "execution_count": 83
                }
            ],
            "source": [
                "df"
            ]
        },
        {
            "cell_type": "code",
            "execution_count": 84,
            "metadata": {},
            "outputs": [],
            "source": [
                "def sum_to_boolean(x):\n",
                "    if x<=0:\n",
                "        return 0\n",
                "    else:\n",
                "        return 1\n",
                "\n",
                "X= df.applymap(sum_to_boolean)\n"
            ]
        },
        {
            "cell_type": "code",
            "execution_count": 85,
            "metadata": {},
            "outputs": [],
            "source": [
                "from mlxtend.frequent_patterns import association_rules\n",
                "from mlxtend.frequent_patterns import apriori"
            ]
        },
        {
            "cell_type": "code",
            "execution_count": 87,
            "metadata": {},
            "outputs": [
                {
                    "output_type": "execute_result",
                    "data": {
                        "text/plain": "     support    itemsets\n77  0.170965  (04000383)\n31  0.117699  (02001491)\n75  0.059851  (04000380)\n33  0.054177  (02001493)\n58  0.048459  (04000055)",
                        "text/html": "<div>\n<style scoped>\n    .dataframe tbody tr th:only-of-type {\n        vertical-align: middle;\n    }\n\n    .dataframe tbody tr th {\n        vertical-align: top;\n    }\n\n    .dataframe thead th {\n        text-align: right;\n    }\n</style>\n<table border=\"1\" class=\"dataframe\">\n  <thead>\n    <tr style=\"text-align: right;\">\n      <th></th>\n      <th>support</th>\n      <th>itemsets</th>\n    </tr>\n  </thead>\n  <tbody>\n    <tr>\n      <th>77</th>\n      <td>0.170965</td>\n      <td>(04000383)</td>\n    </tr>\n    <tr>\n      <th>31</th>\n      <td>0.117699</td>\n      <td>(02001491)</td>\n    </tr>\n    <tr>\n      <th>75</th>\n      <td>0.059851</td>\n      <td>(04000380)</td>\n    </tr>\n    <tr>\n      <th>33</th>\n      <td>0.054177</td>\n      <td>(02001493)</td>\n    </tr>\n    <tr>\n      <th>58</th>\n      <td>0.048459</td>\n      <td>(04000055)</td>\n    </tr>\n  </tbody>\n</table>\n</div>"
                    },
                    "metadata": {},
                    "execution_count": 87
                }
            ],
            "source": [
                "frequent_itemsets = apriori(X, min_support = 0.006,use_colnames= True)\n",
                "frequent_itemsets.sort_values('support', ascending = False).head()\n",
                "\n"
            ]
        },
        {
            "cell_type": "code",
            "execution_count": 88,
            "metadata": {},
            "outputs": [
                {
                    "output_type": "execute_result",
                    "data": {
                        "text/plain": "   antecedents consequents  antecedent support  consequent support   support  \\\n2   (02000655)  (02000673)            0.024118            0.022361  0.007587   \n3   (02000673)  (02000655)            0.022361            0.024118  0.007587   \n4   (02000655)  (02001491)            0.024118            0.117699  0.010657   \n5   (02001491)  (02000655)            0.117699            0.024118  0.010657   \n6   (02000673)  (02001491)            0.022361            0.117699  0.009523   \n7   (02001491)  (02000673)            0.117699            0.022361  0.009523   \n0   (02000654)  (02001491)            0.017021            0.117699  0.006452   \n1   (02001491)  (02000654)            0.117699            0.017021  0.006452   \n8   (04000383)  (04000065)            0.170965            0.030882  0.006586   \n9   (04000065)  (04000383)            0.030882            0.170965  0.006586   \n10  (04000383)  (04000376)            0.170965            0.045278  0.008477   \n11  (04000376)  (04000383)            0.045278            0.170965  0.008477   \n\n    confidence       lift  leverage  conviction  \n2     0.314576  14.068261  0.007048    1.426327  \n3     0.339303  14.068261  0.007048    1.477050  \n4     0.441882   3.754326  0.007819    1.580849  \n5     0.090548   3.754326  0.007819    1.073044  \n6     0.425871   3.618290  0.006891    1.536763  \n7     0.080907   3.618290  0.006891    1.063701  \n0     0.379085   3.220789  0.004449    1.420968  \n1     0.054820   3.220789  0.004449    1.039992  \n8     0.038522   1.247373  0.001306    1.007945  \n9     0.213256   1.247373  0.001306    1.053756  \n10    0.049584   1.095102  0.000736    1.004531  \n11    0.187224   1.095102  0.000736    1.020004  ",
                        "text/html": "<div>\n<style scoped>\n    .dataframe tbody tr th:only-of-type {\n        vertical-align: middle;\n    }\n\n    .dataframe tbody tr th {\n        vertical-align: top;\n    }\n\n    .dataframe thead th {\n        text-align: right;\n    }\n</style>\n<table border=\"1\" class=\"dataframe\">\n  <thead>\n    <tr style=\"text-align: right;\">\n      <th></th>\n      <th>antecedents</th>\n      <th>consequents</th>\n      <th>antecedent support</th>\n      <th>consequent support</th>\n      <th>support</th>\n      <th>confidence</th>\n      <th>lift</th>\n      <th>leverage</th>\n      <th>conviction</th>\n    </tr>\n  </thead>\n  <tbody>\n    <tr>\n      <th>2</th>\n      <td>(02000655)</td>\n      <td>(02000673)</td>\n      <td>0.024118</td>\n      <td>0.022361</td>\n      <td>0.007587</td>\n      <td>0.314576</td>\n      <td>14.068261</td>\n      <td>0.007048</td>\n      <td>1.426327</td>\n    </tr>\n    <tr>\n      <th>3</th>\n      <td>(02000673)</td>\n      <td>(02000655)</td>\n      <td>0.022361</td>\n      <td>0.024118</td>\n      <td>0.007587</td>\n      <td>0.339303</td>\n      <td>14.068261</td>\n      <td>0.007048</td>\n      <td>1.477050</td>\n    </tr>\n    <tr>\n      <th>4</th>\n      <td>(02000655)</td>\n      <td>(02001491)</td>\n      <td>0.024118</td>\n      <td>0.117699</td>\n      <td>0.010657</td>\n      <td>0.441882</td>\n      <td>3.754326</td>\n      <td>0.007819</td>\n      <td>1.580849</td>\n    </tr>\n    <tr>\n      <th>5</th>\n      <td>(02001491)</td>\n      <td>(02000655)</td>\n      <td>0.117699</td>\n      <td>0.024118</td>\n      <td>0.010657</td>\n      <td>0.090548</td>\n      <td>3.754326</td>\n      <td>0.007819</td>\n      <td>1.073044</td>\n    </tr>\n    <tr>\n      <th>6</th>\n      <td>(02000673)</td>\n      <td>(02001491)</td>\n      <td>0.022361</td>\n      <td>0.117699</td>\n      <td>0.009523</td>\n      <td>0.425871</td>\n      <td>3.618290</td>\n      <td>0.006891</td>\n      <td>1.536763</td>\n    </tr>\n    <tr>\n      <th>7</th>\n      <td>(02001491)</td>\n      <td>(02000673)</td>\n      <td>0.117699</td>\n      <td>0.022361</td>\n      <td>0.009523</td>\n      <td>0.080907</td>\n      <td>3.618290</td>\n      <td>0.006891</td>\n      <td>1.063701</td>\n    </tr>\n    <tr>\n      <th>0</th>\n      <td>(02000654)</td>\n      <td>(02001491)</td>\n      <td>0.017021</td>\n      <td>0.117699</td>\n      <td>0.006452</td>\n      <td>0.379085</td>\n      <td>3.220789</td>\n      <td>0.004449</td>\n      <td>1.420968</td>\n    </tr>\n    <tr>\n      <th>1</th>\n      <td>(02001491)</td>\n      <td>(02000654)</td>\n      <td>0.117699</td>\n      <td>0.017021</td>\n      <td>0.006452</td>\n      <td>0.054820</td>\n      <td>3.220789</td>\n      <td>0.004449</td>\n      <td>1.039992</td>\n    </tr>\n    <tr>\n      <th>8</th>\n      <td>(04000383)</td>\n      <td>(04000065)</td>\n      <td>0.170965</td>\n      <td>0.030882</td>\n      <td>0.006586</td>\n      <td>0.038522</td>\n      <td>1.247373</td>\n      <td>0.001306</td>\n      <td>1.007945</td>\n    </tr>\n    <tr>\n      <th>9</th>\n      <td>(04000065)</td>\n      <td>(04000383)</td>\n      <td>0.030882</td>\n      <td>0.170965</td>\n      <td>0.006586</td>\n      <td>0.213256</td>\n      <td>1.247373</td>\n      <td>0.001306</td>\n      <td>1.053756</td>\n    </tr>\n    <tr>\n      <th>10</th>\n      <td>(04000383)</td>\n      <td>(04000376)</td>\n      <td>0.170965</td>\n      <td>0.045278</td>\n      <td>0.008477</td>\n      <td>0.049584</td>\n      <td>1.095102</td>\n      <td>0.000736</td>\n      <td>1.004531</td>\n    </tr>\n    <tr>\n      <th>11</th>\n      <td>(04000376)</td>\n      <td>(04000383)</td>\n      <td>0.045278</td>\n      <td>0.170965</td>\n      <td>0.008477</td>\n      <td>0.187224</td>\n      <td>1.095102</td>\n      <td>0.000736</td>\n      <td>1.020004</td>\n    </tr>\n  </tbody>\n</table>\n</div>"
                    },
                    "metadata": {},
                    "execution_count": 88
                }
            ],
            "source": [
                "a_rules = association_rules(frequent_itemsets, metric = \"lift\", min_threshold= 1)\n",
                "a_rules.sort_values('lift',ascending = False)"
            ]
        }
    ]
}