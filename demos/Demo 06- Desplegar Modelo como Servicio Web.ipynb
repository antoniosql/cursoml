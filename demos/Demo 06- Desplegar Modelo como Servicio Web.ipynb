{
    "metadata": {
        "kernelspec": {
            "name": "Python 3.8.5 64-bit",
            "display_name": "Python 3.8.5 64-bit",
            "metadata": {
                "interpreter": {
                    "hash": "18f07aa1f218bd815af44c10d679f476605f722da72676851e9ef086401d84b6"
                }
            }
        },
        "language_info": {
            "name": "python",
            "version": "3.8.5-final",
            "mimetype": "text/x-python",
            "codemirror_mode": {
                "name": "ipython",
                "version": 3
            },
            "pygments_lexer": "ipython3",
            "nbconvert_exporter": "python",
            "file_extension": ".py"
        }
    },
    "nbformat_minor": 2,
    "nbformat": 4,
    "cells": [
        {
            "cell_type": "markdown",
            "source": [
                "![SolidQ](https://antoniosql.github.io/images/SolidQ_Verne.png) "
            ],
            "metadata": {
                "azdata_cell_guid": "5795a090-5585-49b8-97ac-a10930bd8908"
            }
        },
        {
            "cell_type": "markdown",
            "source": [
                "# Carga de datos y revisión"
            ],
            "metadata": {
                "id": "Wz4FbjZ00TGD",
                "colab_type": "text",
                "azdata_cell_guid": "03270248-69b5-43eb-9dd0-52b939742c0f"
            }
        },
        {
            "cell_type": "code",
            "source": [
                "import pandas as pd\n",
                "import numpy as np\n",
                "import sqlite3\n",
                "import matplotlib.pyplot as plt\n"
            ],
            "metadata": {
                "id": "VrmWESHp3wEX",
                "colab_type": "code",
                "colab": {},
                "azdata_cell_guid": "fe6b7fe4-32ef-452b-87e7-87ba1a5d30c9"
            },
            "outputs": [],
            "execution_count": 1
        },
        {
            "cell_type": "code",
            "execution_count": 2,
            "metadata": {},
            "outputs": [
                {
                    "output_type": "execute_result",
                    "data": {
                        "text/plain": "  CodCliente FechaNacimiento EstadoCivil Sexo  IngresosAnuales NivelAcademico  \\\n0     000020      1976-04-08           M    M          90000.0   Licenciatura   \n1     000026      1975-05-14           S    M          60000.0   Licenciatura   \n2     000026      1975-05-14           S    M          60000.0   Licenciatura   \n3     000026      1975-05-14           S    M          60000.0   Licenciatura   \n4     000026      1975-05-14           S    M          60000.0   Licenciatura   \n\n                   Ocupacion  EsCliente  \n0  Profesional especializado          1  \n1  Profesional especializado          1  \n2  Profesional especializado          1  \n3  Profesional especializado          1  \n4  Profesional especializado          1  ",
                        "text/html": "<div>\n<style scoped>\n    .dataframe tbody tr th:only-of-type {\n        vertical-align: middle;\n    }\n\n    .dataframe tbody tr th {\n        vertical-align: top;\n    }\n\n    .dataframe thead th {\n        text-align: right;\n    }\n</style>\n<table border=\"1\" class=\"dataframe\">\n  <thead>\n    <tr style=\"text-align: right;\">\n      <th></th>\n      <th>CodCliente</th>\n      <th>FechaNacimiento</th>\n      <th>EstadoCivil</th>\n      <th>Sexo</th>\n      <th>IngresosAnuales</th>\n      <th>NivelAcademico</th>\n      <th>Ocupacion</th>\n      <th>EsCliente</th>\n    </tr>\n  </thead>\n  <tbody>\n    <tr>\n      <th>0</th>\n      <td>000020</td>\n      <td>1976-04-08</td>\n      <td>M</td>\n      <td>M</td>\n      <td>90000.0</td>\n      <td>Licenciatura</td>\n      <td>Profesional especializado</td>\n      <td>1</td>\n    </tr>\n    <tr>\n      <th>1</th>\n      <td>000026</td>\n      <td>1975-05-14</td>\n      <td>S</td>\n      <td>M</td>\n      <td>60000.0</td>\n      <td>Licenciatura</td>\n      <td>Profesional especializado</td>\n      <td>1</td>\n    </tr>\n    <tr>\n      <th>2</th>\n      <td>000026</td>\n      <td>1975-05-14</td>\n      <td>S</td>\n      <td>M</td>\n      <td>60000.0</td>\n      <td>Licenciatura</td>\n      <td>Profesional especializado</td>\n      <td>1</td>\n    </tr>\n    <tr>\n      <th>3</th>\n      <td>000026</td>\n      <td>1975-05-14</td>\n      <td>S</td>\n      <td>M</td>\n      <td>60000.0</td>\n      <td>Licenciatura</td>\n      <td>Profesional especializado</td>\n      <td>1</td>\n    </tr>\n    <tr>\n      <th>4</th>\n      <td>000026</td>\n      <td>1975-05-14</td>\n      <td>S</td>\n      <td>M</td>\n      <td>60000.0</td>\n      <td>Licenciatura</td>\n      <td>Profesional especializado</td>\n      <td>1</td>\n    </tr>\n  </tbody>\n</table>\n</div>"
                    },
                    "metadata": {},
                    "execution_count": 2
                }
            ],
            "source": [
                "conn = sqlite3.connect('Tiendas24H.sqlite')\n",
                "consulta=\"select c.CodCliente, FechaNacimiento, EstadoCivil, Sexo, IngresosAnuales, N.NivelAcademico, O.Ocupacion, case     when v.CodCliente is null then 0   else 1  end as 'EsCliente' from clientes c inner join NivelAcademico N    on c.NivelAcademico = N.Codigo     inner join Ocupacion O on c.Ocupacion = o.Codigo     left outer join VentasCAB v          on v.codcliente = C.codcliente where c.Codcliente <>'CONTADO'\"\n",
                "\n",
                "df = pd.read_sql_query(consulta,conn)\n",
                "\n",
                "df.head()"
            ]
        },
        {
            "cell_type": "code",
            "execution_count": 3,
            "metadata": {},
            "outputs": [],
            "source": [
                "df.dropna(axis=0,inplace=True)"
            ]
        },
        {
            "cell_type": "code",
            "execution_count": 4,
            "metadata": {},
            "outputs": [],
            "source": [
                "caracteristicas = [\"EstadoCivil\", \"Sexo\", \"IngresosAnuales\",\"NivelAcademico\", \"Ocupacion\"]\n",
                "etiqueta=\"EsCliente\""
            ]
        },
        {
            "cell_type": "code",
            "execution_count": 5,
            "metadata": {},
            "outputs": [],
            "source": [
                "from sklearn.preprocessing import  LabelEncoder\n",
                "\n",
                "le=LabelEncoder()\n",
                "df['EstadoCivil'] = le.fit_transform(df['EstadoCivil'])\n",
                "df['Sexo'] = le.fit_transform(df['Sexo'])"
            ]
        },
        {
            "cell_type": "code",
            "execution_count": 6,
            "metadata": {},
            "outputs": [],
            "source": [
                "dum_df = pd.get_dummies(df[caracteristicas], columns=[\"NivelAcademico\",\"Ocupacion\"] )"
            ]
        },
        {
            "cell_type": "code",
            "execution_count": 7,
            "metadata": {},
            "outputs": [],
            "source": [
                "from sklearn.model_selection import train_test_split\n",
                "X, y = dum_df, df[etiqueta]"
            ]
        },
        {
            "cell_type": "code",
            "execution_count": 24,
            "metadata": {},
            "outputs": [],
            "source": [
                "X_train, X_test, y_train, y_test =\\\n",
                "  train_test_split(X, y,\n",
                "  test_size=0.3,\n",
                "  random_state=0,\n",
                "  stratify=y)"
            ]
        },
        {
            "cell_type": "markdown",
            "source": [
                "# Árboles de Decisión\n"
            ],
            "metadata": {
                "id": "BHWwi2tT4YZy",
                "colab_type": "text",
                "azdata_cell_guid": "b1b7bbbe-6667-4e25-bda7-5a9fa92850ec"
            }
        },
        {
            "cell_type": "code",
            "execution_count": 8,
            "metadata": {},
            "outputs": [],
            "source": [
                "from imblearn.over_sampling import SMOTE \n",
                "from collections import Counter"
            ]
        },
        {
            "cell_type": "code",
            "execution_count": 9,
            "metadata": {
                "tags": []
            },
            "outputs": [
                {
                    "output_type": "stream",
                    "name": "stdout",
                    "text": "Distribución Original Counter({1: 10340, 0: 58})\nDistribución balanceada Counter({1: 10340, 0: 10340})\n"
                }
            ],
            "source": [
                "print('Distribución Original %s' % Counter(y))\n",
                "sm = SMOTE(random_state=42)\n",
                "X_res, y_res = sm.fit_resample(X, y)\n",
                "print('Distribución balanceada %s' % Counter(y_res))"
            ]
        },
        {
            "cell_type": "code",
            "execution_count": 10,
            "metadata": {},
            "outputs": [],
            "source": [
                "from sklearn.model_selection import train_test_split\n",
                "X_trainres, X_testres, y_trainres, y_testres = train_test_split(X_res, y_res, random_state=0)"
            ]
        },
        {
            "cell_type": "code",
            "source": [
                "\n",
                "from sklearn.preprocessing import MinMaxScaler\n",
                "scaler = MinMaxScaler()\n",
                "X_train = scaler.fit_transform(X_trainres)\n",
                "X_test = scaler.transform(X_testres)"
            ],
            "metadata": {
                "id": "9PXyZMZd4Q3v",
                "colab_type": "code",
                "colab": {},
                "azdata_cell_guid": "d57a06e2-5638-4934-8713-b012bce42c08"
            },
            "outputs": [],
            "execution_count": 11
        },
        {
            "cell_type": "code",
            "execution_count": 13,
            "metadata": {
                "tags": []
            },
            "outputs": [
                {
                    "output_type": "stream",
                    "name": "stdout",
                    "text": "Accuracy of Decision Tree classifier on training set: 0.97\nAccuracy of Decision Tree classifier on test set: 0.97\n"
                }
            ],
            "source": [
                "from sklearn.tree import DecisionTreeClassifier\n",
                "\n",
                "clf = DecisionTreeClassifier().fit(X_trainres, y_trainres)\n",
                "print('Accuracy of Decision Tree classifier on training set: {:.2f}'\n",
                "     .format(clf.score(X_trainres, y_trainres)))\n",
                "print('Accuracy of Decision Tree classifier on test set: {:.2f}'\n",
                "     .format(clf.score(X_testres, y_testres)))"
            ]
        },
        {
            "cell_type": "code",
            "execution_count": 28,
            "metadata": {},
            "outputs": [
                {
                    "output_type": "execute_result",
                    "data": {
                        "text/plain": "Index(['EstadoCivil', 'Sexo', 'IngresosAnuales',\n       'NivelAcademico_Educación Secundaria',\n       'NivelAcademico_Educación Secundaria (en curso)',\n       'NivelAcademico_Estudios de postgrado',\n       'NivelAcademico_Estudios universitarios (en curso)',\n       'NivelAcademico_Licenciatura', 'Ocupacion_Empleado por cuenta ajena',\n       'Ocupacion_Empleados/as de hogar', 'Ocupacion_Mando intermedio',\n       'Ocupacion_Profesional especializado',\n       'Ocupacion_Profesional independiente'],\n      dtype='object')"
                    },
                    "metadata": {},
                    "execution_count": 28
                }
            ],
            "source": [
                "X_testres.columns\n",
                "#Columnas para construir la entrada "
            ]
        },
        {
            "source": [
                "# Serializar el Modelo"
            ],
            "cell_type": "markdown",
            "metadata": {}
        },
        {
            "cell_type": "code",
            "execution_count": 18,
            "metadata": {},
            "outputs": [],
            "source": [
                "import os\n",
                "import pickle\n",
                "\n",
                "fichero = 'clf'\n",
                "pickle.dump(clf, open(fichero, 'wb'))\n",
                "#load_model = pickle.load(open(filename, 'rb'))\n",
                "#result = load_model.score(X_testres, y_testres)"
            ]
        },
        {
            "source": [
                "# Código Servidor para Publicar API\n"
            ],
            "cell_type": "markdown",
            "metadata": {}
        },
        {
            "cell_type": "code",
            "execution_count": 41,
            "metadata": {},
            "outputs": [],
            "source": [
                "import numpy as np\n",
                "from flask import Flask, request, jsonify\n",
                "import pickle\n"
            ]
        },
        {
            "cell_type": "code",
            "execution_count": 44,
            "metadata": {},
            "outputs": [],
            "source": [
                "load_model = pickle.load(open(ficheros, 'rb'))"
            ]
        },
        {
            "cell_type": "code",
            "execution_count": 52,
            "metadata": {
                "tags": []
            },
            "outputs": [
                {
                    "output_type": "stream",
                    "name": "stdout",
                    "text": " * Serving Flask app \"__main__\" (lazy loading)\n * Environment: production\n   WARNING: This is a development server. Do not use it in a production deployment.\n   Use a production WSGI server instead.\n * Debug mode: off\n * Running on http://127.0.0.1:5000/ (Press CTRL+C to quit)\n127.0.0.1 - - [27/Sep/2020 17:25:09] \"\u001b[37mPOST /api HTTP/1.1\u001b[0m\" 200 -\n[[1, 1, 25000, 1, 0, 0, 0, 0, 0, 0, 0, 1, 0]]\n1\n"
                }
            ],
            "source": [
                "\n",
                "app = Flask(__name__)\n",
                "\n",
                "@app.route('/api',methods=['POST'])\n",
                "def predict():\n",
                "    data = request.get_json(force=True)\n",
                "   \n",
                "    predict_request=[[data['EstadoCivil'],data['Sexo'],data['IngresosAnuales'],data['NivelAcademico_Educación Secundaria'], data['NivelAcademico_Educación Secundaria (en curso)'], data['NivelAcademico_Estudios de postgrado'],data['NivelAcademico_Estudios universitarios (en curso)'],data['NivelAcademico_Licenciatura'], data['Ocupacion_Empleado por cuenta ajena'],data['Ocupacion_Empleados/as de hogar'],data['Ocupacion_Mando intermedio'],data['Ocupacion_Profesional especializado'],data['Ocupacion_Profesional independiente']]] #Construir Datos Petición\n",
                "    \n",
                "   \n",
                "    peticion=np.array(predict_request)\n",
                "   \n",
                "    prediction = load_model.predict(peticion)\n",
                "   \n",
                "    pred = prediction[0]\n",
                "   \n",
                "    return jsonify(int(pred))\n",
                "\n",
                "if __name__ == '__main__':\n",
                "    #from werkzeug.serving import run_simple\n",
                "    #app.run(port=9000, debug=True)\n",
                "    app.run()"
            ]
        },
        {
            "cell_type": "code",
            "execution_count": null,
            "metadata": {},
            "outputs": [],
            "source": []
        }
    ]
}