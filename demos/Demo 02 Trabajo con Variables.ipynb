{
    "metadata": {
        "kernelspec": {
            "name": "python_defaultSpec_1600709523908",
            "display_name": "Python 3.8.5 64-bit"
        },
        "language_info": {
            "name": "python",
            "version": "3.8.5-final",
            "mimetype": "text/x-python",
            "codemirror_mode": {
                "name": "ipython",
                "version": 3
            },
            "pygments_lexer": "ipython3",
            "nbconvert_exporter": "python",
            "file_extension": ".py"
        }
    },
    "nbformat_minor": 2,
    "nbformat": 4,
    "cells": [
        {
            "cell_type": "markdown",
            "source": [
                "![Verne](https://www.vernegroup.com/wp-content/uploads/2020/07/LOGO-VERNE-TECHNOLOGY-GROUP-3.png) "
            ],
            "metadata": {
                "azdata_cell_guid": "c76ed1c0-537a-4c98-8c5a-538ce66f1dfb"
            }
        },
        {
            "cell_type": "markdown",
            "source": [
                "# Estadística Descriptiva para variables continuas"
            ],
            "metadata": {
                "azdata_cell_guid": "63da5d32-178a-463a-8f54-ac4c6ccc949d"
            }
        },
        {
            "cell_type": "code",
            "source": [
                "import sqlite3\r\n",
                "import pandas as pd \r\n",
                "import matplotlib.pyplot as plt "
            ],
            "metadata": {
                "azdata_cell_guid": "ea30c712-3217-4f34-83db-2e3962cdd74f",
                "tags": []
            },
            "outputs": [],
            "execution_count": 1
        },
        {
            "cell_type": "code",
            "execution_count": 12,
            "metadata": {},
            "outputs": [],
            "source": [
                "conn = sqlite3.connect('Tiendas24H.sqlite')\n",
                "query = \"select c.CodCliente, FechaNacimiento,  round((julianday('now') - julianday(FechaNacimiento))/365) as Edad,EstadoCivil, Sexo,IngresosAnuales, HijosACargo, N.NivelAcademico, O.Ocupacion from clientes c inner join NivelAcademico N    on c.NivelAcademico = N.Codigo     inner join Ocupacion O on c.Ocupacion = o.Codigo\"\n"
            ]
        },
        {
            "cell_type": "code",
            "source": [
                "TM = pd.read_sql_query(query,conn)"
            ],
            "metadata": {
                "azdata_cell_guid": "1150de0e-8df4-4b5f-bd94-8a635a9085fc"
            },
            "outputs": [],
            "execution_count": 13
        },
        {
            "cell_type": "code",
            "execution_count": 14,
            "metadata": {},
            "outputs": [
                {
                    "output_type": "execute_result",
                    "data": {
                        "text/plain": "     CodCliente FechaNacimiento  Edad EstadoCivil Sexo  IngresosAnuales  \\\n0        000020      1976-04-08  44.0           M    M          90000.0   \n1        000026      1975-05-14  45.0           S    M          60000.0   \n2        000029      1975-08-12  45.0           M    M          60000.0   \n3        000046      1978-02-15  43.0           S    F          70000.0   \n4        000047      1978-08-08  42.0           S    F          80000.0   \n...         ...             ...   ...         ...  ...              ...   \n2436  Y1795344R      1944-09-17  76.0           M    F          70000.0   \n2437  Y2404085R      1973-01-04  48.0           S    F          90000.0   \n2438  Y2544794L      1973-08-26  47.0           M    M          90000.0   \n2439  Y2671043K      1973-10-23  47.0           S    F          90000.0   \n2440  Y2716961P      1973-03-16  48.0           M    M         110000.0   \n\n      HijosACargo                      NivelAcademico  \\\n0             0.0                        Licenciatura   \n1             3.0                        Licenciatura   \n2             3.0                        Licenciatura   \n3             0.0                        Licenciatura   \n4             5.0                        Licenciatura   \n...           ...                                 ...   \n2436          0.0               Estudios de postgrado   \n2437          0.0  Estudios universitarios (en curso)   \n2438          0.0  Estudios universitarios (en curso)   \n2439          0.0  Estudios universitarios (en curso)   \n2440          2.0                        Licenciatura   \n\n                      Ocupacion  \n0     Profesional especializado  \n1     Profesional especializado  \n2     Profesional especializado  \n3     Profesional especializado  \n4     Profesional especializado  \n...                         ...  \n2436           Mando intermedio  \n2437  Profesional especializado  \n2438  Profesional especializado  \n2439  Profesional especializado  \n2440           Mando intermedio  \n\n[2441 rows x 9 columns]",
                        "text/html": "<div>\n<style scoped>\n    .dataframe tbody tr th:only-of-type {\n        vertical-align: middle;\n    }\n\n    .dataframe tbody tr th {\n        vertical-align: top;\n    }\n\n    .dataframe thead th {\n        text-align: right;\n    }\n</style>\n<table border=\"1\" class=\"dataframe\">\n  <thead>\n    <tr style=\"text-align: right;\">\n      <th></th>\n      <th>CodCliente</th>\n      <th>FechaNacimiento</th>\n      <th>Edad</th>\n      <th>EstadoCivil</th>\n      <th>Sexo</th>\n      <th>IngresosAnuales</th>\n      <th>HijosACargo</th>\n      <th>NivelAcademico</th>\n      <th>Ocupacion</th>\n    </tr>\n  </thead>\n  <tbody>\n    <tr>\n      <th>0</th>\n      <td>000020</td>\n      <td>1976-04-08</td>\n      <td>44.0</td>\n      <td>M</td>\n      <td>M</td>\n      <td>90000.0</td>\n      <td>0.0</td>\n      <td>Licenciatura</td>\n      <td>Profesional especializado</td>\n    </tr>\n    <tr>\n      <th>1</th>\n      <td>000026</td>\n      <td>1975-05-14</td>\n      <td>45.0</td>\n      <td>S</td>\n      <td>M</td>\n      <td>60000.0</td>\n      <td>3.0</td>\n      <td>Licenciatura</td>\n      <td>Profesional especializado</td>\n    </tr>\n    <tr>\n      <th>2</th>\n      <td>000029</td>\n      <td>1975-08-12</td>\n      <td>45.0</td>\n      <td>M</td>\n      <td>M</td>\n      <td>60000.0</td>\n      <td>3.0</td>\n      <td>Licenciatura</td>\n      <td>Profesional especializado</td>\n    </tr>\n    <tr>\n      <th>3</th>\n      <td>000046</td>\n      <td>1978-02-15</td>\n      <td>43.0</td>\n      <td>S</td>\n      <td>F</td>\n      <td>70000.0</td>\n      <td>0.0</td>\n      <td>Licenciatura</td>\n      <td>Profesional especializado</td>\n    </tr>\n    <tr>\n      <th>4</th>\n      <td>000047</td>\n      <td>1978-08-08</td>\n      <td>42.0</td>\n      <td>S</td>\n      <td>F</td>\n      <td>80000.0</td>\n      <td>5.0</td>\n      <td>Licenciatura</td>\n      <td>Profesional especializado</td>\n    </tr>\n    <tr>\n      <th>...</th>\n      <td>...</td>\n      <td>...</td>\n      <td>...</td>\n      <td>...</td>\n      <td>...</td>\n      <td>...</td>\n      <td>...</td>\n      <td>...</td>\n      <td>...</td>\n    </tr>\n    <tr>\n      <th>2436</th>\n      <td>Y1795344R</td>\n      <td>1944-09-17</td>\n      <td>76.0</td>\n      <td>M</td>\n      <td>F</td>\n      <td>70000.0</td>\n      <td>0.0</td>\n      <td>Estudios de postgrado</td>\n      <td>Mando intermedio</td>\n    </tr>\n    <tr>\n      <th>2437</th>\n      <td>Y2404085R</td>\n      <td>1973-01-04</td>\n      <td>48.0</td>\n      <td>S</td>\n      <td>F</td>\n      <td>90000.0</td>\n      <td>0.0</td>\n      <td>Estudios universitarios (en curso)</td>\n      <td>Profesional especializado</td>\n    </tr>\n    <tr>\n      <th>2438</th>\n      <td>Y2544794L</td>\n      <td>1973-08-26</td>\n      <td>47.0</td>\n      <td>M</td>\n      <td>M</td>\n      <td>90000.0</td>\n      <td>0.0</td>\n      <td>Estudios universitarios (en curso)</td>\n      <td>Profesional especializado</td>\n    </tr>\n    <tr>\n      <th>2439</th>\n      <td>Y2671043K</td>\n      <td>1973-10-23</td>\n      <td>47.0</td>\n      <td>S</td>\n      <td>F</td>\n      <td>90000.0</td>\n      <td>0.0</td>\n      <td>Estudios universitarios (en curso)</td>\n      <td>Profesional especializado</td>\n    </tr>\n    <tr>\n      <th>2440</th>\n      <td>Y2716961P</td>\n      <td>1973-03-16</td>\n      <td>48.0</td>\n      <td>M</td>\n      <td>M</td>\n      <td>110000.0</td>\n      <td>2.0</td>\n      <td>Licenciatura</td>\n      <td>Mando intermedio</td>\n    </tr>\n  </tbody>\n</table>\n<p>2441 rows × 9 columns</p>\n</div>"
                    },
                    "metadata": {},
                    "execution_count": 14
                }
            ],
            "source": [
                "TM"
            ]
        },
        {
            "cell_type": "code",
            "execution_count": 22,
            "metadata": {},
            "outputs": [
                {
                    "output_type": "execute_result",
                    "data": {
                        "text/plain": "count    2441.000000\nmean       49.351905\nstd        11.590745\nmin        21.000000\n25%        40.000000\n50%        48.000000\n75%        57.000000\nmax       100.000000\nName: Edad, dtype: float64"
                    },
                    "metadata": {},
                    "execution_count": 22
                }
            ],
            "source": [
                "TM[\"Edad\"].describe()"
            ]
        },
        {
            "cell_type": "code",
            "execution_count": 25,
            "metadata": {},
            "outputs": [
                {
                    "output_type": "execute_result",
                    "data": {
                        "text/plain": "49.35190495698484"
                    },
                    "metadata": {},
                    "execution_count": 25
                }
            ],
            "source": [
                "TM[\"Edad\"].mean()\n"
            ]
        },
        {
            "cell_type": "code",
            "execution_count": 26,
            "metadata": {},
            "outputs": [
                {
                    "output_type": "execute_result",
                    "data": {
                        "text/plain": "48.0"
                    },
                    "metadata": {},
                    "execution_count": 26
                }
            ],
            "source": [
                "TM[\"Edad\"].median()"
            ]
        },
        {
            "cell_type": "code",
            "execution_count": 27,
            "metadata": {},
            "outputs": [
                {
                    "output_type": "execute_result",
                    "data": {
                        "text/plain": "79.0"
                    },
                    "metadata": {},
                    "execution_count": 27
                }
            ],
            "source": [
                "#Midiendo la dispersión\n",
                "#La forma más sencilla, es midiendo el rango\n",
                "TM[\"Edad\"].max()-TM[\"Edad\"].min()"
            ]
        },
        {
            "cell_type": "code",
            "execution_count": 29,
            "metadata": {},
            "outputs": [
                {
                    "output_type": "execute_result",
                    "data": {
                        "text/plain": "0.23485912482332208"
                    },
                    "metadata": {},
                    "execution_count": 29
                }
            ],
            "source": [
                "#Coeficiente de variación\n",
                "TM[\"Edad\"].std() /TM[\"Edad\"].mean()"
            ]
        },
        {
            "cell_type": "code",
            "source": [
                "#Skweness mide la asimetría en la distribución de probabilidad. Si es positiva la disitribución tiene un \"long tail\" a la derecha de la media\n",
                "TM[\"Edad\"].skew()"
            ],
            "metadata": {
                "azdata_cell_guid": "08dbcee1-a101-447d-9040-463390803c93"
            },
            "outputs": [],
            "execution_count": null
        },
        {
            "cell_type": "code",
            "source": [
                "#Si la distribución tiene \"long tails\" en ambas partes - Kurtosis. Si es negativa indica que los tails son cortos\n",
                "TM[\"Edad\"].kurt()"
            ],
            "metadata": {
                "azdata_cell_guid": "ef5cf3c2-d57d-44c3-aaec-d5bb3ad7c921"
            },
            "outputs": [],
            "execution_count": null
        },
        {
            "source": [
                "# Discretizando variables continuas"
            ],
            "cell_type": "markdown",
            "metadata": {}
        },
        {
            "cell_type": "code",
            "execution_count": 34,
            "metadata": {},
            "outputs": [],
            "source": [
                "#Con el mismdo ancho. Abiertas por laizquierda\n",
                "TM[\"RangoEdad\"] = pd.cut(TM[\"Edad\"],5)\n"
            ]
        },
        {
            "cell_type": "code",
            "execution_count": 36,
            "metadata": {},
            "outputs": [],
            "source": [
                "#Si queremos hacerlos de igual alto\n",
                "TM[\"RangoEdad2\"] = pd.qcut(TM[\"Edad\"],5)\n"
            ]
        },
        {
            "cell_type": "code",
            "execution_count": 38,
            "metadata": {},
            "outputs": [],
            "source": [
                "#Personalizado\n",
                "custombins = [16,22,29,39,54,88]\n",
                "TM[\"RangoEdad3\"] = pd.cut(TM[\"Edad\"],custombins)\n"
            ]
        },
        {
            "cell_type": "code",
            "execution_count": 39,
            "metadata": {},
            "outputs": [
                {
                    "output_type": "execute_result",
                    "data": {
                        "text/plain": "     CodCliente FechaNacimiento  Edad EstadoCivil Sexo  IngresosAnuales  \\\n0        000020      1976-04-08  44.0           M    M          90000.0   \n1        000026      1975-05-14  45.0           S    M          60000.0   \n2        000029      1975-08-12  45.0           M    M          60000.0   \n3        000046      1978-02-15  43.0           S    F          70000.0   \n4        000047      1978-08-08  42.0           S    F          80000.0   \n...         ...             ...   ...         ...  ...              ...   \n2436  Y1795344R      1944-09-17  76.0           M    F          70000.0   \n2437  Y2404085R      1973-01-04  48.0           S    F          90000.0   \n2438  Y2544794L      1973-08-26  47.0           M    M          90000.0   \n2439  Y2671043K      1973-10-23  47.0           S    F          90000.0   \n2440  Y2716961P      1973-03-16  48.0           M    M         110000.0   \n\n      HijosACargo                      NivelAcademico  \\\n0             0.0                        Licenciatura   \n1             3.0                        Licenciatura   \n2             3.0                        Licenciatura   \n3             0.0                        Licenciatura   \n4             5.0                        Licenciatura   \n...           ...                                 ...   \n2436          0.0               Estudios de postgrado   \n2437          0.0  Estudios universitarios (en curso)   \n2438          0.0  Estudios universitarios (en curso)   \n2439          0.0  Estudios universitarios (en curso)   \n2440          2.0                        Licenciatura   \n\n                      Ocupacion      RangoEda     RangoEdad     RangoEdad2  \\\n0     Profesional especializado  (36.8, 52.6]  (36.8, 52.6]   (39.0, 45.0]   \n1     Profesional especializado  (36.8, 52.6]  (36.8, 52.6]   (39.0, 45.0]   \n2     Profesional especializado  (36.8, 52.6]  (36.8, 52.6]   (39.0, 45.0]   \n3     Profesional especializado  (36.8, 52.6]  (36.8, 52.6]   (39.0, 45.0]   \n4     Profesional especializado  (36.8, 52.6]  (36.8, 52.6]   (39.0, 45.0]   \n...                         ...           ...           ...            ...   \n2436           Mando intermedio  (68.4, 84.2]  (68.4, 84.2]  (60.0, 100.0]   \n2437  Profesional especializado  (36.8, 52.6]  (36.8, 52.6]   (45.0, 51.0]   \n2438  Profesional especializado  (36.8, 52.6]  (36.8, 52.6]   (45.0, 51.0]   \n2439  Profesional especializado  (36.8, 52.6]  (36.8, 52.6]   (45.0, 51.0]   \n2440           Mando intermedio  (36.8, 52.6]  (36.8, 52.6]   (45.0, 51.0]   \n\n     RangoEdad3  \n0      (39, 54]  \n1      (39, 54]  \n2      (39, 54]  \n3      (39, 54]  \n4      (39, 54]  \n...         ...  \n2436   (54, 88]  \n2437   (39, 54]  \n2438   (39, 54]  \n2439   (39, 54]  \n2440   (39, 54]  \n\n[2441 rows x 13 columns]",
                        "text/html": "<div>\n<style scoped>\n    .dataframe tbody tr th:only-of-type {\n        vertical-align: middle;\n    }\n\n    .dataframe tbody tr th {\n        vertical-align: top;\n    }\n\n    .dataframe thead th {\n        text-align: right;\n    }\n</style>\n<table border=\"1\" class=\"dataframe\">\n  <thead>\n    <tr style=\"text-align: right;\">\n      <th></th>\n      <th>CodCliente</th>\n      <th>FechaNacimiento</th>\n      <th>Edad</th>\n      <th>EstadoCivil</th>\n      <th>Sexo</th>\n      <th>IngresosAnuales</th>\n      <th>HijosACargo</th>\n      <th>NivelAcademico</th>\n      <th>Ocupacion</th>\n      <th>RangoEda</th>\n      <th>RangoEdad</th>\n      <th>RangoEdad2</th>\n      <th>RangoEdad3</th>\n    </tr>\n  </thead>\n  <tbody>\n    <tr>\n      <th>0</th>\n      <td>000020</td>\n      <td>1976-04-08</td>\n      <td>44.0</td>\n      <td>M</td>\n      <td>M</td>\n      <td>90000.0</td>\n      <td>0.0</td>\n      <td>Licenciatura</td>\n      <td>Profesional especializado</td>\n      <td>(36.8, 52.6]</td>\n      <td>(36.8, 52.6]</td>\n      <td>(39.0, 45.0]</td>\n      <td>(39, 54]</td>\n    </tr>\n    <tr>\n      <th>1</th>\n      <td>000026</td>\n      <td>1975-05-14</td>\n      <td>45.0</td>\n      <td>S</td>\n      <td>M</td>\n      <td>60000.0</td>\n      <td>3.0</td>\n      <td>Licenciatura</td>\n      <td>Profesional especializado</td>\n      <td>(36.8, 52.6]</td>\n      <td>(36.8, 52.6]</td>\n      <td>(39.0, 45.0]</td>\n      <td>(39, 54]</td>\n    </tr>\n    <tr>\n      <th>2</th>\n      <td>000029</td>\n      <td>1975-08-12</td>\n      <td>45.0</td>\n      <td>M</td>\n      <td>M</td>\n      <td>60000.0</td>\n      <td>3.0</td>\n      <td>Licenciatura</td>\n      <td>Profesional especializado</td>\n      <td>(36.8, 52.6]</td>\n      <td>(36.8, 52.6]</td>\n      <td>(39.0, 45.0]</td>\n      <td>(39, 54]</td>\n    </tr>\n    <tr>\n      <th>3</th>\n      <td>000046</td>\n      <td>1978-02-15</td>\n      <td>43.0</td>\n      <td>S</td>\n      <td>F</td>\n      <td>70000.0</td>\n      <td>0.0</td>\n      <td>Licenciatura</td>\n      <td>Profesional especializado</td>\n      <td>(36.8, 52.6]</td>\n      <td>(36.8, 52.6]</td>\n      <td>(39.0, 45.0]</td>\n      <td>(39, 54]</td>\n    </tr>\n    <tr>\n      <th>4</th>\n      <td>000047</td>\n      <td>1978-08-08</td>\n      <td>42.0</td>\n      <td>S</td>\n      <td>F</td>\n      <td>80000.0</td>\n      <td>5.0</td>\n      <td>Licenciatura</td>\n      <td>Profesional especializado</td>\n      <td>(36.8, 52.6]</td>\n      <td>(36.8, 52.6]</td>\n      <td>(39.0, 45.0]</td>\n      <td>(39, 54]</td>\n    </tr>\n    <tr>\n      <th>...</th>\n      <td>...</td>\n      <td>...</td>\n      <td>...</td>\n      <td>...</td>\n      <td>...</td>\n      <td>...</td>\n      <td>...</td>\n      <td>...</td>\n      <td>...</td>\n      <td>...</td>\n      <td>...</td>\n      <td>...</td>\n      <td>...</td>\n    </tr>\n    <tr>\n      <th>2436</th>\n      <td>Y1795344R</td>\n      <td>1944-09-17</td>\n      <td>76.0</td>\n      <td>M</td>\n      <td>F</td>\n      <td>70000.0</td>\n      <td>0.0</td>\n      <td>Estudios de postgrado</td>\n      <td>Mando intermedio</td>\n      <td>(68.4, 84.2]</td>\n      <td>(68.4, 84.2]</td>\n      <td>(60.0, 100.0]</td>\n      <td>(54, 88]</td>\n    </tr>\n    <tr>\n      <th>2437</th>\n      <td>Y2404085R</td>\n      <td>1973-01-04</td>\n      <td>48.0</td>\n      <td>S</td>\n      <td>F</td>\n      <td>90000.0</td>\n      <td>0.0</td>\n      <td>Estudios universitarios (en curso)</td>\n      <td>Profesional especializado</td>\n      <td>(36.8, 52.6]</td>\n      <td>(36.8, 52.6]</td>\n      <td>(45.0, 51.0]</td>\n      <td>(39, 54]</td>\n    </tr>\n    <tr>\n      <th>2438</th>\n      <td>Y2544794L</td>\n      <td>1973-08-26</td>\n      <td>47.0</td>\n      <td>M</td>\n      <td>M</td>\n      <td>90000.0</td>\n      <td>0.0</td>\n      <td>Estudios universitarios (en curso)</td>\n      <td>Profesional especializado</td>\n      <td>(36.8, 52.6]</td>\n      <td>(36.8, 52.6]</td>\n      <td>(45.0, 51.0]</td>\n      <td>(39, 54]</td>\n    </tr>\n    <tr>\n      <th>2439</th>\n      <td>Y2671043K</td>\n      <td>1973-10-23</td>\n      <td>47.0</td>\n      <td>S</td>\n      <td>F</td>\n      <td>90000.0</td>\n      <td>0.0</td>\n      <td>Estudios universitarios (en curso)</td>\n      <td>Profesional especializado</td>\n      <td>(36.8, 52.6]</td>\n      <td>(36.8, 52.6]</td>\n      <td>(45.0, 51.0]</td>\n      <td>(39, 54]</td>\n    </tr>\n    <tr>\n      <th>2440</th>\n      <td>Y2716961P</td>\n      <td>1973-03-16</td>\n      <td>48.0</td>\n      <td>M</td>\n      <td>M</td>\n      <td>110000.0</td>\n      <td>2.0</td>\n      <td>Licenciatura</td>\n      <td>Mando intermedio</td>\n      <td>(36.8, 52.6]</td>\n      <td>(36.8, 52.6]</td>\n      <td>(45.0, 51.0]</td>\n      <td>(39, 54]</td>\n    </tr>\n  </tbody>\n</table>\n<p>2441 rows × 13 columns</p>\n</div>"
                    },
                    "metadata": {},
                    "execution_count": 39
                }
            ],
            "source": [
                "TM"
            ]
        },
        {
            "cell_type": "markdown",
            "source": [
                "# Variables discretas"
            ],
            "metadata": {
                "azdata_cell_guid": "db68eb0f-9f5a-4a3f-bea8-56f081027879"
            }
        },
        {
            "cell_type": "code",
            "source": [
                "TM['NivelAcademico'].value_counts()"
            ],
            "metadata": {
                "azdata_cell_guid": "16b02ff1-11cc-4ec2-be47-91ca6b7d73df"
            },
            "outputs": [
                {
                    "output_type": "execute_result",
                    "data": {
                        "text/plain": "Licenciatura                          754\nEstudios universitarios (en curso)    701\nEstudios de postgrado                 467\nEducación Secundaria                  389\nEducación Secundaria (en curso)       129\nName: NivelAcademico, dtype: int64"
                    },
                    "metadata": {},
                    "execution_count": 30
                }
            ],
            "execution_count": 30
        },
        {
            "cell_type": "code",
            "source": [
                "#Definirlo como ordinal\r\n",
                "df[NivelAcademicon'] = df[NivelAcademicon'].astype('category')\r\n",
                "dfNivelAcademicoon'].cat.reorder_categories([\"Educación secundaria (en curso)\",\"Educación secundaria\",\"Estudios universitarios (en curso)\",\"Licenciatura\",\"Estudios de postgrado\"],inplace=True)\r\n",
                "dNivelAcademicoIntInt'] = df['Education'].cat.codes\r\n",
                "NivelAcademicotion'].value_counts().sort_index()"
            ],
            "metadata": {
                "azdata_cell_guid": "587f963a-7512-4c5f-a097-cd50e0051534"
            },
            "outputs": [
                {
                    "output_type": "error",
                    "ename": "SyntaxError",
                    "evalue": "invalid syntax (<ipython-input-31-c78635eaf06a>, line 2)",
                    "traceback": [
                        "\u001b[1;36m  File \u001b[1;32m\"<ipython-input-31-c78635eaf06a>\"\u001b[1;36m, line \u001b[1;32m2\u001b[0m\n\u001b[1;33m    df[NivelAcademicon'] = df[NivelAcademicon'].astype('category')\u001b[0m\n\u001b[1;37m                      ^\u001b[0m\n\u001b[1;31mSyntaxError\u001b[0m\u001b[1;31m:\u001b[0m invalid syntax\n"
                    ]
                }
            ],
            "execution_count": 31
        },
        {
            "cell_type": "code",
            "source": [
                "edu=df['NivelAcademico'].value_counts().sort_index()\r\n",
                "ax=edu.plot(kind='bar',color=('b'),fontsize=14, legend=False,use_index=True,rot=1)\r\n",
                "ax.set_xlabel('Education',fontsize=16)\r\n",
                "ax.set_ylabeCuentaunt',fontsize=16)\r\n",
                "plt.show()"
            ],
            "metadata": {
                "azdata_cell_guid": "302fe335-b5a0-4fab-88b6-afd19170ff9f"
            },
            "outputs": [],
            "execution_count": null
        }
    ]
}