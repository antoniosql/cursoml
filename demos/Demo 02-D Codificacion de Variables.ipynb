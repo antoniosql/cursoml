{
    "metadata": {
        "kernelspec": {
            "name": "python_defaultSpec_1600709073680",
            "display_name": "Python 3.8.5 64-bit"
        },
        "language_info": {
            "name": "python",
            "version": "3.8.5-final",
            "mimetype": "text/x-python",
            "codemirror_mode": {
                "name": "ipython",
                "version": 3
            },
            "pygments_lexer": "ipython3",
            "nbconvert_exporter": "python",
            "file_extension": ".py"
        }
    },
    "nbformat_minor": 2,
    "nbformat": 4,
    "cells": [
        {
            "cell_type": "markdown",
            "source": [
                "![Verne](https://www.vernegroup.com/wp-content/uploads/2020/07/LOGO-VERNE-TECHNOLOGY-GROUP-3.png)"
            ],
            "metadata": {
                "azdata_cell_guid": "6ff08df4-5bc0-47c1-ba66-20206ccc00b1"
            }
        },
        {
            "cell_type": "markdown",
            "source": [
                "# Codificación de Variables Categóricas"
            ],
            "metadata": {
                "id": "lMj-AMuwwXm_",
                "colab_type": "text",
                "azdata_cell_guid": "023fc82f-0fcd-4826-a065-93ab4945fb60"
            }
        },
        {
            "cell_type": "code",
            "source": [
                "import pandas as pd\n",
                "import sqlite3\n",
                "import numpy as np"
            ],
            "metadata": {
                "id": "JcxP4Z9GwSad",
                "colab_type": "code",
                "colab": {},
                "azdata_cell_guid": "65afc185-cd26-4814-8eda-5236c18bbb92"
            },
            "outputs": [],
            "execution_count": 1
        },
        {
            "cell_type": "code",
            "execution_count": 2,
            "metadata": {},
            "outputs": [
                {
                    "output_type": "execute_result",
                    "data": {
                        "text/plain": "  CodCliente FechaNacimiento EstadoCivil Sexo  IngresosAnuales  HijosACargo  \\\n0     000020      1976-04-08           M    M          90000.0          0.0   \n1     000026      1975-05-14           S    M          60000.0          3.0   \n2     000029      1975-08-12           M    M          60000.0          3.0   \n3     000046      1978-02-15           S    F          70000.0          0.0   \n4     000047      1978-08-08           S    F          80000.0          5.0   \n\n  NivelAcademico                  Ocupacion  \n0   Licenciatura  Profesional especializado  \n1   Licenciatura  Profesional especializado  \n2   Licenciatura  Profesional especializado  \n3   Licenciatura  Profesional especializado  \n4   Licenciatura  Profesional especializado  ",
                        "text/html": "<div>\n<style scoped>\n    .dataframe tbody tr th:only-of-type {\n        vertical-align: middle;\n    }\n\n    .dataframe tbody tr th {\n        vertical-align: top;\n    }\n\n    .dataframe thead th {\n        text-align: right;\n    }\n</style>\n<table border=\"1\" class=\"dataframe\">\n  <thead>\n    <tr style=\"text-align: right;\">\n      <th></th>\n      <th>CodCliente</th>\n      <th>FechaNacimiento</th>\n      <th>EstadoCivil</th>\n      <th>Sexo</th>\n      <th>IngresosAnuales</th>\n      <th>HijosACargo</th>\n      <th>NivelAcademico</th>\n      <th>Ocupacion</th>\n    </tr>\n  </thead>\n  <tbody>\n    <tr>\n      <th>0</th>\n      <td>000020</td>\n      <td>1976-04-08</td>\n      <td>M</td>\n      <td>M</td>\n      <td>90000.0</td>\n      <td>0.0</td>\n      <td>Licenciatura</td>\n      <td>Profesional especializado</td>\n    </tr>\n    <tr>\n      <th>1</th>\n      <td>000026</td>\n      <td>1975-05-14</td>\n      <td>S</td>\n      <td>M</td>\n      <td>60000.0</td>\n      <td>3.0</td>\n      <td>Licenciatura</td>\n      <td>Profesional especializado</td>\n    </tr>\n    <tr>\n      <th>2</th>\n      <td>000029</td>\n      <td>1975-08-12</td>\n      <td>M</td>\n      <td>M</td>\n      <td>60000.0</td>\n      <td>3.0</td>\n      <td>Licenciatura</td>\n      <td>Profesional especializado</td>\n    </tr>\n    <tr>\n      <th>3</th>\n      <td>000046</td>\n      <td>1978-02-15</td>\n      <td>S</td>\n      <td>F</td>\n      <td>70000.0</td>\n      <td>0.0</td>\n      <td>Licenciatura</td>\n      <td>Profesional especializado</td>\n    </tr>\n    <tr>\n      <th>4</th>\n      <td>000047</td>\n      <td>1978-08-08</td>\n      <td>S</td>\n      <td>F</td>\n      <td>80000.0</td>\n      <td>5.0</td>\n      <td>Licenciatura</td>\n      <td>Profesional especializado</td>\n    </tr>\n  </tbody>\n</table>\n</div>"
                    },
                    "metadata": {},
                    "execution_count": 2
                }
            ],
            "source": [
                "conn = sqlite3.connect('Tiendas24H.sqlite')\n",
                "query = \"select c.CodCliente, FechaNacimiento, EstadoCivil, Sexo,IngresosAnuales,HijosACargo, N.NivelAcademico, O.Ocupacion from clientes c inner join NivelAcademico N    on c.NivelAcademico = N.Codigo     inner join Ocupacion O on c.Ocupacion = o.Codigo\"\n",
                "\n",
                "df = pd.read_sql_query(query,conn)\n",
                "\n",
                "df.head()"
            ]
        },
        {
            "cell_type": "code",
            "execution_count": null,
            "metadata": {},
            "outputs": [],
            "source": [
                "df.info()"
            ]
        },
        {
            "cell_type": "code",
            "execution_count": 69,
            "metadata": {},
            "outputs": [
                {
                    "output_type": "execute_result",
                    "data": {
                        "text/plain": "array(['M', 'F', None], dtype=object)"
                    },
                    "metadata": {},
                    "execution_count": 69
                }
            ],
            "source": [
                "df.Sexo.unique()"
            ]
        },
        {
            "cell_type": "code",
            "execution_count": 70,
            "metadata": {},
            "outputs": [
                {
                    "output_type": "execute_result",
                    "data": {
                        "text/plain": "CodCliente         0\nFechaNacimiento    0\nEstadoCivil        1\nSexo               1\nIngresosAnuales    1\nNivelAcademico     1\nOcupacion          1\ndtype: int64"
                    },
                    "metadata": {},
                    "execution_count": 70
                }
            ],
            "source": [
                "df.isna().sum()"
            ]
        },
        {
            "cell_type": "code",
            "execution_count": 71,
            "metadata": {},
            "outputs": [],
            "source": [
                "df.dropna(axis=0,inplace=True)"
            ]
        },
        {
            "cell_type": "code",
            "execution_count": 72,
            "metadata": {},
            "outputs": [],
            "source": [
                "from sklearn.preprocessing import  OneHotEncoder,LabelEncoder\n",
                "\n",
                "le=LabelEncoder()\n",
                "df['EstadoCivil'] = le.fit_transform(df['EstadoCivil'])\n",
                "df['Sexo'] = le.fit_transform(df['Sexo'])\n"
            ]
        },
        {
            "cell_type": "code",
            "execution_count": 73,
            "metadata": {},
            "outputs": [
                {
                    "output_type": "execute_result",
                    "data": {
                        "text/plain": "  CodCliente FechaNacimiento  EstadoCivil  Sexo  IngresosAnuales  \\\n0     000020      1976-04-08            0     1          90000.0   \n1     000026      1975-05-14            1     1          60000.0   \n2     000029      1975-08-12            0     1          60000.0   \n3     000046      1978-02-15            1     0          70000.0   \n4     000047      1978-08-08            1     0          80000.0   \n\n  NivelAcademico                  Ocupacion  \n0   Licenciatura  Profesional especializado  \n1   Licenciatura  Profesional especializado  \n2   Licenciatura  Profesional especializado  \n3   Licenciatura  Profesional especializado  \n4   Licenciatura  Profesional especializado  ",
                        "text/html": "<div>\n<style scoped>\n    .dataframe tbody tr th:only-of-type {\n        vertical-align: middle;\n    }\n\n    .dataframe tbody tr th {\n        vertical-align: top;\n    }\n\n    .dataframe thead th {\n        text-align: right;\n    }\n</style>\n<table border=\"1\" class=\"dataframe\">\n  <thead>\n    <tr style=\"text-align: right;\">\n      <th></th>\n      <th>CodCliente</th>\n      <th>FechaNacimiento</th>\n      <th>EstadoCivil</th>\n      <th>Sexo</th>\n      <th>IngresosAnuales</th>\n      <th>NivelAcademico</th>\n      <th>Ocupacion</th>\n    </tr>\n  </thead>\n  <tbody>\n    <tr>\n      <th>0</th>\n      <td>000020</td>\n      <td>1976-04-08</td>\n      <td>0</td>\n      <td>1</td>\n      <td>90000.0</td>\n      <td>Licenciatura</td>\n      <td>Profesional especializado</td>\n    </tr>\n    <tr>\n      <th>1</th>\n      <td>000026</td>\n      <td>1975-05-14</td>\n      <td>1</td>\n      <td>1</td>\n      <td>60000.0</td>\n      <td>Licenciatura</td>\n      <td>Profesional especializado</td>\n    </tr>\n    <tr>\n      <th>2</th>\n      <td>000029</td>\n      <td>1975-08-12</td>\n      <td>0</td>\n      <td>1</td>\n      <td>60000.0</td>\n      <td>Licenciatura</td>\n      <td>Profesional especializado</td>\n    </tr>\n    <tr>\n      <th>3</th>\n      <td>000046</td>\n      <td>1978-02-15</td>\n      <td>1</td>\n      <td>0</td>\n      <td>70000.0</td>\n      <td>Licenciatura</td>\n      <td>Profesional especializado</td>\n    </tr>\n    <tr>\n      <th>4</th>\n      <td>000047</td>\n      <td>1978-08-08</td>\n      <td>1</td>\n      <td>0</td>\n      <td>80000.0</td>\n      <td>Licenciatura</td>\n      <td>Profesional especializado</td>\n    </tr>\n  </tbody>\n</table>\n</div>"
                    },
                    "metadata": {},
                    "execution_count": 73
                }
            ],
            "source": [
                "df.head()"
            ]
        },
        {
            "cell_type": "code",
            "execution_count": 78,
            "metadata": {},
            "outputs": [
                {
                    "output_type": "execute_result",
                    "data": {
                        "text/plain": "     CodCliente FechaNacimiento  EstadoCivil  Sexo  IngresosAnuales  \\\n0        000020      1976-04-08            0     1          90000.0   \n1        000026      1975-05-14            1     1          60000.0   \n2        000029      1975-08-12            0     1          60000.0   \n3        000046      1978-02-15            1     0          70000.0   \n4        000047      1978-08-08            1     0          80000.0   \n...         ...             ...          ...   ...              ...   \n2436  Y1795344R      1944-09-17            0     0          70000.0   \n2437  Y2404085R      1973-01-04            1     0          90000.0   \n2438  Y2544794L      1973-08-26            0     1          90000.0   \n2439  Y2671043K      1973-10-23            1     0          90000.0   \n2440  Y2716961P      1973-03-16            0     1         110000.0   \n\n                          NivelAcademico                  Ocupacion    0    1  \\\n0                           Licenciatura  Profesional especializado  0.0  0.0   \n1                           Licenciatura  Profesional especializado  0.0  0.0   \n2                           Licenciatura  Profesional especializado  0.0  0.0   \n3                           Licenciatura  Profesional especializado  0.0  0.0   \n4                           Licenciatura  Profesional especializado  0.0  0.0   \n...                                  ...                        ...  ...  ...   \n2436               Estudios de postgrado           Mando intermedio  0.0  0.0   \n2437  Estudios universitarios (en curso)  Profesional especializado  0.0  0.0   \n2438  Estudios universitarios (en curso)  Profesional especializado  0.0  0.0   \n2439  Estudios universitarios (en curso)  Profesional especializado  0.0  0.0   \n2440                        Licenciatura           Mando intermedio  NaN  NaN   \n\n        2    3    4  \n0     0.0  0.0  1.0  \n1     0.0  0.0  1.0  \n2     0.0  0.0  1.0  \n3     0.0  0.0  1.0  \n4     0.0  0.0  1.0  \n...   ...  ...  ...  \n2436  0.0  1.0  0.0  \n2437  0.0  1.0  0.0  \n2438  0.0  1.0  0.0  \n2439  0.0  0.0  1.0  \n2440  NaN  NaN  NaN  \n\n[2440 rows x 12 columns]",
                        "text/html": "<div>\n<style scoped>\n    .dataframe tbody tr th:only-of-type {\n        vertical-align: middle;\n    }\n\n    .dataframe tbody tr th {\n        vertical-align: top;\n    }\n\n    .dataframe thead th {\n        text-align: right;\n    }\n</style>\n<table border=\"1\" class=\"dataframe\">\n  <thead>\n    <tr style=\"text-align: right;\">\n      <th></th>\n      <th>CodCliente</th>\n      <th>FechaNacimiento</th>\n      <th>EstadoCivil</th>\n      <th>Sexo</th>\n      <th>IngresosAnuales</th>\n      <th>NivelAcademico</th>\n      <th>Ocupacion</th>\n      <th>0</th>\n      <th>1</th>\n      <th>2</th>\n      <th>3</th>\n      <th>4</th>\n    </tr>\n  </thead>\n  <tbody>\n    <tr>\n      <th>0</th>\n      <td>000020</td>\n      <td>1976-04-08</td>\n      <td>0</td>\n      <td>1</td>\n      <td>90000.0</td>\n      <td>Licenciatura</td>\n      <td>Profesional especializado</td>\n      <td>0.0</td>\n      <td>0.0</td>\n      <td>0.0</td>\n      <td>0.0</td>\n      <td>1.0</td>\n    </tr>\n    <tr>\n      <th>1</th>\n      <td>000026</td>\n      <td>1975-05-14</td>\n      <td>1</td>\n      <td>1</td>\n      <td>60000.0</td>\n      <td>Licenciatura</td>\n      <td>Profesional especializado</td>\n      <td>0.0</td>\n      <td>0.0</td>\n      <td>0.0</td>\n      <td>0.0</td>\n      <td>1.0</td>\n    </tr>\n    <tr>\n      <th>2</th>\n      <td>000029</td>\n      <td>1975-08-12</td>\n      <td>0</td>\n      <td>1</td>\n      <td>60000.0</td>\n      <td>Licenciatura</td>\n      <td>Profesional especializado</td>\n      <td>0.0</td>\n      <td>0.0</td>\n      <td>0.0</td>\n      <td>0.0</td>\n      <td>1.0</td>\n    </tr>\n    <tr>\n      <th>3</th>\n      <td>000046</td>\n      <td>1978-02-15</td>\n      <td>1</td>\n      <td>0</td>\n      <td>70000.0</td>\n      <td>Licenciatura</td>\n      <td>Profesional especializado</td>\n      <td>0.0</td>\n      <td>0.0</td>\n      <td>0.0</td>\n      <td>0.0</td>\n      <td>1.0</td>\n    </tr>\n    <tr>\n      <th>4</th>\n      <td>000047</td>\n      <td>1978-08-08</td>\n      <td>1</td>\n      <td>0</td>\n      <td>80000.0</td>\n      <td>Licenciatura</td>\n      <td>Profesional especializado</td>\n      <td>0.0</td>\n      <td>0.0</td>\n      <td>0.0</td>\n      <td>0.0</td>\n      <td>1.0</td>\n    </tr>\n    <tr>\n      <th>...</th>\n      <td>...</td>\n      <td>...</td>\n      <td>...</td>\n      <td>...</td>\n      <td>...</td>\n      <td>...</td>\n      <td>...</td>\n      <td>...</td>\n      <td>...</td>\n      <td>...</td>\n      <td>...</td>\n      <td>...</td>\n    </tr>\n    <tr>\n      <th>2436</th>\n      <td>Y1795344R</td>\n      <td>1944-09-17</td>\n      <td>0</td>\n      <td>0</td>\n      <td>70000.0</td>\n      <td>Estudios de postgrado</td>\n      <td>Mando intermedio</td>\n      <td>0.0</td>\n      <td>0.0</td>\n      <td>0.0</td>\n      <td>1.0</td>\n      <td>0.0</td>\n    </tr>\n    <tr>\n      <th>2437</th>\n      <td>Y2404085R</td>\n      <td>1973-01-04</td>\n      <td>1</td>\n      <td>0</td>\n      <td>90000.0</td>\n      <td>Estudios universitarios (en curso)</td>\n      <td>Profesional especializado</td>\n      <td>0.0</td>\n      <td>0.0</td>\n      <td>0.0</td>\n      <td>1.0</td>\n      <td>0.0</td>\n    </tr>\n    <tr>\n      <th>2438</th>\n      <td>Y2544794L</td>\n      <td>1973-08-26</td>\n      <td>0</td>\n      <td>1</td>\n      <td>90000.0</td>\n      <td>Estudios universitarios (en curso)</td>\n      <td>Profesional especializado</td>\n      <td>0.0</td>\n      <td>0.0</td>\n      <td>0.0</td>\n      <td>1.0</td>\n      <td>0.0</td>\n    </tr>\n    <tr>\n      <th>2439</th>\n      <td>Y2671043K</td>\n      <td>1973-10-23</td>\n      <td>1</td>\n      <td>0</td>\n      <td>90000.0</td>\n      <td>Estudios universitarios (en curso)</td>\n      <td>Profesional especializado</td>\n      <td>0.0</td>\n      <td>0.0</td>\n      <td>0.0</td>\n      <td>0.0</td>\n      <td>1.0</td>\n    </tr>\n    <tr>\n      <th>2440</th>\n      <td>Y2716961P</td>\n      <td>1973-03-16</td>\n      <td>0</td>\n      <td>1</td>\n      <td>110000.0</td>\n      <td>Licenciatura</td>\n      <td>Mando intermedio</td>\n      <td>NaN</td>\n      <td>NaN</td>\n      <td>NaN</td>\n      <td>NaN</td>\n      <td>NaN</td>\n    </tr>\n  </tbody>\n</table>\n<p>2440 rows × 12 columns</p>\n</div>"
                    },
                    "metadata": {},
                    "execution_count": 78
                }
            ],
            "source": [
                "\n",
                "# Crear la instancia del Codificador OneHot\n",
                "enc = OneHotEncoder(handle_unknown='ignore')\n",
                "\n",
                "enc_df = pd.DataFrame(enc.fit_transform(df[['NivelAcademico']] ).toarray())\n",
                "# Mezclar con el df original\n",
                "bridge_df = df.join(enc_df)\n",
                "bridge_df"
            ]
        },
        {
            "cell_type": "code",
            "execution_count": 76,
            "metadata": {},
            "outputs": [],
            "source": [
                "\n",
                "# One Hot encoding utilizando dummies. Podemos hacerlo para varias variables y agrega sufijos y valores como nombre de columna\n",
                "dum_df = pd.get_dummies(df, columns=[\"NivelAcademico\",\"Ocupacion\"] )\n",
                "\n"
            ]
        },
        {
            "cell_type": "code",
            "execution_count": 77,
            "metadata": {},
            "outputs": [
                {
                    "output_type": "execute_result",
                    "data": {
                        "text/plain": "     CodCliente FechaNacimiento  EstadoCivil  Sexo  IngresosAnuales  \\\n0        000020      1976-04-08            0     1          90000.0   \n1        000026      1975-05-14            1     1          60000.0   \n2        000029      1975-08-12            0     1          60000.0   \n3        000046      1978-02-15            1     0          70000.0   \n4        000047      1978-08-08            1     0          80000.0   \n...         ...             ...          ...   ...              ...   \n2436  Y1795344R      1944-09-17            0     0          70000.0   \n2437  Y2404085R      1973-01-04            1     0          90000.0   \n2438  Y2544794L      1973-08-26            0     1          90000.0   \n2439  Y2671043K      1973-10-23            1     0          90000.0   \n2440  Y2716961P      1973-03-16            0     1         110000.0   \n\n      NivelAcademico_Educación Secundaria  \\\n0                                       0   \n1                                       0   \n2                                       0   \n3                                       0   \n4                                       0   \n...                                   ...   \n2436                                    0   \n2437                                    0   \n2438                                    0   \n2439                                    0   \n2440                                    0   \n\n      NivelAcademico_Educación Secundaria (en curso)  \\\n0                                                  0   \n1                                                  0   \n2                                                  0   \n3                                                  0   \n4                                                  0   \n...                                              ...   \n2436                                               0   \n2437                                               0   \n2438                                               0   \n2439                                               0   \n2440                                               0   \n\n      NivelAcademico_Estudios de postgrado  \\\n0                                        0   \n1                                        0   \n2                                        0   \n3                                        0   \n4                                        0   \n...                                    ...   \n2436                                     1   \n2437                                     0   \n2438                                     0   \n2439                                     0   \n2440                                     0   \n\n      NivelAcademico_Estudios universitarios (en curso)  \\\n0                                                     0   \n1                                                     0   \n2                                                     0   \n3                                                     0   \n4                                                     0   \n...                                                 ...   \n2436                                                  0   \n2437                                                  1   \n2438                                                  1   \n2439                                                  1   \n2440                                                  0   \n\n      NivelAcademico_Licenciatura  Ocupacion_Empleado por cuenta ajena  \\\n0                               1                                    0   \n1                               1                                    0   \n2                               1                                    0   \n3                               1                                    0   \n4                               1                                    0   \n...                           ...                                  ...   \n2436                            0                                    0   \n2437                            0                                    0   \n2438                            0                                    0   \n2439                            0                                    0   \n2440                            1                                    0   \n\n      Ocupacion_Empleados/as de hogar  Ocupacion_Mando intermedio  \\\n0                                   0                           0   \n1                                   0                           0   \n2                                   0                           0   \n3                                   0                           0   \n4                                   0                           0   \n...                               ...                         ...   \n2436                                0                           1   \n2437                                0                           0   \n2438                                0                           0   \n2439                                0                           0   \n2440                                0                           1   \n\n      Ocupacion_Profesional especializado  Ocupacion_Profesional independiente  \n0                                       1                                    0  \n1                                       1                                    0  \n2                                       1                                    0  \n3                                       1                                    0  \n4                                       1                                    0  \n...                                   ...                                  ...  \n2436                                    0                                    0  \n2437                                    1                                    0  \n2438                                    1                                    0  \n2439                                    1                                    0  \n2440                                    0                                    0  \n\n[2440 rows x 15 columns]",
                        "text/html": "<div>\n<style scoped>\n    .dataframe tbody tr th:only-of-type {\n        vertical-align: middle;\n    }\n\n    .dataframe tbody tr th {\n        vertical-align: top;\n    }\n\n    .dataframe thead th {\n        text-align: right;\n    }\n</style>\n<table border=\"1\" class=\"dataframe\">\n  <thead>\n    <tr style=\"text-align: right;\">\n      <th></th>\n      <th>CodCliente</th>\n      <th>FechaNacimiento</th>\n      <th>EstadoCivil</th>\n      <th>Sexo</th>\n      <th>IngresosAnuales</th>\n      <th>NivelAcademico_Educación Secundaria</th>\n      <th>NivelAcademico_Educación Secundaria (en curso)</th>\n      <th>NivelAcademico_Estudios de postgrado</th>\n      <th>NivelAcademico_Estudios universitarios (en curso)</th>\n      <th>NivelAcademico_Licenciatura</th>\n      <th>Ocupacion_Empleado por cuenta ajena</th>\n      <th>Ocupacion_Empleados/as de hogar</th>\n      <th>Ocupacion_Mando intermedio</th>\n      <th>Ocupacion_Profesional especializado</th>\n      <th>Ocupacion_Profesional independiente</th>\n    </tr>\n  </thead>\n  <tbody>\n    <tr>\n      <th>0</th>\n      <td>000020</td>\n      <td>1976-04-08</td>\n      <td>0</td>\n      <td>1</td>\n      <td>90000.0</td>\n      <td>0</td>\n      <td>0</td>\n      <td>0</td>\n      <td>0</td>\n      <td>1</td>\n      <td>0</td>\n      <td>0</td>\n      <td>0</td>\n      <td>1</td>\n      <td>0</td>\n    </tr>\n    <tr>\n      <th>1</th>\n      <td>000026</td>\n      <td>1975-05-14</td>\n      <td>1</td>\n      <td>1</td>\n      <td>60000.0</td>\n      <td>0</td>\n      <td>0</td>\n      <td>0</td>\n      <td>0</td>\n      <td>1</td>\n      <td>0</td>\n      <td>0</td>\n      <td>0</td>\n      <td>1</td>\n      <td>0</td>\n    </tr>\n    <tr>\n      <th>2</th>\n      <td>000029</td>\n      <td>1975-08-12</td>\n      <td>0</td>\n      <td>1</td>\n      <td>60000.0</td>\n      <td>0</td>\n      <td>0</td>\n      <td>0</td>\n      <td>0</td>\n      <td>1</td>\n      <td>0</td>\n      <td>0</td>\n      <td>0</td>\n      <td>1</td>\n      <td>0</td>\n    </tr>\n    <tr>\n      <th>3</th>\n      <td>000046</td>\n      <td>1978-02-15</td>\n      <td>1</td>\n      <td>0</td>\n      <td>70000.0</td>\n      <td>0</td>\n      <td>0</td>\n      <td>0</td>\n      <td>0</td>\n      <td>1</td>\n      <td>0</td>\n      <td>0</td>\n      <td>0</td>\n      <td>1</td>\n      <td>0</td>\n    </tr>\n    <tr>\n      <th>4</th>\n      <td>000047</td>\n      <td>1978-08-08</td>\n      <td>1</td>\n      <td>0</td>\n      <td>80000.0</td>\n      <td>0</td>\n      <td>0</td>\n      <td>0</td>\n      <td>0</td>\n      <td>1</td>\n      <td>0</td>\n      <td>0</td>\n      <td>0</td>\n      <td>1</td>\n      <td>0</td>\n    </tr>\n    <tr>\n      <th>...</th>\n      <td>...</td>\n      <td>...</td>\n      <td>...</td>\n      <td>...</td>\n      <td>...</td>\n      <td>...</td>\n      <td>...</td>\n      <td>...</td>\n      <td>...</td>\n      <td>...</td>\n      <td>...</td>\n      <td>...</td>\n      <td>...</td>\n      <td>...</td>\n      <td>...</td>\n    </tr>\n    <tr>\n      <th>2436</th>\n      <td>Y1795344R</td>\n      <td>1944-09-17</td>\n      <td>0</td>\n      <td>0</td>\n      <td>70000.0</td>\n      <td>0</td>\n      <td>0</td>\n      <td>1</td>\n      <td>0</td>\n      <td>0</td>\n      <td>0</td>\n      <td>0</td>\n      <td>1</td>\n      <td>0</td>\n      <td>0</td>\n    </tr>\n    <tr>\n      <th>2437</th>\n      <td>Y2404085R</td>\n      <td>1973-01-04</td>\n      <td>1</td>\n      <td>0</td>\n      <td>90000.0</td>\n      <td>0</td>\n      <td>0</td>\n      <td>0</td>\n      <td>1</td>\n      <td>0</td>\n      <td>0</td>\n      <td>0</td>\n      <td>0</td>\n      <td>1</td>\n      <td>0</td>\n    </tr>\n    <tr>\n      <th>2438</th>\n      <td>Y2544794L</td>\n      <td>1973-08-26</td>\n      <td>0</td>\n      <td>1</td>\n      <td>90000.0</td>\n      <td>0</td>\n      <td>0</td>\n      <td>0</td>\n      <td>1</td>\n      <td>0</td>\n      <td>0</td>\n      <td>0</td>\n      <td>0</td>\n      <td>1</td>\n      <td>0</td>\n    </tr>\n    <tr>\n      <th>2439</th>\n      <td>Y2671043K</td>\n      <td>1973-10-23</td>\n      <td>1</td>\n      <td>0</td>\n      <td>90000.0</td>\n      <td>0</td>\n      <td>0</td>\n      <td>0</td>\n      <td>1</td>\n      <td>0</td>\n      <td>0</td>\n      <td>0</td>\n      <td>0</td>\n      <td>1</td>\n      <td>0</td>\n    </tr>\n    <tr>\n      <th>2440</th>\n      <td>Y2716961P</td>\n      <td>1973-03-16</td>\n      <td>0</td>\n      <td>1</td>\n      <td>110000.0</td>\n      <td>0</td>\n      <td>0</td>\n      <td>0</td>\n      <td>0</td>\n      <td>1</td>\n      <td>0</td>\n      <td>0</td>\n      <td>1</td>\n      <td>0</td>\n      <td>0</td>\n    </tr>\n  </tbody>\n</table>\n<p>2440 rows × 15 columns</p>\n</div>"
                    },
                    "metadata": {},
                    "execution_count": 77
                }
            ],
            "source": [
                "dum_df"
            ]
        },
        {
            "cell_type": "code",
            "execution_count": null,
            "metadata": {},
            "outputs": [],
            "source": []
        }
    ]
}