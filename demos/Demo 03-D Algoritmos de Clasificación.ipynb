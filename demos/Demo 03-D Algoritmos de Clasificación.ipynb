{
    "metadata": {
        "kernelspec": {
            "name": "python3",
            "display_name": "Python 3"
        },
        "language_info": {
            "name": "python",
            "version": "3.6.6",
            "mimetype": "text/x-python",
            "codemirror_mode": {
                "name": "ipython",
                "version": 3
            },
            "pygments_lexer": "ipython3",
            "nbconvert_exporter": "python",
            "file_extension": ".py"
        }
    },
    "nbformat_minor": 2,
    "nbformat": 4,
    "cells": [
        {
            "cell_type": "markdown",
            "source": [
                "![SolidQ](https://www.solidq.com/wp-content/uploads/2015/06/Logo-SolidQ-Web.gif)"
            ],
            "metadata": {
                "azdata_cell_guid": "5795a090-5585-49b8-97ac-a10930bd8908"
            }
        },
        {
            "cell_type": "markdown",
            "source": [
                "# Carga de datos y revisión"
            ],
            "metadata": {
                "id": "Wz4FbjZ00TGD",
                "colab_type": "text",
                "azdata_cell_guid": "03270248-69b5-43eb-9dd0-52b939742c0f"
            }
        },
        {
            "cell_type": "code",
            "source": [
                "import pandas as pd\n",
                "import matplotlib.pyplot as plt\n",
                "fruits = pd.read_table('fruit_data_with_colors.txt')\n",
                "fruits.head()"
            ],
            "metadata": {
                "id": "VrmWESHp3wEX",
                "colab_type": "code",
                "colab": {},
                "azdata_cell_guid": "fe6b7fe4-32ef-452b-87e7-87ba1a5d30c9"
            },
            "outputs": [],
            "execution_count": 0
        },
        {
            "cell_type": "code",
            "source": [
                "print(fruits['fruit_name'].unique())"
            ],
            "metadata": {
                "id": "oveyYcah3_BW",
                "colab_type": "code",
                "colab": {},
                "azdata_cell_guid": "fc5b97e9-08f1-44b1-be9a-5d3a0a32eab6"
            },
            "outputs": [],
            "execution_count": 0
        },
        {
            "cell_type": "code",
            "source": [
                "print(fruits.groupby('fruit_name').size())"
            ],
            "metadata": {
                "id": "XPpK_9lh4Ast",
                "colab_type": "code",
                "colab": {},
                "azdata_cell_guid": "cf224807-d6a5-424a-bc70-7a5b1a5ab231"
            },
            "outputs": [],
            "execution_count": 0
        },
        {
            "cell_type": "code",
            "source": [
                "import seaborn as sns\n",
                "sns.countplot(fruits['fruit_name'],label=\"Count\")\n",
                "plt.show()"
            ],
            "metadata": {
                "id": "02XYn8CE4CST",
                "colab_type": "code",
                "colab": {},
                "azdata_cell_guid": "111e2c1c-a5d8-492d-b43e-ff07e5b5c3f1"
            },
            "outputs": [],
            "execution_count": 0
        },
        {
            "cell_type": "code",
            "source": [
                "fruits.drop('fruit_label', axis=1).plot(kind='box', subplots=True, layout=(2,2), sharex=False, sharey=False, figsize=(9,9), \n",
                "                                        title='Box Plot for each input variable')\n",
                "plt.savefig('fruits_box')\n",
                "plt.show()"
            ],
            "metadata": {
                "id": "wNjBmZZ34D4h",
                "colab_type": "code",
                "colab": {},
                "azdata_cell_guid": "b1e03449-ffc2-4e3f-9f91-09c516ef5e92"
            },
            "outputs": [],
            "execution_count": 0
        },
        {
            "cell_type": "code",
            "source": [
                "import pylab as pl\n",
                "fruits.drop('fruit_label' ,axis=1).hist(bins=30, figsize=(9,9))\n",
                "pl.suptitle(\"Histogram for each numeric input variable\")\n",
                "plt.savefig('fruits_hist')\n",
                "plt.show()"
            ],
            "metadata": {
                "id": "ggaqeNh24GCO",
                "colab_type": "code",
                "colab": {},
                "azdata_cell_guid": "05b4bd82-1a1a-468c-abfa-8e32b7fbf911"
            },
            "outputs": [],
            "execution_count": 0
        },
        {
            "cell_type": "code",
            "source": [
                "feature_names = ['mass', 'width', 'height', 'color_score']\n",
                "X = fruits[feature_names]\n",
                "y = fruits['fruit_label']\n"
            ],
            "metadata": {
                "id": "vN7ND6Qk4KYT",
                "colab_type": "code",
                "colab": {},
                "azdata_cell_guid": "1f1d7a2d-f4b2-4c87-ab2d-1fa797b57696"
            },
            "outputs": [],
            "execution_count": 0
        },
        {
            "cell_type": "code",
            "source": [
                ""
            ],
            "metadata": {
                "id": "Re5zqvK87gxi",
                "colab_type": "code",
                "colab": {},
                "azdata_cell_guid": "ac0fd871-765e-4a6a-bfb3-5638d99aa548"
            },
            "outputs": [],
            "execution_count": 0
        },
        {
            "cell_type": "markdown",
            "source": [
                "# Separar datos y escalar"
            ],
            "metadata": {
                "id": "jDOdWeLr4Ny4",
                "colab_type": "text",
                "azdata_cell_guid": "be15cee3-6598-49a1-ae88-38ac5cf43867"
            }
        },
        {
            "cell_type": "code",
            "source": [
                "from sklearn.model_selection import train_test_split\n",
                "X_train, X_test, y_train, y_test = train_test_split(X, y, random_state=0)\n",
                "from sklearn.preprocessing import MinMaxScaler\n",
                "scaler = MinMaxScaler()\n",
                "X_train = scaler.fit_transform(X_train)\n",
                "X_test = scaler.transform(X_test)"
            ],
            "metadata": {
                "id": "9PXyZMZd4Q3v",
                "colab_type": "code",
                "colab": {},
                "azdata_cell_guid": "d57a06e2-5638-4934-8713-b012bce42c08"
            },
            "outputs": [],
            "execution_count": 0
        },
        {
            "cell_type": "markdown",
            "source": [
                "# Árboles de Decisión\n"
            ],
            "metadata": {
                "id": "BHWwi2tT4YZy",
                "colab_type": "text",
                "azdata_cell_guid": "b1b7bbbe-6667-4e25-bda7-5a9fa92850ec"
            }
        },
        {
            "cell_type": "code",
            "source": [
                "from sklearn.tree import DecisionTreeClassifier\n",
                "clf = DecisionTreeClassifier().fit(X_train, y_train)\n",
                "print('Accuracy of Decision Tree classifier on training set: {:.2f}'\n",
                "     .format(clf.score(X_train, y_train)))\n",
                "print('Accuracy of Decision Tree classifier on test set: {:.2f}'\n",
                "     .format(clf.score(X_test, y_test)))"
            ],
            "metadata": {
                "id": "iKZ4_etx4cVt",
                "colab_type": "code",
                "colab": {},
                "azdata_cell_guid": "928293da-095f-4dd7-a990-9736d30872b6"
            },
            "outputs": [],
            "execution_count": 0
        },
        {
            "cell_type": "code",
            "source": [
                "from sklearn.externals.six import StringIO  \n",
                "from IPython.display import Image  \n",
                "from sklearn.tree import export_graphviz\n",
                "import pydotplus\n",
                "dot_data = StringIO()\n",
                "export_graphviz(clf, out_file=dot_data,  \n",
                "                filled=True, rounded=True,\n",
                "                special_characters=True)\n",
                "graph = pydotplus.graph_from_dot_data(dot_data.getvalue())  \n",
                "Image(graph.create_png())"
            ],
            "metadata": {
                "id": "HaxvmQR574Fp",
                "colab_type": "code",
                "colab": {},
                "azdata_cell_guid": "db70627d-cc17-42da-bb25-9b1c562b4432"
            },
            "outputs": [],
            "execution_count": 0
        },
        {
            "cell_type": "markdown",
            "source": [
                "# k-NN"
            ],
            "metadata": {
                "id": "OY-kDs4A4eek",
                "colab_type": "text",
                "azdata_cell_guid": "8642b948-8bca-4cd4-8c1e-7f2d83c75438"
            }
        },
        {
            "cell_type": "code",
            "source": [
                "from sklearn.neighbors import KNeighborsClassifier\n",
                "knn = KNeighborsClassifier()\n",
                "knn.fit(X_train, y_train)\n",
                "print('Accuracy of K-NN classifier on training set: {:.2f}'\n",
                "     .format(knn.score(X_train, y_train)))\n",
                "print('Accuracy of K-NN classifier on test set: {:.2f}'\n",
                "     .format(knn.score(X_test, y_test)))"
            ],
            "metadata": {
                "id": "mhJh9G3_4gW8",
                "colab_type": "code",
                "colab": {},
                "azdata_cell_guid": "8bf9e03a-6e0c-4919-afb8-5cd037d9d92c"
            },
            "outputs": [],
            "execution_count": 0
        },
        {
            "cell_type": "code",
            "source": [
                "from sklearn.metrics import classification_report\n",
                "from sklearn.metrics import confusion_matrix\n",
                "pred = knn.predict(X_test)\n",
                "print(confusion_matrix(y_test, pred))\n",
                "print(classification_report(y_test, pred))"
            ],
            "metadata": {
                "id": "_4RbU-pK4tmM",
                "colab_type": "code",
                "colab": {},
                "azdata_cell_guid": "77260234-8baa-4947-9c25-35b3849b9800"
            },
            "outputs": [],
            "execution_count": 0
        },
        {
            "cell_type": "code",
            "source": [
                "import matplotlib.cm as cm\n",
                "from matplotlib.colors import ListedColormap, BoundaryNorm\n",
                "import matplotlib.patches as mpatches\n",
                "import matplotlib.patches as mpatches\n",
                "import numpy as np\n",
                "\n",
                "X = fruits[['mass', 'width', 'height', 'color_score']]\n",
                "y = fruits['fruit_label']\n",
                "X_train, X_test, y_train, y_test = train_test_split(X, y, random_state=0)\n",
                "def plot_fruit_knn(X, y, n_neighbors, weights):\n",
                "    X_mat = X[['height', 'width']].as_matrix()\n",
                "    y_mat = y.as_matrix()\n",
                "    cmap_light = ListedColormap(['#FFAAAA', '#AAFFAA', '#AAAAFF','#AFAFAF'])\n",
                "    cmap_bold  = ListedColormap(['#FF0000', '#00FF00', '#0000FF','#AFAFAF'])\n",
                "    clf = KNeighborsClassifier(n_neighbors, weights=weights)\n",
                "    clf.fit(X_mat, y_mat)\n",
                "\n",
                "    # Plot the decision boundary by assigning a color in the color map\n",
                "        # to each mesh point.\n",
                "\n",
                "    mesh_step_size = .01  # step size in the mesh\n",
                "    plot_symbol_size = 50\n",
                "\n",
                "    x_min, x_max = X_mat[:, 0].min() - 1, X_mat[:, 0].max() + 1\n",
                "    y_min, y_max = X_mat[:, 1].min() - 1, X_mat[:, 1].max() + 1\n",
                "    xx, yy = np.meshgrid(np.arange(x_min, x_max, mesh_step_size),\n",
                "                             np.arange(y_min, y_max, mesh_step_size))\n",
                "    Z = clf.predict(np.c_[xx.ravel(), yy.ravel()])\n",
                "\n",
                "    # Put the result into a color plot\n",
                "\n",
                "    Z = Z.reshape(xx.shape)\n",
                "    plt.figure()\n",
                "    plt.pcolormesh(xx, yy, Z, cmap=cmap_light)\n",
                "\n",
                "    # Plot training points\n",
                "\n",
                "    plt.scatter(X_mat[:, 0], X_mat[:, 1], s=plot_symbol_size, c=y, cmap=cmap_bold, edgecolor = 'black')\n",
                "    plt.xlim(xx.min(), xx.max())\n",
                "    plt.ylim(yy.min(), yy.max())\n",
                "    patch0 = mpatches.Patch(color='#FF0000', label='apple')\n",
                "    patch1 = mpatches.Patch(color='#00FF00', label='mandarin')\n",
                "    patch2 = mpatches.Patch(color='#0000FF', label='orange')\n",
                "    patch3 = mpatches.Patch(color='#AFAFAF', label='lemon')\n",
                "    plt.legend(handles=[patch0, patch1, patch2, patch3])\n",
                "    plt.xlabel('height (cm)')\n",
                "    plt.ylabel('width (cm)')\n",
                "    plt.title(\"4-Class classification (k = %i, weights = '%s')\"\n",
                "               % (n_neighbors, weights))    \n",
                "    plt.show()\n",
                "    \n"
            ],
            "metadata": {
                "id": "NvkrLHUM4ull",
                "colab_type": "code",
                "colab": {},
                "azdata_cell_guid": "ff54291d-bad9-42d7-a784-b437e0a06d05"
            },
            "outputs": [],
            "execution_count": 0
        },
        {
            "cell_type": "code",
            "source": [
                "plot_fruit_knn(X_train, y_train, 5, 'uniform')"
            ],
            "metadata": {
                "id": "3jXbr7QJmmiU",
                "colab_type": "code",
                "colab": {},
                "azdata_cell_guid": "3681c36c-4e19-4372-b116-41ae39c50b7a"
            },
            "outputs": [],
            "execution_count": 0
        },
        {
            "cell_type": "code",
            "source": [
                "# cómo afecta el número de ks\n",
                "k_range = range(1, 20)\n",
                "scores = []\n",
                "for k in k_range:\n",
                "    knn = KNeighborsClassifier(n_neighbors = k)\n",
                "    knn.fit(X_train, y_train)\n",
                "    scores.append(knn.score(X_test, y_test))\n",
                "plt.figure()\n",
                "plt.xlabel('k')\n",
                "plt.ylabel('accuracy')\n",
                "plt.scatter(k_range, scores)\n",
                "plt.xticks([0,5,10,15,20])"
            ],
            "metadata": {
                "id": "Gho2yBag52YO",
                "colab_type": "code",
                "colab": {},
                "azdata_cell_guid": "d56b2eb2-0339-44c9-9d54-c632e35475fd"
            },
            "outputs": [],
            "execution_count": 0
        },
        {
            "cell_type": "markdown",
            "source": [
                "# Regresión Logística"
            ],
            "metadata": {
                "id": "fOHJoBpH4Sxv",
                "colab_type": "text",
                "azdata_cell_guid": "808ffbc8-22a6-4246-8c95-ebe4287e7ac9"
            }
        },
        {
            "cell_type": "code",
            "source": [
                "from sklearn.linear_model import LogisticRegression\n",
                "logreg = LogisticRegression()\n",
                "logreg.fit(X_train, y_train)\n",
                "print('Accuracy of Logistic regression classifier on training set: {:.2f}'\n",
                "     .format(logreg.score(X_train, y_train)))\n",
                "print('Accuracy of Logistic regression classifier on test set: {:.2f}'\n",
                "     .format(logreg.score(X_test, y_test)))"
            ],
            "metadata": {
                "id": "NdAmhi2v4Wfp",
                "colab_type": "code",
                "colab": {},
                "azdata_cell_guid": "6bfcb2cf-7cdb-49dd-a60d-f0606f0d6328"
            },
            "outputs": [],
            "execution_count": 0
        },
        {
            "cell_type": "markdown",
            "source": [
                "# SVM"
            ],
            "metadata": {
                "id": "BUtPpG6H4jeI",
                "colab_type": "text",
                "azdata_cell_guid": "08ad5eb4-74cd-4a4f-9208-a83ef4248b0a"
            }
        },
        {
            "cell_type": "code",
            "source": [
                "from sklearn.svm import SVC\n",
                "svm = SVC()\n",
                "svm.fit(X_train, y_train)\n",
                "print('Accuracy of SVM classifier on training set: {:.2f}'\n",
                "     .format(svm.score(X_train, y_train)))\n",
                "print('Accuracy of SVM classifier on test set: {:.2f}'\n",
                "     .format(svm.score(X_test, y_test)))"
            ],
            "metadata": {
                "id": "tdZbAk2l4lNt",
                "colab_type": "code",
                "colab": {},
                "azdata_cell_guid": "72376961-5439-4a46-b81c-f78256a63dc7"
            },
            "outputs": [],
            "execution_count": 0
        }
    ]
}