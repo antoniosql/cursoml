{
    "metadata": {
        "kernelspec": {
            "name": "python3",
            "display_name": "Python 3"
        },
        "language_info": {
            "name": "python",
            "version": "3.6.6",
            "mimetype": "text/x-python",
            "codemirror_mode": {
                "name": "ipython",
                "version": 3
            },
            "pygments_lexer": "ipython3",
            "nbconvert_exporter": "python",
            "file_extension": ".py"
        }
    },
    "nbformat_minor": 2,
    "nbformat": 4,
    "cells": [
        {
            "cell_type": "markdown",
            "source": [
                "![SolidQ](https://www.solidq.com/wp-content/uploads/2015/06/Logo-SolidQ-Web.gif)"
            ],
            "metadata": {
                "id": "_h7rszWt8GjX",
                "colab_type": "text",
                "azdata_cell_guid": "b8793e4c-8262-46ad-8a11-d269693b6134"
            }
        },
        {
            "cell_type": "markdown",
            "source": [
                "# Cuaderno de Introducción a Python"
            ],
            "metadata": {
                "id": "_fxJZfox7nTF",
                "colab_type": "text",
                "azdata_cell_guid": "29890ae1-ccf8-4a43-8a6b-f9c39481faed"
            }
        },
        {
            "cell_type": "code",
            "source": [
                "#Esto es un comentario\n",
                "print (\"Hola Mundo!\")\n",
                "#Esta linea se ignora - otro comentario\n",
                "print('Otra cadena')\n",
                "print ('O\"Brien') # comentario en linea\n",
                "print(\"O'Brien\")"
            ],
            "metadata": {
                "id": "28V3-kL041KN",
                "colab_type": "code",
                "colab": {
                    "base_uri": "https://localhost:8080/",
                    "height": 85
                },
                "outputId": "c910f9d3-32a4-4d4d-8ffa-3ade16932166",
                "executionInfo": {
                    "status": "ok",
                    "timestamp": 1573734618816,
                    "user_tz": -60,
                    "elapsed": 826,
                    "user": {
                        "displayName": "Machine Learning",
                        "photoUrl": "",
                        "userId": "05609927355646341864"
                    }
                },
                "azdata_cell_guid": "52ed3b69-1777-4d15-af65-e21ffdbd32e8"
            },
            "outputs": [
                {
                    "output_type": "stream",
                    "name": "stdout",
                    "text": "Hola Mundo!\nOtra cadena\nO\"Brien\nO'Brien\n"
                }
            ],
            "execution_count": 1
        },
        {
            "cell_type": "code",
            "source": [
                "3+2"
            ],
            "metadata": {
                "id": "FnwDLlGJ5k1y",
                "colab_type": "code",
                "colab": {
                    "base_uri": "https://localhost:8080/",
                    "height": 34
                },
                "outputId": "76b8adcc-6cd4-419d-c91f-9c0abac70a2d",
                "executionInfo": {
                    "status": "ok",
                    "timestamp": 1573734734676,
                    "user_tz": -60,
                    "elapsed": 685,
                    "user": {
                        "displayName": "Machine Learning",
                        "photoUrl": "",
                        "userId": "05609927355646341864"
                    }
                },
                "azdata_cell_guid": "229bf40e-2987-4fb9-a27a-7000e604f268"
            },
            "outputs": [
                {
                    "output_type": "execute_result",
                    "execution_count": 3,
                    "data": {
                        "text/plain": "5"
                    },
                    "metadata": {
                        "tags": []
                    }
                }
            ],
            "execution_count": 3
        },
        {
            "cell_type": "code",
            "source": [
                "3+2\n",
                "print(\"El resultado de 5+30 /6 es:\", 5+30/6)\n",
                "print(\"¿Es 8 mayor que 5?\" , 8>5)"
            ],
            "metadata": {
                "id": "ONs8qt3W5Tr_",
                "colab_type": "code",
                "colab": {
                    "base_uri": "https://localhost:8080/",
                    "height": 51
                },
                "outputId": "9fcf12b4-91bf-4e6e-9cce-466874bdd49d",
                "executionInfo": {
                    "status": "ok",
                    "timestamp": 1573734783842,
                    "user_tz": -60,
                    "elapsed": 707,
                    "user": {
                        "displayName": "Machine Learning",
                        "photoUrl": "",
                        "userId": "05609927355646341864"
                    }
                },
                "azdata_cell_guid": "69f32b12-52ea-4675-8768-d06a3cdb90f4"
            },
            "outputs": [
                {
                    "output_type": "stream",
                    "name": "stdout",
                    "text": "El resultado de 5+30 /6 es: 10.0\n¿Es 8 mayor que 5? True\n"
                }
            ],
            "execution_count": 4
        },
        {
            "cell_type": "code",
            "source": [
                "a=3\n",
                "b=4\n",
                "a**b"
            ],
            "metadata": {
                "id": "nClh8t5r6klb",
                "colab_type": "code",
                "colab": {
                    "base_uri": "https://localhost:8080/",
                    "height": 34
                },
                "outputId": "f565ca39-66fe-48ee-87a5-a3eb9ca3070a",
                "executionInfo": {
                    "status": "ok",
                    "timestamp": 1573735007039,
                    "user_tz": -60,
                    "elapsed": 802,
                    "user": {
                        "displayName": "Machine Learning",
                        "photoUrl": "",
                        "userId": "05609927355646341864"
                    }
                },
                "azdata_cell_guid": "1c6cff4b-3bf1-4807-b345-e1915bcaf916"
            },
            "outputs": [
                {
                    "output_type": "execute_result",
                    "execution_count": 5,
                    "data": {
                        "text/plain": "81"
                    },
                    "metadata": {
                        "tags": []
                    }
                }
            ],
            "execution_count": 5
        },
        {
            "cell_type": "code",
            "source": [
                "#Funciones\n",
                "def nopar():\n",
                "  print(\"Sin parámetros\")\n",
                "\n",
                "def add(a,b):\n",
                "  return a+b"
            ],
            "metadata": {
                "id": "h2b0bu8W6vQK",
                "colab_type": "code",
                "colab": {},
                "azdata_cell_guid": "e73fea81-9115-425a-9c61-abac78fc1412"
            },
            "outputs": [],
            "execution_count": 0
        },
        {
            "cell_type": "code",
            "source": [
                "#Llamadas a funciones\n",
                "nopar()\n",
                "\n",
                "add(5,4)"
            ],
            "metadata": {
                "id": "gRKd7WOS7DmC",
                "colab_type": "code",
                "colab": {
                    "base_uri": "https://localhost:8080/",
                    "height": 51
                },
                "outputId": "68caa7fd-c8a3-4658-bdf7-45b2a33b79af",
                "executionInfo": {
                    "status": "ok",
                    "timestamp": 1573735151846,
                    "user_tz": -60,
                    "elapsed": 893,
                    "user": {
                        "displayName": "Machine Learning",
                        "photoUrl": "",
                        "userId": "05609927355646341864"
                    }
                },
                "azdata_cell_guid": "8e185493-9ba4-42dd-93eb-f46bb65f5f0d"
            },
            "outputs": [
                {
                    "output_type": "stream",
                    "name": "stdout",
                    "text": "Sin parámetros\n"
                },
                {
                    "output_type": "execute_result",
                    "execution_count": 8,
                    "data": {
                        "text/plain": "9"
                    },
                    "metadata": {
                        "tags": []
                    }
                }
            ],
            "execution_count": 8
        },
        {
            "cell_type": "code",
            "source": [
                "a = 10\n",
                "b = 20\n",
                "c = 30\n",
                "if a > b: \n",
                "    print(\"a > b\")\n",
                "elif a > c: \n",
                "    print(\"a > c\")\n",
                "elif (b < c): \n",
                "  print(\"b < c\") \n",
                "if a < c: \n",
                "    print(\"a < c\") \n",
                "if b in range(a, c): \n",
                "    print(\"b está entre a y c\")\n",
                "else: \n",
                "    print(\"a es menor que b y menor que c\") "
            ],
            "metadata": {
                "id": "lr3PSugW7N04",
                "colab_type": "code",
                "colab": {
                    "base_uri": "https://localhost:8080/",
                    "height": 68
                },
                "outputId": "b061319b-acde-4cdf-f24c-026df253aa96",
                "executionInfo": {
                    "status": "ok",
                    "timestamp": 1573735524497,
                    "user_tz": -60,
                    "elapsed": 948,
                    "user": {
                        "displayName": "Machine Learning",
                        "photoUrl": "",
                        "userId": "05609927355646341864"
                    }
                },
                "azdata_cell_guid": "ef04d9e1-5ef3-40ce-a04d-48de51f4d923"
            },
            "outputs": [
                {
                    "output_type": "stream",
                    "name": "stdout",
                    "text": "b < c\na < c\nb está entre a y c\n"
                }
            ],
            "execution_count": 9
        },
        {
            "cell_type": "code",
            "source": [
                "# Lista y bucles\n",
                "animals = [\"avispa\", \"ballena\", \"vaca\"] # las listas son conjuntos de valores separados por comas y que se  definen entre []\n",
                "nums = []\n",
                "for animal in animals: \n",
                "  print(\"Animal: \", animal)\n",
                "for i in range(2, 5): \n",
                "  nums.append(i)\n",
                "  print(nums)\n",
                "  i = 1\n",
                "  while i <= 3: \n",
                "    print(i) \n",
                "    i = i + 1 \n",
                ""
            ],
            "metadata": {
                "id": "3gycoDVB8oGE",
                "colab_type": "code",
                "colab": {
                    "base_uri": "https://localhost:8080/",
                    "height": 272
                },
                "outputId": "b77b3da2-3f6d-4efa-c1d3-1f2bdae1bb99",
                "executionInfo": {
                    "status": "ok",
                    "timestamp": 1573735534167,
                    "user_tz": -60,
                    "elapsed": 971,
                    "user": {
                        "displayName": "Machine Learning",
                        "photoUrl": "",
                        "userId": "05609927355646341864"
                    }
                },
                "azdata_cell_guid": "f536b6d0-6f84-43f2-9eef-970e121f8674"
            },
            "outputs": [
                {
                    "output_type": "stream",
                    "name": "stdout",
                    "text": "Animal:  avispa\nAnimal:  ballena\nAnimal:  vaca\n[2]\n1\n2\n3\n[2, 3]\n1\n2\n3\n[2, 3, 4]\n1\n2\n3\n"
                }
            ],
            "execution_count": 10
        },
        {
            "cell_type": "code",
            "source": [
                "# Diccionario: Conjunto de pares clave-valor definidos entre {}\n",
                "CtyCou = { \"Paris\": \"France\", \"Tokyo\": \"Japan\", \"Lagos\": \"Nigeria\"} \n",
                "for city, country in CtyCou.items(): \n",
                "  print(\"{0} is in {1}.\".format(city, country)) "
            ],
            "metadata": {
                "id": "YmJaukSe8q5s",
                "colab_type": "code",
                "colab": {
                    "base_uri": "https://localhost:8080/",
                    "height": 68
                },
                "outputId": "3a317173-3304-4a12-f1bb-8dd440bbc5a2",
                "executionInfo": {
                    "status": "ok",
                    "timestamp": 1573735547908,
                    "user_tz": -60,
                    "elapsed": 684,
                    "user": {
                        "displayName": "Machine Learning",
                        "photoUrl": "",
                        "userId": "05609927355646341864"
                    }
                },
                "azdata_cell_guid": "128459ad-5bcf-47b0-9528-a2dcdcdd1877"
            },
            "outputs": [
                {
                    "output_type": "stream",
                    "name": "stdout",
                    "text": "Paris is in France.\nTokyo is in Japan.\nLagos is in Nigeria.\n"
                }
            ],
            "execution_count": 11
        }
    ]
}