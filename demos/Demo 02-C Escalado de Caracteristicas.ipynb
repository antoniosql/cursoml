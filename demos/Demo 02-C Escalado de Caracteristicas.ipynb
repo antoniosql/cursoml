{
    "metadata": {
        "kernelspec": {
            "name": "python_defaultSpec_1600709317385",
            "display_name": "Python 3.8.5 64-bit"
        },
        "language_info": {
            "name": "python",
            "version": "3.8.5-final",
            "mimetype": "text/x-python",
            "codemirror_mode": {
                "name": "ipython",
                "version": 3
            },
            "pygments_lexer": "ipython3",
            "nbconvert_exporter": "python",
            "file_extension": ".py"
        }
    },
    "nbformat_minor": 2,
    "nbformat": 4,
    "cells": [
        {
            "cell_type": "markdown",
            "source": [
                "![SolidQ](https://antoniosql.github.io/images/SolidQ_Verne.png) "
            ],
            "metadata": {
                "azdata_cell_guid": "6ff08df4-5bc0-47c1-ba66-20206ccc00b1"
            }
        },
        {
            "cell_type": "markdown",
            "source": [
                "# Escalado de Características"
            ],
            "metadata": {
                "id": "lMj-AMuwwXm_",
                "colab_type": "text",
                "azdata_cell_guid": "023fc82f-0fcd-4826-a065-93ab4945fb60"
            }
        },
        {
            "cell_type": "code",
            "source": [
                "import pandas as pd\n",
                "import sqlite3\n",
                "import numpy as np"
            ],
            "metadata": {
                "id": "JcxP4Z9GwSad",
                "colab_type": "code",
                "colab": {},
                "azdata_cell_guid": "65afc185-cd26-4814-8eda-5236c18bbb92"
            },
            "outputs": [],
            "execution_count": 2
        },
        {
            "cell_type": "code",
            "execution_count": 5,
            "metadata": {},
            "outputs": [
                {
                    "output_type": "execute_result",
                    "data": {
                        "text/plain": "  CodCliente FechaNacimiento EstadoCivil Sexo  IngresosAnuales  HijosACargo  \\\n0     000020      1976-04-08           M    M          90000.0          0.0   \n1     000026      1975-05-14           S    M          60000.0          3.0   \n2     000029      1975-08-12           M    M          60000.0          3.0   \n3     000046      1978-02-15           S    F          70000.0          0.0   \n4     000047      1978-08-08           S    F          80000.0          5.0   \n\n  NivelAcademico                  Ocupacion  \n0   Licenciatura  Profesional especializado  \n1   Licenciatura  Profesional especializado  \n2   Licenciatura  Profesional especializado  \n3   Licenciatura  Profesional especializado  \n4   Licenciatura  Profesional especializado  ",
                        "text/html": "<div>\n<style scoped>\n    .dataframe tbody tr th:only-of-type {\n        vertical-align: middle;\n    }\n\n    .dataframe tbody tr th {\n        vertical-align: top;\n    }\n\n    .dataframe thead th {\n        text-align: right;\n    }\n</style>\n<table border=\"1\" class=\"dataframe\">\n  <thead>\n    <tr style=\"text-align: right;\">\n      <th></th>\n      <th>CodCliente</th>\n      <th>FechaNacimiento</th>\n      <th>EstadoCivil</th>\n      <th>Sexo</th>\n      <th>IngresosAnuales</th>\n      <th>HijosACargo</th>\n      <th>NivelAcademico</th>\n      <th>Ocupacion</th>\n    </tr>\n  </thead>\n  <tbody>\n    <tr>\n      <th>0</th>\n      <td>000020</td>\n      <td>1976-04-08</td>\n      <td>M</td>\n      <td>M</td>\n      <td>90000.0</td>\n      <td>0.0</td>\n      <td>Licenciatura</td>\n      <td>Profesional especializado</td>\n    </tr>\n    <tr>\n      <th>1</th>\n      <td>000026</td>\n      <td>1975-05-14</td>\n      <td>S</td>\n      <td>M</td>\n      <td>60000.0</td>\n      <td>3.0</td>\n      <td>Licenciatura</td>\n      <td>Profesional especializado</td>\n    </tr>\n    <tr>\n      <th>2</th>\n      <td>000029</td>\n      <td>1975-08-12</td>\n      <td>M</td>\n      <td>M</td>\n      <td>60000.0</td>\n      <td>3.0</td>\n      <td>Licenciatura</td>\n      <td>Profesional especializado</td>\n    </tr>\n    <tr>\n      <th>3</th>\n      <td>000046</td>\n      <td>1978-02-15</td>\n      <td>S</td>\n      <td>F</td>\n      <td>70000.0</td>\n      <td>0.0</td>\n      <td>Licenciatura</td>\n      <td>Profesional especializado</td>\n    </tr>\n    <tr>\n      <th>4</th>\n      <td>000047</td>\n      <td>1978-08-08</td>\n      <td>S</td>\n      <td>F</td>\n      <td>80000.0</td>\n      <td>5.0</td>\n      <td>Licenciatura</td>\n      <td>Profesional especializado</td>\n    </tr>\n  </tbody>\n</table>\n</div>"
                    },
                    "metadata": {},
                    "execution_count": 5
                }
            ],
            "source": [
                "conn = sqlite3.connect('Tiendas24H.sqlite')\n",
                "query = \"select c.CodCliente, FechaNacimiento, EstadoCivil, Sexo,IngresosAnuales, HijosACargo, N.NivelAcademico, O.Ocupacion from clientes c inner join NivelAcademico N    on c.NivelAcademico = N.Codigo     inner join Ocupacion O on c.Ocupacion = o.Codigo\"\n",
                "\n",
                "df = pd.read_sql_query(query,conn)\n",
                "\n",
                "df.head()"
            ]
        },
        {
            "cell_type": "code",
            "execution_count": 6,
            "metadata": {},
            "outputs": [],
            "source": [
                "caracteristicas =[\"IngresosAnuales\",\"HijosACargo\"]\n",
                "from sklearn.preprocessing import StandardScaler\n",
                "scaler = StandardScaler()\n",
                "X = scaler.fit_transform(df[caracteristicas])"
            ]
        },
        {
            "cell_type": "code",
            "execution_count": 7,
            "metadata": {},
            "outputs": [
                {
                    "output_type": "execute_result",
                    "data": {
                        "text/plain": "array([[ 0.88021336, -0.67313748],\n       [-0.01417334,  1.29309012],\n       [-0.01417334,  1.29309012],\n       ...,\n       [ 0.88021336, -0.67313748],\n       [ 0.88021336, -0.67313748],\n       [ 1.47647117,  0.63768092]])"
                    },
                    "metadata": {},
                    "execution_count": 7
                }
            ],
            "source": [
                "X"
            ]
        },
        {
            "cell_type": "code",
            "execution_count": null,
            "metadata": {},
            "outputs": [],
            "source": []
        }
    ]
}