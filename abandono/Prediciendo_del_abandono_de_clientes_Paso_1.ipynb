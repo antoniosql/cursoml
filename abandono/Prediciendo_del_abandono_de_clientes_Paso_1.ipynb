{
  "nbformat": 4,
  "nbformat_minor": 0,
  "metadata": {
    "kernelspec": {
      "name": "python3",
      "display_name": "Python 3"
    },
    "language_info": {
      "name": "python",
      "version": "3.6.6",
      "mimetype": "text/x-python",
      "codemirror_mode": {
        "name": "ipython",
        "version": 3
      },
      "pygments_lexer": "ipython3",
      "nbconvert_exporter": "python",
      "file_extension": ".py"
    },
    "colab": {
      "name": "Prediciendo del abandono de clientes Paso 1.ipynb",
      "provenance": [],
      "collapsed_sections": []
    }
  },
  "cells": [
    {
      "cell_type": "markdown",
      "metadata": {
        "id": "JJCHjRcyb9XP",
        "colab_type": "text",
        "azdata_cell_guid": "eddc8bbe-b409-4cde-9030-7f7b2c4b5e6b"
      },
      "source": [
        "![SolidQ](https://www.solidq.com/wp-content/uploads/2015/06/Logo-SolidQ-Web.gif)\n",
        "# Prediciendo el abandono de clientes\n"
      ]
    },
    {
      "cell_type": "markdown",
      "metadata": {
        "id": "IZuC0xI_cICp",
        "colab_type": "text",
        "azdata_cell_guid": "04c53b06-041b-49aa-9d71-a4a7eb3d3132"
      },
      "source": [
        "## Cómo leer ficheros de Drive en lugar de subirlos al entorno volátil de Colaboratory"
      ]
    },
    {
      "cell_type": "code",
      "metadata": {
        "id": "3jeyu-ee-vFX",
        "colab_type": "code",
        "outputId": "dc772646-e7a8-405e-f5b7-212bc4d0c607",
        "azdata_cell_guid": "d853106a-80b4-4347-84a1-e3305c9f563f",
        "colab": {
          "base_uri": "https://localhost:8080/",
          "height": 122
        }
      },
      "source": [
        "from google.colab import drive\n",
        "drive.mount('/content/gdrive')"
      ],
      "execution_count": 0,
      "outputs": [
        {
          "output_type": "stream",
          "text": [
            "Go to this URL in a browser: https://accounts.google.com/o/oauth2/auth?client_id=947318989803-6bn6qk8qdgf4n4g3pfee6491hc0brc4i.apps.googleusercontent.com&redirect_uri=urn%3aietf%3awg%3aoauth%3a2.0%3aoob&response_type=code&scope=email%20https%3a%2f%2fwww.googleapis.com%2fauth%2fdocs.test%20https%3a%2f%2fwww.googleapis.com%2fauth%2fdrive%20https%3a%2f%2fwww.googleapis.com%2fauth%2fdrive.photos.readonly%20https%3a%2f%2fwww.googleapis.com%2fauth%2fpeopleapi.readonly\n",
            "\n",
            "Enter your authorization code:\n",
            "··········\n",
            "Mounted at /content/gdrive\n"
          ],
          "name": "stdout"
        }
      ]
    },
    {
      "cell_type": "markdown",
      "metadata": {
        "id": "RT62LzVUHf-O",
        "colab_type": "text",
        "azdata_cell_guid": "eb5fde20-7052-4dff-8dc1-58ba7f01e4ee"
      },
      "source": [
        "Tenemos un escenario en el que queremos medir el ratio de abandono (Churn Rate) de nuestros clientes de Telco. Es un concepto especialmente importante en negocios que están basados en suscripciones.\n",
        "\n",
        "en nuestro conjunto de datos de ejemplo, cada ocurrencia representa un cliente de una compañía telefónica. Cada columna contiene atributos de ese cliente, como los cargos incurridos por servicio, tiempo de duración de su cuenta o si el cliente es todavía clinete o no. "
      ]
    },
    {
      "cell_type": "markdown",
      "metadata": {
        "azdata_cell_guid": "2415b8bc-70c0-4aa1-b657-0023ac5a518c",
        "id": "8tK6zWP9i0BA",
        "colab_type": "text"
      },
      "source": [
        "## Tarea 1: EDA y Preparación de Datos"
      ]
    },
    {
      "cell_type": "code",
      "metadata": {
        "azdata_cell_guid": "e1a79bb7-1ce3-40f8-88ea-baedd87578a2",
        "id": "Hol4f7Mei0BB",
        "colab_type": "code",
        "colab": {}
      },
      "source": [
        ""
      ],
      "execution_count": 0,
      "outputs": []
    },
    {
      "cell_type": "markdown",
      "metadata": {
        "id": "7F9Pj1vhcQw8",
        "colab_type": "text",
        "azdata_cell_guid": "85ab4d27-aaed-4608-b534-eef669fa53f7"
      },
      "source": [
        "### Importamos las clases y módulos necesarios"
      ]
    },
    {
      "cell_type": "code",
      "metadata": {
        "id": "uGun-3pZ-zcu",
        "colab_type": "code",
        "azdata_cell_guid": "cb8ea689-199f-4d3e-a4cd-e140fd7bf5c0",
        "colab": {}
      },
      "source": [
        "import pandas as pd\n",
        "import matplotlib.pyplot as plt\n",
        "import numpy as np\n",
        "\n",
        "from sklearn.compose import ColumnTransformer\n",
        "from sklearn.pipeline import Pipeline\n",
        "from sklearn.impute import SimpleImputer\n",
        "from sklearn.preprocessing import StandardScaler, OneHotEncoder\n",
        "from sklearn.tree import DecisionTreeClassifier\n",
        "from sklearn.neighbors import KNeighborsClassifier\n",
        "from sklearn.model_selection import train_test_split"
      ],
      "execution_count": 0,
      "outputs": []
    },
    {
      "cell_type": "markdown",
      "metadata": {
        "id": "DPeqkn0GcYqD",
        "colab_type": "text",
        "azdata_cell_guid": "a8b7bb84-1583-428a-b91b-a51c51595197"
      },
      "source": [
        "### Explorando los datos"
      ]
    },
    {
      "cell_type": "code",
      "metadata": {
        "id": "OjlZ_xZD-0nw",
        "colab_type": "code",
        "tags": [],
        "azdata_cell_guid": "02dd9496-ec6f-40dd-9122-0b774168c524",
        "colab": {}
      },
      "source": [
        "\n",
        "df_abandonos = pd.read_csv(\"/content/gdrive/My Drive/Datos/TelcoChurn.csv\" )\n",
        "#df_abandonos = pd.read_csv(\"TelcoChurn.csv\")"
      ],
      "execution_count": 0,
      "outputs": []
    },
    {
      "cell_type": "code",
      "metadata": {
        "id": "oqP0cuDV_OQZ",
        "colab_type": "code",
        "outputId": "8496d402-cae8-4645-c786-cbd25cdc2400",
        "azdata_cell_guid": "91e2a8f9-878d-441a-9ad8-20633beabd69",
        "colab": {
          "base_uri": "https://localhost:8080/",
          "height": 309
        }
      },
      "source": [
        "df_abandonos.head()\n",
        "#tenemos 3333 observaciones, de ellas 483 tienen Churn = yes"
      ],
      "execution_count": 0,
      "outputs": [
        {
          "output_type": "execute_result",
          "data": {
            "text/html": [
              "<div>\n",
              "<style scoped>\n",
              "    .dataframe tbody tr th:only-of-type {\n",
              "        vertical-align: middle;\n",
              "    }\n",
              "\n",
              "    .dataframe tbody tr th {\n",
              "        vertical-align: top;\n",
              "    }\n",
              "\n",
              "    .dataframe thead th {\n",
              "        text-align: right;\n",
              "    }\n",
              "</style>\n",
              "<table border=\"1\" class=\"dataframe\">\n",
              "  <thead>\n",
              "    <tr style=\"text-align: right;\">\n",
              "      <th></th>\n",
              "      <th>Account_Length</th>\n",
              "      <th>Vmail_Message</th>\n",
              "      <th>Day_Mins</th>\n",
              "      <th>Eve_Mins</th>\n",
              "      <th>Night_Mins</th>\n",
              "      <th>Intl_Mins</th>\n",
              "      <th>CustServ_Calls</th>\n",
              "      <th>Churn</th>\n",
              "      <th>Intl_Plan</th>\n",
              "      <th>Vmail_Plan</th>\n",
              "      <th>Day_Calls</th>\n",
              "      <th>Day_Charge</th>\n",
              "      <th>Eve_Calls</th>\n",
              "      <th>Eve_Charge</th>\n",
              "      <th>Night_Calls</th>\n",
              "      <th>Night_Charge</th>\n",
              "      <th>Intl_Calls</th>\n",
              "      <th>Intl_Charge</th>\n",
              "      <th>State</th>\n",
              "      <th>Area_Code</th>\n",
              "      <th>Phone</th>\n",
              "    </tr>\n",
              "  </thead>\n",
              "  <tbody>\n",
              "    <tr>\n",
              "      <th>0</th>\n",
              "      <td>128</td>\n",
              "      <td>25</td>\n",
              "      <td>265.1</td>\n",
              "      <td>197.4</td>\n",
              "      <td>244.7</td>\n",
              "      <td>10.0</td>\n",
              "      <td>1</td>\n",
              "      <td>no</td>\n",
              "      <td>no</td>\n",
              "      <td>yes</td>\n",
              "      <td>110</td>\n",
              "      <td>45.07</td>\n",
              "      <td>99</td>\n",
              "      <td>16.78</td>\n",
              "      <td>91</td>\n",
              "      <td>11.01</td>\n",
              "      <td>3</td>\n",
              "      <td>2.70</td>\n",
              "      <td>KS</td>\n",
              "      <td>415</td>\n",
              "      <td>382-4657</td>\n",
              "    </tr>\n",
              "    <tr>\n",
              "      <th>1</th>\n",
              "      <td>107</td>\n",
              "      <td>26</td>\n",
              "      <td>161.6</td>\n",
              "      <td>195.5</td>\n",
              "      <td>254.4</td>\n",
              "      <td>13.7</td>\n",
              "      <td>1</td>\n",
              "      <td>no</td>\n",
              "      <td>no</td>\n",
              "      <td>yes</td>\n",
              "      <td>123</td>\n",
              "      <td>27.47</td>\n",
              "      <td>103</td>\n",
              "      <td>16.62</td>\n",
              "      <td>103</td>\n",
              "      <td>11.45</td>\n",
              "      <td>3</td>\n",
              "      <td>3.70</td>\n",
              "      <td>OH</td>\n",
              "      <td>415</td>\n",
              "      <td>371-7191</td>\n",
              "    </tr>\n",
              "    <tr>\n",
              "      <th>2</th>\n",
              "      <td>137</td>\n",
              "      <td>0</td>\n",
              "      <td>243.4</td>\n",
              "      <td>121.2</td>\n",
              "      <td>162.6</td>\n",
              "      <td>12.2</td>\n",
              "      <td>0</td>\n",
              "      <td>no</td>\n",
              "      <td>no</td>\n",
              "      <td>no</td>\n",
              "      <td>114</td>\n",
              "      <td>41.38</td>\n",
              "      <td>110</td>\n",
              "      <td>10.30</td>\n",
              "      <td>104</td>\n",
              "      <td>7.32</td>\n",
              "      <td>5</td>\n",
              "      <td>3.29</td>\n",
              "      <td>NJ</td>\n",
              "      <td>415</td>\n",
              "      <td>358-1921</td>\n",
              "    </tr>\n",
              "    <tr>\n",
              "      <th>3</th>\n",
              "      <td>84</td>\n",
              "      <td>0</td>\n",
              "      <td>299.4</td>\n",
              "      <td>61.9</td>\n",
              "      <td>196.9</td>\n",
              "      <td>6.6</td>\n",
              "      <td>2</td>\n",
              "      <td>no</td>\n",
              "      <td>yes</td>\n",
              "      <td>no</td>\n",
              "      <td>71</td>\n",
              "      <td>50.90</td>\n",
              "      <td>88</td>\n",
              "      <td>5.26</td>\n",
              "      <td>89</td>\n",
              "      <td>8.86</td>\n",
              "      <td>7</td>\n",
              "      <td>1.78</td>\n",
              "      <td>OH</td>\n",
              "      <td>408</td>\n",
              "      <td>375-9999</td>\n",
              "    </tr>\n",
              "    <tr>\n",
              "      <th>4</th>\n",
              "      <td>75</td>\n",
              "      <td>0</td>\n",
              "      <td>166.7</td>\n",
              "      <td>148.3</td>\n",
              "      <td>186.9</td>\n",
              "      <td>10.1</td>\n",
              "      <td>3</td>\n",
              "      <td>no</td>\n",
              "      <td>yes</td>\n",
              "      <td>no</td>\n",
              "      <td>113</td>\n",
              "      <td>28.34</td>\n",
              "      <td>122</td>\n",
              "      <td>12.61</td>\n",
              "      <td>121</td>\n",
              "      <td>8.41</td>\n",
              "      <td>3</td>\n",
              "      <td>2.73</td>\n",
              "      <td>OK</td>\n",
              "      <td>415</td>\n",
              "      <td>330-6626</td>\n",
              "    </tr>\n",
              "  </tbody>\n",
              "</table>\n",
              "</div>"
            ],
            "text/plain": [
              "   Account_Length  Vmail_Message  Day_Mins  ...  State  Area_Code     Phone\n",
              "0             128             25     265.1  ...     KS        415  382-4657\n",
              "1             107             26     161.6  ...     OH        415  371-7191\n",
              "2             137              0     243.4  ...     NJ        415  358-1921\n",
              "3              84              0     299.4  ...     OH        408  375-9999\n",
              "4              75              0     166.7  ...     OK        415  330-6626\n",
              "\n",
              "[5 rows x 21 columns]"
            ]
          },
          "metadata": {
            "tags": []
          },
          "execution_count": 5
        }
      ]
    },
    {
      "cell_type": "code",
      "metadata": {
        "id": "8vU0kUcbONMf",
        "colab_type": "code",
        "azdata_cell_guid": "a3d41444-06d7-4f0d-8bba-63b4a2322bba",
        "colab": {}
      },
      "source": [
        "#filtro = df_abandonos[\"Churn\"]==\"yes\"\n",
        "#df_abandonos.where(filtro, inplace = False).count()\n"
      ],
      "execution_count": 0,
      "outputs": []
    },
    {
      "cell_type": "code",
      "metadata": {
        "id": "hB-BzKiQ_oXR",
        "colab_type": "code",
        "outputId": "28a6ebe8-6539-4269-b7e1-b2a9f724f0bf",
        "azdata_cell_guid": "4228d4d2-ead6-4b12-bab8-f61c5f52cf61",
        "colab": {
          "base_uri": "https://localhost:8080/",
          "height": 1000
        }
      },
      "source": [
        "    correlacion = df_abandonos.corr() \n",
        "    fig, ax = plt.subplots(figsize=(21, 21)) \n",
        "    ax.matshow(correlacion) \n",
        "    plt.xticks(range(len(correlacion.columns)), correlacion.columns); \n",
        "    plt.yticks(range(len(correlacion.columns)), correlacion.columns); "
      ],
      "execution_count": 0,
      "outputs": [
        {
          "output_type": "display_data",
          "data": {
            "image/png": "[encoded data removed]",
            "text/plain": [
              "<Figure size 1512x1512 with 1 Axes>"
            ]
          },
          "metadata": {
            "tags": []
          }
        }
      ]
    },
    {
      "cell_type": "markdown",
      "metadata": {
        "id": "pN249dWcAP1m",
        "colab_type": "text",
        "azdata_cell_guid": "469a87de-1486-402f-afbc-97d8e1ac7397"
      },
      "source": [
        "Es evidente que los cargos dependen de los minutos de conversación por lo que los pares de características x_calls x_Charge están muy correlacionadas entre sí"
      ]
    },
    {
      "cell_type": "code",
      "metadata": {
        "id": "SeszUHPCJZAy",
        "colab_type": "code",
        "azdata_cell_guid": "408a0372-2ec1-442f-afbb-86b7c55d8cb1",
        "colab": {}
      },
      "source": [
        "\n",
        "#Extraemos las etiquetas\n",
        "resultado_abandono = df_abandonos['Churn']\n",
        "y = np.where(resultado_abandono == 'yes',1,0)\n",
        "\n",
        "# No necesitamos estas columnas\n",
        "a_eliminar = ['State','Area_Code','Phone','Churn']\n",
        "churn_feat_space = df_abandonos.drop(a_eliminar,axis=1)\n",
        "\n",
        "yes_no_cols = [\"Intl_Plan\",\"Vmail_Plan\"]\n",
        "churn_feat_space[yes_no_cols] = churn_feat_space[yes_no_cols] == 'yes'\n",
        "\n",
        "\n"
      ],
      "execution_count": 0,
      "outputs": []
    },
    {
      "cell_type": "code",
      "metadata": {
        "id": "EwDj--mwt5uU",
        "colab_type": "code",
        "outputId": "d5f5bf14-c039-4394-bde6-26a005d974d6",
        "azdata_cell_guid": "950a86fc-b8b2-4137-8e85-cd2d31c03170",
        "colab": {
          "base_uri": "https://localhost:8080/",
          "height": 85
        }
      },
      "source": [
        "# Extrarmos características para su uso posterior\n",
        "\n",
        "caracteristicas = churn_feat_space.columns\n",
        "\n",
        "X = churn_feat_space.as_matrix().astype(np.float)\n",
        "\n",
        "# Escalamos\n",
        "from sklearn.preprocessing import StandardScaler\n",
        "scaler = StandardScaler()\n",
        "X = scaler.fit_transform(X)\n",
        "\n",
        "print (\"Disponemos de %d observaciones y %d características\" % X.shape)\n",
        "print (\"Etiquetas objetivo únicas:\", np.unique(y))\n"
      ],
      "execution_count": 0,
      "outputs": [
        {
          "output_type": "stream",
          "text": [
            "Disponemos de 3333 observaciones y 17 características\n",
            "Etiquetas objetivo únicas: [0 1]\n"
          ],
          "name": "stdout"
        },
        {
          "output_type": "stream",
          "text": [
            "/usr/local/lib/python3.6/dist-packages/ipykernel_launcher.py:4: FutureWarning: Method .as_matrix will be removed in a future version. Use .values instead.\n",
            "  after removing the cwd from sys.path.\n"
          ],
          "name": "stderr"
        }
      ]
    },
    {
      "cell_type": "code",
      "metadata": {
        "id": "qurEoECTjLHI",
        "colab_type": "code",
        "outputId": "48a624b3-a213-4c5d-90ec-82352fd1acad",
        "colab": {
          "base_uri": "https://localhost:8080/",
          "height": 51
        }
      },
      "source": [
        "\n",
        "from sklearn.model_selection import train_test_split\n",
        "X_train, X_test, y_train, y_test = train_test_split(X, y, random_state=0)\n",
        "knn = KNeighborsClassifier()\n",
        "knn.fit(X_train, y_train)\n",
        "print('Accuracy of K-NN classifier on training set: {:.2f}'\n",
        "     .format(knn.score(X_train, y_train)))\n",
        "print('Accuracy of K-NN classifier on test set: {:.2f}'\n",
        "     .format(knn.score(X_test, y_test)))"
      ],
      "execution_count": 0,
      "outputs": [
        {
          "output_type": "stream",
          "text": [
            "Accuracy of K-NN classifier on training set: 0.92\n",
            "Accuracy of K-NN classifier on test set: 0.91\n"
          ],
          "name": "stdout"
        }
      ]
    },
    {
      "cell_type": "code",
      "metadata": {
        "id": "kFYjtlTjjdt9",
        "colab_type": "code",
        "outputId": "23e5f20c-9397-4810-fd83-775a8d3cef22",
        "colab": {
          "base_uri": "https://localhost:8080/",
          "height": 204
        }
      },
      "source": [
        "from sklearn.metrics import classification_report\n",
        "from sklearn.metrics import confusion_matrix\n",
        "pred = knn.predict(X_train)\n",
        "print(confusion_matrix(y_train, pred))\n",
        "print(classification_report(y_train, pred))"
      ],
      "execution_count": 0,
      "outputs": [
        {
          "output_type": "stream",
          "text": [
            "[[2109   22]\n",
            " [ 173  195]]\n",
            "              precision    recall  f1-score   support\n",
            "\n",
            "           0       0.92      0.99      0.96      2131\n",
            "           1       0.90      0.53      0.67       368\n",
            "\n",
            "    accuracy                           0.92      2499\n",
            "   macro avg       0.91      0.76      0.81      2499\n",
            "weighted avg       0.92      0.92      0.91      2499\n",
            "\n"
          ],
          "name": "stdout"
        }
      ]
    },
    {
      "cell_type": "code",
      "metadata": {
        "id": "XUqRtuspjqdO",
        "colab_type": "code",
        "outputId": "c00e01a3-6f71-4c1f-b96e-30a430e6cc74",
        "colab": {
          "base_uri": "https://localhost:8080/",
          "height": 204
        }
      },
      "source": [
        "pred_test = knn.predict(X_test)\n",
        "print(confusion_matrix(y_test, pred_test))\n",
        "print(classification_report(y_test, pred_test))"
      ],
      "execution_count": 0,
      "outputs": [
        {
          "output_type": "stream",
          "text": [
            "[[707  12]\n",
            " [ 67  48]]\n",
            "              precision    recall  f1-score   support\n",
            "\n",
            "           0       0.91      0.98      0.95       719\n",
            "           1       0.80      0.42      0.55       115\n",
            "\n",
            "    accuracy                           0.91       834\n",
            "   macro avg       0.86      0.70      0.75       834\n",
            "weighted avg       0.90      0.91      0.89       834\n",
            "\n"
          ],
          "name": "stdout"
        }
      ]
    }
  ]
}